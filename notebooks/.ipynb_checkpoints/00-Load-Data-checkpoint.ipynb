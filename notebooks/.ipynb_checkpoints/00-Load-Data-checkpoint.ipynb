{
 "cells": [
  {
   "cell_type": "markdown",
   "metadata": {},
   "source": [
    "### Import Packages"
   ]
  },
  {
   "cell_type": "code",
   "execution_count": 1,
   "metadata": {},
   "outputs": [],
   "source": [
    "import pandas as pd \n",
    "import numpy as np\n",
    "from zipfile import ZipFile\n",
    "import json\n",
    "\n",
    "import os\n",
    "\n",
    "# Append the entire repo parent director so files therein can be accessed in notebook\n",
    "import sys\n",
    "import pathlib\n",
    "sys.path.append(str(pathlib.Path().absolute().parent))"
   ]
  },
  {
   "cell_type": "markdown",
   "metadata": {},
   "source": [
    "### Load Data"
   ]
  },
  {
   "cell_type": "code",
   "execution_count": 2,
   "metadata": {},
   "outputs": [
    {
     "data": {
      "text/plain": [
       "['City_time_series.csv.zip',\n",
       " 'CountyCrossWalk_Zillow.csv',\n",
       " 'County_time_series.csv.zip',\n",
       " 'Metro_time_series.csv.zip',\n",
       " 'Neighborhood_time_series.csv.zip',\n",
       " 'State_time_series.csv.zip',\n",
       " 'Zip_time_series.csv.zip',\n",
       " 'all_available_metrics.json',\n",
       " 'cities_crosswalk.csv.zip',\n",
       " 'fields_per_level.json',\n",
       " 'unzipped']"
      ]
     },
     "execution_count": 2,
     "metadata": {},
     "output_type": "execute_result"
    }
   ],
   "source": [
    "sorted(os.listdir('../data/raw'))"
   ]
  },
  {
   "cell_type": "code",
   "execution_count": 11,
   "metadata": {},
   "outputs": [],
   "source": [
    "csv_dfs = {}\n",
    "\n",
    "for filename in sorted(os.listdir('../data/raw/')):\n",
    "    if '.csv.zip' in filename: \n",
    "        with ZipFile(f'../data/raw/{filename}', 'r') as a_zip:\n",
    "            a_zip.extractall(f'../data/raw/unzipped/{filename[:-4]}')\n",
    "            \n",
    "    elif '.csv' in filename:\n",
    "        csv_dfs[filename] = pd.read_csv(f'../data/raw/{filename}')\n",
    "        \n",
    "        \n",
    "for filename in sorted(os.listdir('../data/raw/unzipped/')):\n",
    "    csv_dfs[filename] = (pd.read_csv(f'../data/raw/unzipped/{filename}/{filename}', engine='python'))"
   ]
  },
  {
   "cell_type": "code",
   "execution_count": 12,
   "metadata": {
    "scrolled": true
   },
   "outputs": [
    {
     "data": {
      "text/plain": [
       "dict_keys(['CountyCrossWalk_Zillow.csv', 'City_time_series.csv', 'County_time_series.csv', 'Metro_time_series.csv', 'Neighborhood_time_series.csv', 'State_time_series.csv', 'Zip_time_series.csv', 'cities_crosswalk.csv'])"
      ]
     },
     "execution_count": 12,
     "metadata": {},
     "output_type": "execute_result"
    }
   ],
   "source": [
    "csv_dfs.keys()"
   ]
  },
  {
   "cell_type": "markdown",
   "metadata": {},
   "source": [
    "### Inspect Data\n",
    "- City\n",
    "- County \n",
    "- Metro\n",
    "- Neighborhood\n",
    "- State\n",
    "- Zip\n",
    "- cities-crosswalk"
   ]
  },
  {
   "cell_type": "code",
   "execution_count": null,
   "metadata": {},
   "outputs": [],
   "source": []
  }
 ],
 "metadata": {
  "kernelspec": {
   "display_name": "rent-v-buy",
   "language": "python",
   "name": "rent-v-buy"
  },
  "language_info": {
   "codemirror_mode": {
    "name": "ipython",
    "version": 3
   },
   "file_extension": ".py",
   "mimetype": "text/x-python",
   "name": "python",
   "nbconvert_exporter": "python",
   "pygments_lexer": "ipython3",
   "version": "3.7.0"
  }
 },
 "nbformat": 4,
 "nbformat_minor": 2
}
