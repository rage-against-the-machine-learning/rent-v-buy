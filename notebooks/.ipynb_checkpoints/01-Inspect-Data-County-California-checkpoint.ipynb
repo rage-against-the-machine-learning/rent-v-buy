{
 "cells": [
  {
   "cell_type": "markdown",
   "metadata": {},
   "source": [
    "# Pare Down Data Scope for Project (CA vs. TX)\n",
    "- look at all levels of granularity to determine what the State of California Coverage is: \n",
    "    - County\n",
    "    - City\n",
    "    - Zip Code\n",
    "    \n",
    "- Alternatively, consider paring down the scope of the work to Texas\n",
    "    - County \n",
    "    - City\n",
    "    - Zip"
   ]
  },
  {
   "cell_type": "code",
   "execution_count": 1,
   "metadata": {},
   "outputs": [],
   "source": [
    "import pandas as pd \n",
    "import numpy as np\n",
    "import json\n",
    "\n",
    "import os\n",
    "from collections import Counter\n",
    "\n",
    "# Append the entire repo parent director so files therein can be accessed in notebook\n",
    "import sys\n",
    "import pathlib\n",
    "sys.path.append(str(pathlib.Path().absolute().parent))\n",
    "\n",
    "from src import helper\n",
    "%load_ext autoreload"
   ]
  },
  {
   "cell_type": "markdown",
   "metadata": {},
   "source": [
    "### Import Data"
   ]
  },
  {
   "cell_type": "code",
   "execution_count": 5,
   "metadata": {},
   "outputs": [],
   "source": [
    "county_ts = pd.read_csv('../data/raw/unzipped/County_time_series.csv/County_time_series.csv')\n",
    "city_ts = pd.read_csv('../data/raw/unzipped/City_time_series.csv/City_time_series.csv')\n",
    "zip_ts = pd.read_csv('../data/raw/unzipped/Zip_time_series.csv/Zip_time_series.csv')\n",
    "\n",
    "fips_mapping = pd.read_pickle('../data/interim/fips-map.pickle')"
   ]
  },
  {
   "cell_type": "code",
   "execution_count": null,
   "metadata": {},
   "outputs": [],
   "source": []
  }
 ],
 "metadata": {
  "kernelspec": {
   "display_name": "rent-v-buy",
   "language": "python",
   "name": "rent-v-buy"
  },
  "language_info": {
   "codemirror_mode": {
    "name": "ipython",
    "version": 3
   },
   "file_extension": ".py",
   "mimetype": "text/x-python",
   "name": "python",
   "nbconvert_exporter": "python",
   "pygments_lexer": "ipython3",
   "version": "3.7.0"
  }
 },
 "nbformat": 4,
 "nbformat_minor": 2
}
