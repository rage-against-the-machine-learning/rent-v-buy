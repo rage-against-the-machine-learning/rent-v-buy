{
 "cells": [
  {
   "cell_type": "code",
   "execution_count": 1,
   "metadata": {},
   "outputs": [],
   "source": [
    "import pandas as pd \n",
    "import numpy as np\n",
    "import json\n",
    "\n",
    "import os\n",
    "\n",
    "# Append the entire repo parent director so files therein can be accessed in notebook\n",
    "import sys\n",
    "import pathlib\n",
    "sys.path.append(str(pathlib.Path().absolute().parent))\n",
    "\n",
    "from src import helper\n",
    "%load_ext autoreload"
   ]
  },
  {
   "cell_type": "code",
   "execution_count": 5,
   "metadata": {},
   "outputs": [
    {
     "data": {
      "text/plain": [
       "['City_time_series.pickle',\n",
       " 'CountyCrossWalk_Zillow.pickle',\n",
       " 'City_time_series.csv.pickle',\n",
       " 'CountyCrossWalk_Zillow.csv.pickle']"
      ]
     },
     "execution_count": 5,
     "metadata": {},
     "output_type": "execute_result"
    }
   ],
   "source": [
    "os.listdir('../data/interim/')"
   ]
  },
  {
   "cell_type": "markdown",
   "metadata": {},
   "source": [
    "### State_time_series & County_time_series"
   ]
  },
  {
   "cell_type": "code",
   "execution_count": 3,
   "metadata": {},
   "outputs": [
    {
     "ename": "FileNotFoundError",
     "evalue": "[Errno 2] No such file or directory: '../data/interim/State_time_series.pickle'",
     "output_type": "error",
     "traceback": [
      "\u001b[0;31m---------------------------------------------------------------------------\u001b[0m",
      "\u001b[0;31mFileNotFoundError\u001b[0m                         Traceback (most recent call last)",
      "\u001b[0;32m<ipython-input-3-3c6c4481705e>\u001b[0m in \u001b[0;36m<module>\u001b[0;34m\u001b[0m\n\u001b[0;32m----> 1\u001b[0;31m \u001b[0mstate_ts\u001b[0m \u001b[0;34m=\u001b[0m \u001b[0mpd\u001b[0m\u001b[0;34m.\u001b[0m\u001b[0mread_pickle\u001b[0m\u001b[0;34m(\u001b[0m\u001b[0;34m'../data/interim/State_time_series.pickle'\u001b[0m\u001b[0;34m)\u001b[0m\u001b[0;34m\u001b[0m\u001b[0m\n\u001b[0m\u001b[1;32m      2\u001b[0m \u001b[0mcounty_ts\u001b[0m \u001b[0;34m=\u001b[0m \u001b[0mpd\u001b[0m\u001b[0;34m.\u001b[0m\u001b[0mread_pickle\u001b[0m\u001b[0;34m(\u001b[0m\u001b[0;34m'../data/interim/County_time_series.pickle'\u001b[0m\u001b[0;34m)\u001b[0m\u001b[0;34m\u001b[0m\u001b[0m\n",
      "\u001b[0;32m~/Desktop/Repos/rent-v-buy/venv/lib/python3.7/site-packages/pandas/io/pickle.py\u001b[0m in \u001b[0;36mread_pickle\u001b[0;34m(filepath_or_buffer, compression)\u001b[0m\n\u001b[1;32m    168\u001b[0m     \u001b[0;32mif\u001b[0m \u001b[0;32mnot\u001b[0m \u001b[0misinstance\u001b[0m\u001b[0;34m(\u001b[0m\u001b[0mfp_or_buf\u001b[0m\u001b[0;34m,\u001b[0m \u001b[0mstr\u001b[0m\u001b[0;34m)\u001b[0m \u001b[0;32mand\u001b[0m \u001b[0mcompression\u001b[0m \u001b[0;34m==\u001b[0m \u001b[0;34m\"infer\"\u001b[0m\u001b[0;34m:\u001b[0m\u001b[0;34m\u001b[0m\u001b[0m\n\u001b[1;32m    169\u001b[0m         \u001b[0mcompression\u001b[0m \u001b[0;34m=\u001b[0m \u001b[0;32mNone\u001b[0m\u001b[0;34m\u001b[0m\u001b[0m\n\u001b[0;32m--> 170\u001b[0;31m     \u001b[0mf\u001b[0m\u001b[0;34m,\u001b[0m \u001b[0mfh\u001b[0m \u001b[0;34m=\u001b[0m \u001b[0mget_handle\u001b[0m\u001b[0;34m(\u001b[0m\u001b[0mfp_or_buf\u001b[0m\u001b[0;34m,\u001b[0m \u001b[0;34m\"rb\"\u001b[0m\u001b[0;34m,\u001b[0m \u001b[0mcompression\u001b[0m\u001b[0;34m=\u001b[0m\u001b[0mcompression\u001b[0m\u001b[0;34m,\u001b[0m \u001b[0mis_text\u001b[0m\u001b[0;34m=\u001b[0m\u001b[0;32mFalse\u001b[0m\u001b[0;34m)\u001b[0m\u001b[0;34m\u001b[0m\u001b[0m\n\u001b[0m\u001b[1;32m    171\u001b[0m \u001b[0;34m\u001b[0m\u001b[0m\n\u001b[1;32m    172\u001b[0m     \u001b[0;31m# 1) try standard library Pickle\u001b[0m\u001b[0;34m\u001b[0m\u001b[0;34m\u001b[0m\u001b[0m\n",
      "\u001b[0;32m~/Desktop/Repos/rent-v-buy/venv/lib/python3.7/site-packages/pandas/io/common.py\u001b[0m in \u001b[0;36mget_handle\u001b[0;34m(path_or_buf, mode, encoding, compression, memory_map, is_text)\u001b[0m\n\u001b[1;32m    432\u001b[0m         \u001b[0;32melse\u001b[0m\u001b[0;34m:\u001b[0m\u001b[0;34m\u001b[0m\u001b[0m\n\u001b[1;32m    433\u001b[0m             \u001b[0;31m# Binary mode\u001b[0m\u001b[0;34m\u001b[0m\u001b[0;34m\u001b[0m\u001b[0m\n\u001b[0;32m--> 434\u001b[0;31m             \u001b[0mf\u001b[0m \u001b[0;34m=\u001b[0m \u001b[0mopen\u001b[0m\u001b[0;34m(\u001b[0m\u001b[0mpath_or_buf\u001b[0m\u001b[0;34m,\u001b[0m \u001b[0mmode\u001b[0m\u001b[0;34m)\u001b[0m\u001b[0;34m\u001b[0m\u001b[0m\n\u001b[0m\u001b[1;32m    435\u001b[0m         \u001b[0mhandles\u001b[0m\u001b[0;34m.\u001b[0m\u001b[0mappend\u001b[0m\u001b[0;34m(\u001b[0m\u001b[0mf\u001b[0m\u001b[0;34m)\u001b[0m\u001b[0;34m\u001b[0m\u001b[0m\n\u001b[1;32m    436\u001b[0m \u001b[0;34m\u001b[0m\u001b[0m\n",
      "\u001b[0;31mFileNotFoundError\u001b[0m: [Errno 2] No such file or directory: '../data/interim/State_time_series.pickle'"
     ]
    }
   ],
   "source": [
    "state_ts = pd.read_pickle('../data/interim/State_time_series.pickle')\n",
    "county_ts = pd.read_pickle('../data/interim/County_time_series.pickle')"
   ]
  },
  {
   "cell_type": "code",
   "execution_count": 8,
   "metadata": {},
   "outputs": [
    {
     "data": {
      "text/plain": [
       "array([10001, 10003,  1003, ..., 19159, 21135, 37095])"
      ]
     },
     "execution_count": 8,
     "metadata": {},
     "output_type": "execute_result"
    }
   ],
   "source": [
    "county_ts.RegionName.unique()"
   ]
  },
  {
   "cell_type": "code",
   "execution_count": 12,
   "metadata": {
    "scrolled": false
   },
   "outputs": [
    {
     "data": {
      "text/html": [
       "<div>\n",
       "<style scoped>\n",
       "    .dataframe tbody tr th:only-of-type {\n",
       "        vertical-align: middle;\n",
       "    }\n",
       "\n",
       "    .dataframe tbody tr th {\n",
       "        vertical-align: top;\n",
       "    }\n",
       "\n",
       "    .dataframe thead th {\n",
       "        text-align: right;\n",
       "    }\n",
       "</style>\n",
       "<table border=\"1\" class=\"dataframe\">\n",
       "  <thead>\n",
       "    <tr style=\"text-align: right;\">\n",
       "      <th></th>\n",
       "      <th>Date</th>\n",
       "      <th>RegionName</th>\n",
       "      <th>DaysOnZillow_AllHomes</th>\n",
       "      <th>InventorySeasonallyAdjusted_AllHomes</th>\n",
       "      <th>InventoryRaw_AllHomes</th>\n",
       "      <th>MedianListingPricePerSqft_1Bedroom</th>\n",
       "      <th>MedianListingPricePerSqft_2Bedroom</th>\n",
       "      <th>MedianListingPricePerSqft_3Bedroom</th>\n",
       "      <th>MedianListingPricePerSqft_4Bedroom</th>\n",
       "      <th>MedianListingPricePerSqft_5BedroomOrMore</th>\n",
       "      <th>...</th>\n",
       "      <th>ZHVI_BottomTier</th>\n",
       "      <th>ZHVI_CondoCoop</th>\n",
       "      <th>ZHVI_MiddleTier</th>\n",
       "      <th>ZHVI_SingleFamilyResidence</th>\n",
       "      <th>ZHVI_TopTier</th>\n",
       "      <th>ZRI_AllHomes</th>\n",
       "      <th>ZRI_AllHomesPlusMultifamily</th>\n",
       "      <th>ZriPerSqft_AllHomes</th>\n",
       "      <th>Zri_MultiFamilyResidenceRental</th>\n",
       "      <th>Zri_SingleFamilyResidenceRental</th>\n",
       "    </tr>\n",
       "  </thead>\n",
       "  <tbody>\n",
       "    <tr>\n",
       "      <th>6352</th>\n",
       "      <td>1996-08-31</td>\n",
       "      <td>36079</td>\n",
       "      <td>NaN</td>\n",
       "      <td>NaN</td>\n",
       "      <td>NaN</td>\n",
       "      <td>NaN</td>\n",
       "      <td>NaN</td>\n",
       "      <td>NaN</td>\n",
       "      <td>NaN</td>\n",
       "      <td>NaN</td>\n",
       "      <td>...</td>\n",
       "      <td>119000.0</td>\n",
       "      <td>NaN</td>\n",
       "      <td>166200.0</td>\n",
       "      <td>166200.0</td>\n",
       "      <td>248400.0</td>\n",
       "      <td>NaN</td>\n",
       "      <td>NaN</td>\n",
       "      <td>NaN</td>\n",
       "      <td>NaN</td>\n",
       "      <td>NaN</td>\n",
       "    </tr>\n",
       "    <tr>\n",
       "      <th>430773</th>\n",
       "      <td>2015-04-30</td>\n",
       "      <td>17005</td>\n",
       "      <td>NaN</td>\n",
       "      <td>132.0</td>\n",
       "      <td>129.0</td>\n",
       "      <td>NaN</td>\n",
       "      <td>NaN</td>\n",
       "      <td>NaN</td>\n",
       "      <td>NaN</td>\n",
       "      <td>NaN</td>\n",
       "      <td>...</td>\n",
       "      <td>NaN</td>\n",
       "      <td>NaN</td>\n",
       "      <td>NaN</td>\n",
       "      <td>NaN</td>\n",
       "      <td>NaN</td>\n",
       "      <td>NaN</td>\n",
       "      <td>NaN</td>\n",
       "      <td>NaN</td>\n",
       "      <td>NaN</td>\n",
       "      <td>NaN</td>\n",
       "    </tr>\n",
       "    <tr>\n",
       "      <th>276577</th>\n",
       "      <td>2010-03-31</td>\n",
       "      <td>51035</td>\n",
       "      <td>NaN</td>\n",
       "      <td>NaN</td>\n",
       "      <td>NaN</td>\n",
       "      <td>NaN</td>\n",
       "      <td>NaN</td>\n",
       "      <td>NaN</td>\n",
       "      <td>NaN</td>\n",
       "      <td>NaN</td>\n",
       "      <td>...</td>\n",
       "      <td>NaN</td>\n",
       "      <td>NaN</td>\n",
       "      <td>NaN</td>\n",
       "      <td>NaN</td>\n",
       "      <td>141500.0</td>\n",
       "      <td>NaN</td>\n",
       "      <td>NaN</td>\n",
       "      <td>NaN</td>\n",
       "      <td>NaN</td>\n",
       "      <td>NaN</td>\n",
       "    </tr>\n",
       "  </tbody>\n",
       "</table>\n",
       "<p>3 rows × 82 columns</p>\n",
       "</div>"
      ],
      "text/plain": [
       "              Date  RegionName  DaysOnZillow_AllHomes  \\\n",
       "6352    1996-08-31       36079                    NaN   \n",
       "430773  2015-04-30       17005                    NaN   \n",
       "276577  2010-03-31       51035                    NaN   \n",
       "\n",
       "        InventorySeasonallyAdjusted_AllHomes  InventoryRaw_AllHomes  \\\n",
       "6352                                     NaN                    NaN   \n",
       "430773                                 132.0                  129.0   \n",
       "276577                                   NaN                    NaN   \n",
       "\n",
       "        MedianListingPricePerSqft_1Bedroom  \\\n",
       "6352                                   NaN   \n",
       "430773                                 NaN   \n",
       "276577                                 NaN   \n",
       "\n",
       "        MedianListingPricePerSqft_2Bedroom  \\\n",
       "6352                                   NaN   \n",
       "430773                                 NaN   \n",
       "276577                                 NaN   \n",
       "\n",
       "        MedianListingPricePerSqft_3Bedroom  \\\n",
       "6352                                   NaN   \n",
       "430773                                 NaN   \n",
       "276577                                 NaN   \n",
       "\n",
       "        MedianListingPricePerSqft_4Bedroom  \\\n",
       "6352                                   NaN   \n",
       "430773                                 NaN   \n",
       "276577                                 NaN   \n",
       "\n",
       "        MedianListingPricePerSqft_5BedroomOrMore  ...  ZHVI_BottomTier  \\\n",
       "6352                                         NaN  ...         119000.0   \n",
       "430773                                       NaN  ...              NaN   \n",
       "276577                                       NaN  ...              NaN   \n",
       "\n",
       "        ZHVI_CondoCoop  ZHVI_MiddleTier  ZHVI_SingleFamilyResidence  \\\n",
       "6352               NaN         166200.0                    166200.0   \n",
       "430773             NaN              NaN                         NaN   \n",
       "276577             NaN              NaN                         NaN   \n",
       "\n",
       "        ZHVI_TopTier  ZRI_AllHomes  ZRI_AllHomesPlusMultifamily  \\\n",
       "6352        248400.0           NaN                          NaN   \n",
       "430773           NaN           NaN                          NaN   \n",
       "276577      141500.0           NaN                          NaN   \n",
       "\n",
       "        ZriPerSqft_AllHomes  Zri_MultiFamilyResidenceRental  \\\n",
       "6352                    NaN                             NaN   \n",
       "430773                  NaN                             NaN   \n",
       "276577                  NaN                             NaN   \n",
       "\n",
       "        Zri_SingleFamilyResidenceRental  \n",
       "6352                                NaN  \n",
       "430773                              NaN  \n",
       "276577                              NaN  \n",
       "\n",
       "[3 rows x 82 columns]"
      ]
     },
     "execution_count": 12,
     "metadata": {},
     "output_type": "execute_result"
    }
   ],
   "source": [
    "county_ts.sample(3)"
   ]
  },
  {
   "cell_type": "code",
   "execution_count": 23,
   "metadata": {},
   "outputs": [
    {
     "data": {
      "text/plain": [
       "numpy.int64"
      ]
     },
     "execution_count": 23,
     "metadata": {},
     "output_type": "execute_result"
    }
   ],
   "source": [
    "type(county_ts.loc[0, 'RegionName'])"
   ]
  },
  {
   "cell_type": "code",
   "execution_count": 24,
   "metadata": {},
   "outputs": [
    {
     "data": {
      "text/plain": [
       "numpy.int64"
      ]
     },
     "execution_count": 24,
     "metadata": {},
     "output_type": "execute_result"
    }
   ],
   "source": [
    "type(county_xwalk.loc[0, 'CountyFIPS'])"
   ]
  },
  {
   "cell_type": "markdown",
   "metadata": {},
   "source": [
    "#### CountyCrossWalk_Zillow\n",
    "- not obvious what CBSACode is for\n",
    "- FIPS is a concatenation of StateFIPS and CountyFIPS together\n",
    "    - if CountyFIPS is 2 digits then there's a leading 0\n",
    "    - StateFIPS is only 2 digits long"
   ]
  },
  {
   "cell_type": "code",
   "execution_count": 13,
   "metadata": {
    "scrolled": true
   },
   "outputs": [
    {
     "data": {
      "text/plain": [
       "(3144, 10)"
      ]
     },
     "execution_count": 13,
     "metadata": {},
     "output_type": "execute_result"
    }
   ],
   "source": [
    "county_xwalk = pd.read_pickle('../data/interim/CountyCrossWalk_Zillow.pickle')\n",
    "county_xwalk.shape"
   ]
  },
  {
   "cell_type": "code",
   "execution_count": 48,
   "metadata": {
    "scrolled": false
   },
   "outputs": [
    {
     "data": {
      "text/html": [
       "<div>\n",
       "<style scoped>\n",
       "    .dataframe tbody tr th:only-of-type {\n",
       "        vertical-align: middle;\n",
       "    }\n",
       "\n",
       "    .dataframe tbody tr th {\n",
       "        vertical-align: top;\n",
       "    }\n",
       "\n",
       "    .dataframe thead th {\n",
       "        text-align: right;\n",
       "    }\n",
       "</style>\n",
       "<table border=\"1\" class=\"dataframe\">\n",
       "  <thead>\n",
       "    <tr style=\"text-align: right;\">\n",
       "      <th></th>\n",
       "      <th>CountyName</th>\n",
       "      <th>StateName</th>\n",
       "      <th>StateFIPS</th>\n",
       "      <th>CountyFIPS</th>\n",
       "      <th>MetroName_Zillow</th>\n",
       "      <th>CBSAName</th>\n",
       "      <th>CountyRegionID_Zillow</th>\n",
       "      <th>MetroRegionID_Zillow</th>\n",
       "      <th>FIPS</th>\n",
       "      <th>CBSACode</th>\n",
       "    </tr>\n",
       "  </thead>\n",
       "  <tbody>\n",
       "    <tr>\n",
       "      <th>0</th>\n",
       "      <td>Pike</td>\n",
       "      <td>Pennsylvania</td>\n",
       "      <td>42</td>\n",
       "      <td>103</td>\n",
       "      <td>New York, NY</td>\n",
       "      <td>New York-Newark-Jersey City, NY-NJ-PA</td>\n",
       "      <td>280</td>\n",
       "      <td>394913.0</td>\n",
       "      <td>42103</td>\n",
       "      <td>35620.0</td>\n",
       "    </tr>\n",
       "    <tr>\n",
       "      <th>1</th>\n",
       "      <td>Bronx</td>\n",
       "      <td>New York</td>\n",
       "      <td>36</td>\n",
       "      <td>5</td>\n",
       "      <td>New York, NY</td>\n",
       "      <td>New York-Newark-Jersey City, NY-NJ-PA</td>\n",
       "      <td>401</td>\n",
       "      <td>394913.0</td>\n",
       "      <td>36005</td>\n",
       "      <td>35620.0</td>\n",
       "    </tr>\n",
       "    <tr>\n",
       "      <th>2</th>\n",
       "      <td>Essex</td>\n",
       "      <td>New Jersey</td>\n",
       "      <td>34</td>\n",
       "      <td>13</td>\n",
       "      <td>New York, NY</td>\n",
       "      <td>New York-Newark-Jersey City, NY-NJ-PA</td>\n",
       "      <td>504</td>\n",
       "      <td>394913.0</td>\n",
       "      <td>34013</td>\n",
       "      <td>35620.0</td>\n",
       "    </tr>\n",
       "  </tbody>\n",
       "</table>\n",
       "</div>"
      ],
      "text/plain": [
       "  CountyName     StateName  StateFIPS  CountyFIPS MetroName_Zillow  \\\n",
       "0       Pike  Pennsylvania         42         103     New York, NY   \n",
       "1      Bronx      New York         36           5     New York, NY   \n",
       "2      Essex    New Jersey         34          13     New York, NY   \n",
       "\n",
       "                                CBSAName  CountyRegionID_Zillow  \\\n",
       "0  New York-Newark-Jersey City, NY-NJ-PA                    280   \n",
       "1  New York-Newark-Jersey City, NY-NJ-PA                    401   \n",
       "2  New York-Newark-Jersey City, NY-NJ-PA                    504   \n",
       "\n",
       "   MetroRegionID_Zillow   FIPS  CBSACode  \n",
       "0              394913.0  42103   35620.0  \n",
       "1              394913.0  36005   35620.0  \n",
       "2              394913.0  34013   35620.0  "
      ]
     },
     "execution_count": 48,
     "metadata": {},
     "output_type": "execute_result"
    }
   ],
   "source": [
    "county_xwalk.head(3)"
   ]
  },
  {
   "cell_type": "markdown",
   "metadata": {},
   "source": [
    "**Figuring out which column from county_xwalk maps over to county_ts**\n",
    "- FIPS is the common column b/t the 2 dataframes that we can join on\n",
    "- FIPS will allow us to access the County name, State, etc. in the `county_xwalk` DataFrame which does not appear in the `county_ts` DataFrame"
   ]
  },
  {
   "cell_type": "code",
   "execution_count": 34,
   "metadata": {},
   "outputs": [
    {
     "name": "stdout",
     "output_type": "stream",
     "text": [
      "0\n",
      "9603\n",
      "0\n",
      "518791\n",
      "0\n"
     ]
    }
   ],
   "source": [
    "xwalk_countyFIPS = county_xwalk['CountyFIPS'].unique().tolist()\n",
    "xwalk_countyRegionID = county_xwalk['CountyRegionID_Zillow'].unique().tolist()\n",
    "xwalk_Metro = county_xwalk['MetroRegionID_Zillow'].unique().tolist()\n",
    "xwalk_FIPS = county_xwalk['FIPS'].unique().tolist()\n",
    "xwalk_CBSACode = county_xwalk['CBSACode'].unique().tolist()\n",
    "\n",
    "print(county_ts['RegionName'].isin(xwalk_countyFIPS).sum())\n",
    "print(county_ts['RegionName'].isin(xwalk_countyRegionID).sum())\n",
    "print(county_ts['RegionName'].isin(xwalk_Metro).sum())\n",
    "print(county_ts['RegionName'].isin(xwalk_FIPS).sum())\n",
    "print(county_ts['RegionName'].isin(xwalk_CBSACode).sum())"
   ]
  },
  {
   "cell_type": "code",
   "execution_count": 36,
   "metadata": {},
   "outputs": [],
   "source": [
    "# Create a dictionary with {key=FIP: value=CountyName}\n",
    "countyname_by_FIPS = dict(zip(county_xwalk['FIPS'], county_xwalk['CountyName']))"
   ]
  },
  {
   "cell_type": "code",
   "execution_count": 37,
   "metadata": {},
   "outputs": [
    {
     "data": {
      "text/html": [
       "<div>\n",
       "<style scoped>\n",
       "    .dataframe tbody tr th:only-of-type {\n",
       "        vertical-align: middle;\n",
       "    }\n",
       "\n",
       "    .dataframe tbody tr th {\n",
       "        vertical-align: top;\n",
       "    }\n",
       "\n",
       "    .dataframe thead th {\n",
       "        text-align: right;\n",
       "    }\n",
       "</style>\n",
       "<table border=\"1\" class=\"dataframe\">\n",
       "  <thead>\n",
       "    <tr style=\"text-align: right;\">\n",
       "      <th></th>\n",
       "      <th>Date</th>\n",
       "      <th>RegionName</th>\n",
       "      <th>DaysOnZillow_AllHomes</th>\n",
       "      <th>InventorySeasonallyAdjusted_AllHomes</th>\n",
       "      <th>InventoryRaw_AllHomes</th>\n",
       "      <th>MedianListingPricePerSqft_1Bedroom</th>\n",
       "      <th>MedianListingPricePerSqft_2Bedroom</th>\n",
       "      <th>MedianListingPricePerSqft_3Bedroom</th>\n",
       "      <th>MedianListingPricePerSqft_4Bedroom</th>\n",
       "      <th>MedianListingPricePerSqft_5BedroomOrMore</th>\n",
       "      <th>...</th>\n",
       "      <th>ZHVI_BottomTier</th>\n",
       "      <th>ZHVI_CondoCoop</th>\n",
       "      <th>ZHVI_MiddleTier</th>\n",
       "      <th>ZHVI_SingleFamilyResidence</th>\n",
       "      <th>ZHVI_TopTier</th>\n",
       "      <th>ZRI_AllHomes</th>\n",
       "      <th>ZRI_AllHomesPlusMultifamily</th>\n",
       "      <th>ZriPerSqft_AllHomes</th>\n",
       "      <th>Zri_MultiFamilyResidenceRental</th>\n",
       "      <th>Zri_SingleFamilyResidenceRental</th>\n",
       "    </tr>\n",
       "  </thead>\n",
       "  <tbody>\n",
       "    <tr>\n",
       "      <th>0</th>\n",
       "      <td>1996-04-30</td>\n",
       "      <td>10001</td>\n",
       "      <td>NaN</td>\n",
       "      <td>NaN</td>\n",
       "      <td>NaN</td>\n",
       "      <td>NaN</td>\n",
       "      <td>NaN</td>\n",
       "      <td>NaN</td>\n",
       "      <td>NaN</td>\n",
       "      <td>NaN</td>\n",
       "      <td>...</td>\n",
       "      <td>65600.0</td>\n",
       "      <td>NaN</td>\n",
       "      <td>85700.0</td>\n",
       "      <td>86000.0</td>\n",
       "      <td>129700.0</td>\n",
       "      <td>NaN</td>\n",
       "      <td>NaN</td>\n",
       "      <td>NaN</td>\n",
       "      <td>NaN</td>\n",
       "      <td>NaN</td>\n",
       "    </tr>\n",
       "    <tr>\n",
       "      <th>1</th>\n",
       "      <td>1996-04-30</td>\n",
       "      <td>10003</td>\n",
       "      <td>NaN</td>\n",
       "      <td>NaN</td>\n",
       "      <td>NaN</td>\n",
       "      <td>NaN</td>\n",
       "      <td>NaN</td>\n",
       "      <td>NaN</td>\n",
       "      <td>NaN</td>\n",
       "      <td>NaN</td>\n",
       "      <td>...</td>\n",
       "      <td>81900.0</td>\n",
       "      <td>NaN</td>\n",
       "      <td>116800.0</td>\n",
       "      <td>116900.0</td>\n",
       "      <td>181400.0</td>\n",
       "      <td>NaN</td>\n",
       "      <td>NaN</td>\n",
       "      <td>NaN</td>\n",
       "      <td>NaN</td>\n",
       "      <td>NaN</td>\n",
       "    </tr>\n",
       "    <tr>\n",
       "      <th>2</th>\n",
       "      <td>1996-04-30</td>\n",
       "      <td>1003</td>\n",
       "      <td>NaN</td>\n",
       "      <td>NaN</td>\n",
       "      <td>NaN</td>\n",
       "      <td>NaN</td>\n",
       "      <td>NaN</td>\n",
       "      <td>NaN</td>\n",
       "      <td>NaN</td>\n",
       "      <td>NaN</td>\n",
       "      <td>...</td>\n",
       "      <td>70600.0</td>\n",
       "      <td>NaN</td>\n",
       "      <td>110600.0</td>\n",
       "      <td>106800.0</td>\n",
       "      <td>192300.0</td>\n",
       "      <td>NaN</td>\n",
       "      <td>NaN</td>\n",
       "      <td>NaN</td>\n",
       "      <td>NaN</td>\n",
       "      <td>NaN</td>\n",
       "    </tr>\n",
       "  </tbody>\n",
       "</table>\n",
       "<p>3 rows × 82 columns</p>\n",
       "</div>"
      ],
      "text/plain": [
       "         Date  RegionName  DaysOnZillow_AllHomes  \\\n",
       "0  1996-04-30       10001                    NaN   \n",
       "1  1996-04-30       10003                    NaN   \n",
       "2  1996-04-30        1003                    NaN   \n",
       "\n",
       "   InventorySeasonallyAdjusted_AllHomes  InventoryRaw_AllHomes  \\\n",
       "0                                   NaN                    NaN   \n",
       "1                                   NaN                    NaN   \n",
       "2                                   NaN                    NaN   \n",
       "\n",
       "   MedianListingPricePerSqft_1Bedroom  MedianListingPricePerSqft_2Bedroom  \\\n",
       "0                                 NaN                                 NaN   \n",
       "1                                 NaN                                 NaN   \n",
       "2                                 NaN                                 NaN   \n",
       "\n",
       "   MedianListingPricePerSqft_3Bedroom  MedianListingPricePerSqft_4Bedroom  \\\n",
       "0                                 NaN                                 NaN   \n",
       "1                                 NaN                                 NaN   \n",
       "2                                 NaN                                 NaN   \n",
       "\n",
       "   MedianListingPricePerSqft_5BedroomOrMore  ...  ZHVI_BottomTier  \\\n",
       "0                                       NaN  ...          65600.0   \n",
       "1                                       NaN  ...          81900.0   \n",
       "2                                       NaN  ...          70600.0   \n",
       "\n",
       "   ZHVI_CondoCoop  ZHVI_MiddleTier  ZHVI_SingleFamilyResidence  ZHVI_TopTier  \\\n",
       "0             NaN          85700.0                     86000.0      129700.0   \n",
       "1             NaN         116800.0                    116900.0      181400.0   \n",
       "2             NaN         110600.0                    106800.0      192300.0   \n",
       "\n",
       "   ZRI_AllHomes  ZRI_AllHomesPlusMultifamily  ZriPerSqft_AllHomes  \\\n",
       "0           NaN                          NaN                  NaN   \n",
       "1           NaN                          NaN                  NaN   \n",
       "2           NaN                          NaN                  NaN   \n",
       "\n",
       "   Zri_MultiFamilyResidenceRental  Zri_SingleFamilyResidenceRental  \n",
       "0                             NaN                              NaN  \n",
       "1                             NaN                              NaN  \n",
       "2                             NaN                              NaN  \n",
       "\n",
       "[3 rows x 82 columns]"
      ]
     },
     "execution_count": 37,
     "metadata": {},
     "output_type": "execute_result"
    }
   ],
   "source": [
    "county_ts.head(3)"
   ]
  },
  {
   "cell_type": "code",
   "execution_count": 40,
   "metadata": {},
   "outputs": [
    {
     "data": {
      "text/html": [
       "<div>\n",
       "<style scoped>\n",
       "    .dataframe tbody tr th:only-of-type {\n",
       "        vertical-align: middle;\n",
       "    }\n",
       "\n",
       "    .dataframe tbody tr th {\n",
       "        vertical-align: top;\n",
       "    }\n",
       "\n",
       "    .dataframe thead th {\n",
       "        text-align: right;\n",
       "    }\n",
       "</style>\n",
       "<table border=\"1\" class=\"dataframe\">\n",
       "  <thead>\n",
       "    <tr style=\"text-align: right;\">\n",
       "      <th></th>\n",
       "      <th>RegionName</th>\n",
       "      <th>CountyName</th>\n",
       "    </tr>\n",
       "  </thead>\n",
       "  <tbody>\n",
       "    <tr>\n",
       "      <th>0</th>\n",
       "      <td>10001</td>\n",
       "      <td>Kent</td>\n",
       "    </tr>\n",
       "    <tr>\n",
       "      <th>1</th>\n",
       "      <td>10003</td>\n",
       "      <td>New Castle</td>\n",
       "    </tr>\n",
       "    <tr>\n",
       "      <th>2</th>\n",
       "      <td>1003</td>\n",
       "      <td>Baldwin</td>\n",
       "    </tr>\n",
       "  </tbody>\n",
       "</table>\n",
       "</div>"
      ],
      "text/plain": [
       "   RegionName  CountyName\n",
       "0       10001        Kent\n",
       "1       10003  New Castle\n",
       "2        1003     Baldwin"
      ]
     },
     "execution_count": 40,
     "metadata": {},
     "output_type": "execute_result"
    }
   ],
   "source": [
    "# Use the `countyname_by_FIPS` dictionary to impute a new column in the `county_ts` DataFrame\n",
    "\n",
    "countyName_column = []\n",
    "for row in county_ts.itertuples():\n",
    "    if row.RegionName in countyname_by_FIPS:\n",
    "        countyName_column.append(countyname_by_FIPS[row.RegionName])\n",
    "    else:\n",
    "        countyName_column.append(np.nan)\n",
    "        \n",
    "assert len(countyName_column) == len(county_ts), 'mismatched lengths'\n",
    "\n",
    "county_ts['CountyName'] = countyName_column\n",
    "county_ts[['RegionName', 'CountyName']].head(3)"
   ]
  },
  {
   "cell_type": "code",
   "execution_count": 43,
   "metadata": {},
   "outputs": [
    {
     "name": "stdout",
     "output_type": "stream",
     "text": [
      "<class 'pandas.core.frame.DataFrame'>\n",
      "RangeIndex: 518791 entries, 0 to 518790\n",
      "Data columns (total 2 columns):\n",
      " #   Column      Non-Null Count   Dtype \n",
      "---  ------      --------------   ----- \n",
      " 0   RegionName  518791 non-null  int64 \n",
      " 1   CountyName  518791 non-null  object\n",
      "dtypes: int64(1), object(1)\n",
      "memory usage: 7.9+ MB\n"
     ]
    }
   ],
   "source": [
    "county_ts[['RegionName', 'CountyName']].info()"
   ]
  },
  {
   "cell_type": "code",
   "execution_count": 47,
   "metadata": {
    "scrolled": true
   },
   "outputs": [
    {
     "data": {
      "text/plain": [
       "2701"
      ]
     },
     "execution_count": 47,
     "metadata": {},
     "output_type": "execute_result"
    }
   ],
   "source": [
    "county_ts['RegionName'].nunique()"
   ]
  },
  {
   "cell_type": "code",
   "execution_count": 46,
   "metadata": {},
   "outputs": [
    {
     "data": {
      "text/plain": [
       "1614"
      ]
     },
     "execution_count": 46,
     "metadata": {},
     "output_type": "execute_result"
    }
   ],
   "source": [
    "county_ts['CountyName'].nunique()"
   ]
  },
  {
   "cell_type": "code",
   "execution_count": null,
   "metadata": {},
   "outputs": [],
   "source": []
  }
 ],
 "metadata": {
  "kernelspec": {
   "display_name": "rent-v-buy",
   "language": "python",
   "name": "rent-v-buy"
  },
  "language_info": {
   "codemirror_mode": {
    "name": "ipython",
    "version": 3
   },
   "file_extension": ".py",
   "mimetype": "text/x-python",
   "name": "python",
   "nbconvert_exporter": "python",
   "pygments_lexer": "ipython3",
   "version": "3.7.0"
  }
 },
 "nbformat": 4,
 "nbformat_minor": 2
}
