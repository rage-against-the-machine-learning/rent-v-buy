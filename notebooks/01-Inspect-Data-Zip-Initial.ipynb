{
 "cells": [
  {
   "cell_type": "code",
   "execution_count": 51,
   "metadata": {},
   "outputs": [
    {
     "name": "stdout",
     "output_type": "stream",
     "text": [
      "The autoreload extension is already loaded. To reload it, use:\n",
      "  %reload_ext autoreload\n"
     ]
    }
   ],
   "source": [
    "import pandas as pd \n",
    "import numpy as np\n",
    "import json\n",
    "import zipcodes\n",
    "\n",
    "from collections import Counter\n",
    "from pprint import pprint\n",
    "from tqdm import tqdm \n",
    "\n",
    "# Append the entire repo parent director so files therein can be accessed in notebook\n",
    "import os\n",
    "import sys\n",
    "import pathlib\n",
    "sys.path.append(str(pathlib.Path().absolute().parent))\n",
    "\n",
    "from src import helper\n",
    "%load_ext autoreload"
   ]
  },
  {
   "cell_type": "code",
   "execution_count": 2,
   "metadata": {},
   "outputs": [
    {
     "data": {
      "text/plain": [
       "['State_time_series.csv',\n",
       " 'county-time-series-with-fipsmap.pickle',\n",
       " 'City_time_series.csv',\n",
       " 'CountyCrossWalk_Zillow.csv',\n",
       " 'cities_crosswalk.csv',\n",
       " 'Metro_time_series.csv',\n",
       " 'fips-county-metro-state-df.pickle',\n",
       " 'Zip_time_series.csv',\n",
       " 'County_time_series.csv',\n",
       " 'Neighborhood_time_series.csv',\n",
       " 'fips_map.pickle',\n",
       " 'fips-map.pickle']"
      ]
     },
     "execution_count": 2,
     "metadata": {},
     "output_type": "execute_result"
    }
   ],
   "source": [
    "os.listdir('../data/interim/')"
   ]
  },
  {
   "cell_type": "markdown",
   "metadata": {},
   "source": [
    "### Zip Code time series"
   ]
  },
  {
   "cell_type": "code",
   "execution_count": 7,
   "metadata": {
    "scrolled": true
   },
   "outputs": [
    {
     "data": {
      "text/html": [
       "<div>\n",
       "<style scoped>\n",
       "    .dataframe tbody tr th:only-of-type {\n",
       "        vertical-align: middle;\n",
       "    }\n",
       "\n",
       "    .dataframe tbody tr th {\n",
       "        vertical-align: top;\n",
       "    }\n",
       "\n",
       "    .dataframe thead th {\n",
       "        text-align: right;\n",
       "    }\n",
       "</style>\n",
       "<table border=\"1\" class=\"dataframe\">\n",
       "  <thead>\n",
       "    <tr style=\"text-align: right;\">\n",
       "      <th></th>\n",
       "      <th>Date</th>\n",
       "      <th>RegionName</th>\n",
       "      <th>InventorySeasonallyAdjusted_AllHomes</th>\n",
       "      <th>InventoryRaw_AllHomes</th>\n",
       "      <th>MedianListingPricePerSqft_1Bedroom</th>\n",
       "      <th>MedianListingPricePerSqft_2Bedroom</th>\n",
       "      <th>MedianListingPricePerSqft_3Bedroom</th>\n",
       "      <th>MedianListingPricePerSqft_4Bedroom</th>\n",
       "      <th>MedianListingPricePerSqft_5BedroomOrMore</th>\n",
       "      <th>MedianListingPricePerSqft_AllHomes</th>\n",
       "      <th>...</th>\n",
       "      <th>ZHVI_BottomTier</th>\n",
       "      <th>ZHVI_CondoCoop</th>\n",
       "      <th>ZHVI_MiddleTier</th>\n",
       "      <th>ZHVI_SingleFamilyResidence</th>\n",
       "      <th>ZHVI_TopTier</th>\n",
       "      <th>ZRI_AllHomes</th>\n",
       "      <th>ZRI_AllHomesPlusMultifamily</th>\n",
       "      <th>ZriPerSqft_AllHomes</th>\n",
       "      <th>Zri_MultiFamilyResidenceRental</th>\n",
       "      <th>Zri_SingleFamilyResidenceRental</th>\n",
       "    </tr>\n",
       "  </thead>\n",
       "  <tbody>\n",
       "    <tr>\n",
       "      <th>0</th>\n",
       "      <td>1996-04-30</td>\n",
       "      <td>1001</td>\n",
       "      <td>NaN</td>\n",
       "      <td>NaN</td>\n",
       "      <td>NaN</td>\n",
       "      <td>NaN</td>\n",
       "      <td>NaN</td>\n",
       "      <td>NaN</td>\n",
       "      <td>NaN</td>\n",
       "      <td>NaN</td>\n",
       "      <td>...</td>\n",
       "      <td>68700.0</td>\n",
       "      <td>67000.0</td>\n",
       "      <td>101900.0</td>\n",
       "      <td>107000.0</td>\n",
       "      <td>124800.0</td>\n",
       "      <td>NaN</td>\n",
       "      <td>NaN</td>\n",
       "      <td>NaN</td>\n",
       "      <td>NaN</td>\n",
       "      <td>NaN</td>\n",
       "    </tr>\n",
       "    <tr>\n",
       "      <th>1</th>\n",
       "      <td>1996-04-30</td>\n",
       "      <td>1002</td>\n",
       "      <td>NaN</td>\n",
       "      <td>NaN</td>\n",
       "      <td>NaN</td>\n",
       "      <td>NaN</td>\n",
       "      <td>NaN</td>\n",
       "      <td>NaN</td>\n",
       "      <td>NaN</td>\n",
       "      <td>NaN</td>\n",
       "      <td>...</td>\n",
       "      <td>97000.0</td>\n",
       "      <td>81300.0</td>\n",
       "      <td>135200.0</td>\n",
       "      <td>145800.0</td>\n",
       "      <td>213600.0</td>\n",
       "      <td>NaN</td>\n",
       "      <td>NaN</td>\n",
       "      <td>NaN</td>\n",
       "      <td>NaN</td>\n",
       "      <td>NaN</td>\n",
       "    </tr>\n",
       "    <tr>\n",
       "      <th>2</th>\n",
       "      <td>1996-04-30</td>\n",
       "      <td>1005</td>\n",
       "      <td>NaN</td>\n",
       "      <td>NaN</td>\n",
       "      <td>NaN</td>\n",
       "      <td>NaN</td>\n",
       "      <td>NaN</td>\n",
       "      <td>NaN</td>\n",
       "      <td>NaN</td>\n",
       "      <td>NaN</td>\n",
       "      <td>...</td>\n",
       "      <td>85400.0</td>\n",
       "      <td>NaN</td>\n",
       "      <td>101200.0</td>\n",
       "      <td>101200.0</td>\n",
       "      <td>125700.0</td>\n",
       "      <td>NaN</td>\n",
       "      <td>NaN</td>\n",
       "      <td>NaN</td>\n",
       "      <td>NaN</td>\n",
       "      <td>NaN</td>\n",
       "    </tr>\n",
       "  </tbody>\n",
       "</table>\n",
       "<p>3 rows × 76 columns</p>\n",
       "</div>"
      ],
      "text/plain": [
       "         Date  RegionName  InventorySeasonallyAdjusted_AllHomes  \\\n",
       "0  1996-04-30        1001                                   NaN   \n",
       "1  1996-04-30        1002                                   NaN   \n",
       "2  1996-04-30        1005                                   NaN   \n",
       "\n",
       "   InventoryRaw_AllHomes  MedianListingPricePerSqft_1Bedroom  \\\n",
       "0                    NaN                                 NaN   \n",
       "1                    NaN                                 NaN   \n",
       "2                    NaN                                 NaN   \n",
       "\n",
       "   MedianListingPricePerSqft_2Bedroom  MedianListingPricePerSqft_3Bedroom  \\\n",
       "0                                 NaN                                 NaN   \n",
       "1                                 NaN                                 NaN   \n",
       "2                                 NaN                                 NaN   \n",
       "\n",
       "   MedianListingPricePerSqft_4Bedroom  \\\n",
       "0                                 NaN   \n",
       "1                                 NaN   \n",
       "2                                 NaN   \n",
       "\n",
       "   MedianListingPricePerSqft_5BedroomOrMore  \\\n",
       "0                                       NaN   \n",
       "1                                       NaN   \n",
       "2                                       NaN   \n",
       "\n",
       "   MedianListingPricePerSqft_AllHomes  ...  ZHVI_BottomTier  ZHVI_CondoCoop  \\\n",
       "0                                 NaN  ...          68700.0         67000.0   \n",
       "1                                 NaN  ...          97000.0         81300.0   \n",
       "2                                 NaN  ...          85400.0             NaN   \n",
       "\n",
       "   ZHVI_MiddleTier  ZHVI_SingleFamilyResidence  ZHVI_TopTier  ZRI_AllHomes  \\\n",
       "0         101900.0                    107000.0      124800.0           NaN   \n",
       "1         135200.0                    145800.0      213600.0           NaN   \n",
       "2         101200.0                    101200.0      125700.0           NaN   \n",
       "\n",
       "   ZRI_AllHomesPlusMultifamily  ZriPerSqft_AllHomes  \\\n",
       "0                          NaN                  NaN   \n",
       "1                          NaN                  NaN   \n",
       "2                          NaN                  NaN   \n",
       "\n",
       "   Zri_MultiFamilyResidenceRental  Zri_SingleFamilyResidenceRental  \n",
       "0                             NaN                              NaN  \n",
       "1                             NaN                              NaN  \n",
       "2                             NaN                              NaN  \n",
       "\n",
       "[3 rows x 76 columns]"
      ]
     },
     "execution_count": 7,
     "metadata": {},
     "output_type": "execute_result"
    }
   ],
   "source": [
    "zip_ts = pd.read_csv('../data/raw/unzipped/Zip_time_series.csv/Zip_time_series.csv')\n",
    "zip_ts.head(3)"
   ]
  },
  {
   "cell_type": "code",
   "execution_count": 25,
   "metadata": {},
   "outputs": [],
   "source": [
    "# There are leading zeros in the zip codes for certain states.\n",
    "# Convert the RegionName from integer to a string, and then put in a leading 0 in cases that it read the\n",
    "# zip code in as a 4-digit integer instead of a 5-digit integer\n",
    "\n",
    "zip_ts['RegionName'] = zip_ts['RegionName'].astype(str)\n",
    "\n",
    "cleaned_zips = ['0' + zipcode if len(zipcode) == 4 else zipcode for zipcode in zip_ts['RegionName'] ]\n",
    "zip_ts['ZipCode_str'] = cleaned_zips"
   ]
  },
  {
   "cell_type": "code",
   "execution_count": 26,
   "metadata": {
    "scrolled": false
   },
   "outputs": [
    {
     "data": {
      "text/plain": [
       "19106"
      ]
     },
     "execution_count": 26,
     "metadata": {},
     "output_type": "execute_result"
    }
   ],
   "source": [
    "zip_ts['ZipCode_str'].nunique()"
   ]
  },
  {
   "cell_type": "code",
   "execution_count": 33,
   "metadata": {},
   "outputs": [
    {
     "data": {
      "text/plain": [
       "2036"
      ]
     },
     "execution_count": 33,
     "metadata": {},
     "output_type": "execute_result"
    }
   ],
   "source": [
    "potential_CA_zips = [zipcode for zipcode in zip_ts['ZipCode_str'].unique() if zipcode[0] == '9']\n",
    "len(potential_CA_zips)"
   ]
  },
  {
   "cell_type": "code",
   "execution_count": 53,
   "metadata": {
    "scrolled": true
   },
   "outputs": [
    {
     "name": "stderr",
     "output_type": "stream",
     "text": [
      "\n",
      "  0%|          | 0/2036 [00:00<?, ?it/s]\u001b[A\n",
      "  1%|          | 16/2036 [00:00<00:12, 158.99it/s]\u001b[A\n",
      "  1%|▏         | 30/2036 [00:00<00:13, 152.76it/s]\u001b[A\n",
      "  2%|▏         | 45/2036 [00:00<00:13, 149.34it/s]\u001b[A\n",
      "  3%|▎         | 60/2036 [00:00<00:13, 148.21it/s]\u001b[A\n",
      "  4%|▎         | 74/2036 [00:00<00:13, 145.44it/s]\u001b[A\n",
      "  4%|▍         | 89/2036 [00:00<00:13, 145.02it/s]\u001b[A\n",
      "  5%|▌         | 103/2036 [00:00<00:13, 140.93it/s]\u001b[A\n",
      "  6%|▌         | 116/2036 [00:00<00:14, 136.46it/s]\u001b[A\n",
      "  6%|▋         | 129/2036 [00:00<00:14, 130.49it/s]\u001b[A\n",
      "  7%|▋         | 142/2036 [00:01<00:14, 127.70it/s]\u001b[A\n",
      "  8%|▊         | 156/2036 [00:01<00:14, 130.54it/s]\u001b[A\n",
      "  8%|▊         | 170/2036 [00:01<00:14, 131.32it/s]\u001b[A\n",
      "  9%|▉         | 183/2036 [00:01<00:14, 128.86it/s]\u001b[A\n",
      " 10%|▉         | 196/2036 [00:01<00:14, 123.45it/s]\u001b[A\n",
      " 10%|█         | 209/2036 [00:01<00:14, 124.29it/s]\u001b[A\n",
      " 11%|█         | 224/2036 [00:01<00:14, 128.91it/s]\u001b[A\n",
      " 12%|█▏        | 237/2036 [00:01<00:14, 123.73it/s]\u001b[A\n",
      " 12%|█▏        | 250/2036 [00:01<00:15, 115.47it/s]\u001b[A\n",
      " 13%|█▎        | 262/2036 [00:02<00:16, 107.74it/s]\u001b[A\n",
      " 13%|█▎        | 273/2036 [00:02<00:16, 107.11it/s]\u001b[A\n",
      " 14%|█▍        | 284/2036 [00:02<00:16, 106.63it/s]\u001b[A\n",
      " 14%|█▍        | 295/2036 [00:02<00:16, 103.49it/s]\u001b[A\n",
      " 15%|█▌        | 306/2036 [00:02<00:17, 100.24it/s]\u001b[A\n",
      " 16%|█▌        | 318/2036 [00:02<00:16, 104.71it/s]\u001b[A\n",
      " 16%|█▋        | 331/2036 [00:02<00:15, 110.32it/s]\u001b[A\n",
      " 17%|█▋        | 343/2036 [00:02<00:15, 112.83it/s]\u001b[A\n",
      " 17%|█▋        | 355/2036 [00:02<00:16, 99.05it/s] \u001b[A\n",
      " 18%|█▊        | 366/2036 [00:03<00:17, 96.83it/s]\u001b[A\n",
      " 19%|█▊        | 379/2036 [00:03<00:16, 103.36it/s]\u001b[A\n",
      " 19%|█▉        | 391/2036 [00:03<00:15, 106.45it/s]\u001b[A\n",
      " 20%|█▉        | 403/2036 [00:03<00:14, 109.56it/s]\u001b[A\n",
      " 20%|██        | 416/2036 [00:03<00:14, 113.83it/s]\u001b[A\n",
      " 21%|██        | 428/2036 [00:03<00:14, 112.88it/s]\u001b[A\n",
      " 22%|██▏       | 440/2036 [00:03<00:13, 114.57it/s]\u001b[A\n",
      " 22%|██▏       | 452/2036 [00:03<00:13, 115.35it/s]\u001b[A\n",
      " 23%|██▎       | 464/2036 [00:03<00:14, 112.09it/s]\u001b[A\n",
      " 23%|██▎       | 476/2036 [00:04<00:14, 109.53it/s]\u001b[A\n",
      " 24%|██▍       | 488/2036 [00:04<00:14, 109.33it/s]\u001b[A\n",
      " 25%|██▍       | 499/2036 [00:04<00:14, 106.33it/s]\u001b[A\n",
      " 25%|██▌       | 511/2036 [00:04<00:14, 107.97it/s]\u001b[A\n",
      " 26%|██▌       | 522/2036 [00:04<00:14, 107.79it/s]\u001b[A\n",
      " 26%|██▌       | 533/2036 [00:04<00:13, 108.18it/s]\u001b[A\n",
      " 27%|██▋       | 544/2036 [00:04<00:14, 104.67it/s]\u001b[A\n",
      " 27%|██▋       | 555/2036 [00:04<00:13, 106.15it/s]\u001b[A\n",
      " 28%|██▊       | 567/2036 [00:04<00:13, 107.62it/s]\u001b[A\n",
      " 28%|██▊       | 579/2036 [00:04<00:13, 109.49it/s]\u001b[A\n",
      " 29%|██▉       | 591/2036 [00:05<00:12, 111.16it/s]\u001b[A\n",
      " 30%|██▉       | 603/2036 [00:05<00:12, 112.59it/s]\u001b[A\n",
      " 30%|███       | 616/2036 [00:05<00:12, 117.15it/s]\u001b[A\n",
      " 31%|███       | 631/2036 [00:05<00:11, 123.77it/s]\u001b[A\n",
      " 32%|███▏      | 645/2036 [00:05<00:10, 127.00it/s]\u001b[A\n",
      " 32%|███▏      | 660/2036 [00:05<00:10, 131.45it/s]\u001b[A\n",
      " 33%|███▎      | 675/2036 [00:05<00:10, 136.06it/s]\u001b[A\n",
      " 34%|███▍      | 690/2036 [00:05<00:09, 137.58it/s]\u001b[A\n",
      " 35%|███▍      | 704/2036 [00:05<00:09, 135.41it/s]\u001b[A\n",
      " 35%|███▌      | 718/2036 [00:06<00:09, 134.61it/s]\u001b[A\n",
      " 36%|███▌      | 732/2036 [00:06<00:09, 133.71it/s]\u001b[A\n",
      " 37%|███▋      | 747/2036 [00:06<00:09, 136.58it/s]\u001b[A\n",
      " 37%|███▋      | 762/2036 [00:06<00:09, 138.03it/s]\u001b[A\n",
      " 38%|███▊      | 777/2036 [00:06<00:09, 139.47it/s]\u001b[A\n",
      " 39%|███▉      | 791/2036 [00:06<00:09, 138.15it/s]\u001b[A\n",
      " 40%|███▉      | 807/2036 [00:06<00:08, 142.30it/s]\u001b[A\n",
      " 40%|████      | 822/2036 [00:06<00:08, 139.28it/s]\u001b[A\n",
      " 41%|████      | 838/2036 [00:06<00:08, 141.99it/s]\u001b[A\n",
      " 42%|████▏     | 853/2036 [00:06<00:08, 142.14it/s]\u001b[A\n",
      " 43%|████▎     | 868/2036 [00:07<00:08, 140.61it/s]\u001b[A\n",
      " 43%|████▎     | 883/2036 [00:07<00:08, 138.88it/s]\u001b[A\n",
      " 44%|████▍     | 898/2036 [00:07<00:08, 138.99it/s]\u001b[A\n",
      " 45%|████▍     | 912/2036 [00:07<00:08, 138.05it/s]\u001b[A\n",
      " 45%|████▌     | 926/2036 [00:07<00:08, 136.54it/s]\u001b[A\n",
      " 46%|████▌     | 941/2036 [00:07<00:07, 138.08it/s]\u001b[A\n",
      " 47%|████▋     | 955/2036 [00:07<00:07, 138.63it/s]\u001b[A\n",
      " 48%|████▊     | 969/2036 [00:07<00:07, 137.49it/s]\u001b[A\n",
      " 48%|████▊     | 983/2036 [00:07<00:07, 134.34it/s]\u001b[A\n",
      " 49%|████▉     | 998/2036 [00:08<00:07, 136.67it/s]\u001b[A\n",
      " 50%|████▉     | 1013/2036 [00:08<00:07, 140.11it/s]\u001b[A\n",
      " 50%|█████     | 1028/2036 [00:08<00:07, 138.89it/s]\u001b[A\n",
      " 51%|█████     | 1042/2036 [00:08<00:07, 139.11it/s]\u001b[A\n",
      " 52%|█████▏    | 1057/2036 [00:08<00:07, 139.26it/s]\u001b[A\n",
      " 53%|█████▎    | 1071/2036 [00:08<00:06, 138.77it/s]\u001b[A\n",
      " 53%|█████▎    | 1085/2036 [00:08<00:06, 138.58it/s]\u001b[A\n",
      " 54%|█████▍    | 1099/2036 [00:08<00:06, 136.92it/s]\u001b[A\n",
      " 55%|█████▍    | 1114/2036 [00:08<00:06, 138.75it/s]\u001b[A\n",
      " 55%|█████▌    | 1129/2036 [00:08<00:06, 140.83it/s]\u001b[A\n",
      " 56%|█████▌    | 1144/2036 [00:09<00:06, 142.23it/s]\u001b[A\n",
      " 57%|█████▋    | 1159/2036 [00:09<00:06, 139.39it/s]\u001b[A\n",
      " 58%|█████▊    | 1174/2036 [00:09<00:06, 139.87it/s]\u001b[A\n",
      "  0%|          | 2428/4383885 [00:30<8:28:13, 143.68it/s]\n",
      " 59%|█████▉    | 1204/2036 [00:09<00:05, 138.86it/s]\u001b[A\n",
      " 60%|█████▉    | 1218/2036 [00:09<00:05, 139.10it/s]\u001b[A\n",
      " 61%|██████    | 1232/2036 [00:09<00:05, 138.92it/s]\u001b[A\n",
      " 61%|██████▏   | 1248/2036 [00:09<00:05, 142.77it/s]\u001b[A\n",
      " 62%|██████▏   | 1264/2036 [00:09<00:05, 144.70it/s]\u001b[A\n",
      " 63%|██████▎   | 1279/2036 [00:10<00:05, 144.69it/s]\u001b[A\n",
      " 64%|██████▎   | 1294/2036 [00:10<00:05, 143.58it/s]\u001b[A\n",
      " 64%|██████▍   | 1309/2036 [00:10<00:05, 142.06it/s]\u001b[A\n",
      " 65%|██████▌   | 1324/2036 [00:10<00:05, 141.13it/s]\u001b[A\n",
      " 66%|██████▌   | 1339/2036 [00:10<00:04, 142.15it/s]\u001b[A\n",
      " 67%|██████▋   | 1355/2036 [00:10<00:04, 144.68it/s]\u001b[A\n",
      " 67%|██████▋   | 1370/2036 [00:10<00:04, 145.44it/s]\u001b[A\n",
      " 68%|██████▊   | 1385/2036 [00:10<00:04, 145.17it/s]\u001b[A\n",
      " 69%|██████▉   | 1401/2036 [00:10<00:04, 147.22it/s]\u001b[A\n",
      " 70%|██████▉   | 1416/2036 [00:10<00:04, 145.07it/s]\u001b[A\n",
      " 70%|███████   | 1431/2036 [00:11<00:04, 143.17it/s]\u001b[A\n",
      " 71%|███████   | 1446/2036 [00:11<00:04, 133.85it/s]\u001b[A\n",
      " 72%|███████▏  | 1460/2036 [00:11<00:04, 132.96it/s]\u001b[A\n",
      " 72%|███████▏  | 1474/2036 [00:11<00:04, 133.99it/s]\u001b[A\n",
      " 73%|███████▎  | 1488/2036 [00:11<00:04, 135.44it/s]\u001b[A\n",
      " 74%|███████▍  | 1502/2036 [00:11<00:03, 135.10it/s]\u001b[A\n",
      " 74%|███████▍  | 1516/2036 [00:11<00:03, 135.01it/s]\u001b[A\n",
      " 75%|███████▌  | 1531/2036 [00:11<00:03, 137.74it/s]\u001b[A\n",
      " 76%|███████▌  | 1545/2036 [00:11<00:03, 131.60it/s]\u001b[A\n",
      " 77%|███████▋  | 1559/2036 [00:12<00:03, 130.00it/s]\u001b[A\n",
      " 77%|███████▋  | 1573/2036 [00:12<00:03, 129.70it/s]\u001b[A\n",
      " 78%|███████▊  | 1587/2036 [00:12<00:03, 132.35it/s]\u001b[A\n",
      " 79%|███████▊  | 1601/2036 [00:12<00:03, 133.83it/s]\u001b[A\n",
      " 79%|███████▉  | 1615/2036 [00:12<00:03, 133.48it/s]\u001b[A\n",
      " 80%|████████  | 1629/2036 [00:12<00:03, 133.84it/s]\u001b[A\n",
      " 81%|████████  | 1643/2036 [00:12<00:02, 131.93it/s]\u001b[A\n",
      " 81%|████████▏ | 1657/2036 [00:12<00:02, 131.01it/s]\u001b[A\n",
      " 82%|████████▏ | 1671/2036 [00:12<00:02, 129.57it/s]\u001b[A\n",
      " 83%|████████▎ | 1685/2036 [00:13<00:02, 130.92it/s]\u001b[A\n",
      " 83%|████████▎ | 1699/2036 [00:13<00:02, 129.70it/s]\u001b[A\n",
      " 84%|████████▍ | 1712/2036 [00:13<00:02, 117.05it/s]\u001b[A\n",
      " 85%|████████▍ | 1724/2036 [00:13<00:02, 111.47it/s]\u001b[A\n",
      " 85%|████████▌ | 1736/2036 [00:13<00:02, 112.98it/s]\u001b[A\n",
      " 86%|████████▌ | 1749/2036 [00:13<00:02, 115.67it/s]\u001b[A\n",
      " 87%|████████▋ | 1762/2036 [00:13<00:02, 118.11it/s]\u001b[A\n",
      " 87%|████████▋ | 1776/2036 [00:13<00:02, 121.45it/s]\u001b[A\n",
      " 88%|████████▊ | 1790/2036 [00:13<00:01, 124.49it/s]\u001b[A\n",
      " 89%|████████▊ | 1803/2036 [00:14<00:01, 123.36it/s]\u001b[A\n",
      " 89%|████████▉ | 1816/2036 [00:14<00:01, 122.21it/s]\u001b[A\n",
      " 90%|████████▉ | 1829/2036 [00:14<00:01, 124.00it/s]\u001b[A\n",
      " 90%|█████████ | 1842/2036 [00:14<00:01, 114.47it/s]\u001b[A\n",
      " 91%|█████████ | 1854/2036 [00:14<00:01, 114.69it/s]\u001b[A\n",
      " 92%|█████████▏| 1866/2036 [00:14<00:01, 113.82it/s]\u001b[A\n",
      " 92%|█████████▏| 1878/2036 [00:14<00:01, 111.25it/s]\u001b[A\n",
      " 93%|█████████▎| 1890/2036 [00:14<00:01, 105.23it/s]\u001b[A\n",
      " 93%|█████████▎| 1902/2036 [00:14<00:01, 108.20it/s]\u001b[A\n",
      " 94%|█████████▍| 1915/2036 [00:15<00:01, 112.84it/s]\u001b[A\n",
      " 95%|█████████▍| 1928/2036 [00:15<00:00, 116.38it/s]\u001b[A\n",
      " 95%|█████████▌| 1940/2036 [00:15<00:00, 115.79it/s]\u001b[A\n",
      " 96%|█████████▌| 1952/2036 [00:15<00:00, 107.05it/s]\u001b[A\n",
      " 97%|█████████▋| 1965/2036 [00:15<00:00, 111.29it/s]\u001b[A\n",
      " 97%|█████████▋| 1978/2036 [00:15<00:00, 114.96it/s]\u001b[A\n",
      " 98%|█████████▊| 1991/2036 [00:15<00:00, 117.19it/s]\u001b[A\n"
     ]
    },
    {
     "name": "stderr",
     "output_type": "stream",
     "text": [
      " 98%|█████████▊| 2003/2036 [00:15<00:00, 118.00it/s]\u001b[A\n",
      " 99%|█████████▉| 2015/2036 [00:15<00:00, 116.72it/s]\u001b[A\n",
      "100%|██████████| 2036/2036 [00:16<00:00, 126.62it/s]\u001b[A"
     ]
    },
    {
     "name": "stdout",
     "output_type": "stream",
     "text": [
      "1311\n",
      "725\n"
     ]
    },
    {
     "name": "stderr",
     "output_type": "stream",
     "text": [
      "\n"
     ]
    }
   ],
   "source": [
    "confirmed_CA_zips = []\n",
    "non_CA_zips = []\n",
    "\n",
    "for zipcode in tqdm(potential_CA_zips):\n",
    "    zipinfo = zipcodes.matching(zipcode)[0]\n",
    "    if zipinfo['state'] == 'CA':\n",
    "        confirmed_CA_zips.append(zipcode)\n",
    "    else:\n",
    "        non_CA_zips.append(zipcode) \n",
    "\n",
    "print(len(confirmed_CA_zips))\n",
    "print(len(non_CA_zips))"
   ]
  },
  {
   "cell_type": "code",
   "execution_count": null,
   "metadata": {},
   "outputs": [],
   "source": []
  },
  {
   "cell_type": "code",
   "execution_count": 6,
   "metadata": {
    "scrolled": false
   },
   "outputs": [
    {
     "data": {
      "text/html": [
       "<div>\n",
       "<style scoped>\n",
       "    .dataframe tbody tr th:only-of-type {\n",
       "        vertical-align: middle;\n",
       "    }\n",
       "\n",
       "    .dataframe tbody tr th {\n",
       "        vertical-align: top;\n",
       "    }\n",
       "\n",
       "    .dataframe thead th {\n",
       "        text-align: right;\n",
       "    }\n",
       "</style>\n",
       "<table border=\"1\" class=\"dataframe\">\n",
       "  <thead>\n",
       "    <tr style=\"text-align: right;\">\n",
       "      <th></th>\n",
       "      <th>RegionName</th>\n",
       "      <th>MetroName</th>\n",
       "      <th>StateName</th>\n",
       "      <th>CensusRegion</th>\n",
       "      <th>Unique_City_ID</th>\n",
       "      <th>City</th>\n",
       "      <th>County</th>\n",
       "      <th>State</th>\n",
       "    </tr>\n",
       "  </thead>\n",
       "  <tbody>\n",
       "    <tr>\n",
       "      <th>0</th>\n",
       "      <td>10001</td>\n",
       "      <td>Dover, DE</td>\n",
       "      <td>Delaware</td>\n",
       "      <td>South</td>\n",
       "      <td>highland_acreskentde</td>\n",
       "      <td>Highland Acres</td>\n",
       "      <td>Kent</td>\n",
       "      <td>DE</td>\n",
       "    </tr>\n",
       "    <tr>\n",
       "      <th>1</th>\n",
       "      <td>10001</td>\n",
       "      <td>Dover, DE</td>\n",
       "      <td>Delaware</td>\n",
       "      <td>South</td>\n",
       "      <td>kentonkentde</td>\n",
       "      <td>Kenton</td>\n",
       "      <td>Kent</td>\n",
       "      <td>DE</td>\n",
       "    </tr>\n",
       "    <tr>\n",
       "      <th>2</th>\n",
       "      <td>10001</td>\n",
       "      <td>Dover, DE</td>\n",
       "      <td>Delaware</td>\n",
       "      <td>South</td>\n",
       "      <td>farmingtonkentde</td>\n",
       "      <td>Farmington</td>\n",
       "      <td>Kent</td>\n",
       "      <td>DE</td>\n",
       "    </tr>\n",
       "    <tr>\n",
       "      <th>3</th>\n",
       "      <td>10001</td>\n",
       "      <td>Dover, DE</td>\n",
       "      <td>Delaware</td>\n",
       "      <td>South</td>\n",
       "      <td>camdenkentde</td>\n",
       "      <td>Camden</td>\n",
       "      <td>Kent</td>\n",
       "      <td>DE</td>\n",
       "    </tr>\n",
       "    <tr>\n",
       "      <th>4</th>\n",
       "      <td>10001</td>\n",
       "      <td>Dover, DE</td>\n",
       "      <td>Delaware</td>\n",
       "      <td>South</td>\n",
       "      <td>feltonkentde</td>\n",
       "      <td>Felton</td>\n",
       "      <td>Kent</td>\n",
       "      <td>DE</td>\n",
       "    </tr>\n",
       "  </tbody>\n",
       "</table>\n",
       "</div>"
      ],
      "text/plain": [
       "   RegionName  MetroName StateName CensusRegion        Unique_City_ID  \\\n",
       "0       10001  Dover, DE  Delaware        South  highland_acreskentde   \n",
       "1       10001  Dover, DE  Delaware        South          kentonkentde   \n",
       "2       10001  Dover, DE  Delaware        South      farmingtonkentde   \n",
       "3       10001  Dover, DE  Delaware        South          camdenkentde   \n",
       "4       10001  Dover, DE  Delaware        South          feltonkentde   \n",
       "\n",
       "             City County State  \n",
       "0  Highland Acres   Kent    DE  \n",
       "1          Kenton   Kent    DE  \n",
       "2      Farmington   Kent    DE  \n",
       "3          Camden   Kent    DE  \n",
       "4          Felton   Kent    DE  "
      ]
     },
     "execution_count": 6,
     "metadata": {},
     "output_type": "execute_result"
    }
   ],
   "source": [
    "fips_map = pd.read_pickle('../data/interim/fips_map.pickle')\n",
    "fips_map.head()"
   ]
  },
  {
   "cell_type": "code",
   "execution_count": 18,
   "metadata": {},
   "outputs": [
    {
     "data": {
      "text/plain": [
       "False"
      ]
     },
     "execution_count": 18,
     "metadata": {},
     "output_type": "execute_result"
    }
   ],
   "source": [
    "all(len(str(fips)) == 5 for fips in zip_ts['RegionName'])"
   ]
  },
  {
   "cell_type": "code",
   "execution_count": 8,
   "metadata": {},
   "outputs": [
    {
     "data": {
      "text/html": [
       "<div>\n",
       "<style scoped>\n",
       "    .dataframe tbody tr th:only-of-type {\n",
       "        vertical-align: middle;\n",
       "    }\n",
       "\n",
       "    .dataframe tbody tr th {\n",
       "        vertical-align: top;\n",
       "    }\n",
       "\n",
       "    .dataframe thead th {\n",
       "        text-align: right;\n",
       "    }\n",
       "</style>\n",
       "<table border=\"1\" class=\"dataframe\">\n",
       "  <thead>\n",
       "    <tr style=\"text-align: right;\">\n",
       "      <th></th>\n",
       "      <th>Date</th>\n",
       "      <th>RegionName</th>\n",
       "      <th>InventorySeasonallyAdjusted_AllHomes</th>\n",
       "      <th>InventoryRaw_AllHomes</th>\n",
       "      <th>MedianListingPricePerSqft_1Bedroom</th>\n",
       "      <th>MedianListingPricePerSqft_2Bedroom</th>\n",
       "      <th>MedianListingPricePerSqft_3Bedroom</th>\n",
       "      <th>MedianListingPricePerSqft_4Bedroom</th>\n",
       "      <th>MedianListingPricePerSqft_5BedroomOrMore</th>\n",
       "      <th>MedianListingPricePerSqft_AllHomes</th>\n",
       "      <th>...</th>\n",
       "      <th>ZriPerSqft_AllHomes</th>\n",
       "      <th>Zri_MultiFamilyResidenceRental</th>\n",
       "      <th>Zri_SingleFamilyResidenceRental</th>\n",
       "      <th>MetroName</th>\n",
       "      <th>StateName</th>\n",
       "      <th>CensusRegion</th>\n",
       "      <th>Unique_City_ID</th>\n",
       "      <th>City</th>\n",
       "      <th>County</th>\n",
       "      <th>State</th>\n",
       "    </tr>\n",
       "  </thead>\n",
       "  <tbody>\n",
       "    <tr>\n",
       "      <th>0</th>\n",
       "      <td>1996-04-30</td>\n",
       "      <td>1001</td>\n",
       "      <td>NaN</td>\n",
       "      <td>NaN</td>\n",
       "      <td>NaN</td>\n",
       "      <td>NaN</td>\n",
       "      <td>NaN</td>\n",
       "      <td>NaN</td>\n",
       "      <td>NaN</td>\n",
       "      <td>NaN</td>\n",
       "      <td>...</td>\n",
       "      <td>NaN</td>\n",
       "      <td>NaN</td>\n",
       "      <td>NaN</td>\n",
       "      <td>Montgomery, AL</td>\n",
       "      <td>Alabama</td>\n",
       "      <td>South</td>\n",
       "      <td>billingsleyautaugaal</td>\n",
       "      <td>Billingsley</td>\n",
       "      <td>Autauga</td>\n",
       "      <td>AL</td>\n",
       "    </tr>\n",
       "    <tr>\n",
       "      <th>1</th>\n",
       "      <td>1996-04-30</td>\n",
       "      <td>1001</td>\n",
       "      <td>NaN</td>\n",
       "      <td>NaN</td>\n",
       "      <td>NaN</td>\n",
       "      <td>NaN</td>\n",
       "      <td>NaN</td>\n",
       "      <td>NaN</td>\n",
       "      <td>NaN</td>\n",
       "      <td>NaN</td>\n",
       "      <td>...</td>\n",
       "      <td>NaN</td>\n",
       "      <td>NaN</td>\n",
       "      <td>NaN</td>\n",
       "      <td>Montgomery, AL</td>\n",
       "      <td>Alabama</td>\n",
       "      <td>South</td>\n",
       "      <td>prattvilleautaugaal</td>\n",
       "      <td>Prattville</td>\n",
       "      <td>Autauga</td>\n",
       "      <td>AL</td>\n",
       "    </tr>\n",
       "    <tr>\n",
       "      <th>2</th>\n",
       "      <td>1996-04-30</td>\n",
       "      <td>1001</td>\n",
       "      <td>NaN</td>\n",
       "      <td>NaN</td>\n",
       "      <td>NaN</td>\n",
       "      <td>NaN</td>\n",
       "      <td>NaN</td>\n",
       "      <td>NaN</td>\n",
       "      <td>NaN</td>\n",
       "      <td>NaN</td>\n",
       "      <td>...</td>\n",
       "      <td>NaN</td>\n",
       "      <td>NaN</td>\n",
       "      <td>NaN</td>\n",
       "      <td>Montgomery, AL</td>\n",
       "      <td>Alabama</td>\n",
       "      <td>South</td>\n",
       "      <td>marburyautaugaal</td>\n",
       "      <td>Marbury</td>\n",
       "      <td>Autauga</td>\n",
       "      <td>AL</td>\n",
       "    </tr>\n",
       "  </tbody>\n",
       "</table>\n",
       "<p>3 rows × 83 columns</p>\n",
       "</div>"
      ],
      "text/plain": [
       "         Date  RegionName  InventorySeasonallyAdjusted_AllHomes  \\\n",
       "0  1996-04-30        1001                                   NaN   \n",
       "1  1996-04-30        1001                                   NaN   \n",
       "2  1996-04-30        1001                                   NaN   \n",
       "\n",
       "   InventoryRaw_AllHomes  MedianListingPricePerSqft_1Bedroom  \\\n",
       "0                    NaN                                 NaN   \n",
       "1                    NaN                                 NaN   \n",
       "2                    NaN                                 NaN   \n",
       "\n",
       "   MedianListingPricePerSqft_2Bedroom  MedianListingPricePerSqft_3Bedroom  \\\n",
       "0                                 NaN                                 NaN   \n",
       "1                                 NaN                                 NaN   \n",
       "2                                 NaN                                 NaN   \n",
       "\n",
       "   MedianListingPricePerSqft_4Bedroom  \\\n",
       "0                                 NaN   \n",
       "1                                 NaN   \n",
       "2                                 NaN   \n",
       "\n",
       "   MedianListingPricePerSqft_5BedroomOrMore  \\\n",
       "0                                       NaN   \n",
       "1                                       NaN   \n",
       "2                                       NaN   \n",
       "\n",
       "   MedianListingPricePerSqft_AllHomes  ...  ZriPerSqft_AllHomes  \\\n",
       "0                                 NaN  ...                  NaN   \n",
       "1                                 NaN  ...                  NaN   \n",
       "2                                 NaN  ...                  NaN   \n",
       "\n",
       "   Zri_MultiFamilyResidenceRental  Zri_SingleFamilyResidenceRental  \\\n",
       "0                             NaN                              NaN   \n",
       "1                             NaN                              NaN   \n",
       "2                             NaN                              NaN   \n",
       "\n",
       "        MetroName  StateName  CensusRegion        Unique_City_ID         City  \\\n",
       "0  Montgomery, AL    Alabama         South  billingsleyautaugaal  Billingsley   \n",
       "1  Montgomery, AL    Alabama         South   prattvilleautaugaal   Prattville   \n",
       "2  Montgomery, AL    Alabama         South      marburyautaugaal      Marbury   \n",
       "\n",
       "    County  State  \n",
       "0  Autauga     AL  \n",
       "1  Autauga     AL  \n",
       "2  Autauga     AL  \n",
       "\n",
       "[3 rows x 83 columns]"
      ]
     },
     "execution_count": 8,
     "metadata": {},
     "output_type": "execute_result"
    }
   ],
   "source": [
    "zip_ts_mapped = zip_ts.merge(fips_map,\n",
    "                             how='left',\n",
    "                             left_on=['RegionName'],\n",
    "                             right_on=['RegionName'])\n",
    "\n",
    "zip_ts_mapped.head(3)"
   ]
  },
  {
   "cell_type": "code",
   "execution_count": 11,
   "metadata": {},
   "outputs": [
    {
     "data": {
      "text/plain": [
       "31"
      ]
     },
     "execution_count": 11,
     "metadata": {},
     "output_type": "execute_result"
    }
   ],
   "source": [
    "ca_zips = zip_ts_mapped[zip_ts_mapped['State'] == 'CA']\n",
    "ca_zips.RegionName.nunique()"
   ]
  },
  {
   "cell_type": "code",
   "execution_count": 12,
   "metadata": {
    "scrolled": true
   },
   "outputs": [
    {
     "data": {
      "text/plain": [
       "array([6001, 6013, 6019, 6021, 6023, 6027, 6029, 6031, 6033, 6035, 6037,\n",
       "       6039, 6043, 6051, 6053, 6057, 6063, 6067, 6069, 6071, 6073, 6081,\n",
       "       6085, 6089, 6093, 6095, 6103, 6105, 6107, 6109, 6111])"
      ]
     },
     "execution_count": 12,
     "metadata": {},
     "output_type": "execute_result"
    }
   ],
   "source": [
    "ca_zips.RegionName.unique()"
   ]
  },
  {
   "cell_type": "code",
   "execution_count": 14,
   "metadata": {
    "scrolled": true
   },
   "outputs": [
    {
     "data": {
      "text/plain": [
       "31"
      ]
     },
     "execution_count": 14,
     "metadata": {},
     "output_type": "execute_result"
    }
   ],
   "source": [
    "ca_zips.County.nunique()"
   ]
  },
  {
   "cell_type": "markdown",
   "metadata": {},
   "source": [
    "#### CountyCrossWalk_Zillow\n",
    "- not obvious what CBSACode is for\n",
    "- FIPS is a concatenation of StateFIPS and CountyFIPS together\n",
    "    - if CountyFIPS is 2 digits then there's a leading 0\n",
    "    - StateFIPS is only 2 digits long"
   ]
  },
  {
   "cell_type": "code",
   "execution_count": 7,
   "metadata": {
    "scrolled": true
   },
   "outputs": [
    {
     "data": {
      "text/plain": [
       "(3144, 10)"
      ]
     },
     "execution_count": 7,
     "metadata": {},
     "output_type": "execute_result"
    }
   ],
   "source": [
    "county_xwalk = pd.read_csv('../data/interim/CountyCrossWalk_Zillow.csv')\n",
    "county_xwalk.shape"
   ]
  },
  {
   "cell_type": "code",
   "execution_count": 8,
   "metadata": {
    "scrolled": false
   },
   "outputs": [
    {
     "data": {
      "text/html": [
       "<div>\n",
       "<style scoped>\n",
       "    .dataframe tbody tr th:only-of-type {\n",
       "        vertical-align: middle;\n",
       "    }\n",
       "\n",
       "    .dataframe tbody tr th {\n",
       "        vertical-align: top;\n",
       "    }\n",
       "\n",
       "    .dataframe thead th {\n",
       "        text-align: right;\n",
       "    }\n",
       "</style>\n",
       "<table border=\"1\" class=\"dataframe\">\n",
       "  <thead>\n",
       "    <tr style=\"text-align: right;\">\n",
       "      <th></th>\n",
       "      <th>CountyName</th>\n",
       "      <th>StateName</th>\n",
       "      <th>StateFIPS</th>\n",
       "      <th>CountyFIPS</th>\n",
       "      <th>MetroName_Zillow</th>\n",
       "      <th>CBSAName</th>\n",
       "      <th>CountyRegionID_Zillow</th>\n",
       "      <th>MetroRegionID_Zillow</th>\n",
       "      <th>FIPS</th>\n",
       "      <th>CBSACode</th>\n",
       "    </tr>\n",
       "  </thead>\n",
       "  <tbody>\n",
       "    <tr>\n",
       "      <th>0</th>\n",
       "      <td>Pike</td>\n",
       "      <td>Pennsylvania</td>\n",
       "      <td>42</td>\n",
       "      <td>103</td>\n",
       "      <td>New York, NY</td>\n",
       "      <td>New York-Newark-Jersey City, NY-NJ-PA</td>\n",
       "      <td>280</td>\n",
       "      <td>394913.0</td>\n",
       "      <td>42103</td>\n",
       "      <td>35620.0</td>\n",
       "    </tr>\n",
       "    <tr>\n",
       "      <th>1</th>\n",
       "      <td>Bronx</td>\n",
       "      <td>New York</td>\n",
       "      <td>36</td>\n",
       "      <td>5</td>\n",
       "      <td>New York, NY</td>\n",
       "      <td>New York-Newark-Jersey City, NY-NJ-PA</td>\n",
       "      <td>401</td>\n",
       "      <td>394913.0</td>\n",
       "      <td>36005</td>\n",
       "      <td>35620.0</td>\n",
       "    </tr>\n",
       "    <tr>\n",
       "      <th>2</th>\n",
       "      <td>Essex</td>\n",
       "      <td>New Jersey</td>\n",
       "      <td>34</td>\n",
       "      <td>13</td>\n",
       "      <td>New York, NY</td>\n",
       "      <td>New York-Newark-Jersey City, NY-NJ-PA</td>\n",
       "      <td>504</td>\n",
       "      <td>394913.0</td>\n",
       "      <td>34013</td>\n",
       "      <td>35620.0</td>\n",
       "    </tr>\n",
       "  </tbody>\n",
       "</table>\n",
       "</div>"
      ],
      "text/plain": [
       "  CountyName     StateName  StateFIPS  CountyFIPS MetroName_Zillow  \\\n",
       "0       Pike  Pennsylvania         42         103     New York, NY   \n",
       "1      Bronx      New York         36           5     New York, NY   \n",
       "2      Essex    New Jersey         34          13     New York, NY   \n",
       "\n",
       "                                CBSAName  CountyRegionID_Zillow  \\\n",
       "0  New York-Newark-Jersey City, NY-NJ-PA                    280   \n",
       "1  New York-Newark-Jersey City, NY-NJ-PA                    401   \n",
       "2  New York-Newark-Jersey City, NY-NJ-PA                    504   \n",
       "\n",
       "   MetroRegionID_Zillow   FIPS  CBSACode  \n",
       "0              394913.0  42103   35620.0  \n",
       "1              394913.0  36005   35620.0  \n",
       "2              394913.0  34013   35620.0  "
      ]
     },
     "execution_count": 8,
     "metadata": {},
     "output_type": "execute_result"
    }
   ],
   "source": [
    "county_xwalk.head(3)"
   ]
  },
  {
   "cell_type": "markdown",
   "metadata": {},
   "source": [
    "**Figuring out which column from county_xwalk maps over to county_ts**\n",
    "- FIPS is the common column b/t the 2 dataframes that we can join on\n",
    "- FIPS will allow us to access the County name, State, etc. in the `county_xwalk` DataFrame which does not appear in the `county_ts` DataFrame"
   ]
  },
  {
   "cell_type": "code",
   "execution_count": 9,
   "metadata": {},
   "outputs": [
    {
     "name": "stdout",
     "output_type": "stream",
     "text": [
      "0\n",
      "9603\n",
      "0\n",
      "518791\n",
      "0\n"
     ]
    }
   ],
   "source": [
    "xwalk_countyFIPS = county_xwalk['CountyFIPS'].unique().tolist()\n",
    "xwalk_countyRegionID = county_xwalk['CountyRegionID_Zillow'].unique().tolist()\n",
    "xwalk_Metro = county_xwalk['MetroRegionID_Zillow'].unique().tolist()\n",
    "xwalk_FIPS = county_xwalk['FIPS'].unique().tolist()\n",
    "xwalk_CBSACode = county_xwalk['CBSACode'].unique().tolist()\n",
    "\n",
    "print(county_ts['RegionName'].isin(xwalk_countyFIPS).sum())\n",
    "print(county_ts['RegionName'].isin(xwalk_countyRegionID).sum())\n",
    "print(county_ts['RegionName'].isin(xwalk_Metro).sum())\n",
    "print(county_ts['RegionName'].isin(xwalk_FIPS).sum())\n",
    "print(county_ts['RegionName'].isin(xwalk_CBSACode).sum())"
   ]
  },
  {
   "attachments": {
    "image.png": {
     "image/png": "[encoded data removed]"
    }
   },
   "cell_type": "markdown",
   "metadata": {},
   "source": [
    "![image.png](attachment:image.png)"
   ]
  },
  {
   "cell_type": "code",
   "execution_count": 10,
   "metadata": {},
   "outputs": [],
   "source": [
    "state_region_d = {\n",
    "    'West' : ['Arizona', 'California', 'Colorado', 'Idaho', 'Montana', 'Nevada',  'New Mexico', 'Oregon',\\\n",
    "              'Utah',  'Washington'],\n",
    "    'Midwest' : ['Illinois', 'Indiana', 'Iowa', 'Kansas', 'Michigan', 'Minnesota', 'Missouri', 'Nebraska',\\\n",
    "                 'North Dakota',  'Ohio', 'South Dakota', 'Wisconsin'],\n",
    "    'Northeast' : ['Connecticut', 'Maine', 'Massachusetts',  'New Hampshire',  'New Jersey', 'New York',\\\n",
    "                   'Pennsylvania', 'Rhode Island', 'Vermont','Wyoming'],\n",
    "    'South': ['Alabama', 'Arkansas', 'Delaware', 'District of Columbia', 'Florida', 'Georgia', 'Kentucky', \\\n",
    "              'Louisiana', 'Maryland', 'Mississippi',  'North Carolina', 'Oklahoma',  'South Carolina',\\\n",
    "              'Tennessee', 'Texas', 'Virginia', 'West Virginia'],\n",
    "    'Pacific' : ['Hawaii', 'Alaska']\n",
    "}"
   ]
  },
  {
   "cell_type": "code",
   "execution_count": 11,
   "metadata": {},
   "outputs": [],
   "source": [
    "# Create a dictionary with {key=FIP: value=CountyName}\n",
    "countyname_by_FIPS = dict(zip(county_xwalk['FIPS'], county_xwalk['CountyName']))\n",
    "\n",
    "# Create a dictionary with {key=FIP: value=StateName}\n",
    "statename_by_FIPS = dict(zip(county_xwalk['FIPS'], county_xwalk['StateName']))\n",
    "\n",
    "# Create a dictionary with {key=FIP: value=MetroName_Zillow}\n",
    "metroname_by_FIPS = dict(zip(county_xwalk['FIPS'], county_xwalk['MetroName_Zillow']))"
   ]
  },
  {
   "cell_type": "code",
   "execution_count": 12,
   "metadata": {},
   "outputs": [
    {
     "data": {
      "text/html": [
       "<div>\n",
       "<style scoped>\n",
       "    .dataframe tbody tr th:only-of-type {\n",
       "        vertical-align: middle;\n",
       "    }\n",
       "\n",
       "    .dataframe tbody tr th {\n",
       "        vertical-align: top;\n",
       "    }\n",
       "\n",
       "    .dataframe thead th {\n",
       "        text-align: right;\n",
       "    }\n",
       "</style>\n",
       "<table border=\"1\" class=\"dataframe\">\n",
       "  <thead>\n",
       "    <tr style=\"text-align: right;\">\n",
       "      <th></th>\n",
       "      <th>Date</th>\n",
       "      <th>RegionName</th>\n",
       "      <th>DaysOnZillow_AllHomes</th>\n",
       "      <th>InventorySeasonallyAdjusted_AllHomes</th>\n",
       "      <th>InventoryRaw_AllHomes</th>\n",
       "      <th>MedianListingPricePerSqft_1Bedroom</th>\n",
       "      <th>MedianListingPricePerSqft_2Bedroom</th>\n",
       "      <th>MedianListingPricePerSqft_3Bedroom</th>\n",
       "      <th>MedianListingPricePerSqft_4Bedroom</th>\n",
       "      <th>MedianListingPricePerSqft_5BedroomOrMore</th>\n",
       "      <th>...</th>\n",
       "      <th>ZHVI_BottomTier</th>\n",
       "      <th>ZHVI_CondoCoop</th>\n",
       "      <th>ZHVI_MiddleTier</th>\n",
       "      <th>ZHVI_SingleFamilyResidence</th>\n",
       "      <th>ZHVI_TopTier</th>\n",
       "      <th>ZRI_AllHomes</th>\n",
       "      <th>ZRI_AllHomesPlusMultifamily</th>\n",
       "      <th>ZriPerSqft_AllHomes</th>\n",
       "      <th>Zri_MultiFamilyResidenceRental</th>\n",
       "      <th>Zri_SingleFamilyResidenceRental</th>\n",
       "    </tr>\n",
       "  </thead>\n",
       "  <tbody>\n",
       "    <tr>\n",
       "      <th>0</th>\n",
       "      <td>1996-04-30</td>\n",
       "      <td>10001</td>\n",
       "      <td>NaN</td>\n",
       "      <td>NaN</td>\n",
       "      <td>NaN</td>\n",
       "      <td>NaN</td>\n",
       "      <td>NaN</td>\n",
       "      <td>NaN</td>\n",
       "      <td>NaN</td>\n",
       "      <td>NaN</td>\n",
       "      <td>...</td>\n",
       "      <td>65600.0</td>\n",
       "      <td>NaN</td>\n",
       "      <td>85700.0</td>\n",
       "      <td>86000.0</td>\n",
       "      <td>129700.0</td>\n",
       "      <td>NaN</td>\n",
       "      <td>NaN</td>\n",
       "      <td>NaN</td>\n",
       "      <td>NaN</td>\n",
       "      <td>NaN</td>\n",
       "    </tr>\n",
       "    <tr>\n",
       "      <th>1</th>\n",
       "      <td>1996-04-30</td>\n",
       "      <td>10003</td>\n",
       "      <td>NaN</td>\n",
       "      <td>NaN</td>\n",
       "      <td>NaN</td>\n",
       "      <td>NaN</td>\n",
       "      <td>NaN</td>\n",
       "      <td>NaN</td>\n",
       "      <td>NaN</td>\n",
       "      <td>NaN</td>\n",
       "      <td>...</td>\n",
       "      <td>81900.0</td>\n",
       "      <td>NaN</td>\n",
       "      <td>116800.0</td>\n",
       "      <td>116900.0</td>\n",
       "      <td>181400.0</td>\n",
       "      <td>NaN</td>\n",
       "      <td>NaN</td>\n",
       "      <td>NaN</td>\n",
       "      <td>NaN</td>\n",
       "      <td>NaN</td>\n",
       "    </tr>\n",
       "    <tr>\n",
       "      <th>2</th>\n",
       "      <td>1996-04-30</td>\n",
       "      <td>1003</td>\n",
       "      <td>NaN</td>\n",
       "      <td>NaN</td>\n",
       "      <td>NaN</td>\n",
       "      <td>NaN</td>\n",
       "      <td>NaN</td>\n",
       "      <td>NaN</td>\n",
       "      <td>NaN</td>\n",
       "      <td>NaN</td>\n",
       "      <td>...</td>\n",
       "      <td>70600.0</td>\n",
       "      <td>NaN</td>\n",
       "      <td>110600.0</td>\n",
       "      <td>106800.0</td>\n",
       "      <td>192300.0</td>\n",
       "      <td>NaN</td>\n",
       "      <td>NaN</td>\n",
       "      <td>NaN</td>\n",
       "      <td>NaN</td>\n",
       "      <td>NaN</td>\n",
       "    </tr>\n",
       "  </tbody>\n",
       "</table>\n",
       "<p>3 rows × 82 columns</p>\n",
       "</div>"
      ],
      "text/plain": [
       "         Date  RegionName  DaysOnZillow_AllHomes  \\\n",
       "0  1996-04-30       10001                    NaN   \n",
       "1  1996-04-30       10003                    NaN   \n",
       "2  1996-04-30        1003                    NaN   \n",
       "\n",
       "   InventorySeasonallyAdjusted_AllHomes  InventoryRaw_AllHomes  \\\n",
       "0                                   NaN                    NaN   \n",
       "1                                   NaN                    NaN   \n",
       "2                                   NaN                    NaN   \n",
       "\n",
       "   MedianListingPricePerSqft_1Bedroom  MedianListingPricePerSqft_2Bedroom  \\\n",
       "0                                 NaN                                 NaN   \n",
       "1                                 NaN                                 NaN   \n",
       "2                                 NaN                                 NaN   \n",
       "\n",
       "   MedianListingPricePerSqft_3Bedroom  MedianListingPricePerSqft_4Bedroom  \\\n",
       "0                                 NaN                                 NaN   \n",
       "1                                 NaN                                 NaN   \n",
       "2                                 NaN                                 NaN   \n",
       "\n",
       "   MedianListingPricePerSqft_5BedroomOrMore  ...  ZHVI_BottomTier  \\\n",
       "0                                       NaN  ...          65600.0   \n",
       "1                                       NaN  ...          81900.0   \n",
       "2                                       NaN  ...          70600.0   \n",
       "\n",
       "   ZHVI_CondoCoop  ZHVI_MiddleTier  ZHVI_SingleFamilyResidence  ZHVI_TopTier  \\\n",
       "0             NaN          85700.0                     86000.0      129700.0   \n",
       "1             NaN         116800.0                    116900.0      181400.0   \n",
       "2             NaN         110600.0                    106800.0      192300.0   \n",
       "\n",
       "   ZRI_AllHomes  ZRI_AllHomesPlusMultifamily  ZriPerSqft_AllHomes  \\\n",
       "0           NaN                          NaN                  NaN   \n",
       "1           NaN                          NaN                  NaN   \n",
       "2           NaN                          NaN                  NaN   \n",
       "\n",
       "   Zri_MultiFamilyResidenceRental  Zri_SingleFamilyResidenceRental  \n",
       "0                             NaN                              NaN  \n",
       "1                             NaN                              NaN  \n",
       "2                             NaN                              NaN  \n",
       "\n",
       "[3 rows x 82 columns]"
      ]
     },
     "execution_count": 12,
     "metadata": {},
     "output_type": "execute_result"
    }
   ],
   "source": [
    "county_ts.head(3)"
   ]
  },
  {
   "cell_type": "code",
   "execution_count": 13,
   "metadata": {
    "scrolled": false
   },
   "outputs": [
    {
     "data": {
      "text/html": [
       "<div>\n",
       "<style scoped>\n",
       "    .dataframe tbody tr th:only-of-type {\n",
       "        vertical-align: middle;\n",
       "    }\n",
       "\n",
       "    .dataframe tbody tr th {\n",
       "        vertical-align: top;\n",
       "    }\n",
       "\n",
       "    .dataframe thead th {\n",
       "        text-align: right;\n",
       "    }\n",
       "</style>\n",
       "<table border=\"1\" class=\"dataframe\">\n",
       "  <thead>\n",
       "    <tr style=\"text-align: right;\">\n",
       "      <th></th>\n",
       "      <th>RegionName</th>\n",
       "      <th>CountyName</th>\n",
       "      <th>StateName</th>\n",
       "      <th>MetroName</th>\n",
       "      <th>CensusRegion</th>\n",
       "    </tr>\n",
       "  </thead>\n",
       "  <tbody>\n",
       "    <tr>\n",
       "      <th>0</th>\n",
       "      <td>10001</td>\n",
       "      <td>Kent</td>\n",
       "      <td>Delaware</td>\n",
       "      <td>Dover, DE</td>\n",
       "      <td>South</td>\n",
       "    </tr>\n",
       "    <tr>\n",
       "      <th>1</th>\n",
       "      <td>10003</td>\n",
       "      <td>New Castle</td>\n",
       "      <td>Delaware</td>\n",
       "      <td>Philadelphia, PA</td>\n",
       "      <td>South</td>\n",
       "    </tr>\n",
       "    <tr>\n",
       "      <th>2</th>\n",
       "      <td>1003</td>\n",
       "      <td>Baldwin</td>\n",
       "      <td>Alabama</td>\n",
       "      <td>Daphne, AL</td>\n",
       "      <td>South</td>\n",
       "    </tr>\n",
       "  </tbody>\n",
       "</table>\n",
       "</div>"
      ],
      "text/plain": [
       "   RegionName  CountyName StateName         MetroName CensusRegion\n",
       "0       10001        Kent  Delaware         Dover, DE        South\n",
       "1       10003  New Castle  Delaware  Philadelphia, PA        South\n",
       "2        1003     Baldwin   Alabama        Daphne, AL        South"
      ]
     },
     "execution_count": 13,
     "metadata": {},
     "output_type": "execute_result"
    }
   ],
   "source": [
    "# Use the `countyname_by_FIPS` dictionary to impute a new column in the `county_ts` DataFrame\n",
    "\n",
    "countyName_column = []\n",
    "stateName_column = []\n",
    "metroName_column = []\n",
    "\n",
    "for row in county_ts.itertuples():\n",
    "    # row.RegionName == crosswalk table's FIPS\n",
    "    if row.RegionName in countyname_by_FIPS:\n",
    "        countyName_column.append(countyname_by_FIPS[row.RegionName])\n",
    "        stateName_column.append(statename_by_FIPS[row.RegionName])\n",
    "        metroName_column.append(metroname_by_FIPS[row.RegionName])\n",
    "    else:\n",
    "        countyName_column.append(np.nan)\n",
    "        \n",
    "assert len(countyName_column) == len(county_ts) == len(stateName_column) == len(metroName_column)\n",
    "\n",
    "county_ts['CountyName'] = countyName_column\n",
    "county_ts['StateName'] = stateName_column\n",
    "county_ts['MetroName'] = metroName_column\n",
    "\n",
    "# Attach the region name to the respective counties\n",
    "\n",
    "census_region_column = []\n",
    "for row in county_ts.itertuples():\n",
    "    for region, states in state_region_d.items():\n",
    "        if row.StateName in states:\n",
    "            census_region_column.append(region)\n",
    "        else:\n",
    "            pass\n",
    "    \n",
    "assert len(census_region_column) == len(county_ts), 'rework the for-loop'\n",
    "county_ts['CensusRegion'] = census_region_column        \n",
    "\n",
    "\n",
    "county_ts[['RegionName', 'CountyName', 'StateName', 'MetroName', 'CensusRegion']].head(3)"
   ]
  },
  {
   "cell_type": "code",
   "execution_count": 14,
   "metadata": {},
   "outputs": [],
   "source": [
    "county_ts.to_pickle('../data/interim/county-time-series-with-fipsmap.pickle')"
   ]
  },
  {
   "cell_type": "code",
   "execution_count": 15,
   "metadata": {
    "scrolled": true
   },
   "outputs": [
    {
     "data": {
      "text/html": [
       "<div>\n",
       "<style scoped>\n",
       "    .dataframe tbody tr th:only-of-type {\n",
       "        vertical-align: middle;\n",
       "    }\n",
       "\n",
       "    .dataframe tbody tr th {\n",
       "        vertical-align: top;\n",
       "    }\n",
       "\n",
       "    .dataframe thead th {\n",
       "        text-align: right;\n",
       "    }\n",
       "</style>\n",
       "<table border=\"1\" class=\"dataframe\">\n",
       "  <thead>\n",
       "    <tr style=\"text-align: right;\">\n",
       "      <th></th>\n",
       "      <th>RegionName</th>\n",
       "      <th>CountyName</th>\n",
       "      <th>MetroName</th>\n",
       "      <th>StateName</th>\n",
       "      <th>CensusRegion</th>\n",
       "    </tr>\n",
       "  </thead>\n",
       "  <tbody>\n",
       "    <tr>\n",
       "      <th>0</th>\n",
       "      <td>10001</td>\n",
       "      <td>Kent</td>\n",
       "      <td>Dover, DE</td>\n",
       "      <td>Delaware</td>\n",
       "      <td>South</td>\n",
       "    </tr>\n",
       "    <tr>\n",
       "      <th>1</th>\n",
       "      <td>10003</td>\n",
       "      <td>New Castle</td>\n",
       "      <td>Philadelphia, PA</td>\n",
       "      <td>Delaware</td>\n",
       "      <td>South</td>\n",
       "    </tr>\n",
       "    <tr>\n",
       "      <th>2</th>\n",
       "      <td>1003</td>\n",
       "      <td>Baldwin</td>\n",
       "      <td>Daphne, AL</td>\n",
       "      <td>Alabama</td>\n",
       "      <td>South</td>\n",
       "    </tr>\n",
       "  </tbody>\n",
       "</table>\n",
       "</div>"
      ],
      "text/plain": [
       "   RegionName  CountyName         MetroName StateName CensusRegion\n",
       "0       10001        Kent         Dover, DE  Delaware        South\n",
       "1       10003  New Castle  Philadelphia, PA  Delaware        South\n",
       "2        1003     Baldwin        Daphne, AL   Alabama        South"
      ]
     },
     "metadata": {},
     "output_type": "display_data"
    }
   ],
   "source": [
    "fips_county_metro_state_df = county_ts[['RegionName', 'CountyName', 'MetroName', 'StateName', 'CensusRegion']]\n",
    "display(fips_county_metro_state_df.head(3))\n",
    "\n",
    "fips_county_metro_state_df = fips_county_metro_state_df.drop_duplicates()\n",
    "fips_county_metro_state_df.reset_index(drop=True, inplace=True)\n",
    "fips_county_metro_state_df.to_pickle('../data/interim/fips-county-metro-state-df.pickle')"
   ]
  },
  {
   "cell_type": "code",
   "execution_count": 16,
   "metadata": {},
   "outputs": [],
   "source": [
    "us_state_abbrev = {\n",
    "    'Alabama': 'AL',\n",
    "    'Alaska': 'AK',\n",
    "    'Arizona': 'AZ',\n",
    "    'Arkansas': 'AR',\n",
    "    'California': 'CA',\n",
    "    'Colorado': 'CO',\n",
    "    'Connecticut': 'CT',\n",
    "    'Delaware': 'DE',\n",
    "    'District of Columbia': 'DC',\n",
    "    'Florida': 'FL',\n",
    "    'Georgia': 'GA',\n",
    "    'Hawaii': 'HI',\n",
    "    'Idaho': 'ID',\n",
    "    'Illinois': 'IL',\n",
    "    'Indiana': 'IN',\n",
    "    'Iowa': 'IA',\n",
    "    'Kansas': 'KS',\n",
    "    'Kentucky': 'KY',\n",
    "    'Louisiana': 'LA',\n",
    "    'Maine': 'ME',\n",
    "    'Maryland': 'MD',\n",
    "    'Massachusetts': 'MA',\n",
    "    'Michigan': 'MI',\n",
    "    'Minnesota': 'MN',\n",
    "    'Mississippi': 'MS',\n",
    "    'Missouri': 'MO',\n",
    "    'Montana': 'MT',\n",
    "    'Nebraska': 'NE',\n",
    "    'Nevada': 'NV',\n",
    "    'New Hampshire': 'NH',\n",
    "    'New Jersey': 'NJ',\n",
    "    'New Mexico': 'NM',\n",
    "    'New York': 'NY',\n",
    "    'North Carolina': 'NC',\n",
    "    'North Dakota': 'ND',\n",
    "    'Northern Mariana Islands':'MP',\n",
    "    'Ohio': 'OH',\n",
    "    'Oklahoma': 'OK',\n",
    "    'Oregon': 'OR',\n",
    "    'Palau': 'PW',\n",
    "    'Pennsylvania': 'PA',\n",
    "    'Puerto Rico': 'PR',\n",
    "    'Rhode Island': 'RI',\n",
    "    'South Carolina': 'SC',\n",
    "    'South Dakota': 'SD',\n",
    "    'Tennessee': 'TN',\n",
    "    'Texas': 'TX',\n",
    "    'Utah': 'UT',\n",
    "    'Vermont': 'VT',\n",
    "    'Virgin Islands': 'VI',\n",
    "    'Virginia': 'VA',\n",
    "    'Washington': 'WA',\n",
    "    'West Virginia': 'WV',\n",
    "    'Wisconsin': 'WI',\n",
    "    'Wyoming': 'WY',\n",
    "}\n"
   ]
  },
  {
   "cell_type": "code",
   "execution_count": 17,
   "metadata": {
    "scrolled": true
   },
   "outputs": [
    {
     "data": {
      "text/html": [
       "<div>\n",
       "<style scoped>\n",
       "    .dataframe tbody tr th:only-of-type {\n",
       "        vertical-align: middle;\n",
       "    }\n",
       "\n",
       "    .dataframe tbody tr th {\n",
       "        vertical-align: top;\n",
       "    }\n",
       "\n",
       "    .dataframe thead th {\n",
       "        text-align: right;\n",
       "    }\n",
       "</style>\n",
       "<table border=\"1\" class=\"dataframe\">\n",
       "  <thead>\n",
       "    <tr style=\"text-align: right;\">\n",
       "      <th></th>\n",
       "      <th>Unique_City_ID</th>\n",
       "      <th>City</th>\n",
       "      <th>County</th>\n",
       "      <th>State</th>\n",
       "    </tr>\n",
       "  </thead>\n",
       "  <tbody>\n",
       "    <tr>\n",
       "      <th>0</th>\n",
       "      <td>oak_grovechristianky</td>\n",
       "      <td>Oak Grove</td>\n",
       "      <td>Christian</td>\n",
       "      <td>KY</td>\n",
       "    </tr>\n",
       "    <tr>\n",
       "      <th>1</th>\n",
       "      <td>jarvisburgcurritucknc</td>\n",
       "      <td>Jarvisburg</td>\n",
       "      <td>Currituck</td>\n",
       "      <td>NC</td>\n",
       "    </tr>\n",
       "    <tr>\n",
       "      <th>2</th>\n",
       "      <td>mcminnvilleyamhillor</td>\n",
       "      <td>McMinnville</td>\n",
       "      <td>Yamhill</td>\n",
       "      <td>OR</td>\n",
       "    </tr>\n",
       "  </tbody>\n",
       "</table>\n",
       "</div>"
      ],
      "text/plain": [
       "          Unique_City_ID         City     County State\n",
       "0   oak_grovechristianky    Oak Grove  Christian    KY\n",
       "1  jarvisburgcurritucknc   Jarvisburg  Currituck    NC\n",
       "2   mcminnvilleyamhillor  McMinnville    Yamhill    OR"
      ]
     },
     "execution_count": 17,
     "metadata": {},
     "output_type": "execute_result"
    }
   ],
   "source": [
    "city_xwalk = pd.read_csv('../data/raw/unzipped/cities_crosswalk.csv/cities_crosswalk.csv')\n",
    "city_xwalk.head(3)"
   ]
  },
  {
   "cell_type": "code",
   "execution_count": 18,
   "metadata": {},
   "outputs": [],
   "source": [
    "fips_county_metro_state_df['StateAbbrev'] = [us_state_abbrev[row.StateName] \n",
    "                                             for row in fips_county_metro_state_df.itertuples()]"
   ]
  },
  {
   "cell_type": "code",
   "execution_count": 19,
   "metadata": {},
   "outputs": [
    {
     "data": {
      "text/html": [
       "<div>\n",
       "<style scoped>\n",
       "    .dataframe tbody tr th:only-of-type {\n",
       "        vertical-align: middle;\n",
       "    }\n",
       "\n",
       "    .dataframe tbody tr th {\n",
       "        vertical-align: top;\n",
       "    }\n",
       "\n",
       "    .dataframe thead th {\n",
       "        text-align: right;\n",
       "    }\n",
       "</style>\n",
       "<table border=\"1\" class=\"dataframe\">\n",
       "  <thead>\n",
       "    <tr style=\"text-align: right;\">\n",
       "      <th></th>\n",
       "      <th>RegionName</th>\n",
       "      <th>CountyName</th>\n",
       "      <th>MetroName</th>\n",
       "      <th>StateName</th>\n",
       "      <th>CensusRegion</th>\n",
       "      <th>StateAbbrev</th>\n",
       "      <th>Unique_City_ID</th>\n",
       "      <th>City</th>\n",
       "      <th>County</th>\n",
       "      <th>State</th>\n",
       "    </tr>\n",
       "  </thead>\n",
       "  <tbody>\n",
       "    <tr>\n",
       "      <th>0</th>\n",
       "      <td>10001</td>\n",
       "      <td>Kent</td>\n",
       "      <td>Dover, DE</td>\n",
       "      <td>Delaware</td>\n",
       "      <td>South</td>\n",
       "      <td>DE</td>\n",
       "      <td>highland_acreskentde</td>\n",
       "      <td>Highland Acres</td>\n",
       "      <td>Kent</td>\n",
       "      <td>DE</td>\n",
       "    </tr>\n",
       "    <tr>\n",
       "      <th>1</th>\n",
       "      <td>10001</td>\n",
       "      <td>Kent</td>\n",
       "      <td>Dover, DE</td>\n",
       "      <td>Delaware</td>\n",
       "      <td>South</td>\n",
       "      <td>DE</td>\n",
       "      <td>kentonkentde</td>\n",
       "      <td>Kenton</td>\n",
       "      <td>Kent</td>\n",
       "      <td>DE</td>\n",
       "    </tr>\n",
       "    <tr>\n",
       "      <th>2</th>\n",
       "      <td>10001</td>\n",
       "      <td>Kent</td>\n",
       "      <td>Dover, DE</td>\n",
       "      <td>Delaware</td>\n",
       "      <td>South</td>\n",
       "      <td>DE</td>\n",
       "      <td>farmingtonkentde</td>\n",
       "      <td>Farmington</td>\n",
       "      <td>Kent</td>\n",
       "      <td>DE</td>\n",
       "    </tr>\n",
       "  </tbody>\n",
       "</table>\n",
       "</div>"
      ],
      "text/plain": [
       "   RegionName CountyName  MetroName StateName CensusRegion StateAbbrev  \\\n",
       "0       10001       Kent  Dover, DE  Delaware        South          DE   \n",
       "1       10001       Kent  Dover, DE  Delaware        South          DE   \n",
       "2       10001       Kent  Dover, DE  Delaware        South          DE   \n",
       "\n",
       "         Unique_City_ID            City County State  \n",
       "0  highland_acreskentde  Highland Acres   Kent    DE  \n",
       "1          kentonkentde          Kenton   Kent    DE  \n",
       "2      farmingtonkentde      Farmington   Kent    DE  "
      ]
     },
     "metadata": {},
     "output_type": "display_data"
    },
    {
     "data": {
      "text/plain": [
       "(24561, 10)"
      ]
     },
     "metadata": {},
     "output_type": "display_data"
    },
    {
     "name": "stdout",
     "output_type": "stream",
     "text": [
      "<class 'pandas.core.frame.DataFrame'>\n",
      "Int64Index: 24561 entries, 0 to 24560\n",
      "Data columns (total 10 columns):\n",
      " #   Column          Non-Null Count  Dtype \n",
      "---  ------          --------------  ----- \n",
      " 0   RegionName      24561 non-null  int64 \n",
      " 1   CountyName      24561 non-null  object\n",
      " 2   MetroName       19546 non-null  object\n",
      " 3   StateName       24561 non-null  object\n",
      " 4   CensusRegion    24561 non-null  object\n",
      " 5   StateAbbrev     24561 non-null  object\n",
      " 6   Unique_City_ID  24423 non-null  object\n",
      " 7   City            24423 non-null  object\n",
      " 8   County          24423 non-null  object\n",
      " 9   State           24423 non-null  object\n",
      "dtypes: int64(1), object(9)\n",
      "memory usage: 2.1+ MB\n"
     ]
    },
    {
     "data": {
      "text/plain": [
       "None"
      ]
     },
     "metadata": {},
     "output_type": "display_data"
    }
   ],
   "source": [
    "fips_map = fips_county_metro_state_df.merge(city_xwalk, \n",
    "                                 left_on=['CountyName', 'StateAbbrev'], \n",
    "                                 right_on=['County', 'State'],\n",
    "                                 how='left')\n",
    "\n",
    "display(fips_map.head(3))\n",
    "display(fips_map.shape)\n",
    "display(fips_map.info())"
   ]
  },
  {
   "cell_type": "markdown",
   "metadata": {},
   "source": [
    "#### Inspection to determine if we should focus in on certain regions. \n",
    "- 2,701 unique Regions with 1,614 unique County names (some repeat names for common names such as King)\n",
    "- 907 unique Metropolitan Areas (as defined by Zillow)\n",
    "- 51 unique States (including DC)\n",
    "\n",
    "\n",
    "\n",
    "- RegionName count > CountyName count because County Names are **not unique**.\n",
    "- MetroName - there are several counties that are not associated with a specific metro area. However, the metro areas holding the most county data records are: \n",
    "    1. Atlanta, GA\n",
    "    - New York, NY\n",
    "    - Washington DC\n",
    "    - Minneapolis-St Paul, MN\n",
    "    - Virginia Beach, VA\n",
    "- The Census Regions are listed below in descending order for # of available records:\n",
    "    1. 239.8K South\n",
    "    2. 150.8K Midwest\n",
    "    3. 70.5K West\n",
    "    4. 54.7K Northeast\n",
    "    5. 2.8K Pacific\n",
    "\n",
    "**Based on the above listed regions, I recommend we move forward with narrowing the scope of our project to the Southern region of the United States**."
   ]
  },
  {
   "cell_type": "code",
   "execution_count": 22,
   "metadata": {
    "scrolled": false
   },
   "outputs": [
    {
     "data": {
      "text/plain": [
       "[('South', 239834),\n",
       " ('Midwest', 150828),\n",
       " ('West', 70536),\n",
       " ('Northeast', 54730),\n",
       " ('Pacific', 2863)]"
      ]
     },
     "execution_count": 22,
     "metadata": {},
     "output_type": "execute_result"
    }
   ],
   "source": [
    "Counter(county_ts['CensusRegion']).most_common()[:10]"
   ]
  },
  {
   "cell_type": "code",
   "execution_count": 23,
   "metadata": {
    "scrolled": true
   },
   "outputs": [
    {
     "data": {
      "text/plain": [
       "[(nan, 132151),\n",
       " ('Atlanta, GA', 7074),\n",
       " ('New York, NY', 6503),\n",
       " ('Washington, DC', 5566),\n",
       " ('Minneapolis-St Paul, MN', 3989),\n",
       " ('Virginia Beach, VA', 3798),\n",
       " ('Nashville, TN', 3638),\n",
       " ('Richmond, VA', 3519),\n",
       " ('Chicago, IL', 3466),\n",
       " ('St. Louis, MO', 3389)]"
      ]
     },
     "execution_count": 23,
     "metadata": {},
     "output_type": "execute_result"
    }
   ],
   "source": [
    "Counter(county_ts['MetroName']).most_common()[:10]"
   ]
  }
 ],
 "metadata": {
  "kernelspec": {
   "display_name": "rent-v-buy",
   "language": "python",
   "name": "rent-v-buy"
  },
  "language_info": {
   "codemirror_mode": {
    "name": "ipython",
    "version": 3
   },
   "file_extension": ".py",
   "mimetype": "text/x-python",
   "name": "python",
   "nbconvert_exporter": "python",
   "pygments_lexer": "ipython3",
   "version": "3.7.0"
  }
 },
 "nbformat": 4,
 "nbformat_minor": 2
}
