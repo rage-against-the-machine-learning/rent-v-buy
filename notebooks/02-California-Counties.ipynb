{
 "cells": [
  {
   "cell_type": "markdown",
   "metadata": {},
   "source": [
    "### Import Packages & Libraries"
   ]
  },
  {
   "cell_type": "code",
   "execution_count": 1,
   "metadata": {},
   "outputs": [],
   "source": [
    "import pandas as pd \n",
    "import numpy as np\n",
    "import json\n",
    "\n",
    "import os\n",
    "from collections import Counter\n",
    "\n",
    "# Append the entire repo parent director so files therein can be accessed in notebook\n",
    "import sys\n",
    "import pathlib\n",
    "sys.path.append(str(pathlib.Path().absolute().parent))\n",
    "\n",
    "from src import helper\n",
    "%load_ext autoreload"
   ]
  },
  {
   "cell_type": "code",
   "execution_count": 2,
   "metadata": {},
   "outputs": [
    {
     "data": {
      "text/plain": [
       "['State_time_series.csv',\n",
       " 'City_time_series.csv',\n",
       " 'CountyCrossWalk_Zillow.csv',\n",
       " 'cities_crosswalk.csv',\n",
       " 'Metro_time_series.csv',\n",
       " 'fips-county-metro-state-df.pickle',\n",
       " 'Zip_time_series.csv',\n",
       " 'County_time_series.csv',\n",
       " 'Neighborhood_time_series.csv']"
      ]
     },
     "execution_count": 2,
     "metadata": {},
     "output_type": "execute_result"
    }
   ],
   "source": [
    "os.listdir('../data/interim/')"
   ]
  },
  {
   "cell_type": "markdown",
   "metadata": {},
   "source": [
    "### Load Data\n",
    "- Pare this whole thing down to just cover the state of California"
   ]
  },
  {
   "cell_type": "code",
   "execution_count": 3,
   "metadata": {},
   "outputs": [],
   "source": [
    "zip_ts = pd.read_csv('../data/interim/Zip_time_series.csv')\n",
    "city_ts = pd.read_csv('../data/interim/City_time_series.csv')\n",
    "county_ts = pd.read_csv('../data/interim/County_time_series.csv')"
   ]
  },
  {
   "cell_type": "code",
   "execution_count": 4,
   "metadata": {},
   "outputs": [],
   "source": [
    "fips_map = pd.read_pickle('../data/interim/fips-county-metro-state-df.pickle')"
   ]
  },
  {
   "cell_type": "code",
   "execution_count": null,
   "metadata": {},
   "outputs": [],
   "source": []
  }
 ],
 "metadata": {
  "kernelspec": {
   "display_name": "rent-v-buy",
   "language": "python",
   "name": "rent-v-buy"
  },
  "language_info": {
   "codemirror_mode": {
    "name": "ipython",
    "version": 3
   },
   "file_extension": ".py",
   "mimetype": "text/x-python",
   "name": "python",
   "nbconvert_exporter": "python",
   "pygments_lexer": "ipython3",
   "version": "3.7.0"
  }
 },
 "nbformat": 4,
 "nbformat_minor": 2
}
