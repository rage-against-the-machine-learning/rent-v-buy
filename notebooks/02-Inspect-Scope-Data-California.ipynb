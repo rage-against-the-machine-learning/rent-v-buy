{
 "cells": [
  {
   "cell_type": "markdown",
   "metadata": {},
   "source": [
    "# Pare Down Data Scope for Project (CA vs. TX)\n",
    "- look at all levels of granularity to determine what the State of California Coverage is: \n",
    "    - County\n",
    "        - 58 total counties\n",
    "        - 57 in the dataset (or 285,747 records)\n",
    "    - City\n",
    "        - 482 total cities\n",
    "        - 807 in the dataset (or 201,417 records)\n",
    "        - Note: Zillow draws no distinction b/t municipalities vs. cities therefore it's a pretty complete\n",
    "    - Zip Code\n",
    "        - 2.6K+ total zipcodes in CA\n",
    "        - 1.3K in the dataset (or 332,663 records)\n",
    "   \n",
    "   \n",
    "- Alternatively, consider paring down the scope of the work to Texas\n",
    "    - County \n",
    "    - City\n",
    "    - Zip"
   ]
  },
  {
   "cell_type": "code",
   "execution_count": 1,
   "metadata": {},
   "outputs": [],
   "source": [
    "import pandas as pd \n",
    "import numpy as np\n",
    "import json\n",
    "import tqdm\n",
    "\n",
    "import warnings\n",
    "warnings.filterwarnings(\"ignore\")\n",
    "\n",
    "from collections import Counter\n",
    "from pprint import pprint\n",
    "\n",
    "import zipcodes\n",
    "\n",
    "# Append the entire repo parent director so files therein can be accessed in notebook\n",
    "import os\n",
    "import sys\n",
    "import pathlib\n",
    "sys.path.append(str(pathlib.Path().absolute().parent))"
   ]
  },
  {
   "cell_type": "markdown",
   "metadata": {},
   "source": [
    "### Import Data"
   ]
  },
  {
   "cell_type": "code",
   "execution_count": 3,
   "metadata": {},
   "outputs": [],
   "source": [
    "county_ts = pd.read_csv('../data/raw/zecon/County_time_series.csv')\n",
    "city_ts = pd.read_csv('../data/raw/zecon/City_time_series.csv')\n",
    "zip_ts = pd.read_csv('../data/raw/zecon/Zip_time_series.csv')\n",
    "\n",
    "fips_mapping = pd.read_pickle('../data/interim/fips_map.pickle')"
   ]
  },
  {
   "cell_type": "markdown",
   "metadata": {},
   "source": [
    "### Pare down to California at each level"
   ]
  },
  {
   "cell_type": "markdown",
   "metadata": {},
   "source": [
    "#### County-Level Scope Down for California"
   ]
  },
  {
   "cell_type": "code",
   "execution_count": 4,
   "metadata": {},
   "outputs": [],
   "source": [
    "county_ts_merged = county_ts.merge(fips_mapping,\n",
    "                                    how='left',\n",
    "                                    on='RegionName')"
   ]
  },
  {
   "cell_type": "code",
   "execution_count": 5,
   "metadata": {},
   "outputs": [
    {
     "data": {
      "text/html": [
       "<div>\n",
       "<style scoped>\n",
       "    .dataframe tbody tr th:only-of-type {\n",
       "        vertical-align: middle;\n",
       "    }\n",
       "\n",
       "    .dataframe tbody tr th {\n",
       "        vertical-align: top;\n",
       "    }\n",
       "\n",
       "    .dataframe thead th {\n",
       "        text-align: right;\n",
       "    }\n",
       "</style>\n",
       "<table border=\"1\" class=\"dataframe\">\n",
       "  <thead>\n",
       "    <tr style=\"text-align: right;\">\n",
       "      <th></th>\n",
       "      <th>Date</th>\n",
       "      <th>RegionName</th>\n",
       "      <th>DaysOnZillow_AllHomes</th>\n",
       "      <th>InventorySeasonallyAdjusted_AllHomes</th>\n",
       "      <th>InventoryRaw_AllHomes</th>\n",
       "      <th>MedianListingPricePerSqft_1Bedroom</th>\n",
       "      <th>MedianListingPricePerSqft_2Bedroom</th>\n",
       "      <th>MedianListingPricePerSqft_3Bedroom</th>\n",
       "      <th>MedianListingPricePerSqft_4Bedroom</th>\n",
       "      <th>MedianListingPricePerSqft_5BedroomOrMore</th>\n",
       "      <th>...</th>\n",
       "      <th>ZHVI_SingleFamilyResidence</th>\n",
       "      <th>ZHVI_TopTier</th>\n",
       "      <th>ZRI_AllHomes</th>\n",
       "      <th>ZRI_AllHomesPlusMultifamily</th>\n",
       "      <th>ZriPerSqft_AllHomes</th>\n",
       "      <th>Zri_MultiFamilyResidenceRental</th>\n",
       "      <th>Zri_SingleFamilyResidenceRental</th>\n",
       "      <th>CensusRegion</th>\n",
       "      <th>County</th>\n",
       "      <th>State</th>\n",
       "    </tr>\n",
       "  </thead>\n",
       "  <tbody>\n",
       "    <tr>\n",
       "      <th>15443</th>\n",
       "      <td>1996-04-30</td>\n",
       "      <td>6001</td>\n",
       "      <td>NaN</td>\n",
       "      <td>NaN</td>\n",
       "      <td>NaN</td>\n",
       "      <td>NaN</td>\n",
       "      <td>NaN</td>\n",
       "      <td>NaN</td>\n",
       "      <td>NaN</td>\n",
       "      <td>NaN</td>\n",
       "      <td>...</td>\n",
       "      <td>204600.0</td>\n",
       "      <td>293000.0</td>\n",
       "      <td>NaN</td>\n",
       "      <td>NaN</td>\n",
       "      <td>NaN</td>\n",
       "      <td>NaN</td>\n",
       "      <td>NaN</td>\n",
       "      <td>West</td>\n",
       "      <td>Alameda</td>\n",
       "      <td>CA</td>\n",
       "    </tr>\n",
       "    <tr>\n",
       "      <th>15444</th>\n",
       "      <td>1996-04-30</td>\n",
       "      <td>6001</td>\n",
       "      <td>NaN</td>\n",
       "      <td>NaN</td>\n",
       "      <td>NaN</td>\n",
       "      <td>NaN</td>\n",
       "      <td>NaN</td>\n",
       "      <td>NaN</td>\n",
       "      <td>NaN</td>\n",
       "      <td>NaN</td>\n",
       "      <td>...</td>\n",
       "      <td>204600.0</td>\n",
       "      <td>293000.0</td>\n",
       "      <td>NaN</td>\n",
       "      <td>NaN</td>\n",
       "      <td>NaN</td>\n",
       "      <td>NaN</td>\n",
       "      <td>NaN</td>\n",
       "      <td>West</td>\n",
       "      <td>Alameda</td>\n",
       "      <td>CA</td>\n",
       "    </tr>\n",
       "    <tr>\n",
       "      <th>15445</th>\n",
       "      <td>1996-04-30</td>\n",
       "      <td>6001</td>\n",
       "      <td>NaN</td>\n",
       "      <td>NaN</td>\n",
       "      <td>NaN</td>\n",
       "      <td>NaN</td>\n",
       "      <td>NaN</td>\n",
       "      <td>NaN</td>\n",
       "      <td>NaN</td>\n",
       "      <td>NaN</td>\n",
       "      <td>...</td>\n",
       "      <td>204600.0</td>\n",
       "      <td>293000.0</td>\n",
       "      <td>NaN</td>\n",
       "      <td>NaN</td>\n",
       "      <td>NaN</td>\n",
       "      <td>NaN</td>\n",
       "      <td>NaN</td>\n",
       "      <td>West</td>\n",
       "      <td>Alameda</td>\n",
       "      <td>CA</td>\n",
       "    </tr>\n",
       "  </tbody>\n",
       "</table>\n",
       "<p>3 rows × 85 columns</p>\n",
       "</div>"
      ],
      "text/plain": [
       "             Date  RegionName  DaysOnZillow_AllHomes  \\\n",
       "15443  1996-04-30        6001                    NaN   \n",
       "15444  1996-04-30        6001                    NaN   \n",
       "15445  1996-04-30        6001                    NaN   \n",
       "\n",
       "       InventorySeasonallyAdjusted_AllHomes  InventoryRaw_AllHomes  \\\n",
       "15443                                   NaN                    NaN   \n",
       "15444                                   NaN                    NaN   \n",
       "15445                                   NaN                    NaN   \n",
       "\n",
       "       MedianListingPricePerSqft_1Bedroom  MedianListingPricePerSqft_2Bedroom  \\\n",
       "15443                                 NaN                                 NaN   \n",
       "15444                                 NaN                                 NaN   \n",
       "15445                                 NaN                                 NaN   \n",
       "\n",
       "       MedianListingPricePerSqft_3Bedroom  MedianListingPricePerSqft_4Bedroom  \\\n",
       "15443                                 NaN                                 NaN   \n",
       "15444                                 NaN                                 NaN   \n",
       "15445                                 NaN                                 NaN   \n",
       "\n",
       "       MedianListingPricePerSqft_5BedroomOrMore  ...  \\\n",
       "15443                                       NaN  ...   \n",
       "15444                                       NaN  ...   \n",
       "15445                                       NaN  ...   \n",
       "\n",
       "       ZHVI_SingleFamilyResidence  ZHVI_TopTier  ZRI_AllHomes  \\\n",
       "15443                    204600.0      293000.0           NaN   \n",
       "15444                    204600.0      293000.0           NaN   \n",
       "15445                    204600.0      293000.0           NaN   \n",
       "\n",
       "       ZRI_AllHomesPlusMultifamily  ZriPerSqft_AllHomes  \\\n",
       "15443                          NaN                  NaN   \n",
       "15444                          NaN                  NaN   \n",
       "15445                          NaN                  NaN   \n",
       "\n",
       "       Zri_MultiFamilyResidenceRental  Zri_SingleFamilyResidenceRental  \\\n",
       "15443                             NaN                              NaN   \n",
       "15444                             NaN                              NaN   \n",
       "15445                             NaN                              NaN   \n",
       "\n",
       "       CensusRegion   County  State  \n",
       "15443          West  Alameda     CA  \n",
       "15444          West  Alameda     CA  \n",
       "15445          West  Alameda     CA  \n",
       "\n",
       "[3 rows x 85 columns]"
      ]
     },
     "metadata": {},
     "output_type": "display_data"
    },
    {
     "data": {
      "text/plain": [
       "(285747, 85)"
      ]
     },
     "metadata": {},
     "output_type": "display_data"
    }
   ],
   "source": [
    "ca_county_ts = county_ts_merged[county_ts_merged['State'] == 'CA']\n",
    "ca_county_ts.drop(['Unique_City_ID', 'City', 'MetroName', 'StateName'], axis=1, inplace=True)\n",
    "\n",
    "display(ca_county_ts.head(3))\n",
    "display(ca_county_ts.shape)"
   ]
  },
  {
   "attachments": {
    "image.png": {
     "image/png": "[encoded data removed]"
    }
   },
   "cell_type": "markdown",
   "metadata": {},
   "source": [
    "![image.png](attachment:image.png)"
   ]
  },
  {
   "cell_type": "code",
   "execution_count": 6,
   "metadata": {
    "scrolled": true
   },
   "outputs": [
    {
     "data": {
      "text/plain": [
       "57"
      ]
     },
     "execution_count": 6,
     "metadata": {},
     "output_type": "execute_result"
    }
   ],
   "source": [
    "ca_county_ts['RegionName'].nunique()"
   ]
  },
  {
   "cell_type": "markdown",
   "metadata": {},
   "source": [
    "#### City-Level Scope Down for California"
   ]
  },
  {
   "cell_type": "code",
   "execution_count": 7,
   "metadata": {},
   "outputs": [
    {
     "name": "stdout",
     "output_type": "stream",
     "text": [
      "(3762566, 81)\n",
      "(3762566, 89)\n"
     ]
    }
   ],
   "source": [
    "city_ts_merged = city_ts.merge(fips_mapping,\n",
    "                              how='left',\n",
    "                              left_on='RegionName',\n",
    "                              right_on='Unique_City_ID')\n",
    "print(city_ts.shape)\n",
    "print(city_ts_merged.shape)"
   ]
  },
  {
   "cell_type": "code",
   "execution_count": 8,
   "metadata": {},
   "outputs": [
    {
     "data": {
      "text/plain": [
       "(201417, 89)"
      ]
     },
     "execution_count": 8,
     "metadata": {},
     "output_type": "execute_result"
    }
   ],
   "source": [
    "ca_city_ts = city_ts_merged[city_ts_merged['State'] == 'CA']\n",
    "ca_city_ts.shape"
   ]
  },
  {
   "cell_type": "code",
   "execution_count": 9,
   "metadata": {},
   "outputs": [],
   "source": [
    "ca_city_ts.rename(columns={'RegionName_x': 'RegionName'}, inplace=True)\n",
    "ca_city_ts.drop('RegionName_y', axis=1, inplace=True)"
   ]
  },
  {
   "attachments": {
    "image.png": {
     "image/png": "[encoded data removed]"
    }
   },
   "cell_type": "markdown",
   "metadata": {},
   "source": [
    "![image.png](attachment:image.png)"
   ]
  },
  {
   "cell_type": "code",
   "execution_count": 10,
   "metadata": {
    "scrolled": true
   },
   "outputs": [
    {
     "data": {
      "text/plain": [
       "807"
      ]
     },
     "execution_count": 10,
     "metadata": {},
     "output_type": "execute_result"
    }
   ],
   "source": [
    "ca_city_ts['Unique_City_ID'].nunique()"
   ]
  },
  {
   "cell_type": "code",
   "execution_count": 11,
   "metadata": {
    "scrolled": true
   },
   "outputs": [
    {
     "data": {
      "text/plain": [
       "807"
      ]
     },
     "execution_count": 11,
     "metadata": {},
     "output_type": "execute_result"
    }
   ],
   "source": [
    "len(set([ca_cityID for ca_cityID in ca_city_ts['Unique_City_ID'] if ca_cityID[-2:] == 'ca' ]))"
   ]
  },
  {
   "cell_type": "markdown",
   "metadata": {},
   "source": [
    "#### Zip-Level Scope Down for California\n",
    "- The provided data only captures about 1.3K of possible 2.6K unique zip codes in the state of California\n",
    "- Use the `zipcodes` package to see if I can link in the city data to see what we have in total for the state of California."
   ]
  },
  {
   "cell_type": "code",
   "execution_count": 12,
   "metadata": {
    "scrolled": false
   },
   "outputs": [
    {
     "data": {
      "text/html": [
       "<div>\n",
       "<style scoped>\n",
       "    .dataframe tbody tr th:only-of-type {\n",
       "        vertical-align: middle;\n",
       "    }\n",
       "\n",
       "    .dataframe tbody tr th {\n",
       "        vertical-align: top;\n",
       "    }\n",
       "\n",
       "    .dataframe thead th {\n",
       "        text-align: right;\n",
       "    }\n",
       "</style>\n",
       "<table border=\"1\" class=\"dataframe\">\n",
       "  <thead>\n",
       "    <tr style=\"text-align: right;\">\n",
       "      <th></th>\n",
       "      <th>Date</th>\n",
       "      <th>RegionName</th>\n",
       "      <th>InventorySeasonallyAdjusted_AllHomes</th>\n",
       "      <th>InventoryRaw_AllHomes</th>\n",
       "      <th>MedianListingPricePerSqft_1Bedroom</th>\n",
       "      <th>MedianListingPricePerSqft_2Bedroom</th>\n",
       "      <th>MedianListingPricePerSqft_3Bedroom</th>\n",
       "      <th>MedianListingPricePerSqft_4Bedroom</th>\n",
       "      <th>MedianListingPricePerSqft_5BedroomOrMore</th>\n",
       "      <th>MedianListingPricePerSqft_AllHomes</th>\n",
       "      <th>...</th>\n",
       "      <th>ZHVI_CondoCoop</th>\n",
       "      <th>ZHVI_MiddleTier</th>\n",
       "      <th>ZHVI_SingleFamilyResidence</th>\n",
       "      <th>ZHVI_TopTier</th>\n",
       "      <th>ZRI_AllHomes</th>\n",
       "      <th>ZRI_AllHomesPlusMultifamily</th>\n",
       "      <th>ZriPerSqft_AllHomes</th>\n",
       "      <th>Zri_MultiFamilyResidenceRental</th>\n",
       "      <th>Zri_SingleFamilyResidenceRental</th>\n",
       "      <th>ZipCode_str</th>\n",
       "    </tr>\n",
       "  </thead>\n",
       "  <tbody>\n",
       "    <tr>\n",
       "      <th>0</th>\n",
       "      <td>1996-04-30</td>\n",
       "      <td>1001</td>\n",
       "      <td>NaN</td>\n",
       "      <td>NaN</td>\n",
       "      <td>NaN</td>\n",
       "      <td>NaN</td>\n",
       "      <td>NaN</td>\n",
       "      <td>NaN</td>\n",
       "      <td>NaN</td>\n",
       "      <td>NaN</td>\n",
       "      <td>...</td>\n",
       "      <td>67000.0</td>\n",
       "      <td>101900.0</td>\n",
       "      <td>107000.0</td>\n",
       "      <td>124800.0</td>\n",
       "      <td>NaN</td>\n",
       "      <td>NaN</td>\n",
       "      <td>NaN</td>\n",
       "      <td>NaN</td>\n",
       "      <td>NaN</td>\n",
       "      <td>01001</td>\n",
       "    </tr>\n",
       "    <tr>\n",
       "      <th>1</th>\n",
       "      <td>1996-04-30</td>\n",
       "      <td>1002</td>\n",
       "      <td>NaN</td>\n",
       "      <td>NaN</td>\n",
       "      <td>NaN</td>\n",
       "      <td>NaN</td>\n",
       "      <td>NaN</td>\n",
       "      <td>NaN</td>\n",
       "      <td>NaN</td>\n",
       "      <td>NaN</td>\n",
       "      <td>...</td>\n",
       "      <td>81300.0</td>\n",
       "      <td>135200.0</td>\n",
       "      <td>145800.0</td>\n",
       "      <td>213600.0</td>\n",
       "      <td>NaN</td>\n",
       "      <td>NaN</td>\n",
       "      <td>NaN</td>\n",
       "      <td>NaN</td>\n",
       "      <td>NaN</td>\n",
       "      <td>01002</td>\n",
       "    </tr>\n",
       "    <tr>\n",
       "      <th>2</th>\n",
       "      <td>1996-04-30</td>\n",
       "      <td>1005</td>\n",
       "      <td>NaN</td>\n",
       "      <td>NaN</td>\n",
       "      <td>NaN</td>\n",
       "      <td>NaN</td>\n",
       "      <td>NaN</td>\n",
       "      <td>NaN</td>\n",
       "      <td>NaN</td>\n",
       "      <td>NaN</td>\n",
       "      <td>...</td>\n",
       "      <td>NaN</td>\n",
       "      <td>101200.0</td>\n",
       "      <td>101200.0</td>\n",
       "      <td>125700.0</td>\n",
       "      <td>NaN</td>\n",
       "      <td>NaN</td>\n",
       "      <td>NaN</td>\n",
       "      <td>NaN</td>\n",
       "      <td>NaN</td>\n",
       "      <td>01005</td>\n",
       "    </tr>\n",
       "  </tbody>\n",
       "</table>\n",
       "<p>3 rows × 77 columns</p>\n",
       "</div>"
      ],
      "text/plain": [
       "         Date  RegionName  InventorySeasonallyAdjusted_AllHomes  \\\n",
       "0  1996-04-30        1001                                   NaN   \n",
       "1  1996-04-30        1002                                   NaN   \n",
       "2  1996-04-30        1005                                   NaN   \n",
       "\n",
       "   InventoryRaw_AllHomes  MedianListingPricePerSqft_1Bedroom  \\\n",
       "0                    NaN                                 NaN   \n",
       "1                    NaN                                 NaN   \n",
       "2                    NaN                                 NaN   \n",
       "\n",
       "   MedianListingPricePerSqft_2Bedroom  MedianListingPricePerSqft_3Bedroom  \\\n",
       "0                                 NaN                                 NaN   \n",
       "1                                 NaN                                 NaN   \n",
       "2                                 NaN                                 NaN   \n",
       "\n",
       "   MedianListingPricePerSqft_4Bedroom  \\\n",
       "0                                 NaN   \n",
       "1                                 NaN   \n",
       "2                                 NaN   \n",
       "\n",
       "   MedianListingPricePerSqft_5BedroomOrMore  \\\n",
       "0                                       NaN   \n",
       "1                                       NaN   \n",
       "2                                       NaN   \n",
       "\n",
       "   MedianListingPricePerSqft_AllHomes  ...  ZHVI_CondoCoop  ZHVI_MiddleTier  \\\n",
       "0                                 NaN  ...         67000.0         101900.0   \n",
       "1                                 NaN  ...         81300.0         135200.0   \n",
       "2                                 NaN  ...             NaN         101200.0   \n",
       "\n",
       "   ZHVI_SingleFamilyResidence  ZHVI_TopTier  ZRI_AllHomes  \\\n",
       "0                    107000.0      124800.0           NaN   \n",
       "1                    145800.0      213600.0           NaN   \n",
       "2                    101200.0      125700.0           NaN   \n",
       "\n",
       "   ZRI_AllHomesPlusMultifamily  ZriPerSqft_AllHomes  \\\n",
       "0                          NaN                  NaN   \n",
       "1                          NaN                  NaN   \n",
       "2                          NaN                  NaN   \n",
       "\n",
       "   Zri_MultiFamilyResidenceRental  Zri_SingleFamilyResidenceRental  \\\n",
       "0                             NaN                              NaN   \n",
       "1                             NaN                              NaN   \n",
       "2                             NaN                              NaN   \n",
       "\n",
       "   ZipCode_str  \n",
       "0        01001  \n",
       "1        01002  \n",
       "2        01005  \n",
       "\n",
       "[3 rows x 77 columns]"
      ]
     },
     "execution_count": 12,
     "metadata": {},
     "output_type": "execute_result"
    }
   ],
   "source": [
    "zip_ts['ZipCode_str'] = zip_ts['RegionName'].astype(str)\n",
    "zip_ts['ZipCode_str'] = ['0' + zipcode if len(zipcode) == 4 else zipcode for zipcode in zip_ts['ZipCode_str']]\n",
    "zip_ts.head(3)"
   ]
  },
  {
   "cell_type": "code",
   "execution_count": 13,
   "metadata": {},
   "outputs": [
    {
     "data": {
      "text/plain": [
       "(511863, 77)"
      ]
     },
     "execution_count": 13,
     "metadata": {},
     "output_type": "execute_result"
    }
   ],
   "source": [
    "# California zipcodes all start with 9\n",
    "potential_CA_zipcodes = [zipcode for zipcode in zip_ts['ZipCode_str'].unique().tolist() if zipcode[0] == '9']\n",
    "\n",
    "# Filter down on these potential California zipcodes\n",
    "maybe_ca_zip_ts = zip_ts[zip_ts['ZipCode_str'].isin(potential_CA_zipcodes)]\n",
    "maybe_ca_zip_ts.shape"
   ]
  },
  {
   "cell_type": "code",
   "execution_count": 14,
   "metadata": {
    "scrolled": true
   },
   "outputs": [
    {
     "data": {
      "text/plain": [
       "2036"
      ]
     },
     "execution_count": 14,
     "metadata": {},
     "output_type": "execute_result"
    }
   ],
   "source": [
    "len(potential_CA_zipcodes)"
   ]
  },
  {
   "attachments": {
    "image.png": {
     "image/png": "[encoded data removed]"
    }
   },
   "cell_type": "markdown",
   "metadata": {},
   "source": [
    "![image.png](attachment:image.png)"
   ]
  },
  {
   "cell_type": "code",
   "execution_count": 15,
   "metadata": {},
   "outputs": [
    {
     "data": {
      "text/plain": [
       "1311"
      ]
     },
     "execution_count": 15,
     "metadata": {},
     "output_type": "execute_result"
    }
   ],
   "source": [
    "confirmed_CA_zips = []\n",
    "\n",
    "for zipcode in potential_CA_zipcodes:\n",
    "    zip_info = zipcodes.matching(zipcode)[0]\n",
    "    if zip_info['state'] == 'CA':\n",
    "        confirmed_CA_zips.append(zipcode)\n",
    "    else:\n",
    "        pass\n",
    "    \n",
    "len(confirmed_CA_zips)"
   ]
  },
  {
   "cell_type": "code",
   "execution_count": 16,
   "metadata": {},
   "outputs": [
    {
     "data": {
      "text/plain": [
       "(332663, 77)"
      ]
     },
     "execution_count": 16,
     "metadata": {},
     "output_type": "execute_result"
    }
   ],
   "source": [
    "ca_zip_ts = maybe_ca_zip_ts[maybe_ca_zip_ts['ZipCode_str'].isin(confirmed_CA_zips)]\n",
    "ca_zip_ts.shape"
   ]
  },
  {
   "cell_type": "code",
   "execution_count": 17,
   "metadata": {
    "scrolled": true
   },
   "outputs": [
    {
     "data": {
      "text/html": [
       "<div>\n",
       "<style scoped>\n",
       "    .dataframe tbody tr th:only-of-type {\n",
       "        vertical-align: middle;\n",
       "    }\n",
       "\n",
       "    .dataframe tbody tr th {\n",
       "        vertical-align: top;\n",
       "    }\n",
       "\n",
       "    .dataframe thead th {\n",
       "        text-align: right;\n",
       "    }\n",
       "</style>\n",
       "<table border=\"1\" class=\"dataframe\">\n",
       "  <thead>\n",
       "    <tr style=\"text-align: right;\">\n",
       "      <th></th>\n",
       "      <th>Date</th>\n",
       "      <th>RegionName</th>\n",
       "      <th>InventorySeasonallyAdjusted_AllHomes</th>\n",
       "      <th>InventoryRaw_AllHomes</th>\n",
       "      <th>MedianListingPricePerSqft_1Bedroom</th>\n",
       "      <th>MedianListingPricePerSqft_2Bedroom</th>\n",
       "      <th>MedianListingPricePerSqft_3Bedroom</th>\n",
       "      <th>MedianListingPricePerSqft_4Bedroom</th>\n",
       "      <th>MedianListingPricePerSqft_5BedroomOrMore</th>\n",
       "      <th>MedianListingPricePerSqft_AllHomes</th>\n",
       "      <th>...</th>\n",
       "      <th>ZHVI_CondoCoop</th>\n",
       "      <th>ZHVI_MiddleTier</th>\n",
       "      <th>ZHVI_SingleFamilyResidence</th>\n",
       "      <th>ZHVI_TopTier</th>\n",
       "      <th>ZRI_AllHomes</th>\n",
       "      <th>ZRI_AllHomesPlusMultifamily</th>\n",
       "      <th>ZriPerSqft_AllHomes</th>\n",
       "      <th>Zri_MultiFamilyResidenceRental</th>\n",
       "      <th>Zri_SingleFamilyResidenceRental</th>\n",
       "      <th>ZipCode_str</th>\n",
       "    </tr>\n",
       "  </thead>\n",
       "  <tbody>\n",
       "    <tr>\n",
       "      <th>11779</th>\n",
       "      <td>1996-04-30</td>\n",
       "      <td>90001</td>\n",
       "      <td>NaN</td>\n",
       "      <td>NaN</td>\n",
       "      <td>NaN</td>\n",
       "      <td>NaN</td>\n",
       "      <td>NaN</td>\n",
       "      <td>NaN</td>\n",
       "      <td>NaN</td>\n",
       "      <td>NaN</td>\n",
       "      <td>...</td>\n",
       "      <td>NaN</td>\n",
       "      <td>114100.0</td>\n",
       "      <td>114100.0</td>\n",
       "      <td>128400.0</td>\n",
       "      <td>NaN</td>\n",
       "      <td>NaN</td>\n",
       "      <td>NaN</td>\n",
       "      <td>NaN</td>\n",
       "      <td>NaN</td>\n",
       "      <td>90001</td>\n",
       "    </tr>\n",
       "    <tr>\n",
       "      <th>11780</th>\n",
       "      <td>1996-04-30</td>\n",
       "      <td>90002</td>\n",
       "      <td>NaN</td>\n",
       "      <td>NaN</td>\n",
       "      <td>NaN</td>\n",
       "      <td>NaN</td>\n",
       "      <td>NaN</td>\n",
       "      <td>NaN</td>\n",
       "      <td>NaN</td>\n",
       "      <td>NaN</td>\n",
       "      <td>...</td>\n",
       "      <td>NaN</td>\n",
       "      <td>105700.0</td>\n",
       "      <td>105700.0</td>\n",
       "      <td>121300.0</td>\n",
       "      <td>NaN</td>\n",
       "      <td>NaN</td>\n",
       "      <td>NaN</td>\n",
       "      <td>NaN</td>\n",
       "      <td>NaN</td>\n",
       "      <td>90002</td>\n",
       "    </tr>\n",
       "    <tr>\n",
       "      <th>11781</th>\n",
       "      <td>1996-04-30</td>\n",
       "      <td>90003</td>\n",
       "      <td>NaN</td>\n",
       "      <td>NaN</td>\n",
       "      <td>NaN</td>\n",
       "      <td>NaN</td>\n",
       "      <td>NaN</td>\n",
       "      <td>NaN</td>\n",
       "      <td>NaN</td>\n",
       "      <td>NaN</td>\n",
       "      <td>...</td>\n",
       "      <td>NaN</td>\n",
       "      <td>103800.0</td>\n",
       "      <td>103800.0</td>\n",
       "      <td>124000.0</td>\n",
       "      <td>NaN</td>\n",
       "      <td>NaN</td>\n",
       "      <td>NaN</td>\n",
       "      <td>NaN</td>\n",
       "      <td>NaN</td>\n",
       "      <td>90003</td>\n",
       "    </tr>\n",
       "  </tbody>\n",
       "</table>\n",
       "<p>3 rows × 77 columns</p>\n",
       "</div>"
      ],
      "text/plain": [
       "             Date  RegionName  InventorySeasonallyAdjusted_AllHomes  \\\n",
       "11779  1996-04-30       90001                                   NaN   \n",
       "11780  1996-04-30       90002                                   NaN   \n",
       "11781  1996-04-30       90003                                   NaN   \n",
       "\n",
       "       InventoryRaw_AllHomes  MedianListingPricePerSqft_1Bedroom  \\\n",
       "11779                    NaN                                 NaN   \n",
       "11780                    NaN                                 NaN   \n",
       "11781                    NaN                                 NaN   \n",
       "\n",
       "       MedianListingPricePerSqft_2Bedroom  MedianListingPricePerSqft_3Bedroom  \\\n",
       "11779                                 NaN                                 NaN   \n",
       "11780                                 NaN                                 NaN   \n",
       "11781                                 NaN                                 NaN   \n",
       "\n",
       "       MedianListingPricePerSqft_4Bedroom  \\\n",
       "11779                                 NaN   \n",
       "11780                                 NaN   \n",
       "11781                                 NaN   \n",
       "\n",
       "       MedianListingPricePerSqft_5BedroomOrMore  \\\n",
       "11779                                       NaN   \n",
       "11780                                       NaN   \n",
       "11781                                       NaN   \n",
       "\n",
       "       MedianListingPricePerSqft_AllHomes  ...  ZHVI_CondoCoop  \\\n",
       "11779                                 NaN  ...             NaN   \n",
       "11780                                 NaN  ...             NaN   \n",
       "11781                                 NaN  ...             NaN   \n",
       "\n",
       "       ZHVI_MiddleTier  ZHVI_SingleFamilyResidence  ZHVI_TopTier  \\\n",
       "11779         114100.0                    114100.0      128400.0   \n",
       "11780         105700.0                    105700.0      121300.0   \n",
       "11781         103800.0                    103800.0      124000.0   \n",
       "\n",
       "       ZRI_AllHomes  ZRI_AllHomesPlusMultifamily  ZriPerSqft_AllHomes  \\\n",
       "11779           NaN                          NaN                  NaN   \n",
       "11780           NaN                          NaN                  NaN   \n",
       "11781           NaN                          NaN                  NaN   \n",
       "\n",
       "       Zri_MultiFamilyResidenceRental  Zri_SingleFamilyResidenceRental  \\\n",
       "11779                             NaN                              NaN   \n",
       "11780                             NaN                              NaN   \n",
       "11781                             NaN                              NaN   \n",
       "\n",
       "       ZipCode_str  \n",
       "11779        90001  \n",
       "11780        90002  \n",
       "11781        90003  \n",
       "\n",
       "[3 rows x 77 columns]"
      ]
     },
     "execution_count": 17,
     "metadata": {},
     "output_type": "execute_result"
    }
   ],
   "source": [
    "ca_zip_ts.head(3)"
   ]
  },
  {
   "cell_type": "code",
   "execution_count": 18,
   "metadata": {},
   "outputs": [],
   "source": [
    "ca_county_ts.reset_index(drop=True, inplace=True)\n",
    "ca_city_ts.reset_index(drop=True, inplace=True)\n",
    "ca_zip_ts.reset_index(drop=True, inplace=True)\n",
    "\n",
    "ca_county_ts.to_pickle('../data/interim/california-county-ts.pickle')\n",
    "ca_city_ts.to_pickle('../data/interim/california-city-ts.pickle')\n",
    "ca_zip_ts.to_pickle('../data/interim/california-zip-ts.pickle')"
   ]
  },
  {
   "cell_type": "markdown",
   "metadata": {},
   "source": [
    "### ZipCode Data Expansion\n",
    "**OBJECTIVE** Since there are only 1.3K zipcodes in the Zillow Data, try to use the city time series data to see if we can expand upon what's available to us in the zipcode regions. Explore to see if we can use latitude and longitude metadata to aid in this effort.\n",
    "\n",
    "- The CA city data holds 110 unique cities more than the CA Zip data.\n",
    "- Notably, sometimes a particular city can have > 1 zipcode. \n",
    "- This could be what's driving the difference between the two datasets.\n"
   ]
  },
  {
   "cell_type": "code",
   "execution_count": 19,
   "metadata": {},
   "outputs": [
    {
     "name": "stdout",
     "output_type": "stream",
     "text": [
      "1311\n",
      "1311\n",
      "1311\n"
     ]
    }
   ],
   "source": [
    "# Get city names for the zip_ts data \n",
    "# Then check to see which cities do NOT overlap vs. those that DO overlap with that of city_time series\n",
    "\n",
    "zip_city_map = dict()\n",
    "zip_county_map = dict()\n",
    "zip_latlong = dict()\n",
    "\n",
    "for zipcode in ca_zip_ts['ZipCode_str'].unique():\n",
    "    zipinfo = zipcodes.matching(zipcode)\n",
    "    try: \n",
    "        for info in zipinfo:\n",
    "            zip_city_map[zipcode] = info['city']\n",
    "            zip_county_map[zipcode] = info['county']\n",
    "            zip_latlong[zipcode] = {'Lat' : info['lat'], 'Long' : info['long']}\n",
    "            \n",
    "    except:\n",
    "        pass\n",
    "\n",
    "print(len(zip_city_map))\n",
    "print(len(zip_county_map))\n",
    "print(len(zip_latlong))"
   ]
  },
  {
   "cell_type": "code",
   "execution_count": 20,
   "metadata": {},
   "outputs": [],
   "source": [
    "ca_zip_ts['City'] = [zip_city_map[row.ZipCode_str] for row in ca_zip_ts.itertuples()]\n",
    "ca_zip_ts['County'] = [zip_county_map[row.ZipCode_str] for row in ca_zip_ts.itertuples()]\n",
    "ca_zip_ts['Lat'] = [zip_latlong[row.ZipCode_str]['Lat'] for row in ca_zip_ts.itertuples()]\n",
    "ca_zip_ts['Long'] = [zip_latlong[row.ZipCode_str]['Long'] for row in ca_zip_ts.itertuples()]"
   ]
  },
  {
   "cell_type": "code",
   "execution_count": 21,
   "metadata": {
    "scrolled": true
   },
   "outputs": [
    {
     "name": "stdout",
     "output_type": "stream",
     "text": [
      "110\n",
      "['Alondra Park', 'Alta', 'Alum Rock', 'Angels', 'Annapolis']\n"
     ]
    }
   ],
   "source": [
    "# Cities missing from the ca_zip_ts table: \n",
    "missing_cities = sorted(list(set(ca_city_ts['City'].unique()) - (set(ca_zip_ts['City'].unique()))))\n",
    "print(len(missing_cities))\n",
    "print(missing_cities[:5])"
   ]
  },
  {
   "cell_type": "code",
   "execution_count": 35,
   "metadata": {},
   "outputs": [
    {
     "data": {
      "text/html": [
       "<div>\n",
       "<style scoped>\n",
       "    .dataframe tbody tr th:only-of-type {\n",
       "        vertical-align: middle;\n",
       "    }\n",
       "\n",
       "    .dataframe tbody tr th {\n",
       "        vertical-align: top;\n",
       "    }\n",
       "\n",
       "    .dataframe thead th {\n",
       "        text-align: right;\n",
       "    }\n",
       "</style>\n",
       "<table border=\"1\" class=\"dataframe\">\n",
       "  <thead>\n",
       "    <tr style=\"text-align: right;\">\n",
       "      <th></th>\n",
       "      <th>Date</th>\n",
       "      <th>RegionName</th>\n",
       "      <th>InventorySeasonallyAdjusted_AllHomes</th>\n",
       "      <th>InventoryRaw_AllHomes</th>\n",
       "      <th>MedianListingPricePerSqft_1Bedroom</th>\n",
       "      <th>MedianListingPricePerSqft_2Bedroom</th>\n",
       "      <th>MedianListingPricePerSqft_3Bedroom</th>\n",
       "      <th>MedianListingPricePerSqft_4Bedroom</th>\n",
       "      <th>MedianListingPricePerSqft_5BedroomOrMore</th>\n",
       "      <th>MedianListingPricePerSqft_AllHomes</th>\n",
       "      <th>...</th>\n",
       "      <th>ZRI_AllHomes</th>\n",
       "      <th>ZRI_AllHomesPlusMultifamily</th>\n",
       "      <th>ZriPerSqft_AllHomes</th>\n",
       "      <th>Zri_MultiFamilyResidenceRental</th>\n",
       "      <th>Zri_SingleFamilyResidenceRental</th>\n",
       "      <th>ZipCode_str</th>\n",
       "      <th>City</th>\n",
       "      <th>County</th>\n",
       "      <th>Lat</th>\n",
       "      <th>Long</th>\n",
       "    </tr>\n",
       "  </thead>\n",
       "  <tbody>\n",
       "    <tr>\n",
       "      <th>0</th>\n",
       "      <td>1996-04-30</td>\n",
       "      <td>90001</td>\n",
       "      <td>NaN</td>\n",
       "      <td>NaN</td>\n",
       "      <td>NaN</td>\n",
       "      <td>NaN</td>\n",
       "      <td>NaN</td>\n",
       "      <td>NaN</td>\n",
       "      <td>NaN</td>\n",
       "      <td>NaN</td>\n",
       "      <td>...</td>\n",
       "      <td>NaN</td>\n",
       "      <td>NaN</td>\n",
       "      <td>NaN</td>\n",
       "      <td>NaN</td>\n",
       "      <td>NaN</td>\n",
       "      <td>90001</td>\n",
       "      <td>Los Angeles</td>\n",
       "      <td>Los Angeles County</td>\n",
       "      <td>33.9736</td>\n",
       "      <td>-118.2479</td>\n",
       "    </tr>\n",
       "    <tr>\n",
       "      <th>1</th>\n",
       "      <td>1996-04-30</td>\n",
       "      <td>90002</td>\n",
       "      <td>NaN</td>\n",
       "      <td>NaN</td>\n",
       "      <td>NaN</td>\n",
       "      <td>NaN</td>\n",
       "      <td>NaN</td>\n",
       "      <td>NaN</td>\n",
       "      <td>NaN</td>\n",
       "      <td>NaN</td>\n",
       "      <td>...</td>\n",
       "      <td>NaN</td>\n",
       "      <td>NaN</td>\n",
       "      <td>NaN</td>\n",
       "      <td>NaN</td>\n",
       "      <td>NaN</td>\n",
       "      <td>90002</td>\n",
       "      <td>Los Angeles</td>\n",
       "      <td>Los Angeles County</td>\n",
       "      <td>33.9490</td>\n",
       "      <td>-118.2460</td>\n",
       "    </tr>\n",
       "    <tr>\n",
       "      <th>2</th>\n",
       "      <td>1996-04-30</td>\n",
       "      <td>90003</td>\n",
       "      <td>NaN</td>\n",
       "      <td>NaN</td>\n",
       "      <td>NaN</td>\n",
       "      <td>NaN</td>\n",
       "      <td>NaN</td>\n",
       "      <td>NaN</td>\n",
       "      <td>NaN</td>\n",
       "      <td>NaN</td>\n",
       "      <td>...</td>\n",
       "      <td>NaN</td>\n",
       "      <td>NaN</td>\n",
       "      <td>NaN</td>\n",
       "      <td>NaN</td>\n",
       "      <td>NaN</td>\n",
       "      <td>90003</td>\n",
       "      <td>Los Angeles</td>\n",
       "      <td>Los Angeles County</td>\n",
       "      <td>33.9640</td>\n",
       "      <td>-118.2737</td>\n",
       "    </tr>\n",
       "    <tr>\n",
       "      <th>3</th>\n",
       "      <td>1996-04-30</td>\n",
       "      <td>90004</td>\n",
       "      <td>NaN</td>\n",
       "      <td>NaN</td>\n",
       "      <td>NaN</td>\n",
       "      <td>NaN</td>\n",
       "      <td>NaN</td>\n",
       "      <td>NaN</td>\n",
       "      <td>NaN</td>\n",
       "      <td>NaN</td>\n",
       "      <td>...</td>\n",
       "      <td>NaN</td>\n",
       "      <td>NaN</td>\n",
       "      <td>NaN</td>\n",
       "      <td>NaN</td>\n",
       "      <td>NaN</td>\n",
       "      <td>90004</td>\n",
       "      <td>Los Angeles</td>\n",
       "      <td>Los Angeles County</td>\n",
       "      <td>34.0761</td>\n",
       "      <td>-118.3108</td>\n",
       "    </tr>\n",
       "    <tr>\n",
       "      <th>4</th>\n",
       "      <td>1996-04-30</td>\n",
       "      <td>90005</td>\n",
       "      <td>NaN</td>\n",
       "      <td>NaN</td>\n",
       "      <td>NaN</td>\n",
       "      <td>NaN</td>\n",
       "      <td>NaN</td>\n",
       "      <td>NaN</td>\n",
       "      <td>NaN</td>\n",
       "      <td>NaN</td>\n",
       "      <td>...</td>\n",
       "      <td>NaN</td>\n",
       "      <td>NaN</td>\n",
       "      <td>NaN</td>\n",
       "      <td>NaN</td>\n",
       "      <td>NaN</td>\n",
       "      <td>90005</td>\n",
       "      <td>Los Angeles</td>\n",
       "      <td>Los Angeles County</td>\n",
       "      <td>34.0584</td>\n",
       "      <td>-118.3113</td>\n",
       "    </tr>\n",
       "  </tbody>\n",
       "</table>\n",
       "<p>5 rows × 81 columns</p>\n",
       "</div>"
      ],
      "text/plain": [
       "         Date  RegionName  InventorySeasonallyAdjusted_AllHomes  \\\n",
       "0  1996-04-30       90001                                   NaN   \n",
       "1  1996-04-30       90002                                   NaN   \n",
       "2  1996-04-30       90003                                   NaN   \n",
       "3  1996-04-30       90004                                   NaN   \n",
       "4  1996-04-30       90005                                   NaN   \n",
       "\n",
       "   InventoryRaw_AllHomes  MedianListingPricePerSqft_1Bedroom  \\\n",
       "0                    NaN                                 NaN   \n",
       "1                    NaN                                 NaN   \n",
       "2                    NaN                                 NaN   \n",
       "3                    NaN                                 NaN   \n",
       "4                    NaN                                 NaN   \n",
       "\n",
       "   MedianListingPricePerSqft_2Bedroom  MedianListingPricePerSqft_3Bedroom  \\\n",
       "0                                 NaN                                 NaN   \n",
       "1                                 NaN                                 NaN   \n",
       "2                                 NaN                                 NaN   \n",
       "3                                 NaN                                 NaN   \n",
       "4                                 NaN                                 NaN   \n",
       "\n",
       "   MedianListingPricePerSqft_4Bedroom  \\\n",
       "0                                 NaN   \n",
       "1                                 NaN   \n",
       "2                                 NaN   \n",
       "3                                 NaN   \n",
       "4                                 NaN   \n",
       "\n",
       "   MedianListingPricePerSqft_5BedroomOrMore  \\\n",
       "0                                       NaN   \n",
       "1                                       NaN   \n",
       "2                                       NaN   \n",
       "3                                       NaN   \n",
       "4                                       NaN   \n",
       "\n",
       "   MedianListingPricePerSqft_AllHomes  ...  ZRI_AllHomes  \\\n",
       "0                                 NaN  ...           NaN   \n",
       "1                                 NaN  ...           NaN   \n",
       "2                                 NaN  ...           NaN   \n",
       "3                                 NaN  ...           NaN   \n",
       "4                                 NaN  ...           NaN   \n",
       "\n",
       "   ZRI_AllHomesPlusMultifamily  ZriPerSqft_AllHomes  \\\n",
       "0                          NaN                  NaN   \n",
       "1                          NaN                  NaN   \n",
       "2                          NaN                  NaN   \n",
       "3                          NaN                  NaN   \n",
       "4                          NaN                  NaN   \n",
       "\n",
       "   Zri_MultiFamilyResidenceRental  Zri_SingleFamilyResidenceRental  \\\n",
       "0                             NaN                              NaN   \n",
       "1                             NaN                              NaN   \n",
       "2                             NaN                              NaN   \n",
       "3                             NaN                              NaN   \n",
       "4                             NaN                              NaN   \n",
       "\n",
       "   ZipCode_str         City              County      Lat       Long  \n",
       "0        90001  Los Angeles  Los Angeles County  33.9736  -118.2479  \n",
       "1        90002  Los Angeles  Los Angeles County  33.9490  -118.2460  \n",
       "2        90003  Los Angeles  Los Angeles County  33.9640  -118.2737  \n",
       "3        90004  Los Angeles  Los Angeles County  34.0761  -118.3108  \n",
       "4        90005  Los Angeles  Los Angeles County  34.0584  -118.3113  \n",
       "\n",
       "[5 rows x 81 columns]"
      ]
     },
     "execution_count": 35,
     "metadata": {},
     "output_type": "execute_result"
    }
   ],
   "source": [
    "ca_zip_ts.head()"
   ]
  },
  {
   "cell_type": "markdown",
   "metadata": {},
   "source": [
    "### Get Latitude Longitude Information for as many records as possible\n",
    "- Using the city data, we have 1.1K more zip codes for CA than what the zipcode table provided by Zillow gives us.\n",
    "- We need to refer to city data where certain zipcodes are not available in the Zip table provided by Zillow."
   ]
  },
  {
   "cell_type": "code",
   "execution_count": 22,
   "metadata": {
    "scrolled": false
   },
   "outputs": [],
   "source": [
    "fips_mapping_CA = fips_mapping.loc[fips_mapping['State'] == 'CA']\n",
    "fips_mapping_CA.reset_index(drop=True, inplace=True)\n",
    "\n",
    "zip_meta = dict()\n",
    "for row in fips_mapping_CA.itertuples():\n",
    "    city_to_check = row.City\n",
    "    info = zipcodes.filter_by(city=city_to_check)\n",
    "    for i in info:\n",
    "        if row.County in i['county']:\n",
    "            zip_meta[i['zip_code']] = {'Lat': float(i['lat']), \n",
    "                                          'Long': float(i['long']),\n",
    "                                          'City' : i['city'],\n",
    "                                          'County' : i['county'].replace(\" County\", \"\")}\n",
    "zip_meta_df = pd.DataFrame(zip_meta).T\n",
    "zip_meta_df.reset_index(inplace=True)"
   ]
  },
  {
   "cell_type": "code",
   "execution_count": 23,
   "metadata": {},
   "outputs": [
    {
     "data": {
      "text/html": [
       "<div>\n",
       "<style scoped>\n",
       "    .dataframe tbody tr th:only-of-type {\n",
       "        vertical-align: middle;\n",
       "    }\n",
       "\n",
       "    .dataframe tbody tr th {\n",
       "        vertical-align: top;\n",
       "    }\n",
       "\n",
       "    .dataframe thead th {\n",
       "        text-align: right;\n",
       "    }\n",
       "</style>\n",
       "<table border=\"1\" class=\"dataframe\">\n",
       "  <thead>\n",
       "    <tr style=\"text-align: right;\">\n",
       "      <th></th>\n",
       "      <th>index</th>\n",
       "      <th>Lat</th>\n",
       "      <th>Long</th>\n",
       "      <th>City</th>\n",
       "      <th>County</th>\n",
       "    </tr>\n",
       "  </thead>\n",
       "  <tbody>\n",
       "    <tr>\n",
       "      <th>0</th>\n",
       "      <td>94587</td>\n",
       "      <td>37.6021</td>\n",
       "      <td>-122.044</td>\n",
       "      <td>Union City</td>\n",
       "      <td>Alameda</td>\n",
       "    </tr>\n",
       "    <tr>\n",
       "      <th>1</th>\n",
       "      <td>94546</td>\n",
       "      <td>37.7483</td>\n",
       "      <td>-122.116</td>\n",
       "      <td>Castro Valley</td>\n",
       "      <td>Alameda</td>\n",
       "    </tr>\n",
       "    <tr>\n",
       "      <th>2</th>\n",
       "      <td>94552</td>\n",
       "      <td>37.6953</td>\n",
       "      <td>-121.982</td>\n",
       "      <td>Castro Valley</td>\n",
       "      <td>Alameda</td>\n",
       "    </tr>\n",
       "    <tr>\n",
       "      <th>3</th>\n",
       "      <td>94608</td>\n",
       "      <td>37.8347</td>\n",
       "      <td>-122.292</td>\n",
       "      <td>Emeryville</td>\n",
       "      <td>Alameda</td>\n",
       "    </tr>\n",
       "    <tr>\n",
       "      <th>4</th>\n",
       "      <td>94662</td>\n",
       "      <td>37.8317</td>\n",
       "      <td>-122.284</td>\n",
       "      <td>Emeryville</td>\n",
       "      <td>Alameda</td>\n",
       "    </tr>\n",
       "    <tr>\n",
       "      <th>...</th>\n",
       "      <td>...</td>\n",
       "      <td>...</td>\n",
       "      <td>...</td>\n",
       "      <td>...</td>\n",
       "      <td>...</td>\n",
       "    </tr>\n",
       "    <tr>\n",
       "      <th>2334</th>\n",
       "      <td>95936</td>\n",
       "      <td>39.6115</td>\n",
       "      <td>-120.848</td>\n",
       "      <td>Downieville</td>\n",
       "      <td>Sierra</td>\n",
       "    </tr>\n",
       "    <tr>\n",
       "      <th>2335</th>\n",
       "      <td>96126</td>\n",
       "      <td>39.5768</td>\n",
       "      <td>-120.219</td>\n",
       "      <td>Sierraville</td>\n",
       "      <td>Sierra</td>\n",
       "    </tr>\n",
       "    <tr>\n",
       "      <th>2336</th>\n",
       "      <td>96125</td>\n",
       "      <td>39.5496</td>\n",
       "      <td>-120.674</td>\n",
       "      <td>Sierra City</td>\n",
       "      <td>Sierra</td>\n",
       "    </tr>\n",
       "    <tr>\n",
       "      <th>2337</th>\n",
       "      <td>96118</td>\n",
       "      <td>39.6706</td>\n",
       "      <td>-120.159</td>\n",
       "      <td>Loyalton</td>\n",
       "      <td>Sierra</td>\n",
       "    </tr>\n",
       "    <tr>\n",
       "      <th>2338</th>\n",
       "      <td>95910</td>\n",
       "      <td>39.4851</td>\n",
       "      <td>-120.833</td>\n",
       "      <td>Alleghany</td>\n",
       "      <td>Sierra</td>\n",
       "    </tr>\n",
       "  </tbody>\n",
       "</table>\n",
       "<p>2339 rows × 5 columns</p>\n",
       "</div>"
      ],
      "text/plain": [
       "      index      Lat     Long           City   County\n",
       "0     94587  37.6021 -122.044     Union City  Alameda\n",
       "1     94546  37.7483 -122.116  Castro Valley  Alameda\n",
       "2     94552  37.6953 -121.982  Castro Valley  Alameda\n",
       "3     94608  37.8347 -122.292     Emeryville  Alameda\n",
       "4     94662  37.8317 -122.284     Emeryville  Alameda\n",
       "...     ...      ...      ...            ...      ...\n",
       "2334  95936  39.6115 -120.848    Downieville   Sierra\n",
       "2335  96126  39.5768 -120.219    Sierraville   Sierra\n",
       "2336  96125  39.5496 -120.674    Sierra City   Sierra\n",
       "2337  96118  39.6706 -120.159       Loyalton   Sierra\n",
       "2338  95910  39.4851 -120.833      Alleghany   Sierra\n",
       "\n",
       "[2339 rows x 5 columns]"
      ]
     },
     "execution_count": 23,
     "metadata": {},
     "output_type": "execute_result"
    }
   ],
   "source": [
    "zip_meta_df"
   ]
  },
  {
   "cell_type": "code",
   "execution_count": 24,
   "metadata": {},
   "outputs": [],
   "source": [
    "city_uniqueCityID = dict(zip(fips_mapping_CA['City'], fips_mapping_CA['Unique_City_ID']))\n",
    "city_metroName = dict(zip(fips_mapping_CA['City'], fips_mapping_CA['MetroName']))\n",
    "city_regionName = dict(zip(fips_mapping_CA['City'], fips_mapping_CA['RegionName']))"
   ]
  },
  {
   "cell_type": "code",
   "execution_count": 25,
   "metadata": {},
   "outputs": [],
   "source": [
    "zip_meta_df['State'] = 'CA'\n",
    "zip_meta_df['StateName'] = 'California'\n",
    "zip_meta_df['CensusRegion'] = 'West'\n",
    "\n",
    "metroname_column = list()\n",
    "uniquecityID_column = list()\n",
    "regionname_column = list()\n",
    "\n",
    "for city in zip_meta_df['City']:\n",
    "    if city in city_uniqueCityID and city in city_metroName:\n",
    "        uniquecityID_column.append(city_uniqueCityID[city])\n",
    "        metroname_column.append(city_metroName[city])\n",
    "        regionname_column.append(city_regionName[city])\n",
    "    else:\n",
    "        uniquecityID_column.append(np.nan)\n",
    "        metroname_column.append(np.nan)\n",
    "        regionname_column.append(np.nan)\n",
    "        \n",
    "zip_meta_df['Unique_City_ID'] = uniquecityID_column\n",
    "zip_meta_df['MetroName'] = metroname_column\n",
    "zip_meta_df['RegionName'] = regionname_column\n",
    "\n",
    "zip_meta_df.rename(columns={'index':'ZipCode'}, inplace=True)"
   ]
  },
  {
   "cell_type": "code",
   "execution_count": 26,
   "metadata": {
    "scrolled": false
   },
   "outputs": [
    {
     "data": {
      "text/html": [
       "<div>\n",
       "<style scoped>\n",
       "    .dataframe tbody tr th:only-of-type {\n",
       "        vertical-align: middle;\n",
       "    }\n",
       "\n",
       "    .dataframe tbody tr th {\n",
       "        vertical-align: top;\n",
       "    }\n",
       "\n",
       "    .dataframe thead th {\n",
       "        text-align: right;\n",
       "    }\n",
       "</style>\n",
       "<table border=\"1\" class=\"dataframe\">\n",
       "  <thead>\n",
       "    <tr style=\"text-align: right;\">\n",
       "      <th></th>\n",
       "      <th>ZipCode</th>\n",
       "      <th>Lat</th>\n",
       "      <th>Long</th>\n",
       "      <th>City</th>\n",
       "      <th>County</th>\n",
       "      <th>State</th>\n",
       "      <th>StateName</th>\n",
       "      <th>CensusRegion</th>\n",
       "      <th>Unique_City_ID</th>\n",
       "      <th>MetroName</th>\n",
       "      <th>RegionName</th>\n",
       "    </tr>\n",
       "  </thead>\n",
       "  <tbody>\n",
       "    <tr>\n",
       "      <th>0</th>\n",
       "      <td>94587</td>\n",
       "      <td>37.6021</td>\n",
       "      <td>-122.044</td>\n",
       "      <td>Union City</td>\n",
       "      <td>Alameda</td>\n",
       "      <td>CA</td>\n",
       "      <td>California</td>\n",
       "      <td>West</td>\n",
       "      <td>union_cityalamedaca</td>\n",
       "      <td>San Francisco, CA</td>\n",
       "      <td>6001</td>\n",
       "    </tr>\n",
       "    <tr>\n",
       "      <th>1</th>\n",
       "      <td>94546</td>\n",
       "      <td>37.7483</td>\n",
       "      <td>-122.116</td>\n",
       "      <td>Castro Valley</td>\n",
       "      <td>Alameda</td>\n",
       "      <td>CA</td>\n",
       "      <td>California</td>\n",
       "      <td>West</td>\n",
       "      <td>castro_valleyalamedaca</td>\n",
       "      <td>San Francisco, CA</td>\n",
       "      <td>6001</td>\n",
       "    </tr>\n",
       "    <tr>\n",
       "      <th>2</th>\n",
       "      <td>94552</td>\n",
       "      <td>37.6953</td>\n",
       "      <td>-121.982</td>\n",
       "      <td>Castro Valley</td>\n",
       "      <td>Alameda</td>\n",
       "      <td>CA</td>\n",
       "      <td>California</td>\n",
       "      <td>West</td>\n",
       "      <td>castro_valleyalamedaca</td>\n",
       "      <td>San Francisco, CA</td>\n",
       "      <td>6001</td>\n",
       "    </tr>\n",
       "    <tr>\n",
       "      <th>3</th>\n",
       "      <td>94608</td>\n",
       "      <td>37.8347</td>\n",
       "      <td>-122.292</td>\n",
       "      <td>Emeryville</td>\n",
       "      <td>Alameda</td>\n",
       "      <td>CA</td>\n",
       "      <td>California</td>\n",
       "      <td>West</td>\n",
       "      <td>emeryvillealamedaca</td>\n",
       "      <td>San Francisco, CA</td>\n",
       "      <td>6001</td>\n",
       "    </tr>\n",
       "    <tr>\n",
       "      <th>4</th>\n",
       "      <td>94662</td>\n",
       "      <td>37.8317</td>\n",
       "      <td>-122.284</td>\n",
       "      <td>Emeryville</td>\n",
       "      <td>Alameda</td>\n",
       "      <td>CA</td>\n",
       "      <td>California</td>\n",
       "      <td>West</td>\n",
       "      <td>emeryvillealamedaca</td>\n",
       "      <td>San Francisco, CA</td>\n",
       "      <td>6001</td>\n",
       "    </tr>\n",
       "  </tbody>\n",
       "</table>\n",
       "</div>"
      ],
      "text/plain": [
       "  ZipCode      Lat     Long           City   County State   StateName  \\\n",
       "0   94587  37.6021 -122.044     Union City  Alameda    CA  California   \n",
       "1   94546  37.7483 -122.116  Castro Valley  Alameda    CA  California   \n",
       "2   94552  37.6953 -121.982  Castro Valley  Alameda    CA  California   \n",
       "3   94608  37.8347 -122.292     Emeryville  Alameda    CA  California   \n",
       "4   94662  37.8317 -122.284     Emeryville  Alameda    CA  California   \n",
       "\n",
       "  CensusRegion          Unique_City_ID          MetroName  RegionName  \n",
       "0         West     union_cityalamedaca  San Francisco, CA        6001  \n",
       "1         West  castro_valleyalamedaca  San Francisco, CA        6001  \n",
       "2         West  castro_valleyalamedaca  San Francisco, CA        6001  \n",
       "3         West     emeryvillealamedaca  San Francisco, CA        6001  \n",
       "4         West     emeryvillealamedaca  San Francisco, CA        6001  "
      ]
     },
     "metadata": {},
     "output_type": "display_data"
    },
    {
     "name": "stdout",
     "output_type": "stream",
     "text": [
      "<class 'pandas.core.frame.DataFrame'>\n",
      "RangeIndex: 2339 entries, 0 to 2338\n",
      "Data columns (total 11 columns):\n",
      " #   Column          Non-Null Count  Dtype \n",
      "---  ------          --------------  ----- \n",
      " 0   ZipCode         2339 non-null   object\n",
      " 1   Lat             2339 non-null   object\n",
      " 2   Long            2339 non-null   object\n",
      " 3   City            2339 non-null   object\n",
      " 4   County          2339 non-null   object\n",
      " 5   State           2339 non-null   object\n",
      " 6   StateName       2339 non-null   object\n",
      " 7   CensusRegion    2339 non-null   object\n",
      " 8   Unique_City_ID  2339 non-null   object\n",
      " 9   MetroName       2220 non-null   object\n",
      " 10  RegionName      2339 non-null   int64 \n",
      "dtypes: int64(1), object(10)\n",
      "memory usage: 201.1+ KB\n"
     ]
    },
    {
     "data": {
      "text/plain": [
       "None"
      ]
     },
     "metadata": {},
     "output_type": "display_data"
    }
   ],
   "source": [
    "display(zip_meta_df.head())\n",
    "display(zip_meta_df.info())"
   ]
  },
  {
   "cell_type": "code",
   "execution_count": 27,
   "metadata": {
    "scrolled": true
   },
   "outputs": [],
   "source": [
    "fips_zip_mapping_CA = zip_meta_df.copy()\n",
    "del zip_meta_df"
   ]
  },
  {
   "cell_type": "code",
   "execution_count": 28,
   "metadata": {
    "scrolled": false
   },
   "outputs": [
    {
     "name": "stdout",
     "output_type": "stream",
     "text": [
      "1115\n"
     ]
    }
   ],
   "source": [
    "missing_zips = set(fips_zip_mapping_CA['ZipCode']) - set(ca_zip_ts['ZipCode_str'])\n",
    "\n",
    "print(len(missing_zips))"
   ]
  },
  {
   "cell_type": "code",
   "execution_count": 29,
   "metadata": {},
   "outputs": [
    {
     "data": {
      "text/plain": [
       "sacramentosacramentoca          76\n",
       "san_diegosan_diegoca            51\n",
       "san_franciscosan_franciscoca    41\n",
       "fresnofresnoca                  41\n",
       "los_angeleslos_angelesca        38\n",
       "                                ..\n",
       "paradisebutteca                  1\n",
       "robbinssutterca                  1\n",
       "byroncontra_costaca              1\n",
       "homelandriversideca              1\n",
       "camarilloventuraca               1\n",
       "Name: Unique_City_ID, Length: 555, dtype: int64"
      ]
     },
     "execution_count": 29,
     "metadata": {},
     "output_type": "execute_result"
    }
   ],
   "source": [
    "missings = fips_zip_mapping_CA[fips_zip_mapping_CA['ZipCode'].isin(missing_zips)] # | \n",
    "#                                fips_zip_mapping_CA['City'].isin(missing_cities)]\n",
    "\n",
    "missings.Unique_City_ID.value_counts()"
   ]
  },
  {
   "cell_type": "code",
   "execution_count": 30,
   "metadata": {},
   "outputs": [
    {
     "data": {
      "text/plain": [
       "2426"
      ]
     },
     "execution_count": 30,
     "metadata": {},
     "output_type": "execute_result"
    }
   ],
   "source": [
    "len(set(fips_zip_mapping_CA['ZipCode']).union(set(ca_zip_ts['ZipCode_str'])))"
   ]
  },
  {
   "cell_type": "markdown",
   "metadata": {},
   "source": [
    "### Check Data Sparsity Across All Sets\n",
    "**NOTE: Will use ZHVI and ZRI group of columns since they seem to be the ones that are least sparse.**\n",
    "\n",
    "For the state of California:\n",
    "\n",
    "- Zip \n",
    "- City"
   ]
  },
  {
   "cell_type": "code",
   "execution_count": 31,
   "metadata": {},
   "outputs": [],
   "source": [
    "# To make the data more manageable to work w/, just grab the columns we give a sh* about\n",
    "ZHVI_ZRI_columns = ['ZHVIPerSqft_AllHomes', 'PctOfHomesDecreasingInValues_AllHomes',\n",
    "       'PctOfHomesIncreasingInValues_AllHomes',\n",
    "       'PctOfListingsWithPriceReductionsSeasAdj_AllHomes',\n",
    "       'PctOfListingsWithPriceReductionsSeasAdj_CondoCoop',\n",
    "       'PctOfListingsWithPriceReductionsSeasAdj_SingleFamilyResidence',\n",
    "       'PctOfListingsWithPriceReductions_AllHomes',\n",
    "       'PctOfListingsWithPriceReductions_CondoCoop',\n",
    "       'PctOfListingsWithPriceReductions_SingleFamilyResidence',\n",
    "       'PriceToRentRatio_AllHomes', 'ZHVI_1bedroom', 'ZHVI_2bedroom',\n",
    "       'ZHVI_3bedroom', 'ZHVI_4bedroom', 'ZHVI_5BedroomOrMore',\n",
    "       'ZHVI_AllHomes', 'ZHVI_BottomTier', 'ZHVI_CondoCoop', 'ZHVI_MiddleTier',\n",
    "       'ZHVI_SingleFamilyResidence', 'ZHVI_TopTier', 'ZRI_AllHomes',\n",
    "       'ZRI_AllHomesPlusMultifamily', 'ZriPerSqft_AllHomes',\n",
    "       'Zri_MultiFamilyResidenceRental', 'Zri_SingleFamilyResidenceRental']\n",
    "\n",
    "fips_loc_columns = ['ZipCode_str', 'City', 'County', 'Lat', 'Long']\n",
    "\n",
    "city_ts_columns = ['Date', 'MetroName', 'StateName', 'CensusRegion', 'Unique_City_ID', 'City', 'County', 'State']\n",
    "zip_ts_columns = ['Date', 'RegionName', 'ZipCode_str', 'City', 'County', 'Lat', 'Long']"
   ]
  },
  {
   "cell_type": "code",
   "execution_count": 32,
   "metadata": {
    "scrolled": true
   },
   "outputs": [
    {
     "data": {
      "text/plain": [
       "(201417, 34)"
      ]
     },
     "metadata": {},
     "output_type": "display_data"
    },
    {
     "data": {
      "text/plain": [
       "(332663, 33)"
      ]
     },
     "metadata": {},
     "output_type": "display_data"
    }
   ],
   "source": [
    "ca_city_zill_ts = ca_city_ts[city_ts_columns + ZHVI_ZRI_columns]\n",
    "ca_zip_zill_ts = ca_zip_ts[zip_ts_columns + ZHVI_ZRI_columns]\n",
    "\n",
    "display(ca_city_zill_ts.shape)\n",
    "display(ca_zip_zill_ts.shape)"
   ]
  },
  {
   "cell_type": "code",
   "execution_count": 33,
   "metadata": {
    "scrolled": false
   },
   "outputs": [
    {
     "data": {
      "text/plain": [
       "(332663, 39)"
      ]
     },
     "metadata": {},
     "output_type": "display_data"
    },
    {
     "name": "stdout",
     "output_type": "stream",
     "text": [
      "<class 'pandas.core.frame.DataFrame'>\n",
      "Int64Index: 332663 entries, 0 to 332662\n",
      "Data columns (total 39 columns):\n",
      " #   Column                                                         Non-Null Count   Dtype  \n",
      "---  ------                                                         --------------   -----  \n",
      " 0   Date                                                           332663 non-null  object \n",
      " 1   ZipCode_int                                                    332663 non-null  int64  \n",
      " 2   ZipCode_str                                                    332663 non-null  object \n",
      " 3   City                                                           332663 non-null  object \n",
      " 4   County                                                         332663 non-null  object \n",
      " 5   Lat                                                            332663 non-null  object \n",
      " 6   Long                                                           332663 non-null  object \n",
      " 7   ZHVIPerSqft_AllHomes                                           308639 non-null  float64\n",
      " 8   PctOfHomesDecreasingInValues_AllHomes                          296445 non-null  float64\n",
      " 9   PctOfHomesIncreasingInValues_AllHomes                          296445 non-null  float64\n",
      " 10  PctOfListingsWithPriceReductionsSeasAdj_AllHomes               71280 non-null   float64\n",
      " 11  PctOfListingsWithPriceReductionsSeasAdj_CondoCoop              6952 non-null    float64\n",
      " 12  PctOfListingsWithPriceReductionsSeasAdj_SingleFamilyResidence  62392 non-null   float64\n",
      " 13  PctOfListingsWithPriceReductions_AllHomes                      71280 non-null   float64\n",
      " 14  PctOfListingsWithPriceReductions_CondoCoop                     6952 non-null    float64\n",
      " 15  PctOfListingsWithPriceReductions_SingleFamilyResidence         62392 non-null   float64\n",
      " 16  PriceToRentRatio_AllHomes                                      104942 non-null  float64\n",
      " 17  ZHVI_1bedroom                                                  78578 non-null   float64\n",
      " 18  ZHVI_2bedroom                                                  238484 non-null  float64\n",
      " 19  ZHVI_3bedroom                                                  295858 non-null  float64\n",
      " 20  ZHVI_4bedroom                                                  268698 non-null  float64\n",
      " 21  ZHVI_5BedroomOrMore                                            205647 non-null  float64\n",
      " 22  ZHVI_AllHomes                                                  302002 non-null  float64\n",
      " 23  ZHVI_BottomTier                                                260632 non-null  float64\n",
      " 24  ZHVI_CondoCoop                                                 150161 non-null  float64\n",
      " 25  ZHVI_MiddleTier                                                301582 non-null  float64\n",
      " 26  ZHVI_SingleFamilyResidence                                     299567 non-null  float64\n",
      " 27  ZHVI_TopTier                                                   292354 non-null  float64\n",
      " 28  ZRI_AllHomes                                                   106968 non-null  float64\n",
      " 29  ZRI_AllHomesPlusMultifamily                                    107054 non-null  float64\n",
      " 30  ZriPerSqft_AllHomes                                            106555 non-null  float64\n",
      " 31  Zri_MultiFamilyResidenceRental                                 84858 non-null   float64\n",
      " 32  Zri_SingleFamilyResidenceRental                                106452 non-null  float64\n",
      " 33  RegionName                                                     310720 non-null  float64\n",
      " 34  MetroName                                                      300847 non-null  object \n",
      " 35  StateName                                                      310720 non-null  object \n",
      " 36  CensusRegion                                                   310720 non-null  object \n",
      " 37  Unique_City_ID                                                 310720 non-null  object \n",
      " 38  State                                                          310720 non-null  object \n",
      "dtypes: float64(27), int64(1), object(11)\n",
      "memory usage: 101.5+ MB\n"
     ]
    },
    {
     "data": {
      "text/plain": [
       "None"
      ]
     },
     "metadata": {},
     "output_type": "display_data"
    },
    {
     "data": {
      "text/html": [
       "<div>\n",
       "<style scoped>\n",
       "    .dataframe tbody tr th:only-of-type {\n",
       "        vertical-align: middle;\n",
       "    }\n",
       "\n",
       "    .dataframe tbody tr th {\n",
       "        vertical-align: top;\n",
       "    }\n",
       "\n",
       "    .dataframe thead th {\n",
       "        text-align: right;\n",
       "    }\n",
       "</style>\n",
       "<table border=\"1\" class=\"dataframe\">\n",
       "  <thead>\n",
       "    <tr style=\"text-align: right;\">\n",
       "      <th></th>\n",
       "      <th>Date</th>\n",
       "      <th>ZipCode_int</th>\n",
       "      <th>ZipCode_str</th>\n",
       "      <th>City</th>\n",
       "      <th>County</th>\n",
       "      <th>Lat</th>\n",
       "      <th>Long</th>\n",
       "      <th>ZHVIPerSqft_AllHomes</th>\n",
       "      <th>PctOfHomesDecreasingInValues_AllHomes</th>\n",
       "      <th>PctOfHomesIncreasingInValues_AllHomes</th>\n",
       "      <th>...</th>\n",
       "      <th>ZRI_AllHomesPlusMultifamily</th>\n",
       "      <th>ZriPerSqft_AllHomes</th>\n",
       "      <th>Zri_MultiFamilyResidenceRental</th>\n",
       "      <th>Zri_SingleFamilyResidenceRental</th>\n",
       "      <th>RegionName</th>\n",
       "      <th>MetroName</th>\n",
       "      <th>StateName</th>\n",
       "      <th>CensusRegion</th>\n",
       "      <th>Unique_City_ID</th>\n",
       "      <th>State</th>\n",
       "    </tr>\n",
       "  </thead>\n",
       "  <tbody>\n",
       "    <tr>\n",
       "      <th>0</th>\n",
       "      <td>1996-04-30</td>\n",
       "      <td>90001</td>\n",
       "      <td>90001</td>\n",
       "      <td>Los Angeles</td>\n",
       "      <td>Los Angeles</td>\n",
       "      <td>33.9736</td>\n",
       "      <td>-118.2479</td>\n",
       "      <td>108.0</td>\n",
       "      <td>NaN</td>\n",
       "      <td>NaN</td>\n",
       "      <td>...</td>\n",
       "      <td>NaN</td>\n",
       "      <td>NaN</td>\n",
       "      <td>NaN</td>\n",
       "      <td>NaN</td>\n",
       "      <td>6037.0</td>\n",
       "      <td>Los Angeles-Long Beach-Anaheim, CA</td>\n",
       "      <td>California</td>\n",
       "      <td>West</td>\n",
       "      <td>los_angeleslos_angelesca</td>\n",
       "      <td>CA</td>\n",
       "    </tr>\n",
       "    <tr>\n",
       "      <th>1</th>\n",
       "      <td>1996-04-30</td>\n",
       "      <td>90002</td>\n",
       "      <td>90002</td>\n",
       "      <td>Los Angeles</td>\n",
       "      <td>Los Angeles</td>\n",
       "      <td>33.9490</td>\n",
       "      <td>-118.2460</td>\n",
       "      <td>95.0</td>\n",
       "      <td>NaN</td>\n",
       "      <td>NaN</td>\n",
       "      <td>...</td>\n",
       "      <td>NaN</td>\n",
       "      <td>NaN</td>\n",
       "      <td>NaN</td>\n",
       "      <td>NaN</td>\n",
       "      <td>6037.0</td>\n",
       "      <td>Los Angeles-Long Beach-Anaheim, CA</td>\n",
       "      <td>California</td>\n",
       "      <td>West</td>\n",
       "      <td>los_angeleslos_angelesca</td>\n",
       "      <td>CA</td>\n",
       "    </tr>\n",
       "    <tr>\n",
       "      <th>2</th>\n",
       "      <td>1996-04-30</td>\n",
       "      <td>90003</td>\n",
       "      <td>90003</td>\n",
       "      <td>Los Angeles</td>\n",
       "      <td>Los Angeles</td>\n",
       "      <td>33.9640</td>\n",
       "      <td>-118.2737</td>\n",
       "      <td>96.0</td>\n",
       "      <td>NaN</td>\n",
       "      <td>NaN</td>\n",
       "      <td>...</td>\n",
       "      <td>NaN</td>\n",
       "      <td>NaN</td>\n",
       "      <td>NaN</td>\n",
       "      <td>NaN</td>\n",
       "      <td>6037.0</td>\n",
       "      <td>Los Angeles-Long Beach-Anaheim, CA</td>\n",
       "      <td>California</td>\n",
       "      <td>West</td>\n",
       "      <td>los_angeleslos_angelesca</td>\n",
       "      <td>CA</td>\n",
       "    </tr>\n",
       "  </tbody>\n",
       "</table>\n",
       "<p>3 rows × 39 columns</p>\n",
       "</div>"
      ],
      "text/plain": [
       "         Date  ZipCode_int ZipCode_str         City       County      Lat  \\\n",
       "0  1996-04-30        90001       90001  Los Angeles  Los Angeles  33.9736   \n",
       "1  1996-04-30        90002       90002  Los Angeles  Los Angeles  33.9490   \n",
       "2  1996-04-30        90003       90003  Los Angeles  Los Angeles  33.9640   \n",
       "\n",
       "        Long  ZHVIPerSqft_AllHomes  PctOfHomesDecreasingInValues_AllHomes  \\\n",
       "0  -118.2479                 108.0                                    NaN   \n",
       "1  -118.2460                  95.0                                    NaN   \n",
       "2  -118.2737                  96.0                                    NaN   \n",
       "\n",
       "   PctOfHomesIncreasingInValues_AllHomes  ...  ZRI_AllHomesPlusMultifamily  \\\n",
       "0                                    NaN  ...                          NaN   \n",
       "1                                    NaN  ...                          NaN   \n",
       "2                                    NaN  ...                          NaN   \n",
       "\n",
       "   ZriPerSqft_AllHomes  Zri_MultiFamilyResidenceRental  \\\n",
       "0                  NaN                             NaN   \n",
       "1                  NaN                             NaN   \n",
       "2                  NaN                             NaN   \n",
       "\n",
       "   Zri_SingleFamilyResidenceRental  RegionName  \\\n",
       "0                              NaN      6037.0   \n",
       "1                              NaN      6037.0   \n",
       "2                              NaN      6037.0   \n",
       "\n",
       "                            MetroName   StateName  CensusRegion  \\\n",
       "0  Los Angeles-Long Beach-Anaheim, CA  California          West   \n",
       "1  Los Angeles-Long Beach-Anaheim, CA  California          West   \n",
       "2  Los Angeles-Long Beach-Anaheim, CA  California          West   \n",
       "\n",
       "             Unique_City_ID  State  \n",
       "0  los_angeleslos_angelesca     CA  \n",
       "1  los_angeleslos_angelesca     CA  \n",
       "2  los_angeleslos_angelesca     CA  \n",
       "\n",
       "[3 rows x 39 columns]"
      ]
     },
     "metadata": {},
     "output_type": "display_data"
    }
   ],
   "source": [
    "ca_zip_zill_ts.rename(columns={'RegionName':'ZipCode_int'}, inplace=True)\n",
    "ca_zip_zill_ts['County'] = [countyname.replace(\" County\", \"\") if \" County\" in countyname else countyname \n",
    "                            for countyname in ca_zip_zill_ts['County']]\n",
    "\n",
    "ca_zip_w_fips = ca_zip_zill_ts.merge(fips_mapping_CA,\n",
    "                                     how='left',\n",
    "                                     on=['City', 'County'])\n",
    "\n",
    "display(ca_zip_w_fips.shape)\n",
    "display(ca_zip_w_fips.info())\n",
    "display(ca_zip_w_fips.head(3))"
   ]
  },
  {
   "cell_type": "code",
   "execution_count": 34,
   "metadata": {
    "scrolled": false
   },
   "outputs": [
    {
     "data": {
      "text/plain": [
       "(235296, 38)"
      ]
     },
     "metadata": {},
     "output_type": "display_data"
    },
    {
     "name": "stdout",
     "output_type": "stream",
     "text": [
      "<class 'pandas.core.frame.DataFrame'>\n",
      "RangeIndex: 235296 entries, 0 to 235295\n",
      "Data columns (total 38 columns):\n",
      " #   Column                                                         Non-Null Count   Dtype  \n",
      "---  ------                                                         --------------   -----  \n",
      " 0   Date                                                           235296 non-null  object \n",
      " 1   MetroName                                                      233787 non-null  object \n",
      " 2   StateName                                                      235296 non-null  object \n",
      " 3   CensusRegion                                                   235296 non-null  object \n",
      " 4   Unique_City_ID                                                 235296 non-null  object \n",
      " 5   City                                                           235296 non-null  object \n",
      " 6   County                                                         235296 non-null  object \n",
      " 7   State                                                          235296 non-null  object \n",
      " 8   ZHVIPerSqft_AllHomes                                           228139 non-null  float64\n",
      " 9   PctOfHomesDecreasingInValues_AllHomes                          221797 non-null  float64\n",
      " 10  PctOfHomesIncreasingInValues_AllHomes                          221797 non-null  float64\n",
      " 11  PctOfListingsWithPriceReductionsSeasAdj_AllHomes               64328 non-null   float64\n",
      " 12  PctOfListingsWithPriceReductionsSeasAdj_CondoCoop              36608 non-null   float64\n",
      " 13  PctOfListingsWithPriceReductionsSeasAdj_SingleFamilyResidence  61776 non-null   float64\n",
      " 14  PctOfListingsWithPriceReductions_AllHomes                      64328 non-null   float64\n",
      " 15  PctOfListingsWithPriceReductions_CondoCoop                     36608 non-null   float64\n",
      " 16  PctOfListingsWithPriceReductions_SingleFamilyResidence         61776 non-null   float64\n",
      " 17  PriceToRentRatio_AllHomes                                      77423 non-null   float64\n",
      " 18  ZHVI_1bedroom                                                  117549 non-null  float64\n",
      " 19  ZHVI_2bedroom                                                  211414 non-null  float64\n",
      " 20  ZHVI_3bedroom                                                  225080 non-null  float64\n",
      " 21  ZHVI_4bedroom                                                  220528 non-null  float64\n",
      " 22  ZHVI_5BedroomOrMore                                            206089 non-null  float64\n",
      " 23  ZHVI_AllHomes                                                  228627 non-null  float64\n",
      " 24  ZHVI_BottomTier                                                215800 non-null  float64\n",
      " 25  ZHVI_CondoCoop                                                 181184 non-null  float64\n",
      " 26  ZHVI_MiddleTier                                                228627 non-null  float64\n",
      " 27  ZHVI_SingleFamilyResidence                                     228146 non-null  float64\n",
      " 28  ZHVI_TopTier                                                   224750 non-null  float64\n",
      " 29  ZRI_AllHomes                                                   74339 non-null   float64\n",
      " 30  ZRI_AllHomesPlusMultifamily                                    74253 non-null   float64\n",
      " 31  ZriPerSqft_AllHomes                                            74425 non-null   float64\n",
      " 32  Zri_MultiFamilyResidenceRental                                 69257 non-null   float64\n",
      " 33  Zri_SingleFamilyResidenceRental                                74339 non-null   float64\n",
      " 34  ZipCode                                                        213349 non-null  object \n",
      " 35  Lat                                                            213349 non-null  object \n",
      " 36  Long                                                           213349 non-null  object \n",
      " 37  RegionName                                                     213349 non-null  float64\n",
      "dtypes: float64(27), object(11)\n",
      "memory usage: 68.2+ MB\n"
     ]
    },
    {
     "data": {
      "text/plain": [
       "None"
      ]
     },
     "metadata": {},
     "output_type": "display_data"
    },
    {
     "data": {
      "text/html": [
       "<div>\n",
       "<style scoped>\n",
       "    .dataframe tbody tr th:only-of-type {\n",
       "        vertical-align: middle;\n",
       "    }\n",
       "\n",
       "    .dataframe tbody tr th {\n",
       "        vertical-align: top;\n",
       "    }\n",
       "\n",
       "    .dataframe thead th {\n",
       "        text-align: right;\n",
       "    }\n",
       "</style>\n",
       "<table border=\"1\" class=\"dataframe\">\n",
       "  <thead>\n",
       "    <tr style=\"text-align: right;\">\n",
       "      <th></th>\n",
       "      <th>Date</th>\n",
       "      <th>MetroName</th>\n",
       "      <th>StateName</th>\n",
       "      <th>CensusRegion</th>\n",
       "      <th>Unique_City_ID</th>\n",
       "      <th>City</th>\n",
       "      <th>County</th>\n",
       "      <th>State</th>\n",
       "      <th>ZHVIPerSqft_AllHomes</th>\n",
       "      <th>PctOfHomesDecreasingInValues_AllHomes</th>\n",
       "      <th>...</th>\n",
       "      <th>ZHVI_TopTier</th>\n",
       "      <th>ZRI_AllHomes</th>\n",
       "      <th>ZRI_AllHomesPlusMultifamily</th>\n",
       "      <th>ZriPerSqft_AllHomes</th>\n",
       "      <th>Zri_MultiFamilyResidenceRental</th>\n",
       "      <th>Zri_SingleFamilyResidenceRental</th>\n",
       "      <th>ZipCode</th>\n",
       "      <th>Lat</th>\n",
       "      <th>Long</th>\n",
       "      <th>RegionName</th>\n",
       "    </tr>\n",
       "  </thead>\n",
       "  <tbody>\n",
       "    <tr>\n",
       "      <th>0</th>\n",
       "      <td>1996-04-30</td>\n",
       "      <td>Los Angeles-Long Beach-Anaheim, CA</td>\n",
       "      <td>California</td>\n",
       "      <td>West</td>\n",
       "      <td>agoura_hillslos_angelesca</td>\n",
       "      <td>Agoura Hills</td>\n",
       "      <td>Los Angeles</td>\n",
       "      <td>CA</td>\n",
       "      <td>125.0</td>\n",
       "      <td>NaN</td>\n",
       "      <td>...</td>\n",
       "      <td>462800.0</td>\n",
       "      <td>NaN</td>\n",
       "      <td>NaN</td>\n",
       "      <td>NaN</td>\n",
       "      <td>NaN</td>\n",
       "      <td>NaN</td>\n",
       "      <td>91376</td>\n",
       "      <td>34.1232</td>\n",
       "      <td>-118.77</td>\n",
       "      <td>6037.0</td>\n",
       "    </tr>\n",
       "    <tr>\n",
       "      <th>1</th>\n",
       "      <td>1996-04-30</td>\n",
       "      <td>Los Angeles-Long Beach-Anaheim, CA</td>\n",
       "      <td>California</td>\n",
       "      <td>West</td>\n",
       "      <td>alhambralos_angelesca</td>\n",
       "      <td>Alhambra</td>\n",
       "      <td>Los Angeles</td>\n",
       "      <td>CA</td>\n",
       "      <td>118.0</td>\n",
       "      <td>NaN</td>\n",
       "      <td>...</td>\n",
       "      <td>208000.0</td>\n",
       "      <td>NaN</td>\n",
       "      <td>NaN</td>\n",
       "      <td>NaN</td>\n",
       "      <td>NaN</td>\n",
       "      <td>NaN</td>\n",
       "      <td>91802</td>\n",
       "      <td>34.0954</td>\n",
       "      <td>-118.126</td>\n",
       "      <td>6037.0</td>\n",
       "    </tr>\n",
       "    <tr>\n",
       "      <th>2</th>\n",
       "      <td>1996-04-30</td>\n",
       "      <td>Los Angeles-Long Beach-Anaheim, CA</td>\n",
       "      <td>California</td>\n",
       "      <td>West</td>\n",
       "      <td>alhambralos_angelesca</td>\n",
       "      <td>Alhambra</td>\n",
       "      <td>Los Angeles</td>\n",
       "      <td>CA</td>\n",
       "      <td>118.0</td>\n",
       "      <td>NaN</td>\n",
       "      <td>...</td>\n",
       "      <td>208000.0</td>\n",
       "      <td>NaN</td>\n",
       "      <td>NaN</td>\n",
       "      <td>NaN</td>\n",
       "      <td>NaN</td>\n",
       "      <td>NaN</td>\n",
       "      <td>91804</td>\n",
       "      <td>34.0865</td>\n",
       "      <td>-118.133</td>\n",
       "      <td>6037.0</td>\n",
       "    </tr>\n",
       "  </tbody>\n",
       "</table>\n",
       "<p>3 rows × 38 columns</p>\n",
       "</div>"
      ],
      "text/plain": [
       "         Date                           MetroName   StateName CensusRegion  \\\n",
       "0  1996-04-30  Los Angeles-Long Beach-Anaheim, CA  California         West   \n",
       "1  1996-04-30  Los Angeles-Long Beach-Anaheim, CA  California         West   \n",
       "2  1996-04-30  Los Angeles-Long Beach-Anaheim, CA  California         West   \n",
       "\n",
       "              Unique_City_ID          City       County State  \\\n",
       "0  agoura_hillslos_angelesca  Agoura Hills  Los Angeles    CA   \n",
       "1      alhambralos_angelesca      Alhambra  Los Angeles    CA   \n",
       "2      alhambralos_angelesca      Alhambra  Los Angeles    CA   \n",
       "\n",
       "   ZHVIPerSqft_AllHomes  PctOfHomesDecreasingInValues_AllHomes  ...  \\\n",
       "0                 125.0                                    NaN  ...   \n",
       "1                 118.0                                    NaN  ...   \n",
       "2                 118.0                                    NaN  ...   \n",
       "\n",
       "   ZHVI_TopTier  ZRI_AllHomes  ZRI_AllHomesPlusMultifamily  \\\n",
       "0      462800.0           NaN                          NaN   \n",
       "1      208000.0           NaN                          NaN   \n",
       "2      208000.0           NaN                          NaN   \n",
       "\n",
       "   ZriPerSqft_AllHomes  Zri_MultiFamilyResidenceRental  \\\n",
       "0                  NaN                             NaN   \n",
       "1                  NaN                             NaN   \n",
       "2                  NaN                             NaN   \n",
       "\n",
       "   Zri_SingleFamilyResidenceRental  ZipCode      Lat     Long  RegionName  \n",
       "0                              NaN    91376  34.1232  -118.77      6037.0  \n",
       "1                              NaN    91802  34.0954 -118.126      6037.0  \n",
       "2                              NaN    91804  34.0865 -118.133      6037.0  \n",
       "\n",
       "[3 rows x 38 columns]"
      ]
     },
     "metadata": {},
     "output_type": "display_data"
    }
   ],
   "source": [
    "ca_w_zips_ts = ca_city_zill_ts.merge(fips_zip_mapping_CA,\n",
    "                                     on='Unique_City_ID',\n",
    "                                     how='left',\n",
    "                                     suffixes=('', '_y'))\n",
    "\n",
    "# Remove duplicate columns as a result of the merge\n",
    "for col in ca_w_zips_ts.columns:\n",
    "    if '_y' in col:\n",
    "        ca_w_zips_ts.drop(col, axis=1, inplace=True)\n",
    "    else:\n",
    "        pass\n",
    "\n",
    "ca_w_zips_ts = ca_w_zips_ts[~ca_w_zips_ts['ZipCode'].isin(list(set(ca_zip_zill_ts['ZipCode_str'])))]  \n",
    "ca_w_zips_ts.reset_index(drop=True, inplace=True)\n",
    "    \n",
    "display(ca_w_zips_ts.shape)\n",
    "display(ca_w_zips_ts.info())\n",
    "display(ca_w_zips_ts.head(3))"
   ]
  }
 ],
 "metadata": {
  "kernelspec": {
   "display_name": "rent-v-buy",
   "language": "python",
   "name": "rent-v-buy"
  },
  "language_info": {
   "codemirror_mode": {
    "name": "ipython",
    "version": 3
   },
   "file_extension": ".py",
   "mimetype": "text/x-python",
   "name": "python",
   "nbconvert_exporter": "python",
   "pygments_lexer": "ipython3",
   "version": "3.7.0"
  }
 },
 "nbformat": 4,
 "nbformat_minor": 2
}
