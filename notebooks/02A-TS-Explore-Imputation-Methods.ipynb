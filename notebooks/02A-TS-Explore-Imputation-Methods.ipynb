{
 "cells": [
  {
   "cell_type": "markdown",
   "metadata": {},
   "source": [
    "# TS-Explore Imputation Methods / Cluster TimeSeries\n",
    "**OBJECTIVE** \n",
    "- Ways to Impute:\n",
    "    - Mean & Median\n",
    "    - Rolling Mean & Median\n",
    "    - Interpolation"
   ]
  },
  {
   "cell_type": "markdown",
   "metadata": {},
   "source": [
    "### Imputation FIndings\n",
    "- The imputation techniques are miserable as shown by R2 scores that make no sense\n",
    "- Notably from the line graphs shown, the classic naive imputation technique of FillMean and / FillMed or Interpolate Time are the best for use at this time (**as a placeholder**) until another imputation technique is explored at a later time"
   ]
  },
  {
   "cell_type": "code",
   "execution_count": 1,
   "metadata": {},
   "outputs": [],
   "source": [
    "import pandas as pd \n",
    "import numpy as np\n",
    "import json\n",
    "import tqdm\n",
    "\n",
    "import warnings\n",
    "warnings.filterwarnings(\"ignore\")\n",
    "\n",
    "from collections import Counter\n",
    "from pprint import pprint\n",
    "from sklearn.metrics import r2_score\n",
    "from datetime import datetime\n",
    "\n",
    "import zipcodes\n",
    "\n",
    "import matplotlib.pyplot as plt\n",
    "import seaborn as sns\n",
    "\n",
    "# Append the entire repo parent director so files therein can be accessed in notebook\n",
    "import os\n",
    "import sys\n",
    "import pathlib\n",
    "sys.path.append(str(pathlib.Path().absolute().parent))\n",
    "\n",
    "from src import helper\n",
    "%load_ext autoreload"
   ]
  },
  {
   "cell_type": "markdown",
   "metadata": {},
   "source": [
    "### Import Data"
   ]
  },
  {
   "cell_type": "code",
   "execution_count": 6,
   "metadata": {},
   "outputs": [],
   "source": [
    "ca_zips = pd.read_pickle('../data/interim/ca-zip-w-city-ts.pickle')\n",
    "\n",
    "# ca_zips.drop(['ZipCode_int', 'CensusRegion', 'StateName'], axis=1, inplace=True)\n",
    "ca_zips.rename(columns={'RegionName':'FIPS',\n",
    "                        'ZipCode_str': 'ZipCode'}, inplace=True)\n",
    "\n",
    "ca_zips['ds'] = ca_zips['Date'].apply(lambda _ : datetime.strptime(_, \"%Y-%m-%d\"))"
   ]
  },
  {
   "cell_type": "code",
   "execution_count": 7,
   "metadata": {},
   "outputs": [],
   "source": [
    "# Overwriting the previously cleaned ca zip time series table with a cleaner one\n",
    "ca_zips.to_pickle('../data/interim/ca-zip-w-city-ts.pickle')"
   ]
  },
  {
   "cell_type": "code",
   "execution_count": 8,
   "metadata": {
    "scrolled": false
   },
   "outputs": [
    {
     "data": {
      "text/html": [
       "<div>\n",
       "<style scoped>\n",
       "    .dataframe tbody tr th:only-of-type {\n",
       "        vertical-align: middle;\n",
       "    }\n",
       "\n",
       "    .dataframe tbody tr th {\n",
       "        vertical-align: top;\n",
       "    }\n",
       "\n",
       "    .dataframe thead th {\n",
       "        text-align: right;\n",
       "    }\n",
       "</style>\n",
       "<table border=\"1\" class=\"dataframe\">\n",
       "  <thead>\n",
       "    <tr style=\"text-align: right;\">\n",
       "      <th></th>\n",
       "      <th>Date</th>\n",
       "      <th>ZipCode_int</th>\n",
       "      <th>ZipCode</th>\n",
       "      <th>City</th>\n",
       "      <th>County</th>\n",
       "      <th>Lat</th>\n",
       "      <th>Long</th>\n",
       "      <th>ZHVI_1bedroom</th>\n",
       "      <th>ZHVI_2bedroom</th>\n",
       "      <th>ZHVI_3bedroom</th>\n",
       "      <th>...</th>\n",
       "      <th>ZriPerSqft_AllHomes</th>\n",
       "      <th>Zri_MultiFamilyResidenceRental</th>\n",
       "      <th>Zri_SingleFamilyResidenceRental</th>\n",
       "      <th>FIPS</th>\n",
       "      <th>MetroName</th>\n",
       "      <th>StateName</th>\n",
       "      <th>CensusRegion</th>\n",
       "      <th>Unique_City_ID</th>\n",
       "      <th>State</th>\n",
       "      <th>ds</th>\n",
       "    </tr>\n",
       "  </thead>\n",
       "  <tbody>\n",
       "    <tr>\n",
       "      <th>0</th>\n",
       "      <td>1996-04-30</td>\n",
       "      <td>90001</td>\n",
       "      <td>90001</td>\n",
       "      <td>Los Angeles</td>\n",
       "      <td>Los Angeles</td>\n",
       "      <td>33.9736</td>\n",
       "      <td>-118.2479</td>\n",
       "      <td>94000.0</td>\n",
       "      <td>107300.0</td>\n",
       "      <td>121600.0</td>\n",
       "      <td>...</td>\n",
       "      <td>NaN</td>\n",
       "      <td>NaN</td>\n",
       "      <td>NaN</td>\n",
       "      <td>6037.0</td>\n",
       "      <td>Los Angeles-Long Beach-Anaheim, CA</td>\n",
       "      <td>California</td>\n",
       "      <td>West</td>\n",
       "      <td>los_angeleslos_angelesca</td>\n",
       "      <td>CA</td>\n",
       "      <td>1996-04-30</td>\n",
       "    </tr>\n",
       "    <tr>\n",
       "      <th>1</th>\n",
       "      <td>1996-04-30</td>\n",
       "      <td>90002</td>\n",
       "      <td>90002</td>\n",
       "      <td>Los Angeles</td>\n",
       "      <td>Los Angeles</td>\n",
       "      <td>33.9490</td>\n",
       "      <td>-118.2460</td>\n",
       "      <td>NaN</td>\n",
       "      <td>92700.0</td>\n",
       "      <td>111900.0</td>\n",
       "      <td>...</td>\n",
       "      <td>NaN</td>\n",
       "      <td>NaN</td>\n",
       "      <td>NaN</td>\n",
       "      <td>6037.0</td>\n",
       "      <td>Los Angeles-Long Beach-Anaheim, CA</td>\n",
       "      <td>California</td>\n",
       "      <td>West</td>\n",
       "      <td>los_angeleslos_angelesca</td>\n",
       "      <td>CA</td>\n",
       "      <td>1996-04-30</td>\n",
       "    </tr>\n",
       "    <tr>\n",
       "      <th>2</th>\n",
       "      <td>1996-04-30</td>\n",
       "      <td>90003</td>\n",
       "      <td>90003</td>\n",
       "      <td>Los Angeles</td>\n",
       "      <td>Los Angeles</td>\n",
       "      <td>33.9640</td>\n",
       "      <td>-118.2737</td>\n",
       "      <td>77800.0</td>\n",
       "      <td>90300.0</td>\n",
       "      <td>116400.0</td>\n",
       "      <td>...</td>\n",
       "      <td>NaN</td>\n",
       "      <td>NaN</td>\n",
       "      <td>NaN</td>\n",
       "      <td>6037.0</td>\n",
       "      <td>Los Angeles-Long Beach-Anaheim, CA</td>\n",
       "      <td>California</td>\n",
       "      <td>West</td>\n",
       "      <td>los_angeleslos_angelesca</td>\n",
       "      <td>CA</td>\n",
       "      <td>1996-04-30</td>\n",
       "    </tr>\n",
       "  </tbody>\n",
       "</table>\n",
       "<p>3 rows × 30 columns</p>\n",
       "</div>"
      ],
      "text/plain": [
       "         Date  ZipCode_int ZipCode         City       County      Lat  \\\n",
       "0  1996-04-30        90001   90001  Los Angeles  Los Angeles  33.9736   \n",
       "1  1996-04-30        90002   90002  Los Angeles  Los Angeles  33.9490   \n",
       "2  1996-04-30        90003   90003  Los Angeles  Los Angeles  33.9640   \n",
       "\n",
       "        Long  ZHVI_1bedroom  ZHVI_2bedroom  ZHVI_3bedroom  ...  \\\n",
       "0  -118.2479        94000.0       107300.0       121600.0  ...   \n",
       "1  -118.2460            NaN        92700.0       111900.0  ...   \n",
       "2  -118.2737        77800.0        90300.0       116400.0  ...   \n",
       "\n",
       "   ZriPerSqft_AllHomes  Zri_MultiFamilyResidenceRental  \\\n",
       "0                  NaN                             NaN   \n",
       "1                  NaN                             NaN   \n",
       "2                  NaN                             NaN   \n",
       "\n",
       "   Zri_SingleFamilyResidenceRental    FIPS  \\\n",
       "0                              NaN  6037.0   \n",
       "1                              NaN  6037.0   \n",
       "2                              NaN  6037.0   \n",
       "\n",
       "                            MetroName   StateName  CensusRegion  \\\n",
       "0  Los Angeles-Long Beach-Anaheim, CA  California          West   \n",
       "1  Los Angeles-Long Beach-Anaheim, CA  California          West   \n",
       "2  Los Angeles-Long Beach-Anaheim, CA  California          West   \n",
       "\n",
       "             Unique_City_ID  State         ds  \n",
       "0  los_angeleslos_angelesca     CA 1996-04-30  \n",
       "1  los_angeleslos_angelesca     CA 1996-04-30  \n",
       "2  los_angeleslos_angelesca     CA 1996-04-30  \n",
       "\n",
       "[3 rows x 30 columns]"
      ]
     },
     "execution_count": 8,
     "metadata": {},
     "output_type": "execute_result"
    }
   ],
   "source": [
    "ca_zips.head(3)"
   ]
  },
  {
   "cell_type": "code",
   "execution_count": 9,
   "metadata": {},
   "outputs": [
    {
     "name": "stdout",
     "output_type": "stream",
     "text": [
      "<class 'pandas.core.frame.DataFrame'>\n",
      "Int64Index: 332663 entries, 0 to 332662\n",
      "Data columns (total 30 columns):\n",
      " #   Column                           Non-Null Count   Dtype         \n",
      "---  ------                           --------------   -----         \n",
      " 0   Date                             332663 non-null  object        \n",
      " 1   ZipCode_int                      332663 non-null  int64         \n",
      " 2   ZipCode                          332663 non-null  object        \n",
      " 3   City                             332663 non-null  object        \n",
      " 4   County                           332663 non-null  object        \n",
      " 5   Lat                              332663 non-null  object        \n",
      " 6   Long                             332663 non-null  object        \n",
      " 7   ZHVI_1bedroom                    78578 non-null   float64       \n",
      " 8   ZHVI_2bedroom                    238484 non-null  float64       \n",
      " 9   ZHVI_3bedroom                    295858 non-null  float64       \n",
      " 10  ZHVI_4bedroom                    268698 non-null  float64       \n",
      " 11  ZHVI_5BedroomOrMore              205647 non-null  float64       \n",
      " 12  ZHVI_AllHomes                    302002 non-null  float64       \n",
      " 13  ZHVI_BottomTier                  260632 non-null  float64       \n",
      " 14  ZHVI_CondoCoop                   150161 non-null  float64       \n",
      " 15  ZHVI_MiddleTier                  301582 non-null  float64       \n",
      " 16  ZHVI_SingleFamilyResidence       299567 non-null  float64       \n",
      " 17  ZHVI_TopTier                     292354 non-null  float64       \n",
      " 18  ZRI_AllHomes                     106968 non-null  float64       \n",
      " 19  ZRI_AllHomesPlusMultifamily      107054 non-null  float64       \n",
      " 20  ZriPerSqft_AllHomes              106555 non-null  float64       \n",
      " 21  Zri_MultiFamilyResidenceRental   84858 non-null   float64       \n",
      " 22  Zri_SingleFamilyResidenceRental  106452 non-null  float64       \n",
      " 23  FIPS                             310720 non-null  float64       \n",
      " 24  MetroName                        300847 non-null  object        \n",
      " 25  StateName                        310720 non-null  object        \n",
      " 26  CensusRegion                     310720 non-null  object        \n",
      " 27  Unique_City_ID                   310720 non-null  object        \n",
      " 28  State                            310720 non-null  object        \n",
      " 29  ds                               332663 non-null  datetime64[ns]\n",
      "dtypes: datetime64[ns](1), float64(17), int64(1), object(11)\n",
      "memory usage: 78.7+ MB\n"
     ]
    }
   ],
   "source": [
    "ca_zips.info()"
   ]
  },
  {
   "cell_type": "code",
   "execution_count": 10,
   "metadata": {
    "scrolled": false
   },
   "outputs": [
    {
     "data": {
      "text/plain": [
       "1311"
      ]
     },
     "execution_count": 10,
     "metadata": {},
     "output_type": "execute_result"
    }
   ],
   "source": [
    "all_zips = list(set(ca_zips['ZipCode']))\n",
    "len(all_zips)"
   ]
  },
  {
   "cell_type": "code",
   "execution_count": 11,
   "metadata": {},
   "outputs": [
    {
     "data": {
      "text/plain": [
       "322"
      ]
     },
     "execution_count": 11,
     "metadata": {},
     "output_type": "execute_result"
    }
   ],
   "source": [
    "# Count how many zip codes have no rental information\n",
    "\n",
    "no_rental_zips = set()\n",
    "for zipcode in all_zips:\n",
    "    sub_df = ca_zips[ca_zips['ZipCode'] == zipcode]\n",
    "    if sub_df['Zri_MultiFamilyResidenceRental'].isnull().sum() == len(sub_df):\n",
    "        no_rental_zips.add(zipcode)\n",
    "    else:\n",
    "        pass\n",
    "    \n",
    "len(no_rental_zips)"
   ]
  },
  {
   "cell_type": "code",
   "execution_count": 15,
   "metadata": {},
   "outputs": [
    {
     "name": "stdout",
     "output_type": "stream",
     "text": [
      "90210\n",
      "1996-04-30 00:00:00\n",
      "2017-12-31 00:00:00\n"
     ]
    }
   ],
   "source": [
    "# Count how many zip codes only have actual data for during the recession\n",
    "\n",
    "test_zip = '90210'\n",
    "print(test_zip)\n",
    "print(ca_zips[ca_zips['ZipCode'] == test_zip].ds.min())\n",
    "print(ca_zips[ca_zips['ZipCode'] == test_zip].ds.max())\n",
    "\n",
    "\n",
    "zip_minmax_dates = dict()\n",
    "\n",
    "for zipcode in all_zips:\n",
    "    sub_df = ca_zips[ca_zips['ZipCode'] == zipcode]\n",
    "    zip_minmax_dates[zipcode] = {'min_date': sub_df.ds.min(),\n",
    "                                 'max_date': sub_df.ds.max()}"
   ]
  },
  {
   "cell_type": "code",
   "execution_count": 22,
   "metadata": {
    "scrolled": true
   },
   "outputs": [
    {
     "data": {
      "text/html": [
       "<div>\n",
       "<style scoped>\n",
       "    .dataframe tbody tr th:only-of-type {\n",
       "        vertical-align: middle;\n",
       "    }\n",
       "\n",
       "    .dataframe tbody tr th {\n",
       "        vertical-align: top;\n",
       "    }\n",
       "\n",
       "    .dataframe thead th {\n",
       "        text-align: right;\n",
       "    }\n",
       "</style>\n",
       "<table border=\"1\" class=\"dataframe\">\n",
       "  <thead>\n",
       "    <tr style=\"text-align: right;\">\n",
       "      <th></th>\n",
       "      <th>zip_code</th>\n",
       "      <th>min_date</th>\n",
       "      <th>max_date</th>\n",
       "    </tr>\n",
       "  </thead>\n",
       "  <tbody>\n",
       "    <tr>\n",
       "      <th>567</th>\n",
       "      <td>95310</td>\n",
       "      <td>2005-01-31</td>\n",
       "      <td>2006-12-31</td>\n",
       "    </tr>\n",
       "    <tr>\n",
       "      <th>670</th>\n",
       "      <td>93243</td>\n",
       "      <td>1997-02-28</td>\n",
       "      <td>2002-07-31</td>\n",
       "    </tr>\n",
       "    <tr>\n",
       "      <th>974</th>\n",
       "      <td>96090</td>\n",
       "      <td>2008-03-31</td>\n",
       "      <td>2009-06-30</td>\n",
       "    </tr>\n",
       "    <tr>\n",
       "      <th>1014</th>\n",
       "      <td>95246</td>\n",
       "      <td>2002-08-31</td>\n",
       "      <td>2015-08-31</td>\n",
       "    </tr>\n",
       "    <tr>\n",
       "      <th>1094</th>\n",
       "      <td>95220</td>\n",
       "      <td>1997-02-28</td>\n",
       "      <td>2002-07-31</td>\n",
       "    </tr>\n",
       "  </tbody>\n",
       "</table>\n",
       "</div>"
      ],
      "text/plain": [
       "     zip_code   min_date   max_date\n",
       "567     95310 2005-01-31 2006-12-31\n",
       "670     93243 1997-02-28 2002-07-31\n",
       "974     96090 2008-03-31 2009-06-30\n",
       "1014    95246 2002-08-31 2015-08-31\n",
       "1094    95220 1997-02-28 2002-07-31"
      ]
     },
     "execution_count": 22,
     "metadata": {},
     "output_type": "execute_result"
    }
   ],
   "source": [
    "min_max_dates_df = pd.DataFrame(zip_minmax_dates).T\n",
    "min_max_dates_df.reset_index(inplace=True)\n",
    "min_max_dates_df.rename(columns={'index':'zip_code'}, inplace=True)\n",
    "\n",
    "excl_these = min_max_dates_df[(min_max_dates_df['max_date'] < '2017')]\n",
    "excl_these"
   ]
  },
  {
   "cell_type": "code",
   "execution_count": 23,
   "metadata": {},
   "outputs": [
    {
     "data": {
      "text/plain": [
       "['95310', '93243', '96090', '95246', '95220', '96041']"
      ]
     },
     "execution_count": 23,
     "metadata": {},
     "output_type": "execute_result"
    }
   ],
   "source": [
    "zips_to_exclude = excl_these['zip_code'].tolist() + ['96041']\n",
    "zips_to_exclude"
   ]
  },
  {
   "cell_type": "markdown",
   "metadata": {},
   "source": [
    "### Create test dataframe using a test zipcode"
   ]
  },
  {
   "cell_type": "code",
   "execution_count": 8,
   "metadata": {},
   "outputs": [],
   "source": [
    "test_zip = '90210'"
   ]
  },
  {
   "cell_type": "code",
   "execution_count": 9,
   "metadata": {},
   "outputs": [
    {
     "data": {
      "text/plain": [
       "(261, 26)"
      ]
     },
     "execution_count": 9,
     "metadata": {},
     "output_type": "execute_result"
    }
   ],
   "source": [
    "test_ts = ca_zips[ca_zips['ZipCode'] == test_zip]\n",
    "test_ts.reset_index(drop=True, inplace=True)\n",
    "test_ts.shape"
   ]
  },
  {
   "cell_type": "code",
   "execution_count": 10,
   "metadata": {},
   "outputs": [
    {
     "data": {
      "text/html": [
       "<div>\n",
       "<style scoped>\n",
       "    .dataframe tbody tr th:only-of-type {\n",
       "        vertical-align: middle;\n",
       "    }\n",
       "\n",
       "    .dataframe tbody tr th {\n",
       "        vertical-align: top;\n",
       "    }\n",
       "\n",
       "    .dataframe thead th {\n",
       "        text-align: right;\n",
       "    }\n",
       "</style>\n",
       "<table border=\"1\" class=\"dataframe\">\n",
       "  <thead>\n",
       "    <tr style=\"text-align: right;\">\n",
       "      <th></th>\n",
       "      <th>Date</th>\n",
       "      <th>ZipCode</th>\n",
       "      <th>City</th>\n",
       "      <th>County</th>\n",
       "      <th>Lat</th>\n",
       "      <th>Long</th>\n",
       "      <th>ZHVI_1bedroom</th>\n",
       "      <th>ZHVI_2bedroom</th>\n",
       "      <th>ZHVI_3bedroom</th>\n",
       "      <th>ZHVI_4bedroom</th>\n",
       "      <th>...</th>\n",
       "      <th>ZHVI_TopTier</th>\n",
       "      <th>ZRI_AllHomes</th>\n",
       "      <th>ZRI_AllHomesPlusMultifamily</th>\n",
       "      <th>Zri_MultiFamilyResidenceRental</th>\n",
       "      <th>Zri_SingleFamilyResidenceRental</th>\n",
       "      <th>FIPS</th>\n",
       "      <th>MetroName</th>\n",
       "      <th>Unique_City_ID</th>\n",
       "      <th>State</th>\n",
       "      <th>ds</th>\n",
       "    </tr>\n",
       "  </thead>\n",
       "  <tbody>\n",
       "    <tr>\n",
       "      <th>249</th>\n",
       "      <td>2017-01-31</td>\n",
       "      <td>90210</td>\n",
       "      <td>Beverly Hills</td>\n",
       "      <td>Los Angeles</td>\n",
       "      <td>34.1031</td>\n",
       "      <td>-118.4163</td>\n",
       "      <td>891400.0</td>\n",
       "      <td>1459700.0</td>\n",
       "      <td>2837600.0</td>\n",
       "      <td>5331200.0</td>\n",
       "      <td>...</td>\n",
       "      <td>9887500.0</td>\n",
       "      <td>17636.0</td>\n",
       "      <td>16132.0</td>\n",
       "      <td>4398.0</td>\n",
       "      <td>19872.0</td>\n",
       "      <td>6037.0</td>\n",
       "      <td>Los Angeles-Long Beach-Anaheim, CA</td>\n",
       "      <td>beverly_hillslos_angelesca</td>\n",
       "      <td>CA</td>\n",
       "      <td>2017-01-31</td>\n",
       "    </tr>\n",
       "    <tr>\n",
       "      <th>250</th>\n",
       "      <td>2017-02-28</td>\n",
       "      <td>90210</td>\n",
       "      <td>Beverly Hills</td>\n",
       "      <td>Los Angeles</td>\n",
       "      <td>34.1031</td>\n",
       "      <td>-118.4163</td>\n",
       "      <td>895400.0</td>\n",
       "      <td>1453100.0</td>\n",
       "      <td>2829800.0</td>\n",
       "      <td>5358100.0</td>\n",
       "      <td>...</td>\n",
       "      <td>9962700.0</td>\n",
       "      <td>17368.0</td>\n",
       "      <td>15954.0</td>\n",
       "      <td>4395.0</td>\n",
       "      <td>19732.0</td>\n",
       "      <td>6037.0</td>\n",
       "      <td>Los Angeles-Long Beach-Anaheim, CA</td>\n",
       "      <td>beverly_hillslos_angelesca</td>\n",
       "      <td>CA</td>\n",
       "      <td>2017-02-28</td>\n",
       "    </tr>\n",
       "    <tr>\n",
       "      <th>251</th>\n",
       "      <td>2017-03-31</td>\n",
       "      <td>90210</td>\n",
       "      <td>Beverly Hills</td>\n",
       "      <td>Los Angeles</td>\n",
       "      <td>34.1031</td>\n",
       "      <td>-118.4163</td>\n",
       "      <td>892900.0</td>\n",
       "      <td>1459500.0</td>\n",
       "      <td>2822200.0</td>\n",
       "      <td>5385200.0</td>\n",
       "      <td>...</td>\n",
       "      <td>10072500.0</td>\n",
       "      <td>17182.0</td>\n",
       "      <td>15879.0</td>\n",
       "      <td>4396.0</td>\n",
       "      <td>19600.0</td>\n",
       "      <td>6037.0</td>\n",
       "      <td>Los Angeles-Long Beach-Anaheim, CA</td>\n",
       "      <td>beverly_hillslos_angelesca</td>\n",
       "      <td>CA</td>\n",
       "      <td>2017-03-31</td>\n",
       "    </tr>\n",
       "  </tbody>\n",
       "</table>\n",
       "<p>3 rows × 26 columns</p>\n",
       "</div>"
      ],
      "text/plain": [
       "           Date ZipCode           City       County      Lat       Long  \\\n",
       "249  2017-01-31   90210  Beverly Hills  Los Angeles  34.1031  -118.4163   \n",
       "250  2017-02-28   90210  Beverly Hills  Los Angeles  34.1031  -118.4163   \n",
       "251  2017-03-31   90210  Beverly Hills  Los Angeles  34.1031  -118.4163   \n",
       "\n",
       "     ZHVI_1bedroom  ZHVI_2bedroom  ZHVI_3bedroom  ZHVI_4bedroom  ...  \\\n",
       "249       891400.0      1459700.0      2837600.0      5331200.0  ...   \n",
       "250       895400.0      1453100.0      2829800.0      5358100.0  ...   \n",
       "251       892900.0      1459500.0      2822200.0      5385200.0  ...   \n",
       "\n",
       "     ZHVI_TopTier  ZRI_AllHomes  ZRI_AllHomesPlusMultifamily  \\\n",
       "249     9887500.0       17636.0                      16132.0   \n",
       "250     9962700.0       17368.0                      15954.0   \n",
       "251    10072500.0       17182.0                      15879.0   \n",
       "\n",
       "     Zri_MultiFamilyResidenceRental  Zri_SingleFamilyResidenceRental    FIPS  \\\n",
       "249                          4398.0                          19872.0  6037.0   \n",
       "250                          4395.0                          19732.0  6037.0   \n",
       "251                          4396.0                          19600.0  6037.0   \n",
       "\n",
       "                              MetroName              Unique_City_ID  State  \\\n",
       "249  Los Angeles-Long Beach-Anaheim, CA  beverly_hillslos_angelesca     CA   \n",
       "250  Los Angeles-Long Beach-Anaheim, CA  beverly_hillslos_angelesca     CA   \n",
       "251  Los Angeles-Long Beach-Anaheim, CA  beverly_hillslos_angelesca     CA   \n",
       "\n",
       "            ds  \n",
       "249 2017-01-31  \n",
       "250 2017-02-28  \n",
       "251 2017-03-31  \n",
       "\n",
       "[3 rows x 26 columns]"
      ]
     },
     "execution_count": 10,
     "metadata": {},
     "output_type": "execute_result"
    }
   ],
   "source": [
    "# I know BH properties are CRAZY expensive, so this is just to sanity check that ZHVI and ZRI are aligned\n",
    "# w/ recent market prices in the last few years\n",
    "\n",
    "test_ts[test_ts['Date'].str.contains('2017')].head(3)"
   ]
  },
  {
   "cell_type": "code",
   "execution_count": 11,
   "metadata": {
    "scrolled": true
   },
   "outputs": [
    {
     "name": "stdout",
     "output_type": "stream",
     "text": [
      "['ZHVI_1bedroom',\n",
      " 'ZHVI_2bedroom',\n",
      " 'ZHVI_3bedroom',\n",
      " 'ZHVI_4bedroom',\n",
      " 'ZHVI_5BedroomOrMore',\n",
      " 'ZHVI_AllHomes',\n",
      " 'ZHVI_BottomTier',\n",
      " 'ZHVI_CondoCoop',\n",
      " 'ZHVI_MiddleTier',\n",
      " 'ZHVI_SingleFamilyResidence',\n",
      " 'ZHVI_TopTier']\n",
      "['ZRI_AllHomes',\n",
      " 'ZRI_AllHomesPlusMultifamily',\n",
      " 'Zri_MultiFamilyResidenceRental',\n",
      " 'Zri_SingleFamilyResidenceRental']\n"
     ]
    }
   ],
   "source": [
    "zhvi_cols = [col for col in ca_zips.columns if 'zhvi' in col.lower()]\n",
    "zri_cols = [col for col in ca_zips.columns if 'zri' in col.lower()]\n",
    "\n",
    "pprint(zhvi_cols)\n",
    "pprint(zri_cols)"
   ]
  },
  {
   "cell_type": "markdown",
   "metadata": {},
   "source": [
    "### Ways to Impute\n",
    "- Median / Mean / Mode\n",
    "- Rolling Average\n",
    "- Interpolation using Different Methods:\n",
    "    - Time\n",
    "    - Linear\n",
    "    - CubicSpline"
   ]
  },
  {
   "cell_type": "code",
   "execution_count": 12,
   "metadata": {},
   "outputs": [
    {
     "name": "stdout",
     "output_type": "stream",
     "text": [
      "<class 'pandas.core.frame.DataFrame'>\n",
      "DatetimeIndex: 261 entries, 1996-04-30 to 2017-12-31\n",
      "Data columns (total 3 columns):\n",
      " #   Column     Non-Null Count  Dtype  \n",
      "---  ------     --------------  -----  \n",
      " 0   y          86 non-null     float64\n",
      " 1   reference  261 non-null    float64\n",
      " 2   missing    175 non-null    float64\n",
      "dtypes: float64(3)\n",
      "memory usage: 8.2 KB\n",
      "None\n"
     ]
    },
    {
     "data": {
      "image/png": "[encoded data removed]",
      "text/plain": [
       "<Figure size 1080x504 with 1 Axes>"
      ]
     },
     "metadata": {
      "needs_background": "light"
     },
     "output_type": "display_data"
    }
   ],
   "source": [
    "imputations = pd.DataFrame(test_ts[['Date', 'Zri_MultiFamilyResidenceRental', 'ZHVI_SingleFamilyResidence']])\n",
    "imputations.rename(columns={'Zri_MultiFamilyResidenceRental':'y',\n",
    "                            'ZHVI_SingleFamilyResidence':'reference',\n",
    "                            'Date': 'ds'}, inplace=True)\n",
    "\n",
    "imputations = imputations.assign(ds=imputations.ds.apply(lambda _ : datetime.strptime(_, \"%Y-%m-%d\")))\n",
    "imputations.set_index('ds', inplace=True)\n",
    "\n",
    "imputations = imputations.assign(missing=np.nan)\n",
    "imputations.missing[imputations.y.isna()] = imputations.reference\n",
    "print(imputations.info())\n",
    "\n",
    "imputations.plot(style=['k--', 'bo-', 'r*'], figsize=(15, 7));"
   ]
  },
  {
   "cell_type": "code",
   "execution_count": 13,
   "metadata": {},
   "outputs": [],
   "source": [
    "# Mean & Median\n",
    "imputations = imputations.assign(FillMean=imputations.y.fillna(imputations.y.mean()))\n",
    "imputations = imputations.assign(FillMed=imputations.y.fillna(imputations.y.median()))\n",
    "\n",
    "# Rolling Mean & Median\n",
    "imputations = imputations.assign(RollingMean=imputations.y.fillna(imputations.y.rolling(12, min_periods=1).mean()))\n",
    "imputations = imputations.assign(RollingMed=imputations.y.fillna(imputations.y.rolling(12, min_periods=1).median()))\n",
    "\n",
    "# Interpolation \n",
    "imputations = imputations.assign(InterpolLin=imputations.y.interpolate(method='linear', limit_direction='both'))\n",
    "imputations = imputations.assign(InterpolTime=imputations.y.interpolate(method='time', limit_direction='both'))\n",
    "imputations = imputations.assign(InterpolCubSpl=imputations.y.interpolate(method='spline', order=3, limit_direction='both'))"
   ]
  },
  {
   "cell_type": "markdown",
   "metadata": {},
   "source": [
    "#### FIndings\n",
    "- The imputation techniques are miserable as shown by R2 scores that make no sense\n",
    "- Notably from the line graphs shown, the classic naive imputation technique of FillMean and / FillMed or Interpolate Time are the best for use at this time (**as a placeholder**) until another imputation technique is explored at a later time"
   ]
  },
  {
   "cell_type": "code",
   "execution_count": 14,
   "metadata": {},
   "outputs": [
    {
     "data": {
      "text/html": [
       "<div>\n",
       "<style scoped>\n",
       "    .dataframe tbody tr th:only-of-type {\n",
       "        vertical-align: middle;\n",
       "    }\n",
       "\n",
       "    .dataframe tbody tr th {\n",
       "        vertical-align: top;\n",
       "    }\n",
       "\n",
       "    .dataframe thead th {\n",
       "        text-align: right;\n",
       "    }\n",
       "</style>\n",
       "<table border=\"1\" class=\"dataframe\">\n",
       "  <thead>\n",
       "    <tr style=\"text-align: right;\">\n",
       "      <th></th>\n",
       "      <th>Method</th>\n",
       "      <th>R2_score</th>\n",
       "    </tr>\n",
       "  </thead>\n",
       "  <tbody>\n",
       "    <tr>\n",
       "      <th>0</th>\n",
       "      <td>FillMean</td>\n",
       "      <td>-6.467863</td>\n",
       "    </tr>\n",
       "    <tr>\n",
       "      <th>1</th>\n",
       "      <td>FillMed</td>\n",
       "      <td>-6.468427</td>\n",
       "    </tr>\n",
       "    <tr>\n",
       "      <th>2</th>\n",
       "      <td>InterpolLin</td>\n",
       "      <td>-6.468935</td>\n",
       "    </tr>\n",
       "    <tr>\n",
       "      <th>3</th>\n",
       "      <td>InterpolTime</td>\n",
       "      <td>-6.468935</td>\n",
       "    </tr>\n",
       "    <tr>\n",
       "      <th>4</th>\n",
       "      <td>InterpolCubSpl</td>\n",
       "      <td>-8.496712</td>\n",
       "    </tr>\n",
       "  </tbody>\n",
       "</table>\n",
       "</div>"
      ],
      "text/plain": [
       "           Method  R2_score\n",
       "0        FillMean -6.467863\n",
       "1         FillMed -6.468427\n",
       "2     InterpolLin -6.468935\n",
       "3    InterpolTime -6.468935\n",
       "4  InterpolCubSpl -8.496712"
      ]
     },
     "execution_count": 14,
     "metadata": {},
     "output_type": "execute_result"
    }
   ],
   "source": [
    "impute_results = []\n",
    "\n",
    "for method in list(imputations)[3:]:\n",
    "    try:\n",
    "        result = r2_score(imputations.reference, imputations[method])\n",
    "        impute_results.append((method, result))\n",
    "    except:\n",
    "        pass\n",
    "    \n",
    "impute_results = pd.DataFrame(impute_results, columns=['Method', 'R2_score'])\n",
    "impute_results"
   ]
  },
  {
   "cell_type": "code",
   "execution_count": 15,
   "metadata": {
    "scrolled": false
   },
   "outputs": [
    {
     "data": {
      "image/png": "[encoded data removed]",
      "text/plain": [
       "<Figure size 1440x1080 with 7 Axes>"
      ]
     },
     "metadata": {
      "needs_background": "light"
     },
     "output_type": "display_data"
    }
   ],
   "source": [
    "fig = plt.figure(1, figsize=(20, 15))\n",
    "for i, method in enumerate(list(imputations)[3:]):\n",
    "    fig.add_subplot(4, 2, i+1) \n",
    "    plt.plot(imputations[['y', method]])\n",
    "    plt.ylim(1000, imputations.y.max() + 500)\n",
    "    plt.xlim(imputations.index.min(), imputations.index.max())\n",
    "    plt.title(method)"
   ]
  },
  {
   "cell_type": "markdown",
   "metadata": {},
   "source": [
    "#### For all ZipCodes, fill the missing values by using `pandas.Series.interpolate()` specifying Time"
   ]
  },
  {
   "cell_type": "code",
   "execution_count": 24,
   "metadata": {},
   "outputs": [
    {
     "data": {
      "text/plain": [
       "Index(['ds', 'ZipCode', 'ZHVI_SingleFamilyResidence',\n",
       "       'Zri_MultiFamilyResidenceRental'],\n",
       "      dtype='object')"
      ]
     },
     "execution_count": 24,
     "metadata": {},
     "output_type": "execute_result"
    }
   ],
   "source": [
    "interpol = ca_zips.copy()\n",
    "\n",
    "interpol = interpol[['ds', 'ZipCode', 'ZHVI_SingleFamilyResidence', 'Zri_MultiFamilyResidenceRental']]\n",
    "interpol.columns"
   ]
  },
  {
   "cell_type": "code",
   "execution_count": 25,
   "metadata": {},
   "outputs": [
    {
     "name": "stdout",
     "output_type": "stream",
     "text": [
      "<class 'pandas.core.frame.DataFrame'>\n",
      "Int64Index: 332663 entries, 0 to 332662\n",
      "Data columns (total 4 columns):\n",
      " #   Column                          Non-Null Count   Dtype         \n",
      "---  ------                          --------------   -----         \n",
      " 0   ds                              332663 non-null  datetime64[ns]\n",
      " 1   ZipCode                         332663 non-null  object        \n",
      " 2   ZHVI_SingleFamilyResidence      299567 non-null  float64       \n",
      " 3   Zri_MultiFamilyResidenceRental  84858 non-null   float64       \n",
      "dtypes: datetime64[ns](1), float64(2), object(1)\n",
      "memory usage: 12.7+ MB\n"
     ]
    }
   ],
   "source": [
    "interpol.info()"
   ]
  },
  {
   "cell_type": "code",
   "execution_count": 17,
   "metadata": {},
   "outputs": [
    {
     "name": "stdout",
     "output_type": "stream",
     "text": [
      "<class 'pandas.core.frame.DataFrame'>\n",
      "Int64Index: 332663 entries, 0 to 332662\n",
      "Data columns (total 4 columns):\n",
      " #   Column                          Non-Null Count   Dtype         \n",
      "---  ------                          --------------   -----         \n",
      " 0   ZipCode                         332663 non-null  object        \n",
      " 1   ZHVI_SingleFamilyResidence      299567 non-null  float64       \n",
      " 2   Zri_MultiFamilyResidenceRental  84858 non-null   float64       \n",
      " 3   ds                              332663 non-null  datetime64[ns]\n",
      "dtypes: datetime64[ns](1), float64(2), object(1)\n",
      "memory usage: 12.7+ MB\n"
     ]
    }
   ],
   "source": [
    "interpol['ds'] = interpol.Date.apply(lambda _ : datetime.strptime(_, \"%Y-%m-%d\"))\n",
    "interpol.drop('Date', axis=1, inplace=True)\n",
    "interpol.info()"
   ]
  },
  {
   "cell_type": "code",
   "execution_count": 18,
   "metadata": {
    "scrolled": false
   },
   "outputs": [
    {
     "data": {
      "text/html": [
       "<div>\n",
       "<style scoped>\n",
       "    .dataframe tbody tr th:only-of-type {\n",
       "        vertical-align: middle;\n",
       "    }\n",
       "\n",
       "    .dataframe tbody tr th {\n",
       "        vertical-align: top;\n",
       "    }\n",
       "\n",
       "    .dataframe thead th {\n",
       "        text-align: right;\n",
       "    }\n",
       "</style>\n",
       "<table border=\"1\" class=\"dataframe\">\n",
       "  <thead>\n",
       "    <tr style=\"text-align: right;\">\n",
       "      <th></th>\n",
       "      <th>ZipCode</th>\n",
       "      <th>ZHVI_SingleFamilyResidence</th>\n",
       "      <th>Zri_MultiFamilyResidenceRental</th>\n",
       "    </tr>\n",
       "    <tr>\n",
       "      <th>ds</th>\n",
       "      <th></th>\n",
       "      <th></th>\n",
       "      <th></th>\n",
       "    </tr>\n",
       "  </thead>\n",
       "  <tbody>\n",
       "    <tr>\n",
       "      <th>1996-04-30</th>\n",
       "      <td>90001</td>\n",
       "      <td>114100.0</td>\n",
       "      <td>1552.0</td>\n",
       "    </tr>\n",
       "    <tr>\n",
       "      <th>1996-04-30</th>\n",
       "      <td>90002</td>\n",
       "      <td>105700.0</td>\n",
       "      <td>1552.0</td>\n",
       "    </tr>\n",
       "    <tr>\n",
       "      <th>1996-04-30</th>\n",
       "      <td>90003</td>\n",
       "      <td>103800.0</td>\n",
       "      <td>1552.0</td>\n",
       "    </tr>\n",
       "  </tbody>\n",
       "</table>\n",
       "</div>"
      ],
      "text/plain": [
       "           ZipCode  ZHVI_SingleFamilyResidence  Zri_MultiFamilyResidenceRental\n",
       "ds                                                                            \n",
       "1996-04-30   90001                    114100.0                          1552.0\n",
       "1996-04-30   90002                    105700.0                          1552.0\n",
       "1996-04-30   90003                    103800.0                          1552.0"
      ]
     },
     "metadata": {},
     "output_type": "display_data"
    },
    {
     "data": {
      "text/plain": [
       "(332663, 3)"
      ]
     },
     "metadata": {},
     "output_type": "display_data"
    },
    {
     "name": "stdout",
     "output_type": "stream",
     "text": [
      "<class 'pandas.core.frame.DataFrame'>\n",
      "DatetimeIndex: 332663 entries, 1996-04-30 to 2017-12-31\n",
      "Data columns (total 3 columns):\n",
      " #   Column                          Non-Null Count   Dtype  \n",
      "---  ------                          --------------   -----  \n",
      " 0   ZipCode                         332663 non-null  object \n",
      " 1   ZHVI_SingleFamilyResidence      332663 non-null  float64\n",
      " 2   Zri_MultiFamilyResidenceRental  332663 non-null  float64\n",
      "dtypes: float64(2), object(1)\n",
      "memory usage: 10.2+ MB\n"
     ]
    },
    {
     "data": {
      "text/plain": [
       "None"
      ]
     },
     "metadata": {},
     "output_type": "display_data"
    }
   ],
   "source": [
    "interpol_time = interpol.copy()\n",
    "interpol_time.set_index('ds', inplace=True)\n",
    "\n",
    "interpol_time = interpol_time.assign(ZHVI_ITime=interpol_time.ZHVI_SingleFamilyResidence.interpolate(method='time', limit_direction='both'))\n",
    "interpol_time = interpol_time.assign(ZRI_ITime=interpol_time.Zri_MultiFamilyResidenceRental.interpolate(method='time', limit_direction='both'))\n",
    "\n",
    "interpol_time.drop(['ZHVI_SingleFamilyResidence', 'Zri_MultiFamilyResidenceRental'], axis=1, inplace=True)\n",
    "interpol_time.rename(columns={'ZHVI_ITime':'ZHVI_SingleFamilyResidence',\n",
    "                              'ZRI_ITime': 'Zri_MultiFamilyResidenceRental'}, inplace=True) \n",
    "\n",
    "display(interpol_time.head(3))\n",
    "display(interpol_time.shape)\n",
    "display(interpol_time.info())"
   ]
  },
  {
   "cell_type": "code",
   "execution_count": 19,
   "metadata": {
    "scrolled": true
   },
   "outputs": [
    {
     "name": "stdout",
     "output_type": "stream",
     "text": [
      "<class 'pandas.core.frame.DataFrame'>\n",
      "RangeIndex: 332663 entries, 0 to 332662\n",
      "Data columns (total 4 columns):\n",
      " #   Column                          Non-Null Count   Dtype         \n",
      "---  ------                          --------------   -----         \n",
      " 0   ds                              332663 non-null  datetime64[ns]\n",
      " 1   ZipCode                         332663 non-null  int32         \n",
      " 2   ZHVI_SingleFamilyResidence      332663 non-null  float64       \n",
      " 3   Zri_MultiFamilyResidenceRental  332663 non-null  float64       \n",
      "dtypes: datetime64[ns](1), float64(2), int32(1)\n",
      "memory usage: 8.9 MB\n"
     ]
    },
    {
     "data": {
      "text/html": [
       "<div>\n",
       "<style scoped>\n",
       "    .dataframe tbody tr th:only-of-type {\n",
       "        vertical-align: middle;\n",
       "    }\n",
       "\n",
       "    .dataframe tbody tr th {\n",
       "        vertical-align: top;\n",
       "    }\n",
       "\n",
       "    .dataframe thead th {\n",
       "        text-align: right;\n",
       "    }\n",
       "</style>\n",
       "<table border=\"1\" class=\"dataframe\">\n",
       "  <thead>\n",
       "    <tr style=\"text-align: right;\">\n",
       "      <th></th>\n",
       "      <th>ds</th>\n",
       "      <th>ZipCode</th>\n",
       "      <th>ZHVI_SingleFamilyResidence</th>\n",
       "      <th>Zri_MultiFamilyResidenceRental</th>\n",
       "    </tr>\n",
       "  </thead>\n",
       "  <tbody>\n",
       "    <tr>\n",
       "      <th>0</th>\n",
       "      <td>1996-04-30</td>\n",
       "      <td>90001</td>\n",
       "      <td>114100.0</td>\n",
       "      <td>1552.0</td>\n",
       "    </tr>\n",
       "    <tr>\n",
       "      <th>1</th>\n",
       "      <td>1996-04-30</td>\n",
       "      <td>90002</td>\n",
       "      <td>105700.0</td>\n",
       "      <td>1552.0</td>\n",
       "    </tr>\n",
       "    <tr>\n",
       "      <th>2</th>\n",
       "      <td>1996-04-30</td>\n",
       "      <td>90003</td>\n",
       "      <td>103800.0</td>\n",
       "      <td>1552.0</td>\n",
       "    </tr>\n",
       "  </tbody>\n",
       "</table>\n",
       "</div>"
      ],
      "text/plain": [
       "          ds  ZipCode  ZHVI_SingleFamilyResidence  \\\n",
       "0 1996-04-30    90001                    114100.0   \n",
       "1 1996-04-30    90002                    105700.0   \n",
       "2 1996-04-30    90003                    103800.0   \n",
       "\n",
       "   Zri_MultiFamilyResidenceRental  \n",
       "0                          1552.0  \n",
       "1                          1552.0  \n",
       "2                          1552.0  "
      ]
     },
     "execution_count": 19,
     "metadata": {},
     "output_type": "execute_result"
    }
   ],
   "source": [
    "interpol_time = interpol_time.reset_index()\n",
    "interpol_time['ZipCode'] = interpol_time['ZipCode'].astype('int32')\n",
    "\n",
    "interpol_time.info()\n",
    "interpol_time.head(3)"
   ]
  },
  {
   "cell_type": "markdown",
   "metadata": {},
   "source": [
    "#### For all ZipCodes, fill the missing values with 0"
   ]
  },
  {
   "cell_type": "code",
   "execution_count": 20,
   "metadata": {
    "scrolled": false
   },
   "outputs": [
    {
     "data": {
      "text/plain": [
       "(332663, 3)"
      ]
     },
     "metadata": {},
     "output_type": "display_data"
    },
    {
     "name": "stdout",
     "output_type": "stream",
     "text": [
      "<class 'pandas.core.frame.DataFrame'>\n",
      "DatetimeIndex: 332663 entries, 1996-04-30 to 2017-12-31\n",
      "Data columns (total 3 columns):\n",
      " #   Column                          Non-Null Count   Dtype  \n",
      "---  ------                          --------------   -----  \n",
      " 0   ZipCode                         332663 non-null  object \n",
      " 1   ZHVI_SingleFamilyResidence      332663 non-null  float64\n",
      " 2   Zri_MultiFamilyResidenceRental  332663 non-null  float64\n",
      "dtypes: float64(2), object(1)\n",
      "memory usage: 10.2+ MB\n"
     ]
    },
    {
     "data": {
      "text/plain": [
       "None"
      ]
     },
     "metadata": {},
     "output_type": "display_data"
    },
    {
     "data": {
      "text/html": [
       "<div>\n",
       "<style scoped>\n",
       "    .dataframe tbody tr th:only-of-type {\n",
       "        vertical-align: middle;\n",
       "    }\n",
       "\n",
       "    .dataframe tbody tr th {\n",
       "        vertical-align: top;\n",
       "    }\n",
       "\n",
       "    .dataframe thead th {\n",
       "        text-align: right;\n",
       "    }\n",
       "</style>\n",
       "<table border=\"1\" class=\"dataframe\">\n",
       "  <thead>\n",
       "    <tr style=\"text-align: right;\">\n",
       "      <th></th>\n",
       "      <th>ZipCode</th>\n",
       "      <th>ZHVI_SingleFamilyResidence</th>\n",
       "      <th>Zri_MultiFamilyResidenceRental</th>\n",
       "    </tr>\n",
       "    <tr>\n",
       "      <th>ds</th>\n",
       "      <th></th>\n",
       "      <th></th>\n",
       "      <th></th>\n",
       "    </tr>\n",
       "  </thead>\n",
       "  <tbody>\n",
       "    <tr>\n",
       "      <th>1996-04-30</th>\n",
       "      <td>90001</td>\n",
       "      <td>114100.0</td>\n",
       "      <td>0.0</td>\n",
       "    </tr>\n",
       "    <tr>\n",
       "      <th>1996-04-30</th>\n",
       "      <td>90002</td>\n",
       "      <td>105700.0</td>\n",
       "      <td>0.0</td>\n",
       "    </tr>\n",
       "    <tr>\n",
       "      <th>1996-04-30</th>\n",
       "      <td>90003</td>\n",
       "      <td>103800.0</td>\n",
       "      <td>0.0</td>\n",
       "    </tr>\n",
       "  </tbody>\n",
       "</table>\n",
       "</div>"
      ],
      "text/plain": [
       "           ZipCode  ZHVI_SingleFamilyResidence  Zri_MultiFamilyResidenceRental\n",
       "ds                                                                            \n",
       "1996-04-30   90001                    114100.0                             0.0\n",
       "1996-04-30   90002                    105700.0                             0.0\n",
       "1996-04-30   90003                    103800.0                             0.0"
      ]
     },
     "metadata": {},
     "output_type": "display_data"
    }
   ],
   "source": [
    "interpol_0 = interpol.fillna(0)\n",
    "interpol_0.set_index('ds', inplace=True)\n",
    "\n",
    "display(interpol_0.shape)\n",
    "display(interpol_0.info())\n",
    "display(interpol_0.head(3))"
   ]
  },
  {
   "cell_type": "code",
   "execution_count": 21,
   "metadata": {},
   "outputs": [],
   "source": [
    "interpol_0.to_pickle('../data/processed/interpolated_fillna0_df.pickle')\n",
    "interpol_time.to_pickle('../data/processed/interpolated_fillnaTime_df.pickle')"
   ]
  }
 ],
 "metadata": {
  "kernelspec": {
   "display_name": "rent-v-buy",
   "language": "python",
   "name": "rent-v-buy"
  },
  "language_info": {
   "codemirror_mode": {
    "name": "ipython",
    "version": 3
   },
   "file_extension": ".py",
   "mimetype": "text/x-python",
   "name": "python",
   "nbconvert_exporter": "python",
   "pygments_lexer": "ipython3",
   "version": "3.7.0"
  }
 },
 "nbformat": 4,
 "nbformat_minor": 2
}
