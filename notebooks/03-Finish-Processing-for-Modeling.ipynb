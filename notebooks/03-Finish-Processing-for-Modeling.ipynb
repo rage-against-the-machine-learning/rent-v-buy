{
 "cells": [
  {
   "cell_type": "markdown",
   "metadata": {},
   "source": [
    "### Load Packages / Modules"
   ]
  },
  {
   "cell_type": "code",
   "execution_count": 2,
   "metadata": {},
   "outputs": [],
   "source": [
    "import pandas as pd \n",
    "import numpy as np\n",
    "import json\n",
    "import tqdm\n",
    "\n",
    "import warnings\n",
    "warnings.filterwarnings(\"ignore\")\n",
    "\n",
    "from collections import Counter\n",
    "from pprint import pprint\n",
    "\n",
    "import zipcodes\n",
    "\n",
    "# Append the entire repo parent director so files therein can be accessed in notebook\n",
    "import os\n",
    "import sys\n",
    "import pathlib\n",
    "sys.path.append(str(pathlib.Path().absolute().parent))\n",
    "\n",
    "from src import helper\n",
    "%load_ext autoreload"
   ]
  },
  {
   "cell_type": "markdown",
   "metadata": {},
   "source": [
    "### Load Data"
   ]
  },
  {
   "cell_type": "code",
   "execution_count": 3,
   "metadata": {},
   "outputs": [],
   "source": [
    "zip_w_city = pd.read_pickle('../data/interim/ca-zip-w-city-ts.pickle')\n",
    "city_w_zip = pd.read_pickle('../data/interim/ca-city-w-zip-ts.pickle')"
   ]
  },
  {
   "cell_type": "code",
   "execution_count": 4,
   "metadata": {},
   "outputs": [],
   "source": [
    "ts_data = pd.concat([zip_w_city, city_w_zip])"
   ]
  },
  {
   "cell_type": "code",
   "execution_count": 6,
   "metadata": {},
   "outputs": [
    {
     "data": {
      "text/plain": [
       "(567959, 32)"
      ]
     },
     "metadata": {},
     "output_type": "display_data"
    },
    {
     "name": "stdout",
     "output_type": "stream",
     "text": [
      "<class 'pandas.core.frame.DataFrame'>\n",
      "Int64Index: 567959 entries, 0 to 235295\n",
      "Data columns (total 32 columns):\n",
      " #   Column                           Non-Null Count   Dtype  \n",
      "---  ------                           --------------   -----  \n",
      " 0   Date                             567959 non-null  object \n",
      " 1   ZipCode_int                      332663 non-null  float64\n",
      " 2   ZipCode_str                      332663 non-null  object \n",
      " 3   City                             567959 non-null  object \n",
      " 4   County                           567959 non-null  object \n",
      " 5   Lat                              546012 non-null  object \n",
      " 6   Long                             546012 non-null  object \n",
      " 7   ZHVIPerSqft_AllHomes             536778 non-null  float64\n",
      " 8   PriceToRentRatio_AllHomes        182365 non-null  float64\n",
      " 9   ZHVI_1bedroom                    196127 non-null  float64\n",
      " 10  ZHVI_2bedroom                    449898 non-null  float64\n",
      " 11  ZHVI_3bedroom                    520938 non-null  float64\n",
      " 12  ZHVI_4bedroom                    489226 non-null  float64\n",
      " 13  ZHVI_5BedroomOrMore              411736 non-null  float64\n",
      " 14  ZHVI_AllHomes                    530629 non-null  float64\n",
      " 15  ZHVI_BottomTier                  476432 non-null  float64\n",
      " 16  ZHVI_CondoCoop                   331345 non-null  float64\n",
      " 17  ZHVI_MiddleTier                  530209 non-null  float64\n",
      " 18  ZHVI_SingleFamilyResidence       527713 non-null  float64\n",
      " 19  ZHVI_TopTier                     517104 non-null  float64\n",
      " 20  ZRI_AllHomes                     181307 non-null  float64\n",
      " 21  ZRI_AllHomesPlusMultifamily      181307 non-null  float64\n",
      " 22  ZriPerSqft_AllHomes              180980 non-null  float64\n",
      " 23  Zri_MultiFamilyResidenceRental   154115 non-null  float64\n",
      " 24  Zri_SingleFamilyResidenceRental  180791 non-null  float64\n",
      " 25  RegionName                       524069 non-null  float64\n",
      " 26  MetroName                        534634 non-null  object \n",
      " 27  StateName                        546016 non-null  object \n",
      " 28  CensusRegion                     546016 non-null  object \n",
      " 29  Unique_City_ID                   546016 non-null  object \n",
      " 30  State                            546016 non-null  object \n",
      " 31  ZipCode                          213349 non-null  object \n",
      "dtypes: float64(20), object(12)\n",
      "memory usage: 143.0+ MB\n"
     ]
    },
    {
     "data": {
      "text/plain": [
       "None"
      ]
     },
     "metadata": {},
     "output_type": "display_data"
    },
    {
     "data": {
      "text/html": [
       "<div>\n",
       "<style scoped>\n",
       "    .dataframe tbody tr th:only-of-type {\n",
       "        vertical-align: middle;\n",
       "    }\n",
       "\n",
       "    .dataframe tbody tr th {\n",
       "        vertical-align: top;\n",
       "    }\n",
       "\n",
       "    .dataframe thead th {\n",
       "        text-align: right;\n",
       "    }\n",
       "</style>\n",
       "<table border=\"1\" class=\"dataframe\">\n",
       "  <thead>\n",
       "    <tr style=\"text-align: right;\">\n",
       "      <th></th>\n",
       "      <th>Date</th>\n",
       "      <th>ZipCode_int</th>\n",
       "      <th>ZipCode_str</th>\n",
       "      <th>City</th>\n",
       "      <th>County</th>\n",
       "      <th>Lat</th>\n",
       "      <th>Long</th>\n",
       "      <th>ZHVIPerSqft_AllHomes</th>\n",
       "      <th>PriceToRentRatio_AllHomes</th>\n",
       "      <th>ZHVI_1bedroom</th>\n",
       "      <th>...</th>\n",
       "      <th>ZriPerSqft_AllHomes</th>\n",
       "      <th>Zri_MultiFamilyResidenceRental</th>\n",
       "      <th>Zri_SingleFamilyResidenceRental</th>\n",
       "      <th>RegionName</th>\n",
       "      <th>MetroName</th>\n",
       "      <th>StateName</th>\n",
       "      <th>CensusRegion</th>\n",
       "      <th>Unique_City_ID</th>\n",
       "      <th>State</th>\n",
       "      <th>ZipCode</th>\n",
       "    </tr>\n",
       "  </thead>\n",
       "  <tbody>\n",
       "    <tr>\n",
       "      <th>0</th>\n",
       "      <td>1996-04-30</td>\n",
       "      <td>90001.0</td>\n",
       "      <td>90001</td>\n",
       "      <td>Los Angeles</td>\n",
       "      <td>Los Angeles</td>\n",
       "      <td>33.9736</td>\n",
       "      <td>-118.2479</td>\n",
       "      <td>108.0</td>\n",
       "      <td>NaN</td>\n",
       "      <td>94000.0</td>\n",
       "      <td>...</td>\n",
       "      <td>NaN</td>\n",
       "      <td>NaN</td>\n",
       "      <td>NaN</td>\n",
       "      <td>6037.0</td>\n",
       "      <td>Los Angeles-Long Beach-Anaheim, CA</td>\n",
       "      <td>California</td>\n",
       "      <td>West</td>\n",
       "      <td>los_angeleslos_angelesca</td>\n",
       "      <td>CA</td>\n",
       "      <td>NaN</td>\n",
       "    </tr>\n",
       "    <tr>\n",
       "      <th>1</th>\n",
       "      <td>1996-04-30</td>\n",
       "      <td>90002.0</td>\n",
       "      <td>90002</td>\n",
       "      <td>Los Angeles</td>\n",
       "      <td>Los Angeles</td>\n",
       "      <td>33.9490</td>\n",
       "      <td>-118.2460</td>\n",
       "      <td>95.0</td>\n",
       "      <td>NaN</td>\n",
       "      <td>NaN</td>\n",
       "      <td>...</td>\n",
       "      <td>NaN</td>\n",
       "      <td>NaN</td>\n",
       "      <td>NaN</td>\n",
       "      <td>6037.0</td>\n",
       "      <td>Los Angeles-Long Beach-Anaheim, CA</td>\n",
       "      <td>California</td>\n",
       "      <td>West</td>\n",
       "      <td>los_angeleslos_angelesca</td>\n",
       "      <td>CA</td>\n",
       "      <td>NaN</td>\n",
       "    </tr>\n",
       "    <tr>\n",
       "      <th>2</th>\n",
       "      <td>1996-04-30</td>\n",
       "      <td>90003.0</td>\n",
       "      <td>90003</td>\n",
       "      <td>Los Angeles</td>\n",
       "      <td>Los Angeles</td>\n",
       "      <td>33.9640</td>\n",
       "      <td>-118.2737</td>\n",
       "      <td>96.0</td>\n",
       "      <td>NaN</td>\n",
       "      <td>77800.0</td>\n",
       "      <td>...</td>\n",
       "      <td>NaN</td>\n",
       "      <td>NaN</td>\n",
       "      <td>NaN</td>\n",
       "      <td>6037.0</td>\n",
       "      <td>Los Angeles-Long Beach-Anaheim, CA</td>\n",
       "      <td>California</td>\n",
       "      <td>West</td>\n",
       "      <td>los_angeleslos_angelesca</td>\n",
       "      <td>CA</td>\n",
       "      <td>NaN</td>\n",
       "    </tr>\n",
       "  </tbody>\n",
       "</table>\n",
       "<p>3 rows × 32 columns</p>\n",
       "</div>"
      ],
      "text/plain": [
       "         Date  ZipCode_int ZipCode_str         City       County      Lat  \\\n",
       "0  1996-04-30      90001.0       90001  Los Angeles  Los Angeles  33.9736   \n",
       "1  1996-04-30      90002.0       90002  Los Angeles  Los Angeles  33.9490   \n",
       "2  1996-04-30      90003.0       90003  Los Angeles  Los Angeles  33.9640   \n",
       "\n",
       "        Long  ZHVIPerSqft_AllHomes  PriceToRentRatio_AllHomes  ZHVI_1bedroom  \\\n",
       "0  -118.2479                 108.0                        NaN        94000.0   \n",
       "1  -118.2460                  95.0                        NaN            NaN   \n",
       "2  -118.2737                  96.0                        NaN        77800.0   \n",
       "\n",
       "   ...  ZriPerSqft_AllHomes  Zri_MultiFamilyResidenceRental  \\\n",
       "0  ...                  NaN                             NaN   \n",
       "1  ...                  NaN                             NaN   \n",
       "2  ...                  NaN                             NaN   \n",
       "\n",
       "   Zri_SingleFamilyResidenceRental  RegionName  \\\n",
       "0                              NaN      6037.0   \n",
       "1                              NaN      6037.0   \n",
       "2                              NaN      6037.0   \n",
       "\n",
       "                            MetroName   StateName  CensusRegion  \\\n",
       "0  Los Angeles-Long Beach-Anaheim, CA  California          West   \n",
       "1  Los Angeles-Long Beach-Anaheim, CA  California          West   \n",
       "2  Los Angeles-Long Beach-Anaheim, CA  California          West   \n",
       "\n",
       "             Unique_City_ID  State  ZipCode  \n",
       "0  los_angeleslos_angelesca     CA      NaN  \n",
       "1  los_angeleslos_angelesca     CA      NaN  \n",
       "2  los_angeleslos_angelesca     CA      NaN  \n",
       "\n",
       "[3 rows x 32 columns]"
      ]
     },
     "metadata": {},
     "output_type": "display_data"
    }
   ],
   "source": [
    "display(ts_data.shape)\n",
    "display(ts_data.info())\n",
    "display(ts_data.head(3))"
   ]
  },
  {
   "cell_type": "code",
   "execution_count": null,
   "metadata": {},
   "outputs": [],
   "source": []
  }
 ],
 "metadata": {
  "kernelspec": {
   "display_name": "rent-v-buy",
   "language": "python",
   "name": "rent-v-buy"
  },
  "language_info": {
   "codemirror_mode": {
    "name": "ipython",
    "version": 3
   },
   "file_extension": ".py",
   "mimetype": "text/x-python",
   "name": "python",
   "nbconvert_exporter": "python",
   "pygments_lexer": "ipython3",
   "version": "3.7.0"
  }
 },
 "nbformat": 4,
 "nbformat_minor": 2
}
