{
 "cells": [
  {
   "cell_type": "markdown",
   "metadata": {},
   "source": [
    "### Import Packages"
   ]
  },
  {
   "cell_type": "code",
   "execution_count": 1,
   "metadata": {},
   "outputs": [],
   "source": [
    "import pandas as pd \n",
    "import numpy as np\n",
    "\n",
    "import warnings\n",
    "warnings.filterwarnings(\"ignore\")\n",
    "\n",
    "from pprint import pprint\n",
    "from datetime import datetime\n",
    "\n",
    "from sklearn.metrics import r2_score\n",
    "from sklearn.linear_model import LinearRegression\n",
    "from sklearn.model_selection import train_test_split\n",
    "\n",
    "# Append the entire repo parent director so files therein can be accessed in notebook\n",
    "import os\n",
    "import sys\n",
    "import pathlib\n",
    "sys.path.append(str(pathlib.Path().absolute().parent))\n",
    "\n",
    "from src import helper\n",
    "%load_ext autoreload"
   ]
  },
  {
   "cell_type": "markdown",
   "metadata": {},
   "source": [
    "### Load Data"
   ]
  },
  {
   "cell_type": "code",
   "execution_count": 2,
   "metadata": {},
   "outputs": [],
   "source": [
    "CA_time_interpolated = pd.read_pickle('../data/processed/interpolated_fillnaTime_df.pickle')\n",
    "interp_preds = pd.read_csv('../data/predictions/rent_buy_zip_interp.csv')"
   ]
  },
  {
   "cell_type": "code",
   "execution_count": 3,
   "metadata": {},
   "outputs": [],
   "source": [
    "interp_preds.rename(columns={'Unnamed: 0': 'zip_code'}, inplace=True)"
   ]
  },
  {
   "cell_type": "code",
   "execution_count": 4,
   "metadata": {
    "scrolled": true
   },
   "outputs": [
    {
     "data": {
      "text/html": [
       "<div>\n",
       "<style scoped>\n",
       "    .dataframe tbody tr th:only-of-type {\n",
       "        vertical-align: middle;\n",
       "    }\n",
       "\n",
       "    .dataframe tbody tr th {\n",
       "        vertical-align: top;\n",
       "    }\n",
       "\n",
       "    .dataframe thead th {\n",
       "        text-align: right;\n",
       "    }\n",
       "</style>\n",
       "<table border=\"1\" class=\"dataframe\">\n",
       "  <thead>\n",
       "    <tr style=\"text-align: right;\">\n",
       "      <th></th>\n",
       "      <th>ds</th>\n",
       "      <th>ZipCode</th>\n",
       "      <th>ZHVI_SingleFamilyResidence</th>\n",
       "      <th>Zri_MultiFamilyResidenceRental</th>\n",
       "    </tr>\n",
       "  </thead>\n",
       "  <tbody>\n",
       "    <tr>\n",
       "      <th>0</th>\n",
       "      <td>1996-04-30</td>\n",
       "      <td>90001</td>\n",
       "      <td>114100.0</td>\n",
       "      <td>1552.0</td>\n",
       "    </tr>\n",
       "    <tr>\n",
       "      <th>1</th>\n",
       "      <td>1996-04-30</td>\n",
       "      <td>90002</td>\n",
       "      <td>105700.0</td>\n",
       "      <td>1552.0</td>\n",
       "    </tr>\n",
       "    <tr>\n",
       "      <th>2</th>\n",
       "      <td>1996-04-30</td>\n",
       "      <td>90003</td>\n",
       "      <td>103800.0</td>\n",
       "      <td>1552.0</td>\n",
       "    </tr>\n",
       "    <tr>\n",
       "      <th>3</th>\n",
       "      <td>1996-04-30</td>\n",
       "      <td>90004</td>\n",
       "      <td>248500.0</td>\n",
       "      <td>1552.0</td>\n",
       "    </tr>\n",
       "    <tr>\n",
       "      <th>4</th>\n",
       "      <td>1996-04-30</td>\n",
       "      <td>90005</td>\n",
       "      <td>328800.0</td>\n",
       "      <td>1552.0</td>\n",
       "    </tr>\n",
       "  </tbody>\n",
       "</table>\n",
       "</div>"
      ],
      "text/plain": [
       "          ds  ZipCode  ZHVI_SingleFamilyResidence  \\\n",
       "0 1996-04-30    90001                    114100.0   \n",
       "1 1996-04-30    90002                    105700.0   \n",
       "2 1996-04-30    90003                    103800.0   \n",
       "3 1996-04-30    90004                    248500.0   \n",
       "4 1996-04-30    90005                    328800.0   \n",
       "\n",
       "   Zri_MultiFamilyResidenceRental  \n",
       "0                          1552.0  \n",
       "1                          1552.0  \n",
       "2                          1552.0  \n",
       "3                          1552.0  \n",
       "4                          1552.0  "
      ]
     },
     "execution_count": 4,
     "metadata": {},
     "output_type": "execute_result"
    }
   ],
   "source": [
    "CA_time_interpolated.head()"
   ]
  },
  {
   "cell_type": "code",
   "execution_count": 5,
   "metadata": {},
   "outputs": [
    {
     "name": "stdout",
     "output_type": "stream",
     "text": [
      "<class 'pandas.core.frame.DataFrame'>\n",
      "RangeIndex: 332663 entries, 0 to 332662\n",
      "Data columns (total 4 columns):\n",
      " #   Column                          Non-Null Count   Dtype         \n",
      "---  ------                          --------------   -----         \n",
      " 0   ds                              332663 non-null  datetime64[ns]\n",
      " 1   ZipCode                         332663 non-null  int32         \n",
      " 2   ZHVI_SingleFamilyResidence      332663 non-null  float64       \n",
      " 3   Zri_MultiFamilyResidenceRental  332663 non-null  float64       \n",
      "dtypes: datetime64[ns](1), float64(2), int32(1)\n",
      "memory usage: 8.9 MB\n"
     ]
    }
   ],
   "source": [
    "CA_time_interpolated.info()"
   ]
  },
  {
   "cell_type": "markdown",
   "metadata": {},
   "source": [
    "### ZipCode MetaData for Appreciation Rate Calculation Setup"
   ]
  },
  {
   "cell_type": "code",
   "execution_count": 6,
   "metadata": {},
   "outputs": [
    {
     "data": {
      "text/plain": [
       "1311"
      ]
     },
     "execution_count": 6,
     "metadata": {},
     "output_type": "execute_result"
    }
   ],
   "source": [
    "cali_zips = CA_time_interpolated['ZipCode'].unique().tolist()\n",
    "len(cali_zips)"
   ]
  },
  {
   "cell_type": "code",
   "execution_count": 7,
   "metadata": {},
   "outputs": [
    {
     "data": {
      "text/plain": [
       "1311"
      ]
     },
     "execution_count": 7,
     "metadata": {},
     "output_type": "execute_result"
    }
   ],
   "source": [
    "zip_metadata = dict()\n",
    "\n",
    "for zipcode in cali_zips:\n",
    "    # filter on the zipcode\n",
    "    sub_df = CA_time_interpolated[CA_time_interpolated['ZipCode'] == zipcode].sort_values('ds', ascending=False)\n",
    "    sub_df.reset_index(drop=True, inplace=True)\n",
    "    \n",
    "    # convert the 'ds' column to datetime\n",
    "    n_recent = sub_df.loc[0, 'ds'].to_pydatetime()\n",
    "    zhvi_0 = sub_df.loc[0, 'ZHVI_SingleFamilyResidence']\n",
    "    zri_0 = sub_df.loc[0, 'Zri_MultiFamilyResidenceRental']\n",
    "    \n",
    "    zip_metadata[zipcode] = {\n",
    "        'n_recent' : n_recent,\n",
    "        'zhvi_0' : zhvi_0,\n",
    "        'zri_0' : zri_0,\n",
    "        'n' : helper.months_til_today(sub_df)\n",
    "    }\n",
    "    \n",
    "len(zip_metadata)    "
   ]
  },
  {
   "cell_type": "code",
   "execution_count": 8,
   "metadata": {
    "scrolled": true
   },
   "outputs": [
    {
     "data": {
      "text/html": [
       "<div>\n",
       "<style scoped>\n",
       "    .dataframe tbody tr th:only-of-type {\n",
       "        vertical-align: middle;\n",
       "    }\n",
       "\n",
       "    .dataframe tbody tr th {\n",
       "        vertical-align: top;\n",
       "    }\n",
       "\n",
       "    .dataframe thead th {\n",
       "        text-align: right;\n",
       "    }\n",
       "</style>\n",
       "<table border=\"1\" class=\"dataframe\">\n",
       "  <thead>\n",
       "    <tr style=\"text-align: right;\">\n",
       "      <th></th>\n",
       "      <th>zip_code</th>\n",
       "      <th>n_recent</th>\n",
       "      <th>zhvi_0</th>\n",
       "      <th>zri_0</th>\n",
       "      <th>n</th>\n",
       "    </tr>\n",
       "  </thead>\n",
       "  <tbody>\n",
       "    <tr>\n",
       "      <th>0</th>\n",
       "      <td>90001</td>\n",
       "      <td>2017-12-31</td>\n",
       "      <td>367200</td>\n",
       "      <td>2193</td>\n",
       "      <td>27</td>\n",
       "    </tr>\n",
       "    <tr>\n",
       "      <th>1</th>\n",
       "      <td>90002</td>\n",
       "      <td>2017-12-31</td>\n",
       "      <td>355800</td>\n",
       "      <td>2201</td>\n",
       "      <td>27</td>\n",
       "    </tr>\n",
       "    <tr>\n",
       "      <th>2</th>\n",
       "      <td>90003</td>\n",
       "      <td>2017-12-31</td>\n",
       "      <td>381400</td>\n",
       "      <td>2206</td>\n",
       "      <td>27</td>\n",
       "    </tr>\n",
       "    <tr>\n",
       "      <th>3</th>\n",
       "      <td>90004</td>\n",
       "      <td>2017-12-31</td>\n",
       "      <td>1.5917e+06</td>\n",
       "      <td>2826</td>\n",
       "      <td>27</td>\n",
       "    </tr>\n",
       "    <tr>\n",
       "      <th>4</th>\n",
       "      <td>90005</td>\n",
       "      <td>2017-12-31</td>\n",
       "      <td>1.4709e+06</td>\n",
       "      <td>2751</td>\n",
       "      <td>27</td>\n",
       "    </tr>\n",
       "  </tbody>\n",
       "</table>\n",
       "</div>"
      ],
      "text/plain": [
       "   zip_code   n_recent      zhvi_0 zri_0   n\n",
       "0     90001 2017-12-31      367200  2193  27\n",
       "1     90002 2017-12-31      355800  2201  27\n",
       "2     90003 2017-12-31      381400  2206  27\n",
       "3     90004 2017-12-31  1.5917e+06  2826  27\n",
       "4     90005 2017-12-31  1.4709e+06  2751  27"
      ]
     },
     "execution_count": 8,
     "metadata": {},
     "output_type": "execute_result"
    }
   ],
   "source": [
    "zip_meta_df = pd.DataFrame(zip_metadata).T.reset_index()\n",
    "zip_meta_df.rename(columns={'index':'zip_code'}, inplace=True)\n",
    "zip_meta_df.head()"
   ]
  },
  {
   "cell_type": "code",
   "execution_count": 9,
   "metadata": {},
   "outputs": [
    {
     "data": {
      "text/plain": [
       "array([27, 212, 55, 159, 129], dtype=object)"
      ]
     },
     "execution_count": 9,
     "metadata": {},
     "output_type": "execute_result"
    }
   ],
   "source": [
    "zip_meta_df['n'].unique()"
   ]
  },
  {
   "cell_type": "code",
   "execution_count": 10,
   "metadata": {},
   "outputs": [
    {
     "data": {
      "text/plain": [
       "array(['2017-12-31T00:00:00.000000000', '2002-07-31T00:00:00.000000000',\n",
       "       '2015-08-31T00:00:00.000000000', '2006-12-31T00:00:00.000000000',\n",
       "       '2009-06-30T00:00:00.000000000'], dtype='datetime64[ns]')"
      ]
     },
     "execution_count": 10,
     "metadata": {},
     "output_type": "execute_result"
    }
   ],
   "source": [
    "zip_meta_df['n_recent'].unique()"
   ]
  },
  {
   "cell_type": "code",
   "execution_count": 11,
   "metadata": {
    "scrolled": false
   },
   "outputs": [
    {
     "name": "stdout",
     "output_type": "stream",
     "text": [
      "<class 'pandas.core.frame.DataFrame'>\n",
      "RangeIndex: 1311 entries, 0 to 1310\n",
      "Data columns (total 5 columns):\n",
      " #   Column    Non-Null Count  Dtype         \n",
      "---  ------    --------------  -----         \n",
      " 0   zip_code  1311 non-null   int64         \n",
      " 1   n_recent  1311 non-null   datetime64[ns]\n",
      " 2   zhvi_0    1311 non-null   object        \n",
      " 3   zri_0     1311 non-null   object        \n",
      " 4   n         1311 non-null   object        \n",
      "dtypes: datetime64[ns](1), int64(1), object(3)\n",
      "memory usage: 51.3+ KB\n"
     ]
    }
   ],
   "source": [
    "zip_meta_df.info()"
   ]
  },
  {
   "cell_type": "code",
   "execution_count": 12,
   "metadata": {
    "scrolled": true
   },
   "outputs": [
    {
     "name": "stdout",
     "output_type": "stream",
     "text": [
      "<class 'pandas.core.frame.DataFrame'>\n",
      "RangeIndex: 1311 entries, 0 to 1310\n",
      "Data columns (total 3 columns):\n",
      " #   Column    Non-Null Count  Dtype  \n",
      "---  ------    --------------  -----  \n",
      " 0   zip_code  1311 non-null   int64  \n",
      " 1   buy       1311 non-null   float64\n",
      " 2   rent      1311 non-null   float64\n",
      "dtypes: float64(2), int64(1)\n",
      "memory usage: 30.9 KB\n"
     ]
    }
   ],
   "source": [
    "interp_preds.info()"
   ]
  },
  {
   "cell_type": "code",
   "execution_count": 13,
   "metadata": {},
   "outputs": [],
   "source": [
    "interp_preds.rename(columns={\n",
    "    'buy':'zhvi_n',\n",
    "    'rent':'zri_n'\n",
    "}, inplace=True)"
   ]
  },
  {
   "cell_type": "code",
   "execution_count": 14,
   "metadata": {},
   "outputs": [],
   "source": [
    "merged_for_appr = interp_preds.merge(zip_meta_df, on='zip_code', how='left')\n",
    "merged_for_appr.reset_index(drop=True, inplace=True)"
   ]
  },
  {
   "cell_type": "code",
   "execution_count": 15,
   "metadata": {},
   "outputs": [],
   "source": [
    "merged_for_appr['y_zhvi'] = [np.log(zhvi_n/zhvi_0) for zhvi_n, zhvi_0 in zip(merged_for_appr['zhvi_n'], merged_for_appr['zhvi_0'])]\n",
    "merged_for_appr['y_zri'] = [np.log(zri_n/zri_0) for zri_n, zri_0 in zip(merged_for_appr['zri_n'], merged_for_appr['zri_0'])]"
   ]
  },
  {
   "cell_type": "code",
   "execution_count": 16,
   "metadata": {
    "scrolled": true
   },
   "outputs": [
    {
     "name": "stdout",
     "output_type": "stream",
     "text": [
      "<class 'pandas.core.frame.DataFrame'>\n",
      "RangeIndex: 1311 entries, 0 to 1310\n",
      "Data columns (total 9 columns):\n",
      " #   Column    Non-Null Count  Dtype         \n",
      "---  ------    --------------  -----         \n",
      " 0   zip_code  1311 non-null   int64         \n",
      " 1   zhvi_n    1311 non-null   float64       \n",
      " 2   zri_n     1311 non-null   float64       \n",
      " 3   n_recent  1311 non-null   datetime64[ns]\n",
      " 4   zhvi_0    1311 non-null   object        \n",
      " 5   zri_0     1311 non-null   object        \n",
      " 6   n         1311 non-null   object        \n",
      " 7   y_zhvi    1309 non-null   float64       \n",
      " 8   y_zri     1311 non-null   float64       \n",
      "dtypes: datetime64[ns](1), float64(4), int64(1), object(3)\n",
      "memory usage: 92.3+ KB\n"
     ]
    }
   ],
   "source": [
    "merged_for_appr.info()"
   ]
  },
  {
   "cell_type": "code",
   "execution_count": 17,
   "metadata": {
    "scrolled": false
   },
   "outputs": [
    {
     "data": {
      "text/html": [
       "<div>\n",
       "<style scoped>\n",
       "    .dataframe tbody tr th:only-of-type {\n",
       "        vertical-align: middle;\n",
       "    }\n",
       "\n",
       "    .dataframe tbody tr th {\n",
       "        vertical-align: top;\n",
       "    }\n",
       "\n",
       "    .dataframe thead th {\n",
       "        text-align: right;\n",
       "    }\n",
       "</style>\n",
       "<table border=\"1\" class=\"dataframe\">\n",
       "  <thead>\n",
       "    <tr style=\"text-align: right;\">\n",
       "      <th></th>\n",
       "      <th>zip_code</th>\n",
       "      <th>zhvi_n</th>\n",
       "      <th>zri_n</th>\n",
       "      <th>n_recent</th>\n",
       "      <th>zhvi_0</th>\n",
       "      <th>zri_0</th>\n",
       "      <th>n</th>\n",
       "      <th>y_zhvi</th>\n",
       "      <th>y_zri</th>\n",
       "    </tr>\n",
       "  </thead>\n",
       "  <tbody>\n",
       "    <tr>\n",
       "      <th>1231</th>\n",
       "      <td>93562</td>\n",
       "      <td>-6.668989e+04</td>\n",
       "      <td>2663.971102</td>\n",
       "      <td>2017-12-31</td>\n",
       "      <td>80200</td>\n",
       "      <td>1965</td>\n",
       "      <td>27</td>\n",
       "      <td>NaN</td>\n",
       "      <td>0.304326</td>\n",
       "    </tr>\n",
       "    <tr>\n",
       "      <th>1270</th>\n",
       "      <td>95113</td>\n",
       "      <td>-2.685721e+06</td>\n",
       "      <td>5951.109136</td>\n",
       "      <td>2017-12-31</td>\n",
       "      <td>606100</td>\n",
       "      <td>1965</td>\n",
       "      <td>27</td>\n",
       "      <td>NaN</td>\n",
       "      <td>1.108085</td>\n",
       "    </tr>\n",
       "  </tbody>\n",
       "</table>\n",
       "</div>"
      ],
      "text/plain": [
       "      zip_code        zhvi_n        zri_n   n_recent  zhvi_0 zri_0   n  \\\n",
       "1231     93562 -6.668989e+04  2663.971102 2017-12-31   80200  1965  27   \n",
       "1270     95113 -2.685721e+06  5951.109136 2017-12-31  606100  1965  27   \n",
       "\n",
       "      y_zhvi     y_zri  \n",
       "1231     NaN  0.304326  \n",
       "1270     NaN  1.108085  "
      ]
     },
     "execution_count": 17,
     "metadata": {},
     "output_type": "execute_result"
    }
   ],
   "source": [
    "merged_for_appr[merged_for_appr['y_zhvi'].isnull()]"
   ]
  },
  {
   "cell_type": "markdown",
   "metadata": {},
   "source": [
    "### Generate Predictions for Appreciation Rate"
   ]
  },
  {
   "cell_type": "code",
   "execution_count": 18,
   "metadata": {},
   "outputs": [],
   "source": [
    "# Skip the above 2 zipcodes because there are negative home values weirdly\n",
    "clean_merged = merged_for_appr.dropna()"
   ]
  },
  {
   "cell_type": "code",
   "execution_count": 19,
   "metadata": {},
   "outputs": [],
   "source": [
    "zhvi_X, zhvi_y = clean_merged['n'], clean_merged['y_zhvi']\n",
    "zri_X, zri_y = clean_merged['n'], clean_merged['y_zri']\n",
    "\n",
    "h_X_train, h_X_test, h_y_train, h_y_test = train_test_split(zhvi_X, zhvi_y, random_state=42)\n",
    "r_X_train, r_X_test, r_y_train, r_y_test = train_test_split(zri_X, zri_y, random_state=42)"
   ]
  },
  {
   "cell_type": "code",
   "execution_count": 20,
   "metadata": {
    "scrolled": true
   },
   "outputs": [
    {
     "data": {
      "text/plain": [
       "(981, 1)"
      ]
     },
     "execution_count": 20,
     "metadata": {},
     "output_type": "execute_result"
    }
   ],
   "source": [
    "np.array(h_X_train).reshape(-1,1).shape"
   ]
  },
  {
   "cell_type": "code",
   "execution_count": 21,
   "metadata": {},
   "outputs": [
    {
     "data": {
      "text/plain": [
       "(981,)"
      ]
     },
     "execution_count": 21,
     "metadata": {},
     "output_type": "execute_result"
    }
   ],
   "source": [
    "h_y_train.shape"
   ]
  },
  {
   "cell_type": "code",
   "execution_count": 24,
   "metadata": {},
   "outputs": [
    {
     "name": "stdout",
     "output_type": "stream",
     "text": [
      "-0.0008028067671514982\n"
     ]
    }
   ],
   "source": [
    "lr_h = LinearRegression()\n",
    "\n",
    "lr_h.fit(np.array(h_X_train).reshape(-1,1), h_y_train)\n",
    "h_preds = lr_h.predict(np.array(h_X_test).reshape(-1,1))\n",
    "h_score = lr_h.score(np.array(h_X_test).reshape(-1,1), h_y_test)\n",
    "\n",
    "print(h_score)"
   ]
  },
  {
   "cell_type": "code",
   "execution_count": 27,
   "metadata": {},
   "outputs": [
    {
     "name": "stdout",
     "output_type": "stream",
     "text": [
      "-48833.44755782352\n"
     ]
    }
   ],
   "source": [
    "lr_r = LinearRegression()\n",
    "\n",
    "lr_r.fit(np.array(r_X_train).reshape(-1,1), r_X_train)\n",
    "r_preds = lr_r.predict(np.array(r_X_test).reshape(-1,1))\n",
    "r_score = lr_r.score(np.array(r_X_test).reshape(-1,1), r_y_test)\n",
    "\n",
    "print(r_score)"
   ]
  },
  {
   "cell_type": "code",
   "execution_count": null,
   "metadata": {},
   "outputs": [],
   "source": []
  }
 ],
 "metadata": {
  "kernelspec": {
   "display_name": "Python 3",
   "language": "python",
   "name": "python3"
  },
  "language_info": {
   "codemirror_mode": {
    "name": "ipython",
    "version": 3
   },
   "file_extension": ".py",
   "mimetype": "text/x-python",
   "name": "python",
   "nbconvert_exporter": "python",
   "pygments_lexer": "ipython3",
   "version": "3.7.0"
  }
 },
 "nbformat": 4,
 "nbformat_minor": 4
}
