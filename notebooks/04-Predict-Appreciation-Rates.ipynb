{
 "cells": [
  {
   "cell_type": "markdown",
   "metadata": {},
   "source": [
    "### Import Packages"
   ]
  },
  {
   "cell_type": "code",
   "execution_count": 52,
   "metadata": {},
   "outputs": [
    {
     "name": "stdout",
     "output_type": "stream",
     "text": [
      "The autoreload extension is already loaded. To reload it, use:\n",
      "  %reload_ext autoreload\n"
     ]
    }
   ],
   "source": [
    "import pandas as pd \n",
    "import numpy as np\n",
    "\n",
    "import warnings\n",
    "warnings.filterwarnings(\"ignore\")\n",
    "\n",
    "from pprint import pprint\n",
    "from datetime import datetime\n",
    "\n",
    "from sklearn.metrics import r2_score\n",
    "from sklearn.linear_model import LinearRegression\n",
    "from sklearn.model_selection import train_test_split\n",
    "\n",
    "# Append the entire repo parent director so files therein can be accessed in notebook\n",
    "import os\n",
    "import sys\n",
    "import pathlib\n",
    "sys.path.append(str(pathlib.Path().absolute().parent))\n",
    "\n",
    "from src import helper\n",
    "%load_ext autoreload"
   ]
  },
  {
   "cell_type": "markdown",
   "metadata": {},
   "source": [
    "### Load Data"
   ]
  },
  {
   "cell_type": "code",
   "execution_count": 2,
   "metadata": {},
   "outputs": [],
   "source": [
    "CA_time_interpolated = pd.read_pickle('../data/processed/interpolated_fillnaTime_df.pickle')\n",
    "interp_preds = pd.read_csv('../data/predictions/rent_buy_zip_interp.csv')"
   ]
  },
  {
   "cell_type": "code",
   "execution_count": 7,
   "metadata": {
    "scrolled": true
   },
   "outputs": [
    {
     "data": {
      "text/html": [
       "<div>\n",
       "<style scoped>\n",
       "    .dataframe tbody tr th:only-of-type {\n",
       "        vertical-align: middle;\n",
       "    }\n",
       "\n",
       "    .dataframe tbody tr th {\n",
       "        vertical-align: top;\n",
       "    }\n",
       "\n",
       "    .dataframe thead th {\n",
       "        text-align: right;\n",
       "    }\n",
       "</style>\n",
       "<table border=\"1\" class=\"dataframe\">\n",
       "  <thead>\n",
       "    <tr style=\"text-align: right;\">\n",
       "      <th></th>\n",
       "      <th>ds</th>\n",
       "      <th>ZipCode</th>\n",
       "      <th>ZHVI_SingleFamilyResidence</th>\n",
       "      <th>Zri_MultiFamilyResidenceRental</th>\n",
       "    </tr>\n",
       "  </thead>\n",
       "  <tbody>\n",
       "    <tr>\n",
       "      <th>0</th>\n",
       "      <td>1996-04-30</td>\n",
       "      <td>90001</td>\n",
       "      <td>114100.0</td>\n",
       "      <td>1552.0</td>\n",
       "    </tr>\n",
       "    <tr>\n",
       "      <th>1</th>\n",
       "      <td>1996-04-30</td>\n",
       "      <td>90002</td>\n",
       "      <td>105700.0</td>\n",
       "      <td>1552.0</td>\n",
       "    </tr>\n",
       "    <tr>\n",
       "      <th>2</th>\n",
       "      <td>1996-04-30</td>\n",
       "      <td>90003</td>\n",
       "      <td>103800.0</td>\n",
       "      <td>1552.0</td>\n",
       "    </tr>\n",
       "    <tr>\n",
       "      <th>3</th>\n",
       "      <td>1996-04-30</td>\n",
       "      <td>90004</td>\n",
       "      <td>248500.0</td>\n",
       "      <td>1552.0</td>\n",
       "    </tr>\n",
       "    <tr>\n",
       "      <th>4</th>\n",
       "      <td>1996-04-30</td>\n",
       "      <td>90005</td>\n",
       "      <td>328800.0</td>\n",
       "      <td>1552.0</td>\n",
       "    </tr>\n",
       "  </tbody>\n",
       "</table>\n",
       "</div>"
      ],
      "text/plain": [
       "          ds  ZipCode  ZHVI_SingleFamilyResidence  \\\n",
       "0 1996-04-30    90001                    114100.0   \n",
       "1 1996-04-30    90002                    105700.0   \n",
       "2 1996-04-30    90003                    103800.0   \n",
       "3 1996-04-30    90004                    248500.0   \n",
       "4 1996-04-30    90005                    328800.0   \n",
       "\n",
       "   Zri_MultiFamilyResidenceRental  \n",
       "0                          1552.0  \n",
       "1                          1552.0  \n",
       "2                          1552.0  \n",
       "3                          1552.0  \n",
       "4                          1552.0  "
      ]
     },
     "execution_count": 7,
     "metadata": {},
     "output_type": "execute_result"
    }
   ],
   "source": [
    "CA_time_interpolated.head()"
   ]
  },
  {
   "cell_type": "code",
   "execution_count": 55,
   "metadata": {},
   "outputs": [
    {
     "name": "stdout",
     "output_type": "stream",
     "text": [
      "<class 'pandas.core.frame.DataFrame'>\n",
      "RangeIndex: 332663 entries, 0 to 332662\n",
      "Data columns (total 4 columns):\n",
      " #   Column                          Non-Null Count   Dtype         \n",
      "---  ------                          --------------   -----         \n",
      " 0   ds                              332663 non-null  datetime64[ns]\n",
      " 1   ZipCode                         332663 non-null  int32         \n",
      " 2   ZHVI_SingleFamilyResidence      332663 non-null  float64       \n",
      " 3   Zri_MultiFamilyResidenceRental  332663 non-null  float64       \n",
      "dtypes: datetime64[ns](1), float64(2), int32(1)\n",
      "memory usage: 8.9 MB\n"
     ]
    }
   ],
   "source": [
    "CA_time_interpolated.info()"
   ]
  },
  {
   "cell_type": "markdown",
   "metadata": {},
   "source": [
    "### ZipCode MetaData for Appreciation Rate Calculation Setup"
   ]
  },
  {
   "cell_type": "code",
   "execution_count": 21,
   "metadata": {},
   "outputs": [
    {
     "data": {
      "text/plain": [
       "1311"
      ]
     },
     "execution_count": 21,
     "metadata": {},
     "output_type": "execute_result"
    }
   ],
   "source": [
    "cali_zips = CA_time_interpolated['ZipCode'].unique().tolist()\n",
    "len(cali_zips)"
   ]
  },
  {
   "cell_type": "code",
   "execution_count": 38,
   "metadata": {},
   "outputs": [
    {
     "data": {
      "text/plain": [
       "1311"
      ]
     },
     "execution_count": 38,
     "metadata": {},
     "output_type": "execute_result"
    }
   ],
   "source": [
    "zip_metadata = dict()\n",
    "\n",
    "for zipcode in cali_zips:\n",
    "    sub_df = CA_time_interpolated[CA_time_interpolated['ZipCode'] == zipcode].sort_values('ds', ascending=False)\n",
    "    sub_df.reset_index(drop=True, inplace=True)\n",
    "    n_recent = sub_df.loc[0, 'ds'].to_pydatetime()\n",
    "    zhvi_0 = sub_df.loc[0, 'ZHVI_SingleFamilyResidence']\n",
    "    zri_0 = sub_df.loc[0, 'Zri_MultiFamilyResidenceRental']\n",
    "    \n",
    "    zip_metadata[zipcode] = {\n",
    "        'n_recent' : n_recent,\n",
    "        'zhvi_0' : zhvi_0,\n",
    "        'zri_0' : zri_0,\n",
    "        'n' : helper.months_til_today(sub_df)\n",
    "    }\n",
    "    \n",
    "len(zip_metadata)    "
   ]
  },
  {
   "cell_type": "code",
   "execution_count": 39,
   "metadata": {
    "scrolled": false
   },
   "outputs": [
    {
     "data": {
      "text/html": [
       "<div>\n",
       "<style scoped>\n",
       "    .dataframe tbody tr th:only-of-type {\n",
       "        vertical-align: middle;\n",
       "    }\n",
       "\n",
       "    .dataframe tbody tr th {\n",
       "        vertical-align: top;\n",
       "    }\n",
       "\n",
       "    .dataframe thead th {\n",
       "        text-align: right;\n",
       "    }\n",
       "</style>\n",
       "<table border=\"1\" class=\"dataframe\">\n",
       "  <thead>\n",
       "    <tr style=\"text-align: right;\">\n",
       "      <th></th>\n",
       "      <th>zip_code</th>\n",
       "      <th>n_recent</th>\n",
       "      <th>zhvi_0</th>\n",
       "      <th>zri_0</th>\n",
       "      <th>n</th>\n",
       "    </tr>\n",
       "  </thead>\n",
       "  <tbody>\n",
       "    <tr>\n",
       "      <th>0</th>\n",
       "      <td>90001</td>\n",
       "      <td>2017-12-31</td>\n",
       "      <td>367200</td>\n",
       "      <td>2193</td>\n",
       "      <td>27</td>\n",
       "    </tr>\n",
       "    <tr>\n",
       "      <th>1</th>\n",
       "      <td>90002</td>\n",
       "      <td>2017-12-31</td>\n",
       "      <td>355800</td>\n",
       "      <td>2201</td>\n",
       "      <td>27</td>\n",
       "    </tr>\n",
       "    <tr>\n",
       "      <th>2</th>\n",
       "      <td>90003</td>\n",
       "      <td>2017-12-31</td>\n",
       "      <td>381400</td>\n",
       "      <td>2206</td>\n",
       "      <td>27</td>\n",
       "    </tr>\n",
       "    <tr>\n",
       "      <th>3</th>\n",
       "      <td>90004</td>\n",
       "      <td>2017-12-31</td>\n",
       "      <td>1.5917e+06</td>\n",
       "      <td>2826</td>\n",
       "      <td>27</td>\n",
       "    </tr>\n",
       "    <tr>\n",
       "      <th>4</th>\n",
       "      <td>90005</td>\n",
       "      <td>2017-12-31</td>\n",
       "      <td>1.4709e+06</td>\n",
       "      <td>2751</td>\n",
       "      <td>27</td>\n",
       "    </tr>\n",
       "  </tbody>\n",
       "</table>\n",
       "</div>"
      ],
      "text/plain": [
       "   zip_code   n_recent      zhvi_0 zri_0   n\n",
       "0     90001 2017-12-31      367200  2193  27\n",
       "1     90002 2017-12-31      355800  2201  27\n",
       "2     90003 2017-12-31      381400  2206  27\n",
       "3     90004 2017-12-31  1.5917e+06  2826  27\n",
       "4     90005 2017-12-31  1.4709e+06  2751  27"
      ]
     },
     "execution_count": 39,
     "metadata": {},
     "output_type": "execute_result"
    }
   ],
   "source": [
    "zip_meta_df = pd.DataFrame(zip_metadata).T.reset_index()\n",
    "zip_meta_df.rename(columns={'index':'zip_code'}, inplace=True)\n",
    "zip_meta_df.head()"
   ]
  },
  {
   "cell_type": "code",
   "execution_count": 54,
   "metadata": {},
   "outputs": [
    {
     "data": {
      "text/plain": [
       "array(['2017-12-31T00:00:00.000000000', '2002-07-31T00:00:00.000000000',\n",
       "       '2015-08-31T00:00:00.000000000', '2006-12-31T00:00:00.000000000',\n",
       "       '2009-06-30T00:00:00.000000000'], dtype='datetime64[ns]')"
      ]
     },
     "execution_count": 54,
     "metadata": {},
     "output_type": "execute_result"
    }
   ],
   "source": [
    "zip_meta_df['n_recent'].unique()"
   ]
  },
  {
   "cell_type": "code",
   "execution_count": 41,
   "metadata": {},
   "outputs": [
    {
     "name": "stdout",
     "output_type": "stream",
     "text": [
      "<class 'pandas.core.frame.DataFrame'>\n",
      "RangeIndex: 1311 entries, 0 to 1310\n",
      "Data columns (total 5 columns):\n",
      " #   Column    Non-Null Count  Dtype         \n",
      "---  ------    --------------  -----         \n",
      " 0   zip_code  1311 non-null   int64         \n",
      " 1   n_recent  1311 non-null   datetime64[ns]\n",
      " 2   zhvi_0    1311 non-null   object        \n",
      " 3   zri_0     1311 non-null   object        \n",
      " 4   n         1311 non-null   object        \n",
      "dtypes: datetime64[ns](1), int64(1), object(3)\n",
      "memory usage: 51.3+ KB\n"
     ]
    }
   ],
   "source": [
    "zip_meta_df.info()"
   ]
  },
  {
   "cell_type": "code",
   "execution_count": 43,
   "metadata": {},
   "outputs": [],
   "source": [
    "interp_preds.rename(columns={\n",
    "    'buy':'zhvi_n',\n",
    "    'rent':'zri_n'\n",
    "}, inplace=True)"
   ]
  },
  {
   "cell_type": "code",
   "execution_count": 47,
   "metadata": {},
   "outputs": [],
   "source": [
    "merged_for_appr = interp_preds.merge(zip_meta_df, on='zip_code', how='left')\n",
    "merged_for_appr.reset_index(drop=True, inplace=True)"
   ]
  },
  {
   "cell_type": "code",
   "execution_count": 48,
   "metadata": {},
   "outputs": [],
   "source": [
    "merged_for_appr['y_zhvi'] = [np.log(zhvi_n/zhvi_0) for zhvi_n, zhvi_0 in zip(merged_for_appr['zhvi_n'], merged_for_appr['zhvi_0'])]\n",
    "merged_for_appr['y_zri'] = [np.log(zri_n/zri_0) for zri_n, zri_0 in zip(merged_for_appr['zri_n'], merged_for_appr['zri_0'])]"
   ]
  },
  {
   "cell_type": "code",
   "execution_count": 49,
   "metadata": {
    "scrolled": true
   },
   "outputs": [
    {
     "data": {
      "text/html": [
       "<div>\n",
       "<style scoped>\n",
       "    .dataframe tbody tr th:only-of-type {\n",
       "        vertical-align: middle;\n",
       "    }\n",
       "\n",
       "    .dataframe tbody tr th {\n",
       "        vertical-align: top;\n",
       "    }\n",
       "\n",
       "    .dataframe thead th {\n",
       "        text-align: right;\n",
       "    }\n",
       "</style>\n",
       "<table border=\"1\" class=\"dataframe\">\n",
       "  <thead>\n",
       "    <tr style=\"text-align: right;\">\n",
       "      <th></th>\n",
       "      <th>zip_code</th>\n",
       "      <th>zhvi_n</th>\n",
       "      <th>zri_n</th>\n",
       "      <th>n_recent</th>\n",
       "      <th>zhvi_0</th>\n",
       "      <th>zri_0</th>\n",
       "      <th>n</th>\n",
       "      <th>y_zhvi</th>\n",
       "      <th>y_zri</th>\n",
       "    </tr>\n",
       "  </thead>\n",
       "  <tbody>\n",
       "    <tr>\n",
       "      <th>0</th>\n",
       "      <td>90001</td>\n",
       "      <td>2.901067e+05</td>\n",
       "      <td>2107.267212</td>\n",
       "      <td>2017-12-31</td>\n",
       "      <td>367200</td>\n",
       "      <td>2193</td>\n",
       "      <td>27</td>\n",
       "      <td>-0.235658</td>\n",
       "      <td>-0.039879</td>\n",
       "    </tr>\n",
       "    <tr>\n",
       "      <th>1</th>\n",
       "      <td>90002</td>\n",
       "      <td>2.738037e+05</td>\n",
       "      <td>2073.617670</td>\n",
       "      <td>2017-12-31</td>\n",
       "      <td>355800</td>\n",
       "      <td>2201</td>\n",
       "      <td>27</td>\n",
       "      <td>-0.261957</td>\n",
       "      <td>-0.059617</td>\n",
       "    </tr>\n",
       "    <tr>\n",
       "      <th>2</th>\n",
       "      <td>90003</td>\n",
       "      <td>2.920141e+05</td>\n",
       "      <td>2111.681483</td>\n",
       "      <td>2017-12-31</td>\n",
       "      <td>381400</td>\n",
       "      <td>2206</td>\n",
       "      <td>27</td>\n",
       "      <td>-0.267047</td>\n",
       "      <td>-0.043696</td>\n",
       "    </tr>\n",
       "    <tr>\n",
       "      <th>3</th>\n",
       "      <td>90004</td>\n",
       "      <td>1.668105e+06</td>\n",
       "      <td>3066.411287</td>\n",
       "      <td>2017-12-31</td>\n",
       "      <td>1.5917e+06</td>\n",
       "      <td>2826</td>\n",
       "      <td>27</td>\n",
       "      <td>0.046886</td>\n",
       "      <td>0.081646</td>\n",
       "    </tr>\n",
       "    <tr>\n",
       "      <th>4</th>\n",
       "      <td>90005</td>\n",
       "      <td>1.510442e+06</td>\n",
       "      <td>2871.483500</td>\n",
       "      <td>2017-12-31</td>\n",
       "      <td>1.4709e+06</td>\n",
       "      <td>2751</td>\n",
       "      <td>27</td>\n",
       "      <td>0.026528</td>\n",
       "      <td>0.042864</td>\n",
       "    </tr>\n",
       "  </tbody>\n",
       "</table>\n",
       "</div>"
      ],
      "text/plain": [
       "   zip_code        zhvi_n        zri_n   n_recent      zhvi_0 zri_0   n  \\\n",
       "0     90001  2.901067e+05  2107.267212 2017-12-31      367200  2193  27   \n",
       "1     90002  2.738037e+05  2073.617670 2017-12-31      355800  2201  27   \n",
       "2     90003  2.920141e+05  2111.681483 2017-12-31      381400  2206  27   \n",
       "3     90004  1.668105e+06  3066.411287 2017-12-31  1.5917e+06  2826  27   \n",
       "4     90005  1.510442e+06  2871.483500 2017-12-31  1.4709e+06  2751  27   \n",
       "\n",
       "     y_zhvi     y_zri  \n",
       "0 -0.235658 -0.039879  \n",
       "1 -0.261957 -0.059617  \n",
       "2 -0.267047 -0.043696  \n",
       "3  0.046886  0.081646  \n",
       "4  0.026528  0.042864  "
      ]
     },
     "execution_count": 49,
     "metadata": {},
     "output_type": "execute_result"
    }
   ],
   "source": [
    "merged_for_appr.head()"
   ]
  },
  {
   "cell_type": "code",
   "execution_count": 50,
   "metadata": {
    "scrolled": true
   },
   "outputs": [
    {
     "data": {
      "text/plain": [
       "array([27, 212, 55, 159, 129], dtype=object)"
      ]
     },
     "execution_count": 50,
     "metadata": {},
     "output_type": "execute_result"
    }
   ],
   "source": [
    "merged_for_appr['n'].unique()"
   ]
  },
  {
   "cell_type": "code",
   "execution_count": null,
   "metadata": {},
   "outputs": [],
   "source": [
    "zhvi_X, zhvi_y = merged_for_appr['n'], merged_for_appr['y_zhvi']\n",
    "zri_X, zri_y = merged_for_appr['n'], merged_for_appr['y_zri']\n"
   ]
  },
  {
   "cell_type": "code",
   "execution_count": null,
   "metadata": {},
   "outputs": [],
   "source": [
    "\n",
    "lr_zhvi = LinearRegression(random_state=42)\n",
    "lr_zvi = LinearRegression(random_state=42)\n",
    "\n",
    "lr_zhvi.fit(zhvi_X, zhvi_y)\n",
    "lr_zhvi"
   ]
  }
 ],
 "metadata": {
  "kernelspec": {
   "display_name": "Python 3",
   "language": "python",
   "name": "python3"
  },
  "language_info": {
   "codemirror_mode": {
    "name": "ipython",
    "version": 3
   },
   "file_extension": ".py",
   "mimetype": "text/x-python",
   "name": "python",
   "nbconvert_exporter": "python",
   "pygments_lexer": "ipython3",
   "version": "3.7.0"
  }
 },
 "nbformat": 4,
 "nbformat_minor": 4
}
