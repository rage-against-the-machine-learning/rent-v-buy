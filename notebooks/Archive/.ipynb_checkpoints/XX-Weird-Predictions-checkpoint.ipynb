{
 "cells": [
  {
   "cell_type": "markdown",
   "metadata": {},
   "source": [
    "### Import Packages"
   ]
  },
  {
   "cell_type": "code",
   "execution_count": 1,
   "metadata": {},
   "outputs": [],
   "source": [
    "import pandas as pd \n",
    "import numpy as np\n",
    "\n",
    "import warnings\n",
    "warnings.filterwarnings(\"ignore\")\n",
    "\n",
    "from pprint import pprint\n",
    "from datetime import datetime\n",
    "\n",
    "from sklearn.metrics import r2_score\n",
    "from sklearn.linear_model import LinearRegression\n",
    "from sklearn.model_selection import train_test_split\n",
    "\n",
    "# Append the entire repo parent director so files therein can be accessed in notebook\n",
    "import os\n",
    "import sys\n",
    "import pathlib\n",
    "sys.path.append(str(pathlib.Path().absolute().parent))\n",
    "\n",
    "from src import helper\n",
    "%load_ext autoreload"
   ]
  },
  {
   "cell_type": "markdown",
   "metadata": {},
   "source": [
    "### Load Data"
   ]
  },
  {
   "cell_type": "code",
   "execution_count": 2,
   "metadata": {},
   "outputs": [],
   "source": [
    "CA_time_interpolated = pd.read_pickle('../data/processed/interpolated_fillnaTime_df.pickle')\n",
    "interp_preds = pd.read_csv('../data/predictions/rent_buy_zip_interp.csv')"
   ]
  },
  {
   "cell_type": "code",
   "execution_count": 3,
   "metadata": {},
   "outputs": [],
   "source": [
    "interp_preds.rename(columns={'Unnamed: 0': 'zip_code'}, inplace=True)"
   ]
  },
  {
   "cell_type": "code",
   "execution_count": null,
   "metadata": {},
   "outputs": [],
   "source": [
    "CA_time_w_nulls = pd.read_pickle('../data/processed/interpolated_fillna0_df.pickle')"
   ]
  },
  {
   "cell_type": "markdown",
   "metadata": {},
   "source": [
    "### ZipCode MetaData for Appreciation Rate Calculation Setup"
   ]
  },
  {
   "cell_type": "code",
   "execution_count": 5,
   "metadata": {},
   "outputs": [
    {
     "data": {
      "text/plain": [
       "1311"
      ]
     },
     "execution_count": 5,
     "metadata": {},
     "output_type": "execute_result"
    }
   ],
   "source": [
    "cali_zips = CA_time_interpolated['ZipCode'].unique().tolist()\n",
    "len(cali_zips)"
   ]
  },
  {
   "cell_type": "code",
   "execution_count": 6,
   "metadata": {},
   "outputs": [
    {
     "data": {
      "text/plain": [
       "1311"
      ]
     },
     "execution_count": 6,
     "metadata": {},
     "output_type": "execute_result"
    }
   ],
   "source": [
    "zip_metadata = dict()\n",
    "\n",
    "for zipcode in cali_zips:\n",
    "    # filter on the zipcode\n",
    "    sub_df = CA_time_interpolated[CA_time_interpolated['ZipCode'] == zipcode].sort_values('ds', ascending=False)\n",
    "    sub_df.reset_index(drop=True, inplace=True)\n",
    "    \n",
    "    # convert the 'ds' column to datetime\n",
    "    n_recent = sub_df.loc[0, 'ds'].to_pydatetime()\n",
    "    zhvi_0 = sub_df.loc[0, 'ZHVI_SingleFamilyResidence']\n",
    "    zri_0 = sub_df.loc[0, 'Zri_MultiFamilyResidenceRental']\n",
    "    \n",
    "    zip_metadata[zipcode] = {\n",
    "        'n_recent' : n_recent,\n",
    "        'zhvi_0' : zhvi_0,\n",
    "        'zri_0' : zri_0,\n",
    "        'n' : helper.months_til_today(sub_df)\n",
    "    }\n",
    "    \n",
    "len(zip_metadata)    "
   ]
  },
  {
   "cell_type": "code",
   "execution_count": 7,
   "metadata": {
    "scrolled": true
   },
   "outputs": [
    {
     "data": {
      "text/html": [
       "<div>\n",
       "<style scoped>\n",
       "    .dataframe tbody tr th:only-of-type {\n",
       "        vertical-align: middle;\n",
       "    }\n",
       "\n",
       "    .dataframe tbody tr th {\n",
       "        vertical-align: top;\n",
       "    }\n",
       "\n",
       "    .dataframe thead th {\n",
       "        text-align: right;\n",
       "    }\n",
       "</style>\n",
       "<table border=\"1\" class=\"dataframe\">\n",
       "  <thead>\n",
       "    <tr style=\"text-align: right;\">\n",
       "      <th></th>\n",
       "      <th>zip_code</th>\n",
       "      <th>n_recent</th>\n",
       "      <th>zhvi_0</th>\n",
       "      <th>zri_0</th>\n",
       "      <th>n</th>\n",
       "    </tr>\n",
       "  </thead>\n",
       "  <tbody>\n",
       "    <tr>\n",
       "      <th>0</th>\n",
       "      <td>90001</td>\n",
       "      <td>2017-12-31</td>\n",
       "      <td>367200</td>\n",
       "      <td>2193</td>\n",
       "      <td>27</td>\n",
       "    </tr>\n",
       "    <tr>\n",
       "      <th>1</th>\n",
       "      <td>90002</td>\n",
       "      <td>2017-12-31</td>\n",
       "      <td>355800</td>\n",
       "      <td>2201</td>\n",
       "      <td>27</td>\n",
       "    </tr>\n",
       "    <tr>\n",
       "      <th>2</th>\n",
       "      <td>90003</td>\n",
       "      <td>2017-12-31</td>\n",
       "      <td>381400</td>\n",
       "      <td>2206</td>\n",
       "      <td>27</td>\n",
       "    </tr>\n",
       "    <tr>\n",
       "      <th>3</th>\n",
       "      <td>90004</td>\n",
       "      <td>2017-12-31</td>\n",
       "      <td>1.5917e+06</td>\n",
       "      <td>2826</td>\n",
       "      <td>27</td>\n",
       "    </tr>\n",
       "    <tr>\n",
       "      <th>4</th>\n",
       "      <td>90005</td>\n",
       "      <td>2017-12-31</td>\n",
       "      <td>1.4709e+06</td>\n",
       "      <td>2751</td>\n",
       "      <td>27</td>\n",
       "    </tr>\n",
       "  </tbody>\n",
       "</table>\n",
       "</div>"
      ],
      "text/plain": [
       "   zip_code   n_recent      zhvi_0 zri_0   n\n",
       "0     90001 2017-12-31      367200  2193  27\n",
       "1     90002 2017-12-31      355800  2201  27\n",
       "2     90003 2017-12-31      381400  2206  27\n",
       "3     90004 2017-12-31  1.5917e+06  2826  27\n",
       "4     90005 2017-12-31  1.4709e+06  2751  27"
      ]
     },
     "execution_count": 7,
     "metadata": {},
     "output_type": "execute_result"
    }
   ],
   "source": [
    "zip_meta_df = pd.DataFrame(zip_metadata).T.reset_index()\n",
    "zip_meta_df.rename(columns={'index':'zip_code'}, inplace=True)\n",
    "zip_meta_df.head()"
   ]
  },
  {
   "cell_type": "code",
   "execution_count": 8,
   "metadata": {},
   "outputs": [],
   "source": [
    "interp_preds.rename(columns={\n",
    "    'buy':'zhvi_n',\n",
    "    'rent':'zri_n'\n",
    "}, inplace=True)"
   ]
  },
  {
   "cell_type": "code",
   "execution_count": 9,
   "metadata": {},
   "outputs": [],
   "source": [
    "merged_for_appr = interp_preds.merge(zip_meta_df, on='zip_code', how='left')\n",
    "merged_for_appr.reset_index(drop=True, inplace=True)"
   ]
  },
  {
   "cell_type": "code",
   "execution_count": 10,
   "metadata": {},
   "outputs": [],
   "source": [
    "merged_for_appr['y_zhvi'] = [np.log(zhvi_n/zhvi_0) for zhvi_n, zhvi_0 in zip(merged_for_appr['zhvi_n'], merged_for_appr['zhvi_0'])]\n",
    "merged_for_appr['y_zri'] = [np.log(zri_n/zri_0) for zri_n, zri_0 in zip(merged_for_appr['zri_n'], merged_for_appr['zri_0'])]"
   ]
  },
  {
   "cell_type": "markdown",
   "metadata": {},
   "source": [
    "### Note that predicted `zhvi_n` and `zri_n` are all les than `zhvi_0`, and `zri_0`, respectively"
   ]
  },
  {
   "cell_type": "code",
   "execution_count": 11,
   "metadata": {
    "scrolled": true
   },
   "outputs": [
    {
     "data": {
      "text/html": [
       "<div>\n",
       "<style scoped>\n",
       "    .dataframe tbody tr th:only-of-type {\n",
       "        vertical-align: middle;\n",
       "    }\n",
       "\n",
       "    .dataframe tbody tr th {\n",
       "        vertical-align: top;\n",
       "    }\n",
       "\n",
       "    .dataframe thead th {\n",
       "        text-align: right;\n",
       "    }\n",
       "</style>\n",
       "<table border=\"1\" class=\"dataframe\">\n",
       "  <thead>\n",
       "    <tr style=\"text-align: right;\">\n",
       "      <th></th>\n",
       "      <th>zip_code</th>\n",
       "      <th>zhvi_n</th>\n",
       "      <th>zri_n</th>\n",
       "      <th>n_recent</th>\n",
       "      <th>zhvi_0</th>\n",
       "      <th>zri_0</th>\n",
       "      <th>n</th>\n",
       "      <th>y_zhvi</th>\n",
       "      <th>y_zri</th>\n",
       "    </tr>\n",
       "  </thead>\n",
       "  <tbody>\n",
       "    <tr>\n",
       "      <th>0</th>\n",
       "      <td>90001</td>\n",
       "      <td>2.901067e+05</td>\n",
       "      <td>2107.267212</td>\n",
       "      <td>2017-12-31</td>\n",
       "      <td>367200</td>\n",
       "      <td>2193</td>\n",
       "      <td>27</td>\n",
       "      <td>-0.235658</td>\n",
       "      <td>-0.039879</td>\n",
       "    </tr>\n",
       "    <tr>\n",
       "      <th>1</th>\n",
       "      <td>90002</td>\n",
       "      <td>2.738037e+05</td>\n",
       "      <td>2073.617670</td>\n",
       "      <td>2017-12-31</td>\n",
       "      <td>355800</td>\n",
       "      <td>2201</td>\n",
       "      <td>27</td>\n",
       "      <td>-0.261957</td>\n",
       "      <td>-0.059617</td>\n",
       "    </tr>\n",
       "    <tr>\n",
       "      <th>2</th>\n",
       "      <td>90003</td>\n",
       "      <td>2.920141e+05</td>\n",
       "      <td>2111.681483</td>\n",
       "      <td>2017-12-31</td>\n",
       "      <td>381400</td>\n",
       "      <td>2206</td>\n",
       "      <td>27</td>\n",
       "      <td>-0.267047</td>\n",
       "      <td>-0.043696</td>\n",
       "    </tr>\n",
       "    <tr>\n",
       "      <th>3</th>\n",
       "      <td>90004</td>\n",
       "      <td>1.668105e+06</td>\n",
       "      <td>3066.411287</td>\n",
       "      <td>2017-12-31</td>\n",
       "      <td>1.5917e+06</td>\n",
       "      <td>2826</td>\n",
       "      <td>27</td>\n",
       "      <td>0.046886</td>\n",
       "      <td>0.081646</td>\n",
       "    </tr>\n",
       "    <tr>\n",
       "      <th>4</th>\n",
       "      <td>90005</td>\n",
       "      <td>1.510442e+06</td>\n",
       "      <td>2871.483500</td>\n",
       "      <td>2017-12-31</td>\n",
       "      <td>1.4709e+06</td>\n",
       "      <td>2751</td>\n",
       "      <td>27</td>\n",
       "      <td>0.026528</td>\n",
       "      <td>0.042864</td>\n",
       "    </tr>\n",
       "  </tbody>\n",
       "</table>\n",
       "</div>"
      ],
      "text/plain": [
       "   zip_code        zhvi_n        zri_n   n_recent      zhvi_0 zri_0   n  \\\n",
       "0     90001  2.901067e+05  2107.267212 2017-12-31      367200  2193  27   \n",
       "1     90002  2.738037e+05  2073.617670 2017-12-31      355800  2201  27   \n",
       "2     90003  2.920141e+05  2111.681483 2017-12-31      381400  2206  27   \n",
       "3     90004  1.668105e+06  3066.411287 2017-12-31  1.5917e+06  2826  27   \n",
       "4     90005  1.510442e+06  2871.483500 2017-12-31  1.4709e+06  2751  27   \n",
       "\n",
       "     y_zhvi     y_zri  \n",
       "0 -0.235658 -0.039879  \n",
       "1 -0.261957 -0.059617  \n",
       "2 -0.267047 -0.043696  \n",
       "3  0.046886  0.081646  \n",
       "4  0.026528  0.042864  "
      ]
     },
     "execution_count": 11,
     "metadata": {},
     "output_type": "execute_result"
    }
   ],
   "source": [
    "merged_for_appr.head()"
   ]
  },
  {
   "cell_type": "code",
   "execution_count": 13,
   "metadata": {
    "scrolled": true
   },
   "outputs": [
    {
     "data": {
      "text/plain": [
       "456"
      ]
     },
     "execution_count": 13,
     "metadata": {},
     "output_type": "execute_result"
    }
   ],
   "source": [
    "(merged_for_appr['zhvi_n'] > merged_for_appr['zhvi_0']).sum()"
   ]
  },
  {
   "cell_type": "code",
   "execution_count": 14,
   "metadata": {},
   "outputs": [
    {
     "data": {
      "text/plain": [
       "891"
      ]
     },
     "execution_count": 14,
     "metadata": {},
     "output_type": "execute_result"
    }
   ],
   "source": [
    "(merged_for_appr['zri_n'] > merged_for_appr['zri_0']).sum()"
   ]
  },
  {
   "cell_type": "code",
   "execution_count": 34,
   "metadata": {},
   "outputs": [
    {
     "name": "stdout",
     "output_type": "stream",
     "text": [
      "2   -89385.9\n",
      "dtype: object\n",
      "2   -94.3185\n",
      "dtype: object\n"
     ]
    }
   ],
   "source": [
    "test_check = merged_for_appr[merged_for_appr['zip_code'] == 90003]\n",
    "\n",
    "print(test_check['zhvi_n'] - test_check['zhvi_0'])\n",
    "print(test_check['zri_n'] - test_check['zri_0'])"
   ]
  },
  {
   "cell_type": "code",
   "execution_count": 17,
   "metadata": {
    "scrolled": false
   },
   "outputs": [
    {
     "data": {
      "text/html": [
       "<div>\n",
       "<style scoped>\n",
       "    .dataframe tbody tr th:only-of-type {\n",
       "        vertical-align: middle;\n",
       "    }\n",
       "\n",
       "    .dataframe tbody tr th {\n",
       "        vertical-align: top;\n",
       "    }\n",
       "\n",
       "    .dataframe thead th {\n",
       "        text-align: right;\n",
       "    }\n",
       "</style>\n",
       "<table border=\"1\" class=\"dataframe\">\n",
       "  <thead>\n",
       "    <tr style=\"text-align: right;\">\n",
       "      <th></th>\n",
       "      <th>zip_code</th>\n",
       "      <th>zhvi_n</th>\n",
       "      <th>zri_n</th>\n",
       "      <th>n_recent</th>\n",
       "      <th>zhvi_0</th>\n",
       "      <th>zri_0</th>\n",
       "      <th>n</th>\n",
       "      <th>y_zhvi</th>\n",
       "      <th>y_zri</th>\n",
       "    </tr>\n",
       "  </thead>\n",
       "  <tbody>\n",
       "    <tr>\n",
       "      <th>1231</th>\n",
       "      <td>93562</td>\n",
       "      <td>-6.668989e+04</td>\n",
       "      <td>2663.971102</td>\n",
       "      <td>2017-12-31</td>\n",
       "      <td>80200</td>\n",
       "      <td>1965</td>\n",
       "      <td>27</td>\n",
       "      <td>NaN</td>\n",
       "      <td>0.304326</td>\n",
       "    </tr>\n",
       "    <tr>\n",
       "      <th>1270</th>\n",
       "      <td>95113</td>\n",
       "      <td>-2.685721e+06</td>\n",
       "      <td>5951.109136</td>\n",
       "      <td>2017-12-31</td>\n",
       "      <td>606100</td>\n",
       "      <td>1965</td>\n",
       "      <td>27</td>\n",
       "      <td>NaN</td>\n",
       "      <td>1.108085</td>\n",
       "    </tr>\n",
       "  </tbody>\n",
       "</table>\n",
       "</div>"
      ],
      "text/plain": [
       "      zip_code        zhvi_n        zri_n   n_recent  zhvi_0 zri_0   n  \\\n",
       "1231     93562 -6.668989e+04  2663.971102 2017-12-31   80200  1965  27   \n",
       "1270     95113 -2.685721e+06  5951.109136 2017-12-31  606100  1965  27   \n",
       "\n",
       "      y_zhvi     y_zri  \n",
       "1231     NaN  0.304326  \n",
       "1270     NaN  1.108085  "
      ]
     },
     "execution_count": 17,
     "metadata": {},
     "output_type": "execute_result"
    }
   ],
   "source": [
    "merged_for_appr[merged_for_appr['y_zhvi'].isnull()]"
   ]
  },
  {
   "cell_type": "code",
   "execution_count": 47,
   "metadata": {},
   "outputs": [
    {
     "data": {
      "text/html": [
       "<div>\n",
       "<style scoped>\n",
       "    .dataframe tbody tr th:only-of-type {\n",
       "        vertical-align: middle;\n",
       "    }\n",
       "\n",
       "    .dataframe tbody tr th {\n",
       "        vertical-align: top;\n",
       "    }\n",
       "\n",
       "    .dataframe thead th {\n",
       "        text-align: right;\n",
       "    }\n",
       "</style>\n",
       "<table border=\"1\" class=\"dataframe\">\n",
       "  <thead>\n",
       "    <tr style=\"text-align: right;\">\n",
       "      <th></th>\n",
       "      <th>zip_code</th>\n",
       "      <th>upd_zhvi_n</th>\n",
       "      <th>upd_zri_n</th>\n",
       "    </tr>\n",
       "  </thead>\n",
       "  <tbody>\n",
       "    <tr>\n",
       "      <th>0</th>\n",
       "      <td>90210</td>\n",
       "      <td>7.139182e+06</td>\n",
       "      <td>5585.252930</td>\n",
       "    </tr>\n",
       "    <tr>\n",
       "      <th>1</th>\n",
       "      <td>96161</td>\n",
       "      <td>6.781726e+05</td>\n",
       "      <td>2362.463623</td>\n",
       "    </tr>\n",
       "    <tr>\n",
       "      <th>2</th>\n",
       "      <td>90003</td>\n",
       "      <td>2.953607e+05</td>\n",
       "      <td>2456.410645</td>\n",
       "    </tr>\n",
       "    <tr>\n",
       "      <th>3</th>\n",
       "      <td>90044</td>\n",
       "      <td>3.674555e+05</td>\n",
       "      <td>2492.750977</td>\n",
       "    </tr>\n",
       "  </tbody>\n",
       "</table>\n",
       "</div>"
      ],
      "text/plain": [
       "   zip_code    upd_zhvi_n    upd_zri_n\n",
       "0     90210  7.139182e+06  5585.252930\n",
       "1     96161  6.781726e+05  2362.463623\n",
       "2     90003  2.953607e+05  2456.410645\n",
       "3     90044  3.674555e+05  2492.750977"
      ]
     },
     "execution_count": 47,
     "metadata": {},
     "output_type": "execute_result"
    }
   ],
   "source": [
    "skyes_updated_preds = {'90210': {'buy': '7139182.0948651815', 'rent': '5585.252900188447'}, \n",
    "                       '96161': {'buy': '678172.6440568111', 'rent': '2362.4637147408434'}, \n",
    "                       '90003': {'buy': '295360.6408715986', 'rent': '2456.4105652434223'}, \n",
    "                       '90044': {'buy': '367455.49184245645', 'rent': '2492.7508553227'}}\n",
    "\n",
    "updated = pd.DataFrame(skyes_updated_preds).T\n",
    "updated.reset_index(inplace=True)\n",
    "updated.rename(columns={'index':'zip_code', 'buy':'upd_zhvi_n', 'rent': 'upd_zri_n'}, inplace=True)\n",
    "updated['zip_code'] = updated['zip_code'].astype('int64')\n",
    "updated['upd_zhvi_n'] = updated['upd_zhvi_n'].astype('float32')\n",
    "updated['upd_zri_n'] = updated['upd_zri_n'].astype('float32')\n",
    "updated.head()"
   ]
  },
  {
   "cell_type": "code",
   "execution_count": 48,
   "metadata": {},
   "outputs": [
    {
     "data": {
      "text/html": [
       "<div>\n",
       "<style scoped>\n",
       "    .dataframe tbody tr th:only-of-type {\n",
       "        vertical-align: middle;\n",
       "    }\n",
       "\n",
       "    .dataframe tbody tr th {\n",
       "        vertical-align: top;\n",
       "    }\n",
       "\n",
       "    .dataframe thead th {\n",
       "        text-align: right;\n",
       "    }\n",
       "</style>\n",
       "<table border=\"1\" class=\"dataframe\">\n",
       "  <thead>\n",
       "    <tr style=\"text-align: right;\">\n",
       "      <th></th>\n",
       "      <th>zip_code</th>\n",
       "      <th>zhvi_n</th>\n",
       "      <th>zri_n</th>\n",
       "      <th>n_recent</th>\n",
       "      <th>zhvi_0</th>\n",
       "      <th>zri_0</th>\n",
       "      <th>n</th>\n",
       "      <th>y_zhvi</th>\n",
       "      <th>y_zri</th>\n",
       "      <th>upd_zhvi_n</th>\n",
       "      <th>upd_zri_n</th>\n",
       "    </tr>\n",
       "  </thead>\n",
       "  <tbody>\n",
       "    <tr>\n",
       "      <th>0</th>\n",
       "      <td>90003</td>\n",
       "      <td>2.920141e+05</td>\n",
       "      <td>2111.681483</td>\n",
       "      <td>2017-12-31</td>\n",
       "      <td>381400</td>\n",
       "      <td>2206</td>\n",
       "      <td>27</td>\n",
       "      <td>-0.267047</td>\n",
       "      <td>-0.043696</td>\n",
       "      <td>2.953607e+05</td>\n",
       "      <td>2456.410645</td>\n",
       "    </tr>\n",
       "    <tr>\n",
       "      <th>1</th>\n",
       "      <td>90044</td>\n",
       "      <td>3.510407e+05</td>\n",
       "      <td>2137.198959</td>\n",
       "      <td>2017-12-31</td>\n",
       "      <td>421900</td>\n",
       "      <td>2235</td>\n",
       "      <td>27</td>\n",
       "      <td>-0.183866</td>\n",
       "      <td>-0.044745</td>\n",
       "      <td>3.674555e+05</td>\n",
       "      <td>2492.750977</td>\n",
       "    </tr>\n",
       "    <tr>\n",
       "      <th>2</th>\n",
       "      <td>90210</td>\n",
       "      <td>6.303823e+06</td>\n",
       "      <td>5045.896015</td>\n",
       "      <td>2017-12-31</td>\n",
       "      <td>6.1421e+06</td>\n",
       "      <td>4482</td>\n",
       "      <td>27</td>\n",
       "      <td>0.025990</td>\n",
       "      <td>0.118506</td>\n",
       "      <td>7.139182e+06</td>\n",
       "      <td>5585.252930</td>\n",
       "    </tr>\n",
       "    <tr>\n",
       "      <th>3</th>\n",
       "      <td>96161</td>\n",
       "      <td>6.011641e+05</td>\n",
       "      <td>2028.848061</td>\n",
       "      <td>2017-12-31</td>\n",
       "      <td>606100</td>\n",
       "      <td>1965</td>\n",
       "      <td>27</td>\n",
       "      <td>-0.008177</td>\n",
       "      <td>0.031976</td>\n",
       "      <td>6.781726e+05</td>\n",
       "      <td>2362.463623</td>\n",
       "    </tr>\n",
       "  </tbody>\n",
       "</table>\n",
       "</div>"
      ],
      "text/plain": [
       "   zip_code        zhvi_n        zri_n   n_recent      zhvi_0 zri_0   n  \\\n",
       "0     90003  2.920141e+05  2111.681483 2017-12-31      381400  2206  27   \n",
       "1     90044  3.510407e+05  2137.198959 2017-12-31      421900  2235  27   \n",
       "2     90210  6.303823e+06  5045.896015 2017-12-31  6.1421e+06  4482  27   \n",
       "3     96161  6.011641e+05  2028.848061 2017-12-31      606100  1965  27   \n",
       "\n",
       "     y_zhvi     y_zri    upd_zhvi_n    upd_zri_n  \n",
       "0 -0.267047 -0.043696  2.953607e+05  2456.410645  \n",
       "1 -0.183866 -0.044745  3.674555e+05  2492.750977  \n",
       "2  0.025990  0.118506  7.139182e+06  5585.252930  \n",
       "3 -0.008177  0.031976  6.781726e+05  2362.463623  "
      ]
     },
     "execution_count": 48,
     "metadata": {},
     "output_type": "execute_result"
    }
   ],
   "source": [
    "w_updated_preds = merged_for_appr.merge(updated, on='zip_code')\n",
    "w_updated_preds"
   ]
  },
  {
   "cell_type": "code",
   "execution_count": 52,
   "metadata": {},
   "outputs": [
    {
     "name": "stdout",
     "output_type": "stream",
     "text": [
      "0    True\n",
      "1    True\n",
      "2    True\n",
      "3    True\n",
      "dtype: bool\n",
      "0    False\n",
      "1    False\n",
      "2     True\n",
      "3    False\n",
      "dtype: bool\n",
      "0    False\n",
      "1    False\n",
      "2     True\n",
      "3     True\n",
      "dtype: bool\n"
     ]
    }
   ],
   "source": [
    "print(w_updated_preds['upd_zhvi_n'] > w_updated_preds['zhvi_n'])\n",
    "print(w_updated_preds['zhvi_n'] > w_updated_preds['zhvi_0'])\n",
    "print(w_updated_preds['upd_zhvi_n'] > w_updated_preds['zhvi_0'])"
   ]
  },
  {
   "cell_type": "code",
   "execution_count": null,
   "metadata": {},
   "outputs": [],
   "source": []
  }
 ],
 "metadata": {
  "kernelspec": {
   "display_name": "Python 3",
   "language": "python",
   "name": "python3"
  },
  "language_info": {
   "codemirror_mode": {
    "name": "ipython",
    "version": 3
   },
   "file_extension": ".py",
   "mimetype": "text/x-python",
   "name": "python",
   "nbconvert_exporter": "python",
   "pygments_lexer": "ipython3",
   "version": "3.7.0"
  }
 },
 "nbformat": 4,
 "nbformat_minor": 4
}
