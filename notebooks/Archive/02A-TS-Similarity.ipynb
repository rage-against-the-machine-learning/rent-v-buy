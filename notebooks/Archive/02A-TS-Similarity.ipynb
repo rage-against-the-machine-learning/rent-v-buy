{
 "cells": [
  {
   "cell_type": "markdown",
   "metadata": {},
   "source": [
    "# TS-Similarity, Clustering\n",
    "**OBJECTIVE** \n",
    "- Ways to calculate Similarity\n",
    "    1. STUMPY (https://stumpy.readthedocs.io/en/latest/Tutorial_The_Matrix_Profile.html#Euclidean-Distance-/yo%CD%9Eo%CB%88klid%C4%93%C9%99n/-/%CB%88dist%C9%99ns/-noun)\n",
    "    2. DTAIDistance (https://github.com/wannesm/dtaidistance)\n",
    "    3. Clustering using global TS features such as the following (some of which can be extracted using `tsfresh`)\n",
    "        - trend\n",
    "        - seasonality\n",
    "        - periodicity\n",
    "        - serial correlation\n",
    "        - skewness\n",
    "        - kurtosis\n",
    "        - chaos\n",
    "        - non-linearity\n",
    "        - self-similarity\n",
    "    4. Kriging (https://pypi.org/project/PyKrige/) using spacial coordinates such as Latitude & Longitude\n",
    "        \n"
   ]
  },
  {
   "cell_type": "markdown",
   "metadata": {},
   "source": [
    "### Imputation FIndings\n",
    "- The imputation techniques are miserable as shown by R2 scores that make no sense\n",
    "- Notably from the line graphs shown, the classic naive imputation technique of FillMean and / FillMed or Interpolate Time are the best for use at this time (**as a placeholder**) until another imputation technique is explored at a later time"
   ]
  },
  {
   "cell_type": "code",
   "execution_count": 1,
   "metadata": {},
   "outputs": [],
   "source": [
    "import pandas as pd \n",
    "import numpy as np\n",
    "import json\n",
    "import tqdm\n",
    "\n",
    "import warnings\n",
    "warnings.filterwarnings(\"ignore\")\n",
    "\n",
    "from collections import Counter\n",
    "from pprint import pprint\n",
    "from sklearn.metrics import r2_score\n",
    "from datetime import datetime\n",
    "\n",
    "import zipcodes\n",
    "\n",
    "import matplotlib.pyplot as plt\n",
    "import seaborn as sns\n",
    "\n",
    "# Append the entire repo parent director so files therein can be accessed in notebook\n",
    "import os\n",
    "import sys\n",
    "import pathlib\n",
    "sys.path.append(str(pathlib.Path().absolute().parent))\n",
    "\n",
    "from src import helper\n",
    "%load_ext autoreload"
   ]
  },
  {
   "cell_type": "markdown",
   "metadata": {},
   "source": [
    "### Import Data"
   ]
  },
  {
   "cell_type": "code",
   "execution_count": 2,
   "metadata": {},
   "outputs": [],
   "source": [
    "ca_zips = pd.read_pickle('../data/interim/ca-zip-w-city-ts.pickle')"
   ]
  },
  {
   "cell_type": "code",
   "execution_count": 3,
   "metadata": {},
   "outputs": [],
   "source": [
    "interpol_0 = pd.read_pickle('../data/interim/interpolated_fillna0_df.pickle')\n",
    "interpol_time = pd.read_pickle('../data/interim/interpolated_fillnaTime_df.pickle')"
   ]
  },
  {
   "cell_type": "code",
   "execution_count": 4,
   "metadata": {
    "scrolled": false
   },
   "outputs": [
    {
     "data": {
      "text/html": [
       "<div>\n",
       "<style scoped>\n",
       "    .dataframe tbody tr th:only-of-type {\n",
       "        vertical-align: middle;\n",
       "    }\n",
       "\n",
       "    .dataframe tbody tr th {\n",
       "        vertical-align: top;\n",
       "    }\n",
       "\n",
       "    .dataframe thead th {\n",
       "        text-align: right;\n",
       "    }\n",
       "</style>\n",
       "<table border=\"1\" class=\"dataframe\">\n",
       "  <thead>\n",
       "    <tr style=\"text-align: right;\">\n",
       "      <th></th>\n",
       "      <th>Date</th>\n",
       "      <th>ZipCode</th>\n",
       "      <th>City</th>\n",
       "      <th>County</th>\n",
       "      <th>Lat</th>\n",
       "      <th>Long</th>\n",
       "      <th>ZHVI_1bedroom</th>\n",
       "      <th>ZHVI_2bedroom</th>\n",
       "      <th>ZHVI_3bedroom</th>\n",
       "      <th>ZHVI_4bedroom</th>\n",
       "      <th>...</th>\n",
       "      <th>ZHVI_TopTier</th>\n",
       "      <th>ZRI_AllHomes</th>\n",
       "      <th>ZRI_AllHomesPlusMultifamily</th>\n",
       "      <th>Zri_MultiFamilyResidenceRental</th>\n",
       "      <th>Zri_SingleFamilyResidenceRental</th>\n",
       "      <th>FIPS</th>\n",
       "      <th>MetroName</th>\n",
       "      <th>Unique_City_ID</th>\n",
       "      <th>State</th>\n",
       "      <th>ds</th>\n",
       "    </tr>\n",
       "  </thead>\n",
       "  <tbody>\n",
       "    <tr>\n",
       "      <th>0</th>\n",
       "      <td>1996-04-30</td>\n",
       "      <td>90001</td>\n",
       "      <td>Los Angeles</td>\n",
       "      <td>Los Angeles</td>\n",
       "      <td>33.9736</td>\n",
       "      <td>-118.2479</td>\n",
       "      <td>94000.0</td>\n",
       "      <td>107300.0</td>\n",
       "      <td>121600.0</td>\n",
       "      <td>129200.0</td>\n",
       "      <td>...</td>\n",
       "      <td>128400.0</td>\n",
       "      <td>NaN</td>\n",
       "      <td>NaN</td>\n",
       "      <td>NaN</td>\n",
       "      <td>NaN</td>\n",
       "      <td>6037.0</td>\n",
       "      <td>Los Angeles-Long Beach-Anaheim, CA</td>\n",
       "      <td>los_angeleslos_angelesca</td>\n",
       "      <td>CA</td>\n",
       "      <td>1996-04-30</td>\n",
       "    </tr>\n",
       "    <tr>\n",
       "      <th>1</th>\n",
       "      <td>1996-04-30</td>\n",
       "      <td>90002</td>\n",
       "      <td>Los Angeles</td>\n",
       "      <td>Los Angeles</td>\n",
       "      <td>33.9490</td>\n",
       "      <td>-118.2460</td>\n",
       "      <td>NaN</td>\n",
       "      <td>92700.0</td>\n",
       "      <td>111900.0</td>\n",
       "      <td>115600.0</td>\n",
       "      <td>...</td>\n",
       "      <td>121300.0</td>\n",
       "      <td>NaN</td>\n",
       "      <td>NaN</td>\n",
       "      <td>NaN</td>\n",
       "      <td>NaN</td>\n",
       "      <td>6037.0</td>\n",
       "      <td>Los Angeles-Long Beach-Anaheim, CA</td>\n",
       "      <td>los_angeleslos_angelesca</td>\n",
       "      <td>CA</td>\n",
       "      <td>1996-04-30</td>\n",
       "    </tr>\n",
       "    <tr>\n",
       "      <th>2</th>\n",
       "      <td>1996-04-30</td>\n",
       "      <td>90003</td>\n",
       "      <td>Los Angeles</td>\n",
       "      <td>Los Angeles</td>\n",
       "      <td>33.9640</td>\n",
       "      <td>-118.2737</td>\n",
       "      <td>77800.0</td>\n",
       "      <td>90300.0</td>\n",
       "      <td>116400.0</td>\n",
       "      <td>NaN</td>\n",
       "      <td>...</td>\n",
       "      <td>124000.0</td>\n",
       "      <td>NaN</td>\n",
       "      <td>NaN</td>\n",
       "      <td>NaN</td>\n",
       "      <td>NaN</td>\n",
       "      <td>6037.0</td>\n",
       "      <td>Los Angeles-Long Beach-Anaheim, CA</td>\n",
       "      <td>los_angeleslos_angelesca</td>\n",
       "      <td>CA</td>\n",
       "      <td>1996-04-30</td>\n",
       "    </tr>\n",
       "  </tbody>\n",
       "</table>\n",
       "<p>3 rows × 26 columns</p>\n",
       "</div>"
      ],
      "text/plain": [
       "         Date ZipCode         City       County      Lat       Long  \\\n",
       "0  1996-04-30   90001  Los Angeles  Los Angeles  33.9736  -118.2479   \n",
       "1  1996-04-30   90002  Los Angeles  Los Angeles  33.9490  -118.2460   \n",
       "2  1996-04-30   90003  Los Angeles  Los Angeles  33.9640  -118.2737   \n",
       "\n",
       "   ZHVI_1bedroom  ZHVI_2bedroom  ZHVI_3bedroom  ZHVI_4bedroom  ...  \\\n",
       "0        94000.0       107300.0       121600.0       129200.0  ...   \n",
       "1            NaN        92700.0       111900.0       115600.0  ...   \n",
       "2        77800.0        90300.0       116400.0            NaN  ...   \n",
       "\n",
       "   ZHVI_TopTier  ZRI_AllHomes  ZRI_AllHomesPlusMultifamily  \\\n",
       "0      128400.0           NaN                          NaN   \n",
       "1      121300.0           NaN                          NaN   \n",
       "2      124000.0           NaN                          NaN   \n",
       "\n",
       "   Zri_MultiFamilyResidenceRental  Zri_SingleFamilyResidenceRental    FIPS  \\\n",
       "0                             NaN                              NaN  6037.0   \n",
       "1                             NaN                              NaN  6037.0   \n",
       "2                             NaN                              NaN  6037.0   \n",
       "\n",
       "                            MetroName            Unique_City_ID  State  \\\n",
       "0  Los Angeles-Long Beach-Anaheim, CA  los_angeleslos_angelesca     CA   \n",
       "1  Los Angeles-Long Beach-Anaheim, CA  los_angeleslos_angelesca     CA   \n",
       "2  Los Angeles-Long Beach-Anaheim, CA  los_angeleslos_angelesca     CA   \n",
       "\n",
       "          ds  \n",
       "0 1996-04-30  \n",
       "1 1996-04-30  \n",
       "2 1996-04-30  \n",
       "\n",
       "[3 rows x 26 columns]"
      ]
     },
     "execution_count": 4,
     "metadata": {},
     "output_type": "execute_result"
    }
   ],
   "source": [
    "ca_zips.head(3)"
   ]
  },
  {
   "cell_type": "code",
   "execution_count": 5,
   "metadata": {
    "scrolled": true
   },
   "outputs": [
    {
     "name": "stdout",
     "output_type": "stream",
     "text": [
      "<class 'pandas.core.frame.DataFrame'>\n",
      "Int64Index: 332663 entries, 0 to 332662\n",
      "Data columns (total 26 columns):\n",
      " #   Column                           Non-Null Count   Dtype         \n",
      "---  ------                           --------------   -----         \n",
      " 0   Date                             332663 non-null  object        \n",
      " 1   ZipCode                          332663 non-null  object        \n",
      " 2   City                             332663 non-null  object        \n",
      " 3   County                           332663 non-null  object        \n",
      " 4   Lat                              332663 non-null  object        \n",
      " 5   Long                             332663 non-null  object        \n",
      " 6   ZHVI_1bedroom                    78578 non-null   float64       \n",
      " 7   ZHVI_2bedroom                    238484 non-null  float64       \n",
      " 8   ZHVI_3bedroom                    295858 non-null  float64       \n",
      " 9   ZHVI_4bedroom                    268698 non-null  float64       \n",
      " 10  ZHVI_5BedroomOrMore              205647 non-null  float64       \n",
      " 11  ZHVI_AllHomes                    302002 non-null  float64       \n",
      " 12  ZHVI_BottomTier                  260632 non-null  float64       \n",
      " 13  ZHVI_CondoCoop                   150161 non-null  float64       \n",
      " 14  ZHVI_MiddleTier                  301582 non-null  float64       \n",
      " 15  ZHVI_SingleFamilyResidence       299567 non-null  float64       \n",
      " 16  ZHVI_TopTier                     292354 non-null  float64       \n",
      " 17  ZRI_AllHomes                     106968 non-null  float64       \n",
      " 18  ZRI_AllHomesPlusMultifamily      107054 non-null  float64       \n",
      " 19  Zri_MultiFamilyResidenceRental   84858 non-null   float64       \n",
      " 20  Zri_SingleFamilyResidenceRental  106452 non-null  float64       \n",
      " 21  FIPS                             310720 non-null  float64       \n",
      " 22  MetroName                        300847 non-null  object        \n",
      " 23  Unique_City_ID                   310720 non-null  object        \n",
      " 24  State                            310720 non-null  object        \n",
      " 25  ds                               332663 non-null  datetime64[ns]\n",
      "dtypes: datetime64[ns](1), float64(16), object(9)\n",
      "memory usage: 68.5+ MB\n"
     ]
    }
   ],
   "source": [
    "ca_zips.info()"
   ]
  },
  {
   "cell_type": "code",
   "execution_count": 7,
   "metadata": {
    "scrolled": true
   },
   "outputs": [
    {
     "data": {
      "text/plain": [
       "1311"
      ]
     },
     "execution_count": 7,
     "metadata": {},
     "output_type": "execute_result"
    }
   ],
   "source": [
    "all_zips = list(set(ca_zips['ZipCode']))\n",
    "len(all_zips)"
   ]
  },
  {
   "cell_type": "code",
   "execution_count": 8,
   "metadata": {},
   "outputs": [
    {
     "data": {
      "text/plain": [
       "322"
      ]
     },
     "execution_count": 8,
     "metadata": {},
     "output_type": "execute_result"
    }
   ],
   "source": [
    "# Count how many zip codes have no rental information\n",
    "\n",
    "no_rental_zips = set()\n",
    "for zipcode in all_zips:\n",
    "    sub_df = ca_zips[ca_zips['ZipCode'] == zipcode]\n",
    "    if sub_df['Zri_MultiFamilyResidenceRental'].isnull().sum() == len(sub_df):\n",
    "        no_rental_zips.add(zipcode)\n",
    "    else:\n",
    "        pass\n",
    "    \n",
    "len(no_rental_zips)"
   ]
  },
  {
   "cell_type": "code",
   "execution_count": 11,
   "metadata": {},
   "outputs": [
    {
     "data": {
      "text/plain": [
       "array(['92253', '92285', '93646', '94511', '92676'], dtype='<U5')"
      ]
     },
     "execution_count": 11,
     "metadata": {},
     "output_type": "execute_result"
    }
   ],
   "source": [
    "np.random.choice(list(no_rental_zips), 5)"
   ]
  },
  {
   "cell_type": "markdown",
   "metadata": {},
   "source": [
    "### Create test dataframe using a test zipcode"
   ]
  },
  {
   "cell_type": "code",
   "execution_count": 6,
   "metadata": {},
   "outputs": [],
   "source": [
    "test_zip = '90210'"
   ]
  },
  {
   "cell_type": "code",
   "execution_count": 7,
   "metadata": {},
   "outputs": [
    {
     "data": {
      "text/plain": [
       "(261, 26)"
      ]
     },
     "execution_count": 7,
     "metadata": {},
     "output_type": "execute_result"
    }
   ],
   "source": [
    "test_ts = ca_zips[ca_zips['ZipCode'] == test_zip]\n",
    "test_ts.reset_index(drop=True, inplace=True)\n",
    "test_ts.shape"
   ]
  },
  {
   "cell_type": "code",
   "execution_count": 8,
   "metadata": {},
   "outputs": [
    {
     "data": {
      "text/html": [
       "<div>\n",
       "<style scoped>\n",
       "    .dataframe tbody tr th:only-of-type {\n",
       "        vertical-align: middle;\n",
       "    }\n",
       "\n",
       "    .dataframe tbody tr th {\n",
       "        vertical-align: top;\n",
       "    }\n",
       "\n",
       "    .dataframe thead th {\n",
       "        text-align: right;\n",
       "    }\n",
       "</style>\n",
       "<table border=\"1\" class=\"dataframe\">\n",
       "  <thead>\n",
       "    <tr style=\"text-align: right;\">\n",
       "      <th></th>\n",
       "      <th>Date</th>\n",
       "      <th>ZipCode</th>\n",
       "      <th>City</th>\n",
       "      <th>County</th>\n",
       "      <th>Lat</th>\n",
       "      <th>Long</th>\n",
       "      <th>ZHVI_1bedroom</th>\n",
       "      <th>ZHVI_2bedroom</th>\n",
       "      <th>ZHVI_3bedroom</th>\n",
       "      <th>ZHVI_4bedroom</th>\n",
       "      <th>...</th>\n",
       "      <th>ZHVI_TopTier</th>\n",
       "      <th>ZRI_AllHomes</th>\n",
       "      <th>ZRI_AllHomesPlusMultifamily</th>\n",
       "      <th>Zri_MultiFamilyResidenceRental</th>\n",
       "      <th>Zri_SingleFamilyResidenceRental</th>\n",
       "      <th>FIPS</th>\n",
       "      <th>MetroName</th>\n",
       "      <th>Unique_City_ID</th>\n",
       "      <th>State</th>\n",
       "      <th>ds</th>\n",
       "    </tr>\n",
       "  </thead>\n",
       "  <tbody>\n",
       "    <tr>\n",
       "      <th>249</th>\n",
       "      <td>2017-01-31</td>\n",
       "      <td>90210</td>\n",
       "      <td>Beverly Hills</td>\n",
       "      <td>Los Angeles</td>\n",
       "      <td>34.1031</td>\n",
       "      <td>-118.4163</td>\n",
       "      <td>891400.0</td>\n",
       "      <td>1459700.0</td>\n",
       "      <td>2837600.0</td>\n",
       "      <td>5331200.0</td>\n",
       "      <td>...</td>\n",
       "      <td>9887500.0</td>\n",
       "      <td>17636.0</td>\n",
       "      <td>16132.0</td>\n",
       "      <td>4398.0</td>\n",
       "      <td>19872.0</td>\n",
       "      <td>6037.0</td>\n",
       "      <td>Los Angeles-Long Beach-Anaheim, CA</td>\n",
       "      <td>beverly_hillslos_angelesca</td>\n",
       "      <td>CA</td>\n",
       "      <td>2017-01-31</td>\n",
       "    </tr>\n",
       "    <tr>\n",
       "      <th>250</th>\n",
       "      <td>2017-02-28</td>\n",
       "      <td>90210</td>\n",
       "      <td>Beverly Hills</td>\n",
       "      <td>Los Angeles</td>\n",
       "      <td>34.1031</td>\n",
       "      <td>-118.4163</td>\n",
       "      <td>895400.0</td>\n",
       "      <td>1453100.0</td>\n",
       "      <td>2829800.0</td>\n",
       "      <td>5358100.0</td>\n",
       "      <td>...</td>\n",
       "      <td>9962700.0</td>\n",
       "      <td>17368.0</td>\n",
       "      <td>15954.0</td>\n",
       "      <td>4395.0</td>\n",
       "      <td>19732.0</td>\n",
       "      <td>6037.0</td>\n",
       "      <td>Los Angeles-Long Beach-Anaheim, CA</td>\n",
       "      <td>beverly_hillslos_angelesca</td>\n",
       "      <td>CA</td>\n",
       "      <td>2017-02-28</td>\n",
       "    </tr>\n",
       "    <tr>\n",
       "      <th>251</th>\n",
       "      <td>2017-03-31</td>\n",
       "      <td>90210</td>\n",
       "      <td>Beverly Hills</td>\n",
       "      <td>Los Angeles</td>\n",
       "      <td>34.1031</td>\n",
       "      <td>-118.4163</td>\n",
       "      <td>892900.0</td>\n",
       "      <td>1459500.0</td>\n",
       "      <td>2822200.0</td>\n",
       "      <td>5385200.0</td>\n",
       "      <td>...</td>\n",
       "      <td>10072500.0</td>\n",
       "      <td>17182.0</td>\n",
       "      <td>15879.0</td>\n",
       "      <td>4396.0</td>\n",
       "      <td>19600.0</td>\n",
       "      <td>6037.0</td>\n",
       "      <td>Los Angeles-Long Beach-Anaheim, CA</td>\n",
       "      <td>beverly_hillslos_angelesca</td>\n",
       "      <td>CA</td>\n",
       "      <td>2017-03-31</td>\n",
       "    </tr>\n",
       "  </tbody>\n",
       "</table>\n",
       "<p>3 rows × 26 columns</p>\n",
       "</div>"
      ],
      "text/plain": [
       "           Date ZipCode           City       County      Lat       Long  \\\n",
       "249  2017-01-31   90210  Beverly Hills  Los Angeles  34.1031  -118.4163   \n",
       "250  2017-02-28   90210  Beverly Hills  Los Angeles  34.1031  -118.4163   \n",
       "251  2017-03-31   90210  Beverly Hills  Los Angeles  34.1031  -118.4163   \n",
       "\n",
       "     ZHVI_1bedroom  ZHVI_2bedroom  ZHVI_3bedroom  ZHVI_4bedroom  ...  \\\n",
       "249       891400.0      1459700.0      2837600.0      5331200.0  ...   \n",
       "250       895400.0      1453100.0      2829800.0      5358100.0  ...   \n",
       "251       892900.0      1459500.0      2822200.0      5385200.0  ...   \n",
       "\n",
       "     ZHVI_TopTier  ZRI_AllHomes  ZRI_AllHomesPlusMultifamily  \\\n",
       "249     9887500.0       17636.0                      16132.0   \n",
       "250     9962700.0       17368.0                      15954.0   \n",
       "251    10072500.0       17182.0                      15879.0   \n",
       "\n",
       "     Zri_MultiFamilyResidenceRental  Zri_SingleFamilyResidenceRental    FIPS  \\\n",
       "249                          4398.0                          19872.0  6037.0   \n",
       "250                          4395.0                          19732.0  6037.0   \n",
       "251                          4396.0                          19600.0  6037.0   \n",
       "\n",
       "                              MetroName              Unique_City_ID  State  \\\n",
       "249  Los Angeles-Long Beach-Anaheim, CA  beverly_hillslos_angelesca     CA   \n",
       "250  Los Angeles-Long Beach-Anaheim, CA  beverly_hillslos_angelesca     CA   \n",
       "251  Los Angeles-Long Beach-Anaheim, CA  beverly_hillslos_angelesca     CA   \n",
       "\n",
       "            ds  \n",
       "249 2017-01-31  \n",
       "250 2017-02-28  \n",
       "251 2017-03-31  \n",
       "\n",
       "[3 rows x 26 columns]"
      ]
     },
     "execution_count": 8,
     "metadata": {},
     "output_type": "execute_result"
    }
   ],
   "source": [
    "# I know BH properties are CRAZY expensive, so this is just to sanity check that ZHVI and ZRI are aligned\n",
    "# w/ recent market prices in the last few years\n",
    "\n",
    "test_ts[test_ts['Date'].str.contains('2017')].head(3)"
   ]
  },
  {
   "cell_type": "code",
   "execution_count": 9,
   "metadata": {
    "scrolled": true
   },
   "outputs": [
    {
     "name": "stdout",
     "output_type": "stream",
     "text": [
      "['ZHVI_1bedroom',\n",
      " 'ZHVI_2bedroom',\n",
      " 'ZHVI_3bedroom',\n",
      " 'ZHVI_4bedroom',\n",
      " 'ZHVI_5BedroomOrMore',\n",
      " 'ZHVI_AllHomes',\n",
      " 'ZHVI_BottomTier',\n",
      " 'ZHVI_CondoCoop',\n",
      " 'ZHVI_MiddleTier',\n",
      " 'ZHVI_SingleFamilyResidence',\n",
      " 'ZHVI_TopTier']\n",
      "['ZRI_AllHomes',\n",
      " 'ZRI_AllHomesPlusMultifamily',\n",
      " 'Zri_MultiFamilyResidenceRental',\n",
      " 'Zri_SingleFamilyResidenceRental']\n"
     ]
    }
   ],
   "source": [
    "zhvi_cols = [col for col in ca_zips.columns if 'zhvi' in col.lower()]\n",
    "zri_cols = [col for col in ca_zips.columns if 'zri' in col.lower()]\n",
    "\n",
    "pprint(zhvi_cols)\n",
    "pprint(zri_cols)"
   ]
  },
  {
   "cell_type": "markdown",
   "metadata": {},
   "source": [
    "### Ways to Find Time Series Similarity\n",
    "1. STUMPY (https://stumpy.readthedocs.io/en/latest/Tutorial_The_Matrix_Profile.html#Euclidean-Distance-/yo%CD%9Eo%CB%88klid%C4%93%C9%99n/-/%CB%88dist%C9%99ns/-noun)\n",
    "2. DTAIDistance (https://github.com/wannesm/dtaidistance)\n",
    "3. Clustering using global TS features such as the following (some of which can be extracted using `tsfresh`)\n",
    "    - trend\n",
    "    - seasonality\n",
    "    - periodicity\n",
    "    - serial correlation\n",
    "    - skewness\n",
    "    - kurtosis\n",
    "    - chaos\n",
    "    - non-linearity\n",
    "    - self-similarity\n"
   ]
  },
  {
   "cell_type": "markdown",
   "metadata": {},
   "source": [
    "#### DTAIDistance\n",
    "- Convert the time series for each of the zipcodes into np.arrays\n",
    "- Need to select a particular column upon which to perform this exercise: `Zri_MultiFamilyResidenceRental`"
   ]
  },
  {
   "cell_type": "code",
   "execution_count": 18,
   "metadata": {},
   "outputs": [],
   "source": [
    "from dtaidistance import dtw\n",
    "from dtaidistance import dtw_visualisation as dtwvis\n",
    "from dtaidistance import clustering"
   ]
  },
  {
   "cell_type": "code",
   "execution_count": 19,
   "metadata": {
    "scrolled": false
   },
   "outputs": [
    {
     "name": "stdout",
     "output_type": "stream",
     "text": [
      "1311\n",
      "1311\n",
      "1311\n",
      "1311\n"
     ]
    }
   ],
   "source": [
    "# To convert the series to numpy arrays for each zip code, we need to\n",
    "# Make an assumption on how to impute the null values before heirarchical clustering can be used\n",
    "\n",
    "zip_ts_0_zhvi_arrays = dict()\n",
    "zip_ts_0_zri_arrays = dict()\n",
    "\n",
    "zip_ts_inter_zhvi_arrays = dict()\n",
    "zip_ts_inter_zri_arrays = dict()\n",
    "\n",
    "for zipcode in all_zips:\n",
    "    try:\n",
    "        sub0_df = interpol_0[interpol_0['ZipCode'] == zipcode]\n",
    "        subInter = interpol_time[interpol_time['ZipCode'] == zipcode]\n",
    "        \n",
    "        sub0_df.reset_index(drop=True, inplace=True)\n",
    "        subInter.reset_index(drop=True, inplace=True)\n",
    "        \n",
    "        zip_ts_0_zhvi_arrays[zipcode] = np.array(sub0_df['ZHVI_SingleFamilyResidence'], dtype=np.double)\n",
    "        zip_ts_0_zri_arrays[zipcode] = np.array(sub0_df['Zri_MultiFamilyResidenceRental'], dtype=np.double)\n",
    "        \n",
    "        zip_ts_inter_zhvi_arrays[zipcode] = np.array(subInter['ZHVI_ITime'], dtype=np.double)\n",
    "        zip_ts_inter_zri_arrays[zipcode] = np.array(subInter['ZRI_ITime'], dtype=np.double)\n",
    "        \n",
    "    except:\n",
    "        pass\n",
    "    \n",
    "print(len(zip_ts_0_zhvi_arrays))\n",
    "print(len(zip_ts_0_zri_arrays))\n",
    "\n",
    "print(len(zip_ts_inter_zhvi_arrays))\n",
    "print(len(zip_ts_inter_zri_arrays))"
   ]
  },
  {
   "cell_type": "code",
   "execution_count": 20,
   "metadata": {},
   "outputs": [],
   "source": [
    "# Do pairwise distances and calculate those for each of the zipcode combinations\n",
    "# Then for each zipcode we want the smallest distance forb the subject zipcode and the most similar\n",
    "# Spot check w/ visualizations\n",
    "# Perform heirarchical clustering"
   ]
  },
  {
   "cell_type": "code",
   "execution_count": 21,
   "metadata": {},
   "outputs": [
    {
     "data": {
      "text/plain": [
       "array(['94503', '95128'], dtype='<U5')"
      ]
     },
     "execution_count": 21,
     "metadata": {},
     "output_type": "execute_result"
    }
   ],
   "source": [
    "np.random.choice(sorted(zip_ts_0_zhvi_arrays), 2)"
   ]
  },
  {
   "cell_type": "code",
   "execution_count": 22,
   "metadata": {},
   "outputs": [
    {
     "data": {
      "text/plain": [
       "(None, None)"
      ]
     },
     "execution_count": 22,
     "metadata": {},
     "output_type": "execute_result"
    }
   ],
   "source": [
    "test_distance = dtw.distance(zip_ts_0_zhvi_arrays['94127'], zip_ts_0_zhvi_arrays['90016'])\n",
    "test_path = path = dtw.warping_path(zip_ts_0_zhvi_arrays['94127'], zip_ts_0_zhvi_arrays['90016'])\n",
    "dtwvis.plot_warping(zip_ts_0_zhvi_arrays['94127'], zip_ts_0_zhvi_arrays['90016'], path, filename=\"warp.png\")"
   ]
  },
  {
   "cell_type": "code",
   "execution_count": 23,
   "metadata": {},
   "outputs": [
    {
     "data": {
      "text/plain": [
       "'90210'"
      ]
     },
     "execution_count": 23,
     "metadata": {},
     "output_type": "execute_result"
    }
   ],
   "source": [
    "test_zip"
   ]
  },
  {
   "cell_type": "code",
   "execution_count": 24,
   "metadata": {},
   "outputs": [],
   "source": [
    "from tqdm import tqdm_notebook"
   ]
  },
  {
   "cell_type": "code",
   "execution_count": 25,
   "metadata": {},
   "outputs": [
    {
     "data": {
      "application/vnd.jupyter.widget-view+json": {
       "model_id": "5350366e721d4739ae4c3a9b63587c54",
       "version_major": 2,
       "version_minor": 0
      },
      "text/plain": [
       "HBox(children=(FloatProgress(value=0.0, max=1310.0), HTML(value='')))"
      ]
     },
     "metadata": {},
     "output_type": "display_data"
    },
    {
     "name": "stdout",
     "output_type": "stream",
     "text": [
      "\n"
     ]
    }
   ],
   "source": [
    "non_test_zips = [zipcode for zipcode in all_zips if zipcode != test_zip]\n",
    "\n",
    "%time\n",
    "seen_pairs = dict()\n",
    "\n",
    "for zipcode in tqdm_notebook(non_test_zips):\n",
    "    if (zipcode, test_zip) not in seen_pairs or (test_zip, zipcode) not in seen_pairs:\n",
    "        dist = dtw.distance(zip_ts_0_zhvi_arrays[zipcode], zip_ts_0_zhvi_arrays[test_zip])\n",
    "        seen_pairs[(test_zip, zipcode)] = dist"
   ]
  },
  {
   "cell_type": "code",
   "execution_count": 26,
   "metadata": {},
   "outputs": [
    {
     "data": {
      "text/plain": [
       "5463650.089454851"
      ]
     },
     "execution_count": 26,
     "metadata": {},
     "output_type": "execute_result"
    }
   ],
   "source": [
    "min(seen_pairs.values())"
   ]
  },
  {
   "cell_type": "code",
   "execution_count": 27,
   "metadata": {
    "scrolled": true
   },
   "outputs": [
    {
     "data": {
      "text/plain": [
       "[('90210', '94027')]"
      ]
     },
     "execution_count": 27,
     "metadata": {},
     "output_type": "execute_result"
    }
   ],
   "source": [
    "[k for k,v in seen_pairs.items() if v == min(seen_pairs.values())]"
   ]
  },
  {
   "cell_type": "code",
   "execution_count": 28,
   "metadata": {},
   "outputs": [
    {
     "data": {
      "text/plain": [
       "(None, None)"
      ]
     },
     "execution_count": 28,
     "metadata": {},
     "output_type": "execute_result"
    }
   ],
   "source": [
    "path = dtw.warping_path(zip_ts_0_zhvi_arrays['90210'], zip_ts_0_zhvi_arrays['94027'])\n",
    "dtwvis.plot_warping(zip_ts_0_zhvi_arrays['90210'], zip_ts_0_zhvi_arrays['94027'], path, filename=\"warp.png\")"
   ]
  },
  {
   "cell_type": "code",
   "execution_count": 29,
   "metadata": {
    "scrolled": false
   },
   "outputs": [
    {
     "data": {
      "text/plain": [
       "<matplotlib.axes._subplots.AxesSubplot at 0x11f9d4f60>"
      ]
     },
     "execution_count": 29,
     "metadata": {},
     "output_type": "execute_result"
    },
    {
     "data": {
      "image/png": "[encoded data removed]",
      "text/plain": [
       "<Figure size 1440x720 with 1 Axes>"
      ]
     },
     "metadata": {
      "needs_background": "light"
     },
     "output_type": "display_data"
    }
   ],
   "source": [
    "nine0210 = ca_zips[(ca_zips['ZipCode'] == '90210')]\n",
    "nine0210.set_index('ds', inplace=True)\n",
    "nine0210[['ZHVI_SingleFamilyResidence', 'Zri_MultiFamilyResidenceRental']].plot(figsize=(20, 10))"
   ]
  },
  {
   "cell_type": "code",
   "execution_count": 30,
   "metadata": {},
   "outputs": [
    {
     "data": {
      "text/html": [
       "<div>\n",
       "<style scoped>\n",
       "    .dataframe tbody tr th:only-of-type {\n",
       "        vertical-align: middle;\n",
       "    }\n",
       "\n",
       "    .dataframe tbody tr th {\n",
       "        vertical-align: top;\n",
       "    }\n",
       "\n",
       "    .dataframe thead th {\n",
       "        text-align: right;\n",
       "    }\n",
       "</style>\n",
       "<table border=\"1\" class=\"dataframe\">\n",
       "  <thead>\n",
       "    <tr style=\"text-align: right;\">\n",
       "      <th></th>\n",
       "      <th>Date</th>\n",
       "      <th>ZipCode</th>\n",
       "      <th>City</th>\n",
       "      <th>County</th>\n",
       "      <th>Lat</th>\n",
       "      <th>Long</th>\n",
       "      <th>ZHVI_1bedroom</th>\n",
       "      <th>ZHVI_2bedroom</th>\n",
       "      <th>ZHVI_3bedroom</th>\n",
       "      <th>ZHVI_4bedroom</th>\n",
       "      <th>...</th>\n",
       "      <th>ZHVI_SingleFamilyResidence</th>\n",
       "      <th>ZHVI_TopTier</th>\n",
       "      <th>ZRI_AllHomes</th>\n",
       "      <th>ZRI_AllHomesPlusMultifamily</th>\n",
       "      <th>Zri_MultiFamilyResidenceRental</th>\n",
       "      <th>Zri_SingleFamilyResidenceRental</th>\n",
       "      <th>FIPS</th>\n",
       "      <th>MetroName</th>\n",
       "      <th>Unique_City_ID</th>\n",
       "      <th>State</th>\n",
       "    </tr>\n",
       "    <tr>\n",
       "      <th>ds</th>\n",
       "      <th></th>\n",
       "      <th></th>\n",
       "      <th></th>\n",
       "      <th></th>\n",
       "      <th></th>\n",
       "      <th></th>\n",
       "      <th></th>\n",
       "      <th></th>\n",
       "      <th></th>\n",
       "      <th></th>\n",
       "      <th></th>\n",
       "      <th></th>\n",
       "      <th></th>\n",
       "      <th></th>\n",
       "      <th></th>\n",
       "      <th></th>\n",
       "      <th></th>\n",
       "      <th></th>\n",
       "      <th></th>\n",
       "      <th></th>\n",
       "      <th></th>\n",
       "    </tr>\n",
       "  </thead>\n",
       "  <tbody>\n",
       "    <tr>\n",
       "      <th>2017-01-31</th>\n",
       "      <td>2017-01-31</td>\n",
       "      <td>90210</td>\n",
       "      <td>Beverly Hills</td>\n",
       "      <td>Los Angeles</td>\n",
       "      <td>34.1031</td>\n",
       "      <td>-118.4163</td>\n",
       "      <td>891400.0</td>\n",
       "      <td>1459700.0</td>\n",
       "      <td>2837600.0</td>\n",
       "      <td>5331200.0</td>\n",
       "      <td>...</td>\n",
       "      <td>5580000.0</td>\n",
       "      <td>9887500.0</td>\n",
       "      <td>17636.0</td>\n",
       "      <td>16132.0</td>\n",
       "      <td>4398.0</td>\n",
       "      <td>19872.0</td>\n",
       "      <td>6037.0</td>\n",
       "      <td>Los Angeles-Long Beach-Anaheim, CA</td>\n",
       "      <td>beverly_hillslos_angelesca</td>\n",
       "      <td>CA</td>\n",
       "    </tr>\n",
       "    <tr>\n",
       "      <th>2017-02-28</th>\n",
       "      <td>2017-02-28</td>\n",
       "      <td>90210</td>\n",
       "      <td>Beverly Hills</td>\n",
       "      <td>Los Angeles</td>\n",
       "      <td>34.1031</td>\n",
       "      <td>-118.4163</td>\n",
       "      <td>895400.0</td>\n",
       "      <td>1453100.0</td>\n",
       "      <td>2829800.0</td>\n",
       "      <td>5358100.0</td>\n",
       "      <td>...</td>\n",
       "      <td>5617000.0</td>\n",
       "      <td>9962700.0</td>\n",
       "      <td>17368.0</td>\n",
       "      <td>15954.0</td>\n",
       "      <td>4395.0</td>\n",
       "      <td>19732.0</td>\n",
       "      <td>6037.0</td>\n",
       "      <td>Los Angeles-Long Beach-Anaheim, CA</td>\n",
       "      <td>beverly_hillslos_angelesca</td>\n",
       "      <td>CA</td>\n",
       "    </tr>\n",
       "    <tr>\n",
       "      <th>2017-03-31</th>\n",
       "      <td>2017-03-31</td>\n",
       "      <td>90210</td>\n",
       "      <td>Beverly Hills</td>\n",
       "      <td>Los Angeles</td>\n",
       "      <td>34.1031</td>\n",
       "      <td>-118.4163</td>\n",
       "      <td>892900.0</td>\n",
       "      <td>1459500.0</td>\n",
       "      <td>2822200.0</td>\n",
       "      <td>5385200.0</td>\n",
       "      <td>...</td>\n",
       "      <td>5654600.0</td>\n",
       "      <td>10072500.0</td>\n",
       "      <td>17182.0</td>\n",
       "      <td>15879.0</td>\n",
       "      <td>4396.0</td>\n",
       "      <td>19600.0</td>\n",
       "      <td>6037.0</td>\n",
       "      <td>Los Angeles-Long Beach-Anaheim, CA</td>\n",
       "      <td>beverly_hillslos_angelesca</td>\n",
       "      <td>CA</td>\n",
       "    </tr>\n",
       "    <tr>\n",
       "      <th>2017-04-30</th>\n",
       "      <td>2017-04-30</td>\n",
       "      <td>90210</td>\n",
       "      <td>Beverly Hills</td>\n",
       "      <td>Los Angeles</td>\n",
       "      <td>34.1031</td>\n",
       "      <td>-118.4163</td>\n",
       "      <td>895800.0</td>\n",
       "      <td>1473000.0</td>\n",
       "      <td>2834100.0</td>\n",
       "      <td>5424200.0</td>\n",
       "      <td>...</td>\n",
       "      <td>5716900.0</td>\n",
       "      <td>10189000.0</td>\n",
       "      <td>17015.0</td>\n",
       "      <td>15803.0</td>\n",
       "      <td>4392.0</td>\n",
       "      <td>19447.0</td>\n",
       "      <td>6037.0</td>\n",
       "      <td>Los Angeles-Long Beach-Anaheim, CA</td>\n",
       "      <td>beverly_hillslos_angelesca</td>\n",
       "      <td>CA</td>\n",
       "    </tr>\n",
       "    <tr>\n",
       "      <th>2017-05-31</th>\n",
       "      <td>2017-05-31</td>\n",
       "      <td>90210</td>\n",
       "      <td>Beverly Hills</td>\n",
       "      <td>Los Angeles</td>\n",
       "      <td>34.1031</td>\n",
       "      <td>-118.4163</td>\n",
       "      <td>909600.0</td>\n",
       "      <td>1517900.0</td>\n",
       "      <td>2844200.0</td>\n",
       "      <td>5457800.0</td>\n",
       "      <td>...</td>\n",
       "      <td>5777700.0</td>\n",
       "      <td>10288300.0</td>\n",
       "      <td>16912.0</td>\n",
       "      <td>15736.0</td>\n",
       "      <td>4417.0</td>\n",
       "      <td>19299.0</td>\n",
       "      <td>6037.0</td>\n",
       "      <td>Los Angeles-Long Beach-Anaheim, CA</td>\n",
       "      <td>beverly_hillslos_angelesca</td>\n",
       "      <td>CA</td>\n",
       "    </tr>\n",
       "  </tbody>\n",
       "</table>\n",
       "<p>5 rows × 25 columns</p>\n",
       "</div>"
      ],
      "text/plain": [
       "                  Date ZipCode           City       County      Lat  \\\n",
       "ds                                                                    \n",
       "2017-01-31  2017-01-31   90210  Beverly Hills  Los Angeles  34.1031   \n",
       "2017-02-28  2017-02-28   90210  Beverly Hills  Los Angeles  34.1031   \n",
       "2017-03-31  2017-03-31   90210  Beverly Hills  Los Angeles  34.1031   \n",
       "2017-04-30  2017-04-30   90210  Beverly Hills  Los Angeles  34.1031   \n",
       "2017-05-31  2017-05-31   90210  Beverly Hills  Los Angeles  34.1031   \n",
       "\n",
       "                 Long  ZHVI_1bedroom  ZHVI_2bedroom  ZHVI_3bedroom  \\\n",
       "ds                                                                   \n",
       "2017-01-31  -118.4163       891400.0      1459700.0      2837600.0   \n",
       "2017-02-28  -118.4163       895400.0      1453100.0      2829800.0   \n",
       "2017-03-31  -118.4163       892900.0      1459500.0      2822200.0   \n",
       "2017-04-30  -118.4163       895800.0      1473000.0      2834100.0   \n",
       "2017-05-31  -118.4163       909600.0      1517900.0      2844200.0   \n",
       "\n",
       "            ZHVI_4bedroom  ...  ZHVI_SingleFamilyResidence  ZHVI_TopTier  \\\n",
       "ds                         ...                                             \n",
       "2017-01-31      5331200.0  ...                   5580000.0     9887500.0   \n",
       "2017-02-28      5358100.0  ...                   5617000.0     9962700.0   \n",
       "2017-03-31      5385200.0  ...                   5654600.0    10072500.0   \n",
       "2017-04-30      5424200.0  ...                   5716900.0    10189000.0   \n",
       "2017-05-31      5457800.0  ...                   5777700.0    10288300.0   \n",
       "\n",
       "            ZRI_AllHomes  ZRI_AllHomesPlusMultifamily  \\\n",
       "ds                                                      \n",
       "2017-01-31       17636.0                      16132.0   \n",
       "2017-02-28       17368.0                      15954.0   \n",
       "2017-03-31       17182.0                      15879.0   \n",
       "2017-04-30       17015.0                      15803.0   \n",
       "2017-05-31       16912.0                      15736.0   \n",
       "\n",
       "            Zri_MultiFamilyResidenceRental  Zri_SingleFamilyResidenceRental  \\\n",
       "ds                                                                            \n",
       "2017-01-31                          4398.0                          19872.0   \n",
       "2017-02-28                          4395.0                          19732.0   \n",
       "2017-03-31                          4396.0                          19600.0   \n",
       "2017-04-30                          4392.0                          19447.0   \n",
       "2017-05-31                          4417.0                          19299.0   \n",
       "\n",
       "              FIPS                           MetroName  \\\n",
       "ds                                                       \n",
       "2017-01-31  6037.0  Los Angeles-Long Beach-Anaheim, CA   \n",
       "2017-02-28  6037.0  Los Angeles-Long Beach-Anaheim, CA   \n",
       "2017-03-31  6037.0  Los Angeles-Long Beach-Anaheim, CA   \n",
       "2017-04-30  6037.0  Los Angeles-Long Beach-Anaheim, CA   \n",
       "2017-05-31  6037.0  Los Angeles-Long Beach-Anaheim, CA   \n",
       "\n",
       "                        Unique_City_ID  State  \n",
       "ds                                             \n",
       "2017-01-31  beverly_hillslos_angelesca     CA  \n",
       "2017-02-28  beverly_hillslos_angelesca     CA  \n",
       "2017-03-31  beverly_hillslos_angelesca     CA  \n",
       "2017-04-30  beverly_hillslos_angelesca     CA  \n",
       "2017-05-31  beverly_hillslos_angelesca     CA  \n",
       "\n",
       "[5 rows x 25 columns]"
      ]
     },
     "execution_count": 30,
     "metadata": {},
     "output_type": "execute_result"
    }
   ],
   "source": [
    "nine0210[nine0210['Date'].str.contains('2017')].head()"
   ]
  },
  {
   "cell_type": "code",
   "execution_count": 31,
   "metadata": {
    "scrolled": false
   },
   "outputs": [
    {
     "data": {
      "text/plain": [
       "<matplotlib.axes._subplots.AxesSubplot at 0x11fa82cc0>"
      ]
     },
     "execution_count": 31,
     "metadata": {},
     "output_type": "execute_result"
    },
    {
     "data": {
      "image/png": "[encoded data removed]",
      "text/plain": [
       "<Figure size 1440x720 with 1 Axes>"
      ]
     },
     "metadata": {
      "needs_background": "light"
     },
     "output_type": "display_data"
    }
   ],
   "source": [
    "nine4027 = ca_zips[(ca_zips['ZipCode'] == '94027')]\n",
    "nine4027.set_index('ds', inplace=True)\n",
    "nine4027[['ZHVI_SingleFamilyResidence', 'Zri_MultiFamilyResidenceRental']].plot(figsize=(20, 10))"
   ]
  },
  {
   "cell_type": "code",
   "execution_count": 32,
   "metadata": {},
   "outputs": [
    {
     "data": {
      "text/html": [
       "<div>\n",
       "<style scoped>\n",
       "    .dataframe tbody tr th:only-of-type {\n",
       "        vertical-align: middle;\n",
       "    }\n",
       "\n",
       "    .dataframe tbody tr th {\n",
       "        vertical-align: top;\n",
       "    }\n",
       "\n",
       "    .dataframe thead th {\n",
       "        text-align: right;\n",
       "    }\n",
       "</style>\n",
       "<table border=\"1\" class=\"dataframe\">\n",
       "  <thead>\n",
       "    <tr style=\"text-align: right;\">\n",
       "      <th></th>\n",
       "      <th>Date</th>\n",
       "      <th>ZipCode</th>\n",
       "      <th>City</th>\n",
       "      <th>County</th>\n",
       "      <th>Lat</th>\n",
       "      <th>Long</th>\n",
       "      <th>ZHVI_1bedroom</th>\n",
       "      <th>ZHVI_2bedroom</th>\n",
       "      <th>ZHVI_3bedroom</th>\n",
       "      <th>ZHVI_4bedroom</th>\n",
       "      <th>...</th>\n",
       "      <th>ZHVI_SingleFamilyResidence</th>\n",
       "      <th>ZHVI_TopTier</th>\n",
       "      <th>ZRI_AllHomes</th>\n",
       "      <th>ZRI_AllHomesPlusMultifamily</th>\n",
       "      <th>Zri_MultiFamilyResidenceRental</th>\n",
       "      <th>Zri_SingleFamilyResidenceRental</th>\n",
       "      <th>FIPS</th>\n",
       "      <th>MetroName</th>\n",
       "      <th>Unique_City_ID</th>\n",
       "      <th>State</th>\n",
       "    </tr>\n",
       "    <tr>\n",
       "      <th>ds</th>\n",
       "      <th></th>\n",
       "      <th></th>\n",
       "      <th></th>\n",
       "      <th></th>\n",
       "      <th></th>\n",
       "      <th></th>\n",
       "      <th></th>\n",
       "      <th></th>\n",
       "      <th></th>\n",
       "      <th></th>\n",
       "      <th></th>\n",
       "      <th></th>\n",
       "      <th></th>\n",
       "      <th></th>\n",
       "      <th></th>\n",
       "      <th></th>\n",
       "      <th></th>\n",
       "      <th></th>\n",
       "      <th></th>\n",
       "      <th></th>\n",
       "      <th></th>\n",
       "    </tr>\n",
       "  </thead>\n",
       "  <tbody>\n",
       "    <tr>\n",
       "      <th>2017-01-31</th>\n",
       "      <td>2017-01-31</td>\n",
       "      <td>94027</td>\n",
       "      <td>Atherton</td>\n",
       "      <td>San Mateo</td>\n",
       "      <td>37.4501</td>\n",
       "      <td>-122.2050</td>\n",
       "      <td>NaN</td>\n",
       "      <td>3208300.0</td>\n",
       "      <td>4848700.0</td>\n",
       "      <td>5724000.0</td>\n",
       "      <td>...</td>\n",
       "      <td>6322200.0</td>\n",
       "      <td>10963200.0</td>\n",
       "      <td>17083.0</td>\n",
       "      <td>16569.0</td>\n",
       "      <td>NaN</td>\n",
       "      <td>16835.0</td>\n",
       "      <td>6081.0</td>\n",
       "      <td>San Francisco, CA</td>\n",
       "      <td>athertonsan_mateoca</td>\n",
       "      <td>CA</td>\n",
       "    </tr>\n",
       "    <tr>\n",
       "      <th>2017-02-28</th>\n",
       "      <td>2017-02-28</td>\n",
       "      <td>94027</td>\n",
       "      <td>Atherton</td>\n",
       "      <td>San Mateo</td>\n",
       "      <td>37.4501</td>\n",
       "      <td>-122.2050</td>\n",
       "      <td>NaN</td>\n",
       "      <td>3110000.0</td>\n",
       "      <td>4858900.0</td>\n",
       "      <td>5772100.0</td>\n",
       "      <td>...</td>\n",
       "      <td>6314500.0</td>\n",
       "      <td>10962500.0</td>\n",
       "      <td>17052.0</td>\n",
       "      <td>16513.0</td>\n",
       "      <td>NaN</td>\n",
       "      <td>16767.0</td>\n",
       "      <td>6081.0</td>\n",
       "      <td>San Francisco, CA</td>\n",
       "      <td>athertonsan_mateoca</td>\n",
       "      <td>CA</td>\n",
       "    </tr>\n",
       "    <tr>\n",
       "      <th>2017-03-31</th>\n",
       "      <td>2017-03-31</td>\n",
       "      <td>94027</td>\n",
       "      <td>Atherton</td>\n",
       "      <td>San Mateo</td>\n",
       "      <td>37.4501</td>\n",
       "      <td>-122.2050</td>\n",
       "      <td>NaN</td>\n",
       "      <td>3070700.0</td>\n",
       "      <td>4882700.0</td>\n",
       "      <td>5787000.0</td>\n",
       "      <td>...</td>\n",
       "      <td>6251900.0</td>\n",
       "      <td>10950200.0</td>\n",
       "      <td>17015.0</td>\n",
       "      <td>16508.0</td>\n",
       "      <td>NaN</td>\n",
       "      <td>16761.0</td>\n",
       "      <td>6081.0</td>\n",
       "      <td>San Francisco, CA</td>\n",
       "      <td>athertonsan_mateoca</td>\n",
       "      <td>CA</td>\n",
       "    </tr>\n",
       "    <tr>\n",
       "      <th>2017-04-30</th>\n",
       "      <td>2017-04-30</td>\n",
       "      <td>94027</td>\n",
       "      <td>Atherton</td>\n",
       "      <td>San Mateo</td>\n",
       "      <td>37.4501</td>\n",
       "      <td>-122.2050</td>\n",
       "      <td>NaN</td>\n",
       "      <td>3048400.0</td>\n",
       "      <td>4955800.0</td>\n",
       "      <td>5850000.0</td>\n",
       "      <td>...</td>\n",
       "      <td>6309700.0</td>\n",
       "      <td>11017900.0</td>\n",
       "      <td>17039.0</td>\n",
       "      <td>16569.0</td>\n",
       "      <td>NaN</td>\n",
       "      <td>16831.0</td>\n",
       "      <td>6081.0</td>\n",
       "      <td>San Francisco, CA</td>\n",
       "      <td>athertonsan_mateoca</td>\n",
       "      <td>CA</td>\n",
       "    </tr>\n",
       "    <tr>\n",
       "      <th>2017-05-31</th>\n",
       "      <td>2017-05-31</td>\n",
       "      <td>94027</td>\n",
       "      <td>Atherton</td>\n",
       "      <td>San Mateo</td>\n",
       "      <td>37.4501</td>\n",
       "      <td>-122.2050</td>\n",
       "      <td>NaN</td>\n",
       "      <td>3032400.0</td>\n",
       "      <td>5016800.0</td>\n",
       "      <td>5945700.0</td>\n",
       "      <td>...</td>\n",
       "      <td>6433300.0</td>\n",
       "      <td>11105900.0</td>\n",
       "      <td>17075.0</td>\n",
       "      <td>16666.0</td>\n",
       "      <td>NaN</td>\n",
       "      <td>16914.0</td>\n",
       "      <td>6081.0</td>\n",
       "      <td>San Francisco, CA</td>\n",
       "      <td>athertonsan_mateoca</td>\n",
       "      <td>CA</td>\n",
       "    </tr>\n",
       "  </tbody>\n",
       "</table>\n",
       "<p>5 rows × 25 columns</p>\n",
       "</div>"
      ],
      "text/plain": [
       "                  Date ZipCode      City     County      Lat       Long  \\\n",
       "ds                                                                        \n",
       "2017-01-31  2017-01-31   94027  Atherton  San Mateo  37.4501  -122.2050   \n",
       "2017-02-28  2017-02-28   94027  Atherton  San Mateo  37.4501  -122.2050   \n",
       "2017-03-31  2017-03-31   94027  Atherton  San Mateo  37.4501  -122.2050   \n",
       "2017-04-30  2017-04-30   94027  Atherton  San Mateo  37.4501  -122.2050   \n",
       "2017-05-31  2017-05-31   94027  Atherton  San Mateo  37.4501  -122.2050   \n",
       "\n",
       "            ZHVI_1bedroom  ZHVI_2bedroom  ZHVI_3bedroom  ZHVI_4bedroom  ...  \\\n",
       "ds                                                                      ...   \n",
       "2017-01-31            NaN      3208300.0      4848700.0      5724000.0  ...   \n",
       "2017-02-28            NaN      3110000.0      4858900.0      5772100.0  ...   \n",
       "2017-03-31            NaN      3070700.0      4882700.0      5787000.0  ...   \n",
       "2017-04-30            NaN      3048400.0      4955800.0      5850000.0  ...   \n",
       "2017-05-31            NaN      3032400.0      5016800.0      5945700.0  ...   \n",
       "\n",
       "            ZHVI_SingleFamilyResidence  ZHVI_TopTier  ZRI_AllHomes  \\\n",
       "ds                                                                   \n",
       "2017-01-31                   6322200.0    10963200.0       17083.0   \n",
       "2017-02-28                   6314500.0    10962500.0       17052.0   \n",
       "2017-03-31                   6251900.0    10950200.0       17015.0   \n",
       "2017-04-30                   6309700.0    11017900.0       17039.0   \n",
       "2017-05-31                   6433300.0    11105900.0       17075.0   \n",
       "\n",
       "            ZRI_AllHomesPlusMultifamily  Zri_MultiFamilyResidenceRental  \\\n",
       "ds                                                                        \n",
       "2017-01-31                      16569.0                             NaN   \n",
       "2017-02-28                      16513.0                             NaN   \n",
       "2017-03-31                      16508.0                             NaN   \n",
       "2017-04-30                      16569.0                             NaN   \n",
       "2017-05-31                      16666.0                             NaN   \n",
       "\n",
       "            Zri_SingleFamilyResidenceRental    FIPS          MetroName  \\\n",
       "ds                                                                       \n",
       "2017-01-31                          16835.0  6081.0  San Francisco, CA   \n",
       "2017-02-28                          16767.0  6081.0  San Francisco, CA   \n",
       "2017-03-31                          16761.0  6081.0  San Francisco, CA   \n",
       "2017-04-30                          16831.0  6081.0  San Francisco, CA   \n",
       "2017-05-31                          16914.0  6081.0  San Francisco, CA   \n",
       "\n",
       "                 Unique_City_ID  State  \n",
       "ds                                      \n",
       "2017-01-31  athertonsan_mateoca     CA  \n",
       "2017-02-28  athertonsan_mateoca     CA  \n",
       "2017-03-31  athertonsan_mateoca     CA  \n",
       "2017-04-30  athertonsan_mateoca     CA  \n",
       "2017-05-31  athertonsan_mateoca     CA  \n",
       "\n",
       "[5 rows x 25 columns]"
      ]
     },
     "execution_count": 32,
     "metadata": {},
     "output_type": "execute_result"
    }
   ],
   "source": [
    "nine4027[nine4027['Date'].str.contains('2017')].head()"
   ]
  },
  {
   "cell_type": "code",
   "execution_count": null,
   "metadata": {},
   "outputs": [],
   "source": []
  },
  {
   "cell_type": "code",
   "execution_count": null,
   "metadata": {},
   "outputs": [],
   "source": []
  },
  {
   "cell_type": "code",
   "execution_count": null,
   "metadata": {},
   "outputs": [],
   "source": []
  },
  {
   "cell_type": "code",
   "execution_count": null,
   "metadata": {},
   "outputs": [],
   "source": []
  },
  {
   "cell_type": "code",
   "execution_count": null,
   "metadata": {},
   "outputs": [],
   "source": []
  },
  {
   "cell_type": "code",
   "execution_count": null,
   "metadata": {},
   "outputs": [],
   "source": []
  },
  {
   "cell_type": "code",
   "execution_count": null,
   "metadata": {},
   "outputs": [],
   "source": [
    "%time\n",
    "dist_ts_0_zhvi_arrays = dtw.distance_matrix_fast(list(zip_ts_0_zhvi_arrays.values()))\n",
    "dist_ts_0_zri_arrays = dtw.distance_matrix_fast(list(zip_ts_0_zri_arrays.values()))\n",
    "\n",
    "dist_ts_inter_zhvi_arrays = dtw.distance_matrix_fast(list(zip_ts_inter_zhvi_arrays.values()))\n",
    "dist_ts_inter_zri_arrays = dtw.distance_matrix_fast(list(zip_ts_inter_zri_arrays.values()))"
   ]
  },
  {
   "cell_type": "code",
   "execution_count": null,
   "metadata": {},
   "outputs": [],
   "source": [
    "model1 = clustering.Hierarchical(dtw.distance_matrix_fast, {})\n",
    "\n",
    "model2 = clustering.HierarchicalTree(model1)\n",
    "cluster_idx = model2.fit(list(zip_ts_0_zhvi_arrays.values()))"
   ]
  },
  {
   "cell_type": "code",
   "execution_count": null,
   "metadata": {
    "scrolled": true
   },
   "outputs": [],
   "source": [
    "fig = plt.figure(figsize=(40, 10))\n",
    "_ = model2.plot()\n",
    "plt.show()"
   ]
  },
  {
   "cell_type": "code",
   "execution_count": null,
   "metadata": {},
   "outputs": [],
   "source": [
    "from itertools import permutations\n",
    "\n",
    "len(set(permutations(ca_zips['ZipCode'], 2)))"
   ]
  },
  {
   "cell_type": "code",
   "execution_count": null,
   "metadata": {},
   "outputs": [],
   "source": []
  }
 ],
 "metadata": {
  "kernelspec": {
   "display_name": "rent-v-buy",
   "language": "python",
   "name": "rent-v-buy"
  },
  "language_info": {
   "codemirror_mode": {
    "name": "ipython",
    "version": 3
   },
   "file_extension": ".py",
   "mimetype": "text/x-python",
   "name": "python",
   "nbconvert_exporter": "python",
   "pygments_lexer": "ipython3",
   "version": "3.7.0"
  }
 },
 "nbformat": 4,
 "nbformat_minor": 2
}
