{
 "cells": [
  {
   "cell_type": "markdown",
   "metadata": {},
   "source": [
    "# KNN Zip Codes\n",
    "**OBJECTIVE** For a given zipcode, retreive the nearest zipcodes to it.\n",
    "- This will enable us to be able to pull in neighboring datapoints in cases where the specific combination of datapoints we're seeking is not availble for purposes of modeling.\n",
    "- Our dataset has several areas for which there are null values\n",
    "- For our time series model to be able to generate \"accurate\" predictions "
   ]
  },
  {
   "cell_type": "markdown",
   "metadata": {},
   "source": [
    "### Load Packages"
   ]
  },
  {
   "cell_type": "markdown",
   "metadata": {},
   "source": [
    "### Load Data"
   ]
  },
  {
   "cell_type": "markdown",
   "metadata": {},
   "source": [
    "### Concatenate City & Zip Data\n",
    "- Determine how many total null-values there are\n",
    "- Write functions to partition data \n",
    "- Write functions to impute null values"
   ]
  },
  {
   "cell_type": "code",
   "execution_count": null,
   "metadata": {},
   "outputs": [],
   "source": []
  }
 ],
 "metadata": {
  "kernelspec": {
   "display_name": "rent-v-buy",
   "language": "python",
   "name": "rent-v-buy"
  },
  "language_info": {
   "codemirror_mode": {
    "name": "ipython",
    "version": 3
   },
   "file_extension": ".py",
   "mimetype": "text/x-python",
   "name": "python",
   "nbconvert_exporter": "python",
   "pygments_lexer": "ipython3",
   "version": "3.7.0"
  }
 },
 "nbformat": 4,
 "nbformat_minor": 2
}
