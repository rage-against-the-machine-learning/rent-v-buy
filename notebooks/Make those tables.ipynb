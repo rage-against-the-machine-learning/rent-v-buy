{
 "cells": [
  {
   "cell_type": "code",
   "execution_count": 1,
   "metadata": {},
   "outputs": [],
   "source": [
    "import pandas as pd\n",
    "import numpy as np \n",
    "import zipcodes\n",
    "\n",
    "import warnings\n",
    "warnings.filterwarnings('ignore')\n",
    "\n",
    "from datetime import datetime\n",
    "import seaborn as sns\n",
    "import matplotlib.pyplot as plt\n",
    "from fbprophet import Prophet\n",
    "from sklearn.metrics import mean_squared_error, mean_absolute_error\n",
    "import pathlib\n",
    "import sys\n",
    "sys.path.append(str(pathlib.Path().absolute().parent))"
   ]
  },
  {
   "cell_type": "code",
   "execution_count": 2,
   "metadata": {},
   "outputs": [],
   "source": [
    "clean_zip = pd.read_pickle('../data/interim/ca-zip-w-city-ts.pickle')"
   ]
  },
  {
   "cell_type": "code",
   "execution_count": 57,
   "metadata": {},
   "outputs": [
    {
     "data": {
      "text/plain": [
       "Index(['Date', 'ZipCode_int', 'ZipCode_str', 'City', 'County', 'Lat', 'Long',\n",
       "       'MedianListingPrice_1Bedroom', 'MedianListingPrice_2Bedroom',\n",
       "       'MedianListingPrice_3Bedroom', 'MedianListingPrice_4Bedroom',\n",
       "       'MedianListingPrice_5BedroomOrMore', 'MedianListingPrice_AllHomes',\n",
       "       'MedianListingPrice_CondoCoop', 'MedianListingPrice_DuplexTriplex',\n",
       "       'MedianListingPrice_SingleFamilyResidence',\n",
       "       'MedianRentalPrice_1Bedroom', 'MedianRentalPrice_2Bedroom',\n",
       "       'MedianRentalPrice_3Bedroom', 'MedianRentalPrice_4Bedroom',\n",
       "       'MedianRentalPrice_5BedroomOrMore', 'MedianRentalPrice_AllHomes',\n",
       "       'MedianRentalPrice_CondoCoop', 'MedianRentalPrice_DuplexTriplex',\n",
       "       'MedianRentalPrice_MultiFamilyResidence5PlusUnits',\n",
       "       'MedianRentalPrice_SingleFamilyResidence', 'MedianRentalPrice_Studio',\n",
       "       'RegionName', 'MetroName', 'StateName', 'CensusRegion',\n",
       "       'Unique_City_ID', 'State'],\n",
       "      dtype='object')"
      ]
     },
     "execution_count": 57,
     "metadata": {},
     "output_type": "execute_result"
    }
   ],
   "source": [
    "a=clean_zip[clean_zip['ZipCode_int'].notna()]['ZipCode_int'].unique()\n",
    "a[1:100]\n",
    "clean_zip.columns"
   ]
  },
  {
   "cell_type": "markdown",
   "metadata": {},
   "source": [
    "Take 1 - Zip"
   ]
  },
  {
   "cell_type": "code",
   "execution_count": 21,
   "metadata": {},
   "outputs": [
    {
     "name": "stdout",
     "output_type": "stream",
     "text": [
      "2020-03-26\n",
      "2017-12-31\n",
      "27\n"
     ]
    },
    {
     "data": {
      "text/html": [
       "<div>\n",
       "<style scoped>\n",
       "    .dataframe tbody tr th:only-of-type {\n",
       "        vertical-align: middle;\n",
       "    }\n",
       "\n",
       "    .dataframe tbody tr th {\n",
       "        vertical-align: top;\n",
       "    }\n",
       "\n",
       "    .dataframe thead th {\n",
       "        text-align: right;\n",
       "    }\n",
       "</style>\n",
       "<table border=\"1\" class=\"dataframe\">\n",
       "  <thead>\n",
       "    <tr style=\"text-align: right;\">\n",
       "      <th></th>\n",
       "      <th>ds</th>\n",
       "      <th>ZipCode_int</th>\n",
       "      <th>ZipCode_str</th>\n",
       "      <th>City</th>\n",
       "      <th>County</th>\n",
       "      <th>Lat</th>\n",
       "      <th>Long</th>\n",
       "      <th>MedianListingPrice_1Bedroom</th>\n",
       "      <th>y</th>\n",
       "      <th>MedianListingPrice_3Bedroom</th>\n",
       "      <th>...</th>\n",
       "      <th>MedianRentalPrice_DuplexTriplex</th>\n",
       "      <th>MedianRentalPrice_MultiFamilyResidence5PlusUnits</th>\n",
       "      <th>MedianRentalPrice_SingleFamilyResidence</th>\n",
       "      <th>MedianRentalPrice_Studio</th>\n",
       "      <th>RegionName</th>\n",
       "      <th>MetroName</th>\n",
       "      <th>StateName</th>\n",
       "      <th>CensusRegion</th>\n",
       "      <th>Unique_City_ID</th>\n",
       "      <th>State</th>\n",
       "    </tr>\n",
       "  </thead>\n",
       "  <tbody>\n",
       "    <tr>\n",
       "      <td>275265</td>\n",
       "      <td>2014-04-30</td>\n",
       "      <td>96161</td>\n",
       "      <td>96161</td>\n",
       "      <td>Truckee</td>\n",
       "      <td>Nevada</td>\n",
       "      <td>39.3340</td>\n",
       "      <td>-120.1942</td>\n",
       "      <td>NaN</td>\n",
       "      <td>299000.0</td>\n",
       "      <td>449000.0</td>\n",
       "      <td>...</td>\n",
       "      <td>NaN</td>\n",
       "      <td>NaN</td>\n",
       "      <td>NaN</td>\n",
       "      <td>NaN</td>\n",
       "      <td>6057.0</td>\n",
       "      <td>Truckee, CA</td>\n",
       "      <td>California</td>\n",
       "      <td>West</td>\n",
       "      <td>truckeenevadaca</td>\n",
       "      <td>CA</td>\n",
       "    </tr>\n",
       "    <tr>\n",
       "      <td>276568</td>\n",
       "      <td>2014-05-31</td>\n",
       "      <td>96161</td>\n",
       "      <td>96161</td>\n",
       "      <td>Truckee</td>\n",
       "      <td>Nevada</td>\n",
       "      <td>39.3340</td>\n",
       "      <td>-120.1942</td>\n",
       "      <td>NaN</td>\n",
       "      <td>299000.0</td>\n",
       "      <td>475000.0</td>\n",
       "      <td>...</td>\n",
       "      <td>NaN</td>\n",
       "      <td>NaN</td>\n",
       "      <td>NaN</td>\n",
       "      <td>NaN</td>\n",
       "      <td>6057.0</td>\n",
       "      <td>Truckee, CA</td>\n",
       "      <td>California</td>\n",
       "      <td>West</td>\n",
       "      <td>truckeenevadaca</td>\n",
       "      <td>CA</td>\n",
       "    </tr>\n",
       "    <tr>\n",
       "      <td>277871</td>\n",
       "      <td>2014-06-30</td>\n",
       "      <td>96161</td>\n",
       "      <td>96161</td>\n",
       "      <td>Truckee</td>\n",
       "      <td>Nevada</td>\n",
       "      <td>39.3340</td>\n",
       "      <td>-120.1942</td>\n",
       "      <td>NaN</td>\n",
       "      <td>323000.0</td>\n",
       "      <td>495000.0</td>\n",
       "      <td>...</td>\n",
       "      <td>NaN</td>\n",
       "      <td>NaN</td>\n",
       "      <td>NaN</td>\n",
       "      <td>NaN</td>\n",
       "      <td>6057.0</td>\n",
       "      <td>Truckee, CA</td>\n",
       "      <td>California</td>\n",
       "      <td>West</td>\n",
       "      <td>truckeenevadaca</td>\n",
       "      <td>CA</td>\n",
       "    </tr>\n",
       "    <tr>\n",
       "      <td>279174</td>\n",
       "      <td>2014-07-31</td>\n",
       "      <td>96161</td>\n",
       "      <td>96161</td>\n",
       "      <td>Truckee</td>\n",
       "      <td>Nevada</td>\n",
       "      <td>39.3340</td>\n",
       "      <td>-120.1942</td>\n",
       "      <td>NaN</td>\n",
       "      <td>318000.0</td>\n",
       "      <td>487000.0</td>\n",
       "      <td>...</td>\n",
       "      <td>NaN</td>\n",
       "      <td>NaN</td>\n",
       "      <td>NaN</td>\n",
       "      <td>NaN</td>\n",
       "      <td>6057.0</td>\n",
       "      <td>Truckee, CA</td>\n",
       "      <td>California</td>\n",
       "      <td>West</td>\n",
       "      <td>truckeenevadaca</td>\n",
       "      <td>CA</td>\n",
       "    </tr>\n",
       "    <tr>\n",
       "      <td>280477</td>\n",
       "      <td>2014-08-31</td>\n",
       "      <td>96161</td>\n",
       "      <td>96161</td>\n",
       "      <td>Truckee</td>\n",
       "      <td>Nevada</td>\n",
       "      <td>39.3340</td>\n",
       "      <td>-120.1942</td>\n",
       "      <td>NaN</td>\n",
       "      <td>325000.0</td>\n",
       "      <td>479000.0</td>\n",
       "      <td>...</td>\n",
       "      <td>NaN</td>\n",
       "      <td>NaN</td>\n",
       "      <td>NaN</td>\n",
       "      <td>NaN</td>\n",
       "      <td>6057.0</td>\n",
       "      <td>Truckee, CA</td>\n",
       "      <td>California</td>\n",
       "      <td>West</td>\n",
       "      <td>truckeenevadaca</td>\n",
       "      <td>CA</td>\n",
       "    </tr>\n",
       "  </tbody>\n",
       "</table>\n",
       "<p>5 rows × 33 columns</p>\n",
       "</div>"
      ],
      "text/plain": [
       "                ds  ZipCode_int ZipCode_str     City  County      Lat  \\\n",
       "275265  2014-04-30        96161       96161  Truckee  Nevada  39.3340   \n",
       "276568  2014-05-31        96161       96161  Truckee  Nevada  39.3340   \n",
       "277871  2014-06-30        96161       96161  Truckee  Nevada  39.3340   \n",
       "279174  2014-07-31        96161       96161  Truckee  Nevada  39.3340   \n",
       "280477  2014-08-31        96161       96161  Truckee  Nevada  39.3340   \n",
       "\n",
       "             Long  MedianListingPrice_1Bedroom         y  \\\n",
       "275265  -120.1942                          NaN  299000.0   \n",
       "276568  -120.1942                          NaN  299000.0   \n",
       "277871  -120.1942                          NaN  323000.0   \n",
       "279174  -120.1942                          NaN  318000.0   \n",
       "280477  -120.1942                          NaN  325000.0   \n",
       "\n",
       "        MedianListingPrice_3Bedroom  ...  MedianRentalPrice_DuplexTriplex  \\\n",
       "275265                     449000.0  ...                              NaN   \n",
       "276568                     475000.0  ...                              NaN   \n",
       "277871                     495000.0  ...                              NaN   \n",
       "279174                     487000.0  ...                              NaN   \n",
       "280477                     479000.0  ...                              NaN   \n",
       "\n",
       "        MedianRentalPrice_MultiFamilyResidence5PlusUnits  \\\n",
       "275265                                               NaN   \n",
       "276568                                               NaN   \n",
       "277871                                               NaN   \n",
       "279174                                               NaN   \n",
       "280477                                               NaN   \n",
       "\n",
       "        MedianRentalPrice_SingleFamilyResidence  MedianRentalPrice_Studio  \\\n",
       "275265                                      NaN                       NaN   \n",
       "276568                                      NaN                       NaN   \n",
       "277871                                      NaN                       NaN   \n",
       "279174                                      NaN                       NaN   \n",
       "280477                                      NaN                       NaN   \n",
       "\n",
       "        RegionName    MetroName   StateName  CensusRegion   Unique_City_ID  \\\n",
       "275265      6057.0  Truckee, CA  California          West  truckeenevadaca   \n",
       "276568      6057.0  Truckee, CA  California          West  truckeenevadaca   \n",
       "277871      6057.0  Truckee, CA  California          West  truckeenevadaca   \n",
       "279174      6057.0  Truckee, CA  California          West  truckeenevadaca   \n",
       "280477      6057.0  Truckee, CA  California          West  truckeenevadaca   \n",
       "\n",
       "        State  \n",
       "275265     CA  \n",
       "276568     CA  \n",
       "277871     CA  \n",
       "279174     CA  \n",
       "280477     CA  \n",
       "\n",
       "[5 rows x 33 columns]"
      ]
     },
     "execution_count": 21,
     "metadata": {},
     "output_type": "execute_result"
    }
   ],
   "source": [
    "def diff_month(d1, d2):\n",
    "    return (d1.year - d2.year) * 12 + d1.month - d2.month\n",
    "date_today = datetime.today().strftime('%Y-%m-%d')\n",
    "print(date_today)\n",
    "latest_date = max(dt for dt in clean_zip['Date'] if dt < date_today)\n",
    "print(latest_date)\n",
    "prediction_size = diff_month(datetime.strptime(date_today, \"%Y-%m-%d\"),datetime.strptime(latest_date, \"%Y-%m-%d\"))\n",
    "print(prediction_size)\n",
    "zip_ts = clean_zip.loc[clean_zip['ZipCode_str'] == '96161']\n",
    "my_data_1 = zip_ts.rename(columns={'Date': 'ds',\n",
    "                        'MedianListingPrice_2Bedroom': 'y'})"
   ]
  },
  {
   "cell_type": "code",
   "execution_count": 25,
   "metadata": {},
   "outputs": [],
   "source": [
    "split_date = '2015-11-30'\n",
    "zip_train = my_data_1.loc[my_data_1['ds'] <= split_date].copy()\n",
    "zip_test = my_data_1.loc[my_data_1['ds'] > split_date].copy()"
   ]
  },
  {
   "cell_type": "code",
   "execution_count": 27,
   "metadata": {},
   "outputs": [
    {
     "name": "stderr",
     "output_type": "stream",
     "text": [
      "INFO:fbprophet:Disabling yearly seasonality. Run prophet with yearly_seasonality=True to override this.\n",
      "INFO:fbprophet:Disabling weekly seasonality. Run prophet with weekly_seasonality=True to override this.\n",
      "INFO:fbprophet:Disabling daily seasonality. Run prophet with daily_seasonality=True to override this.\n",
      "INFO:fbprophet:n_changepoints greater than number of observations. Using 15.\n"
     ]
    },
    {
     "data": {
      "text/plain": [
       "5.927980279481769"
      ]
     },
     "execution_count": 27,
     "metadata": {},
     "output_type": "execute_result"
    }
   ],
   "source": [
    "my_model = Prophet(interval_width=0.95)\n",
    "my_model.fit(zip_train)\n",
    "future = my_model.make_future_dataframe(periods=prediction_size)\n",
    "forecast = my_model.predict(zip_test)\n",
    "forecast[['ds', 'yhat', 'yhat_lower', 'yhat_upper']].tail()\n",
    "def mean_absolute_percentage_error(y_true, y_pred): \n",
    "    \"\"\"Calculates MAPE given y_true and y_pred\"\"\"\n",
    "    y_true, y_pred = np.array(y_true), np.array(y_pred)\n",
    "    return np.mean(np.abs((y_true - y_pred) / y_true)) * 100\n",
    "mean_absolute_percentage_error(y_true=zip_test['y'],\n",
    "                   y_pred=forecast['yhat'])"
   ]
  },
  {
   "cell_type": "markdown",
   "metadata": {},
   "source": [
    "Run 2"
   ]
  },
  {
   "cell_type": "code",
   "execution_count": 30,
   "metadata": {},
   "outputs": [
    {
     "name": "stderr",
     "output_type": "stream",
     "text": [
      "INFO:fbprophet:Disabling yearly seasonality. Run prophet with yearly_seasonality=True to override this.\n",
      "INFO:fbprophet:Disabling weekly seasonality. Run prophet with weekly_seasonality=True to override this.\n",
      "INFO:fbprophet:Disabling daily seasonality. Run prophet with daily_seasonality=True to override this.\n",
      "INFO:fbprophet:n_changepoints greater than number of observations. Using 3.\n"
     ]
    },
    {
     "name": "stdout",
     "output_type": "stream",
     "text": [
      "2020-03-26\n",
      "2017-12-31\n",
      "27\n"
     ]
    },
    {
     "data": {
      "text/plain": [
       "14.730727670342821"
      ]
     },
     "execution_count": 30,
     "metadata": {},
     "output_type": "execute_result"
    }
   ],
   "source": [
    "def diff_month(d1, d2):\n",
    "    return (d1.year - d2.year) * 12 + d1.month - d2.month\n",
    "date_today = datetime.today().strftime('%Y-%m-%d')\n",
    "print(date_today)\n",
    "latest_date = max(dt for dt in clean_zip['Date'] if dt < date_today)\n",
    "print(latest_date)\n",
    "prediction_size = diff_month(datetime.strptime(date_today, \"%Y-%m-%d\"),datetime.strptime(latest_date, \"%Y-%m-%d\"))\n",
    "print(prediction_size)\n",
    "zip_ts = clean_zip.loc[clean_zip['ZipCode_str'] == '96146']\n",
    "my_data_1 = zip_ts.rename(columns={'Date': 'ds',\n",
    "                        'MedianListingPrice_2Bedroom': 'y'})\n",
    "split_date = '2015-11-30'\n",
    "zip_train = my_data_1.loc[my_data_1['ds'] <= split_date].copy()\n",
    "zip_test = my_data_1.loc[my_data_1['ds'] > split_date].copy()\n",
    "my_model = Prophet(interval_width=0.95)\n",
    "my_model.fit(zip_train)\n",
    "future = my_model.make_future_dataframe(periods=prediction_size)\n",
    "forecast = my_model.predict(zip_test)\n",
    "forecast[['ds', 'yhat', 'yhat_lower', 'yhat_upper']].tail()\n",
    "def mean_absolute_percentage_error(y_true, y_pred): \n",
    "    \"\"\"Calculates MAPE given y_true and y_pred\"\"\"\n",
    "    y_true, y_pred = np.array(y_true), np.array(y_pred)\n",
    "    return np.mean(np.abs((y_true - y_pred) / y_true)) * 100\n",
    "mean_absolute_percentage_error(y_true=zip_test['y'],\n",
    "                   y_pred=forecast['yhat'])"
   ]
  },
  {
   "cell_type": "markdown",
   "metadata": {},
   "source": [
    "Run 3"
   ]
  },
  {
   "cell_type": "code",
   "execution_count": 36,
   "metadata": {},
   "outputs": [
    {
     "name": "stderr",
     "output_type": "stream",
     "text": [
      "INFO:fbprophet:Disabling yearly seasonality. Run prophet with yearly_seasonality=True to override this.\n",
      "INFO:fbprophet:Disabling weekly seasonality. Run prophet with weekly_seasonality=True to override this.\n",
      "INFO:fbprophet:Disabling daily seasonality. Run prophet with daily_seasonality=True to override this.\n",
      "INFO:fbprophet:n_changepoints greater than number of observations. Using 11.\n"
     ]
    },
    {
     "name": "stdout",
     "output_type": "stream",
     "text": [
      "2020-03-26\n",
      "2017-12-31\n",
      "27\n"
     ]
    },
    {
     "data": {
      "text/plain": [
       "3.091185810097186"
      ]
     },
     "execution_count": 36,
     "metadata": {},
     "output_type": "execute_result"
    }
   ],
   "source": [
    "def diff_month(d1, d2):\n",
    "    return (d1.year - d2.year) * 12 + d1.month - d2.month\n",
    "date_today = datetime.today().strftime('%Y-%m-%d')\n",
    "print(date_today)\n",
    "latest_date = max(dt for dt in clean_zip['Date'] if dt < date_today)\n",
    "print(latest_date)\n",
    "prediction_size = diff_month(datetime.strptime(date_today, \"%Y-%m-%d\"),datetime.strptime(latest_date, \"%Y-%m-%d\"))\n",
    "print(prediction_size)\n",
    "zip_ts = clean_zip.loc[clean_zip['ZipCode_str'] == '90003']\n",
    "my_data_1 = zip_ts.rename(columns={'Date': 'ds',\n",
    "                        'MedianListingPrice_2Bedroom': 'y'})\n",
    "split_date = '2015-11-30'\n",
    "zip_train = my_data_1.loc[my_data_1['ds'] <= split_date].copy()\n",
    "zip_test = my_data_1.loc[my_data_1['ds'] > split_date].copy()\n",
    "my_model = Prophet(interval_width=0.95)\n",
    "my_model.fit(zip_train)\n",
    "future = my_model.make_future_dataframe(periods=prediction_size)\n",
    "forecast = my_model.predict(zip_test)\n",
    "forecast[['ds', 'yhat', 'yhat_lower', 'yhat_upper']].tail()\n",
    "def mean_absolute_percentage_error(y_true, y_pred): \n",
    "    \"\"\"Calculates MAPE given y_true and y_pred\"\"\"\n",
    "    y_true, y_pred = np.array(y_true), np.array(y_pred)\n",
    "    return np.mean(np.abs((y_true - y_pred) / y_true)) * 100\n",
    "mean_absolute_percentage_error(y_true=zip_test['y'],\n",
    "                   y_pred=forecast['yhat'])"
   ]
  },
  {
   "cell_type": "code",
   "execution_count": 53,
   "metadata": {},
   "outputs": [
    {
     "name": "stderr",
     "output_type": "stream",
     "text": [
      "INFO:fbprophet:Disabling weekly seasonality. Run prophet with weekly_seasonality=True to override this.\n",
      "INFO:fbprophet:Disabling daily seasonality. Run prophet with daily_seasonality=True to override this.\n",
      "INFO:fbprophet:n_changepoints greater than number of observations. Using 19.\n"
     ]
    },
    {
     "name": "stdout",
     "output_type": "stream",
     "text": [
      "2020-03-26\n",
      "2017-12-31\n",
      "27\n"
     ]
    },
    {
     "data": {
      "text/plain": [
       "18.679992996896715"
      ]
     },
     "execution_count": 53,
     "metadata": {},
     "output_type": "execute_result"
    }
   ],
   "source": [
    "def diff_month(d1, d2):\n",
    "    return (d1.year - d2.year) * 12 + d1.month - d2.month\n",
    "date_today = datetime.today().strftime('%Y-%m-%d')\n",
    "print(date_today)\n",
    "latest_date = max(dt for dt in clean_zip['Date'] if dt < date_today)\n",
    "print(latest_date)\n",
    "prediction_size = diff_month(datetime.strptime(date_today, \"%Y-%m-%d\"),datetime.strptime(latest_date, \"%Y-%m-%d\"))\n",
    "print(prediction_size)\n",
    "zip_ts = clean_zip.loc[clean_zip['ZipCode_str'] == '90044']\n",
    "my_data_1 = zip_ts.rename(columns={'Date': 'ds',\n",
    "                        'MedianListingPrice_2Bedroom': 'y'})\n",
    "split_date = '2015-11-30'\n",
    "zip_train = my_data_1.loc[my_data_1['ds'] <= split_date].copy()\n",
    "zip_test = my_data_1.loc[my_data_1['ds'] > split_date].copy()\n",
    "my_model = Prophet(interval_width=0.95)\n",
    "my_model.fit(zip_train)\n",
    "future = my_model.make_future_dataframe(periods=prediction_size)\n",
    "forecast = my_model.predict(zip_test)\n",
    "forecast[['ds', 'yhat', 'yhat_lower', 'yhat_upper']].tail()\n",
    "def mean_absolute_percentage_error(y_true, y_pred): \n",
    "    \"\"\"Calculates MAPE given y_true and y_pred\"\"\"\n",
    "    y_true, y_pred = np.array(y_true), np.array(y_pred)\n",
    "    return np.mean(np.abs((y_true - y_pred) / y_true)) * 100\n",
    "mean_absolute_percentage_error(y_true=zip_test['y'],\n",
    "                   y_pred=forecast['yhat'])"
   ]
  },
  {
   "cell_type": "code",
   "execution_count": 64,
   "metadata": {},
   "outputs": [
    {
     "name": "stderr",
     "output_type": "stream",
     "text": [
      "INFO:fbprophet:Disabling weekly seasonality. Run prophet with weekly_seasonality=True to override this.\n",
      "INFO:fbprophet:Disabling daily seasonality. Run prophet with daily_seasonality=True to override this.\n"
     ]
    },
    {
     "name": "stdout",
     "output_type": "stream",
     "text": [
      "2020-03-26\n",
      "2017-12-31\n",
      "27\n"
     ]
    },
    {
     "data": {
      "text/plain": [
       "13.465537182138501"
      ]
     },
     "execution_count": 64,
     "metadata": {},
     "output_type": "execute_result"
    }
   ],
   "source": [
    "def diff_month(d1, d2):\n",
    "    return (d1.year - d2.year) * 12 + d1.month - d2.month\n",
    "date_today = datetime.today().strftime('%Y-%m-%d')\n",
    "print(date_today)\n",
    "latest_date = max(dt for dt in clean_zip['Date'] if dt < date_today)\n",
    "print(latest_date)\n",
    "prediction_size = diff_month(datetime.strptime(date_today, \"%Y-%m-%d\"),datetime.strptime(latest_date, \"%Y-%m-%d\"))\n",
    "print(prediction_size)\n",
    "zip_ts = clean_zip.loc[clean_zip['ZipCode_str'] == '90292']\n",
    "my_data_1 = zip_ts.rename(columns={'Date': 'ds',\n",
    "                        'MedianListingPrice_2Bedroom': 'y'})\n",
    "split_date = '2015-11-30'\n",
    "zip_train = my_data_1.loc[my_data_1['ds'] <= split_date].copy()\n",
    "zip_test = my_data_1.loc[my_data_1['ds'] > split_date].copy()\n",
    "my_model = Prophet(interval_width=0.95)\n",
    "my_model.fit(zip_train)\n",
    "future = my_model.make_future_dataframe(periods=prediction_size)\n",
    "forecast = my_model.predict(zip_test)\n",
    "forecast[['ds', 'yhat', 'yhat_lower', 'yhat_upper']].tail()\n",
    "def mean_absolute_percentage_error(y_true, y_pred): \n",
    "    \"\"\"Calculates MAPE given y_true and y_pred\"\"\"\n",
    "    y_true, y_pred = np.array(y_true), np.array(y_pred)\n",
    "    return np.mean(np.abs((y_true - y_pred) / y_true)) * 100\n",
    "mean_absolute_percentage_error(y_true=zip_test['y'],\n",
    "                   y_pred=forecast['yhat'])"
   ]
  },
  {
   "cell_type": "code",
   "execution_count": 65,
   "metadata": {},
   "outputs": [
    {
     "data": {
      "text/html": [
       "<div>\n",
       "<style scoped>\n",
       "    .dataframe tbody tr th:only-of-type {\n",
       "        vertical-align: middle;\n",
       "    }\n",
       "\n",
       "    .dataframe tbody tr th {\n",
       "        vertical-align: top;\n",
       "    }\n",
       "\n",
       "    .dataframe thead th {\n",
       "        text-align: right;\n",
       "    }\n",
       "</style>\n",
       "<table border=\"1\" class=\"dataframe\">\n",
       "  <thead>\n",
       "    <tr style=\"text-align: right;\">\n",
       "      <th></th>\n",
       "      <th>ds</th>\n",
       "      <th>yhat</th>\n",
       "      <th>yhat_lower</th>\n",
       "      <th>yhat_upper</th>\n",
       "    </tr>\n",
       "  </thead>\n",
       "  <tbody>\n",
       "    <tr>\n",
       "      <td>20</td>\n",
       "      <td>2017-08-31</td>\n",
       "      <td>1.135599e+06</td>\n",
       "      <td>1.058668e+06</td>\n",
       "      <td>1.214880e+06</td>\n",
       "    </tr>\n",
       "    <tr>\n",
       "      <td>21</td>\n",
       "      <td>2017-09-30</td>\n",
       "      <td>1.138984e+06</td>\n",
       "      <td>1.057984e+06</td>\n",
       "      <td>1.219752e+06</td>\n",
       "    </tr>\n",
       "    <tr>\n",
       "      <td>22</td>\n",
       "      <td>2017-10-31</td>\n",
       "      <td>1.137598e+06</td>\n",
       "      <td>1.057921e+06</td>\n",
       "      <td>1.218995e+06</td>\n",
       "    </tr>\n",
       "    <tr>\n",
       "      <td>23</td>\n",
       "      <td>2017-11-30</td>\n",
       "      <td>1.149578e+06</td>\n",
       "      <td>1.065849e+06</td>\n",
       "      <td>1.231547e+06</td>\n",
       "    </tr>\n",
       "    <tr>\n",
       "      <td>24</td>\n",
       "      <td>2017-12-31</td>\n",
       "      <td>1.177936e+06</td>\n",
       "      <td>1.100881e+06</td>\n",
       "      <td>1.263117e+06</td>\n",
       "    </tr>\n",
       "  </tbody>\n",
       "</table>\n",
       "</div>"
      ],
      "text/plain": [
       "           ds          yhat    yhat_lower    yhat_upper\n",
       "20 2017-08-31  1.135599e+06  1.058668e+06  1.214880e+06\n",
       "21 2017-09-30  1.138984e+06  1.057984e+06  1.219752e+06\n",
       "22 2017-10-31  1.137598e+06  1.057921e+06  1.218995e+06\n",
       "23 2017-11-30  1.149578e+06  1.065849e+06  1.231547e+06\n",
       "24 2017-12-31  1.177936e+06  1.100881e+06  1.263117e+06"
      ]
     },
     "execution_count": 65,
     "metadata": {},
     "output_type": "execute_result"
    }
   ],
   "source": [
    "forecast[['ds', 'yhat', 'yhat_lower', 'yhat_upper']].tail()"
   ]
  },
  {
   "cell_type": "markdown",
   "metadata": {},
   "source": [
    "RENTAL"
   ]
  },
  {
   "cell_type": "code",
   "execution_count": 58,
   "metadata": {},
   "outputs": [
    {
     "name": "stdout",
     "output_type": "stream",
     "text": [
      "2020-03-26\n",
      "2017-12-31\n",
      "27\n"
     ]
    },
    {
     "ename": "ValueError",
     "evalue": "Dataframe has less than 2 non-NaN rows.",
     "output_type": "error",
     "traceback": [
      "\u001b[0;31m---------------------------------------------------------------------------\u001b[0m",
      "\u001b[0;31mValueError\u001b[0m                                Traceback (most recent call last)",
      "\u001b[0;32m<ipython-input-58-26aa4a03bef2>\u001b[0m in \u001b[0;36m<module>\u001b[0;34m\u001b[0m\n\u001b[1;32m     12\u001b[0m \u001b[0mzip_test\u001b[0m \u001b[0;34m=\u001b[0m \u001b[0mmy_data_1\u001b[0m\u001b[0;34m.\u001b[0m\u001b[0mloc\u001b[0m\u001b[0;34m[\u001b[0m\u001b[0mmy_data_1\u001b[0m\u001b[0;34m[\u001b[0m\u001b[0;34m'ds'\u001b[0m\u001b[0;34m]\u001b[0m \u001b[0;34m>\u001b[0m \u001b[0msplit_date\u001b[0m\u001b[0;34m]\u001b[0m\u001b[0;34m.\u001b[0m\u001b[0mcopy\u001b[0m\u001b[0;34m(\u001b[0m\u001b[0;34m)\u001b[0m\u001b[0;34m\u001b[0m\u001b[0;34m\u001b[0m\u001b[0m\n\u001b[1;32m     13\u001b[0m \u001b[0mmy_model\u001b[0m \u001b[0;34m=\u001b[0m \u001b[0mProphet\u001b[0m\u001b[0;34m(\u001b[0m\u001b[0minterval_width\u001b[0m\u001b[0;34m=\u001b[0m\u001b[0;36m0.95\u001b[0m\u001b[0;34m)\u001b[0m\u001b[0;34m\u001b[0m\u001b[0;34m\u001b[0m\u001b[0m\n\u001b[0;32m---> 14\u001b[0;31m \u001b[0mmy_model\u001b[0m\u001b[0;34m.\u001b[0m\u001b[0mfit\u001b[0m\u001b[0;34m(\u001b[0m\u001b[0mzip_train\u001b[0m\u001b[0;34m)\u001b[0m\u001b[0;34m\u001b[0m\u001b[0;34m\u001b[0m\u001b[0m\n\u001b[0m\u001b[1;32m     15\u001b[0m \u001b[0mfuture\u001b[0m \u001b[0;34m=\u001b[0m \u001b[0mmy_model\u001b[0m\u001b[0;34m.\u001b[0m\u001b[0mmake_future_dataframe\u001b[0m\u001b[0;34m(\u001b[0m\u001b[0mperiods\u001b[0m\u001b[0;34m=\u001b[0m\u001b[0mprediction_size\u001b[0m\u001b[0;34m)\u001b[0m\u001b[0;34m\u001b[0m\u001b[0;34m\u001b[0m\u001b[0m\n\u001b[1;32m     16\u001b[0m \u001b[0mforecast\u001b[0m \u001b[0;34m=\u001b[0m \u001b[0mmy_model\u001b[0m\u001b[0;34m.\u001b[0m\u001b[0mpredict\u001b[0m\u001b[0;34m(\u001b[0m\u001b[0mzip_test\u001b[0m\u001b[0;34m)\u001b[0m\u001b[0;34m\u001b[0m\u001b[0;34m\u001b[0m\u001b[0m\n",
      "\u001b[0;32m/opt/anaconda3/lib/python3.7/site-packages/fbprophet/forecaster.py\u001b[0m in \u001b[0;36mfit\u001b[0;34m(self, df, **kwargs)\u001b[0m\n\u001b[1;32m   1085\u001b[0m         \u001b[0mhistory\u001b[0m \u001b[0;34m=\u001b[0m \u001b[0mdf\u001b[0m\u001b[0;34m[\u001b[0m\u001b[0mdf\u001b[0m\u001b[0;34m[\u001b[0m\u001b[0;34m'y'\u001b[0m\u001b[0;34m]\u001b[0m\u001b[0;34m.\u001b[0m\u001b[0mnotnull\u001b[0m\u001b[0;34m(\u001b[0m\u001b[0;34m)\u001b[0m\u001b[0;34m]\u001b[0m\u001b[0;34m.\u001b[0m\u001b[0mcopy\u001b[0m\u001b[0;34m(\u001b[0m\u001b[0;34m)\u001b[0m\u001b[0;34m\u001b[0m\u001b[0;34m\u001b[0m\u001b[0m\n\u001b[1;32m   1086\u001b[0m         \u001b[0;32mif\u001b[0m \u001b[0mhistory\u001b[0m\u001b[0;34m.\u001b[0m\u001b[0mshape\u001b[0m\u001b[0;34m[\u001b[0m\u001b[0;36m0\u001b[0m\u001b[0;34m]\u001b[0m \u001b[0;34m<\u001b[0m \u001b[0;36m2\u001b[0m\u001b[0;34m:\u001b[0m\u001b[0;34m\u001b[0m\u001b[0;34m\u001b[0m\u001b[0m\n\u001b[0;32m-> 1087\u001b[0;31m             \u001b[0;32mraise\u001b[0m \u001b[0mValueError\u001b[0m\u001b[0;34m(\u001b[0m\u001b[0;34m'Dataframe has less than 2 non-NaN rows.'\u001b[0m\u001b[0;34m)\u001b[0m\u001b[0;34m\u001b[0m\u001b[0;34m\u001b[0m\u001b[0m\n\u001b[0m\u001b[1;32m   1088\u001b[0m         \u001b[0mself\u001b[0m\u001b[0;34m.\u001b[0m\u001b[0mhistory_dates\u001b[0m \u001b[0;34m=\u001b[0m \u001b[0mpd\u001b[0m\u001b[0;34m.\u001b[0m\u001b[0mto_datetime\u001b[0m\u001b[0;34m(\u001b[0m\u001b[0mdf\u001b[0m\u001b[0;34m[\u001b[0m\u001b[0;34m'ds'\u001b[0m\u001b[0;34m]\u001b[0m\u001b[0;34m)\u001b[0m\u001b[0;34m.\u001b[0m\u001b[0msort_values\u001b[0m\u001b[0;34m(\u001b[0m\u001b[0;34m)\u001b[0m\u001b[0;34m\u001b[0m\u001b[0;34m\u001b[0m\u001b[0m\n\u001b[1;32m   1089\u001b[0m \u001b[0;34m\u001b[0m\u001b[0m\n",
      "\u001b[0;31mValueError\u001b[0m: Dataframe has less than 2 non-NaN rows."
     ]
    }
   ],
   "source": [
    "date_today = datetime.today().strftime('%Y-%m-%d')\n",
    "print(date_today)\n",
    "latest_date = max(dt for dt in clean_zip['Date'] if dt < date_today)\n",
    "print(latest_date)\n",
    "prediction_size = diff_month(datetime.strptime(date_today, \"%Y-%m-%d\"),datetime.strptime(latest_date, \"%Y-%m-%d\"))\n",
    "print(prediction_size)\n",
    "zip_ts = clean_zip.loc[clean_zip['ZipCode_str'] == '96161']\n",
    "my_data_1 = zip_ts.rename(columns={'Date': 'ds',\n",
    "                        'MedianRentalPrice_2Bedroom': 'y'})\n",
    "split_date = '2015-11-30'\n",
    "zip_train = my_data_1.loc[my_data_1['ds'] <= split_date].copy()\n",
    "zip_test = my_data_1.loc[my_data_1['ds'] > split_date].copy()\n",
    "my_model = Prophet(interval_width=0.95)\n",
    "my_model.fit(zip_train)\n",
    "future = my_model.make_future_dataframe(periods=prediction_size)\n",
    "forecast = my_model.predict(zip_test)\n",
    "forecast[['ds', 'yhat', 'yhat_lower', 'yhat_upper']].tail()\n",
    "\n",
    "mean_absolute_percentage_error(y_true=zip_test['y'],\n",
    "                   y_pred=forecast['yhat'])"
   ]
  },
  {
   "cell_type": "code",
   "execution_count": 62,
   "metadata": {},
   "outputs": [
    {
     "name": "stderr",
     "output_type": "stream",
     "text": [
      "INFO:fbprophet:Disabling weekly seasonality. Run prophet with weekly_seasonality=True to override this.\n",
      "INFO:fbprophet:Disabling daily seasonality. Run prophet with daily_seasonality=True to override this.\n"
     ]
    },
    {
     "name": "stdout",
     "output_type": "stream",
     "text": [
      "2020-03-26\n",
      "2017-12-31\n",
      "27\n"
     ]
    },
    {
     "data": {
      "text/plain": [
       "5.187636678813009"
      ]
     },
     "execution_count": 62,
     "metadata": {},
     "output_type": "execute_result"
    }
   ],
   "source": [
    "date_today = datetime.today().strftime('%Y-%m-%d')\n",
    "print(date_today)\n",
    "latest_date = max(dt for dt in clean_zip['Date'] if dt < date_today)\n",
    "print(latest_date)\n",
    "prediction_size = diff_month(datetime.strptime(date_today, \"%Y-%m-%d\"),datetime.strptime(latest_date, \"%Y-%m-%d\"))\n",
    "print(prediction_size)\n",
    "zip_ts = clean_zip.loc[clean_zip['ZipCode_str'] == '90292']\n",
    "my_data_1 = zip_ts.rename(columns={'Date': 'ds',\n",
    "                        'MedianRentalPrice_2Bedroom': 'y'})\n",
    "split_date = '2015-11-30'\n",
    "zip_train = my_data_1.loc[my_data_1['ds'] <= split_date].copy()\n",
    "zip_test = my_data_1.loc[my_data_1['ds'] > split_date].copy()\n",
    "my_model = Prophet(interval_width=0.95)\n",
    "my_model.fit(zip_train)\n",
    "future = my_model.make_future_dataframe(periods=prediction_size)\n",
    "forecast = my_model.predict(zip_test)\n",
    "forecast[['ds', 'yhat', 'yhat_lower', 'yhat_upper']].tail()\n",
    "\n",
    "mean_absolute_percentage_error(y_true=zip_test['y'],\n",
    "                   y_pred=forecast['yhat'])"
   ]
  },
  {
   "cell_type": "code",
   "execution_count": 63,
   "metadata": {},
   "outputs": [
    {
     "data": {
      "text/html": [
       "<div>\n",
       "<style scoped>\n",
       "    .dataframe tbody tr th:only-of-type {\n",
       "        vertical-align: middle;\n",
       "    }\n",
       "\n",
       "    .dataframe tbody tr th {\n",
       "        vertical-align: top;\n",
       "    }\n",
       "\n",
       "    .dataframe thead th {\n",
       "        text-align: right;\n",
       "    }\n",
       "</style>\n",
       "<table border=\"1\" class=\"dataframe\">\n",
       "  <thead>\n",
       "    <tr style=\"text-align: right;\">\n",
       "      <th></th>\n",
       "      <th>ds</th>\n",
       "      <th>yhat</th>\n",
       "      <th>yhat_lower</th>\n",
       "      <th>yhat_upper</th>\n",
       "    </tr>\n",
       "  </thead>\n",
       "  <tbody>\n",
       "    <tr>\n",
       "      <td>20</td>\n",
       "      <td>2017-08-31</td>\n",
       "      <td>4104.922748</td>\n",
       "      <td>3273.928867</td>\n",
       "      <td>4828.955825</td>\n",
       "    </tr>\n",
       "    <tr>\n",
       "      <td>21</td>\n",
       "      <td>2017-09-30</td>\n",
       "      <td>4086.431701</td>\n",
       "      <td>3200.634771</td>\n",
       "      <td>4916.611846</td>\n",
       "    </tr>\n",
       "    <tr>\n",
       "      <td>22</td>\n",
       "      <td>2017-10-31</td>\n",
       "      <td>3997.610580</td>\n",
       "      <td>3032.238101</td>\n",
       "      <td>4860.628434</td>\n",
       "    </tr>\n",
       "    <tr>\n",
       "      <td>23</td>\n",
       "      <td>2017-11-30</td>\n",
       "      <td>3887.733636</td>\n",
       "      <td>2890.424814</td>\n",
       "      <td>4816.097491</td>\n",
       "    </tr>\n",
       "    <tr>\n",
       "      <td>24</td>\n",
       "      <td>2017-12-31</td>\n",
       "      <td>3868.330389</td>\n",
       "      <td>2787.465413</td>\n",
       "      <td>4874.307983</td>\n",
       "    </tr>\n",
       "  </tbody>\n",
       "</table>\n",
       "</div>"
      ],
      "text/plain": [
       "           ds         yhat   yhat_lower   yhat_upper\n",
       "20 2017-08-31  4104.922748  3273.928867  4828.955825\n",
       "21 2017-09-30  4086.431701  3200.634771  4916.611846\n",
       "22 2017-10-31  3997.610580  3032.238101  4860.628434\n",
       "23 2017-11-30  3887.733636  2890.424814  4816.097491\n",
       "24 2017-12-31  3868.330389  2787.465413  4874.307983"
      ]
     },
     "execution_count": 63,
     "metadata": {},
     "output_type": "execute_result"
    }
   ],
   "source": [
    "Zip_codes = [90292, 96146, 96161, 90044, 90003]\n",
    "forecast[['ds', 'yhat', 'yhat_lower', 'yhat_upper']].tail()"
   ]
  },
  {
   "cell_type": "code",
   "execution_count": null,
   "metadata": {},
   "outputs": [],
   "source": []
  }
 ],
 "metadata": {
  "kernelspec": {
   "display_name": "Python 3",
   "language": "python",
   "name": "python3"
  },
  "language_info": {
   "codemirror_mode": {
    "name": "ipython",
    "version": 3
   },
   "file_extension": ".py",
   "mimetype": "text/x-python",
   "name": "python",
   "nbconvert_exporter": "python",
   "pygments_lexer": "ipython3",
   "version": "3.7.4"
  }
 },
 "nbformat": 4,
 "nbformat_minor": 2
}
