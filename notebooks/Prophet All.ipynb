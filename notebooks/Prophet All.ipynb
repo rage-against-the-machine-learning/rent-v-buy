{
 "cells": [
  {
   "cell_type": "code",
   "execution_count": null,
   "metadata": {},
   "outputs": [],
   "source": [
    "# this script takes the clean dataset gets the data for the current month\n",
    "# Created by Skye\n",
    "import numpy as np\n",
    "import pandas as pd\n",
    "import seaborn as sns\n",
    "import matplotlib.pyplot as plt\n",
    "from fbprophet import Prophet\n",
    "from sklearn.metrics import mean_squared_error, mean_absolute_error\n",
    "from datetime import datetime\n",
    "from dateutil.parser import parse\n",
    "from dateutil import relativedelta\n",
    "from tqdm import tqdm\n",
    "import json\n",
    "    \n",
    "# number of months between two dates\n",
    "def find_pred_size (df:pd.DataFrame) -> int:\n",
    "    assert 'ds' in df.columns, \"'ds' column needs to be in the input DataFrame\"\n",
    "    today = datetime.now()\n",
    "    r = relativedelta.relativedelta(today, df['ds'].max())\n",
    "    years = r.years\n",
    "    months = r.months\n",
    "    return int((years * 12) + months)\n",
    "\n",
    "#do we want to rent or buy\n",
    "def interest_dataset(data, rent_or_buy, zip_code_of_interest):\n",
    "    #based on the input which column do we want to look at\n",
    "    # we will do both as long as data is present for each zip code\n",
    "    if rent_or_buy == 'rent':   \n",
    "        renamed_dataset = data.rename(columns={ 'Zri_MultiFamilyResidenceRental': 'y'})\n",
    "    else:\n",
    "        renamed_dataset = data.rename(columns={'ZHVI_SingleFamilyResidence': 'y'})\n",
    "        \n",
    "    return renamed_dataset\n",
    "\n",
    "#actual prediction model\n",
    "def find_value_today(data, prediction_size):\n",
    "    try:\n",
    "        my_model = Prophet(interval_width=0.95, \n",
    "                           yearly_seasonality= 3, \n",
    "                           weekly_seasonality=False, \n",
    "                           daily_seasonality=False)\n",
    "        #my_model.add_seasonality(name='monthly', period=30.5, fourier_order=5)\n",
    "        my_model.fit(data)\n",
    "        future = my_model.make_future_dataframe(periods=prediction_size, freq='M')\n",
    "        forecast = my_model.predict(future)\n",
    "        my_forcast_data = forecast[['ds', 'yhat']]\n",
    "        value_today = forecast['yhat'].iloc[-1]\n",
    "        appr_data = forecast[\"trend\"]\n",
    "    except:\n",
    "        value_today = 0\n",
    "    return value_today, appr_data\n",
    "\n",
    "def cal_appre_rate(df, appr_data):\n",
    "    old_value = appr_data.iloc[-37]\n",
    "    print(old_value)\n",
    "    new_value = appr_data.iloc[-1]\n",
    "    print(new_value)\n",
    "    rate = np.exp(np.log(new_value/old_value)/3) - 1.0\n",
    "    return round(rate*100, 2)\n",
    "\n",
    "def make_main(my_data, zip_code_of_interest):\n",
    "    #for each zipcode\n",
    "    clean_data = my_data.loc[my_data['ZipCode'] == zip_code_of_interest]\n",
    "    \n",
    "    #change date column to the correct format\n",
    "    prediction_size_rent = find_pred_size(clean_data)\n",
    "    prediction_size_buy  = find_pred_size(clean_data)\n",
    "    \n",
    "    #zipcode we want data for\n",
    "    # #need to check if region name is always the same...\n",
    "    rent_dataset = interest_dataset(clean_data, 'rent', zip_code_of_interest)\n",
    "    buy_dataset  = interest_dataset(clean_data, 'buy', zip_code_of_interest)\n",
    "   \n",
    "    #predict\n",
    "    rent_value, appr_data_rent = find_value_today(rent_dataset, prediction_size_rent)\n",
    "    #print(rent_value)\n",
    "    buy_value, appr_data_buy  = find_value_today(buy_dataset, prediction_size_buy)\n",
    "    #print(buy_value)\n",
    "    \n",
    "    #appreciation rate\n",
    "    appr_rate_buy = cal_appre_rate(buy_dataset, appr_data_buy)\n",
    "    \n",
    "    #round values\n",
    "    rent_value = int(rent_value)\n",
    "    buy_value = round(buy_value/1000, 1)\n",
    "    \n",
    "    return {str(zip_code_of_interest): {\"buy\": f'${buy_value:,}k', \"rent\": f'${rent_value:,}/month', \"appr_rate\" : f'{appr_rate_buy}%'}}\n",
    "\n",
    "    "
   ]
  },
  {
   "cell_type": "code",
   "execution_count": null,
   "metadata": {},
   "outputs": [],
   "source": [
    "data = pd.read_pickle('../data/interim/interpolated_fillnaTime_df.pickle')\n",
    "data.tail()"
   ]
  },
  {
   "cell_type": "code",
   "execution_count": null,
   "metadata": {},
   "outputs": [],
   "source": [
    "\n",
    "#clean_data['Date_timestamp']= clean_data['Date'].apply(lambda _: datetime.strptime(_,\"%Y-%m-%d\"))"
   ]
  },
  {
   "cell_type": "code",
   "execution_count": null,
   "metadata": {},
   "outputs": [],
   "source": [
    "clean_data = data\n"
   ]
  },
  {
   "cell_type": "code",
   "execution_count": null,
   "metadata": {},
   "outputs": [],
   "source": [
    "#df = rent_dataset\n",
    "#df.loc[df['ds'] == df['ds'].max(), 'y'].iloc[0]\n",
    "#rent_dataset.tail()"
   ]
  },
  {
   "cell_type": "code",
   "execution_count": null,
   "metadata": {},
   "outputs": [],
   "source": [
    "test_zip = 96090\n",
    "\n",
    "test_df = data[data['ZipCode'] == test_zip]\n",
    "prediction_size_rent = find_pred_size(test_df)\n",
    "prediction_size_buy  = find_pred_size(test_df)\n",
    "    \n",
    "#zipcode we want data for\n",
    "# #need to check if region name is always the same...\n",
    "rent_dataset = interest_dataset(test_df, 'rent', test_zip)\n",
    "buy_dataset  = interest_dataset(test_df, 'buy', test_zip)\n",
    "\n",
    "my_model = Prophet(interval_width=0.95, \n",
    "                           yearly_seasonality= 3, \n",
    "                           weekly_seasonality=False, \n",
    "                           daily_seasonality=False)"
   ]
  },
  {
   "cell_type": "code",
   "execution_count": null,
   "metadata": {
    "scrolled": true
   },
   "outputs": [],
   "source": [
    "# BUY\n",
    "\n",
    "#my_model.add_seasonality(name='monthly', period=30.5, fourier_order=5)\n",
    "my_model.fit(buy_dataset)\n",
    "\n",
    "#future_b = my_model.make_future_dataframe(periods=prediction_size_buy, freq='M')\n",
    "forecast_b = my_model.predict(future_b)\n",
    "\n",
    "my_forcast_data_b = forecast_b[['ds', 'yhat']]\n",
    "#value_today = forecast['yhat'].iloc[-1]\n",
    "        #date_values = forecast['ds'].tolist()\n",
    "        #value_today = forecast['yhat'].tolist()\n",
    "        #print(value_today)\n",
    "print(my_forcast_data_b)"
   ]
  },
  {
   "cell_type": "code",
   "execution_count": null,
   "metadata": {},
   "outputs": [],
   "source": [
    "my_model.plot(forecast_b)"
   ]
  },
  {
   "cell_type": "code",
   "execution_count": null,
   "metadata": {},
   "outputs": [],
   "source": [
    "my_model.plot_components(forecast_b)"
   ]
  },
  {
   "cell_type": "code",
   "execution_count": null,
   "metadata": {},
   "outputs": [],
   "source": [
    "new_val = forecast_b[\"trend\"].iloc[-1]\n",
    "old_val = forecast_b[\"trend\"].iloc[-37]"
   ]
  },
  {
   "cell_type": "code",
   "execution_count": null,
   "metadata": {},
   "outputs": [],
   "source": []
  },
  {
   "cell_type": "code",
   "execution_count": null,
   "metadata": {},
   "outputs": [],
   "source": []
  },
  {
   "cell_type": "code",
   "execution_count": null,
   "metadata": {},
   "outputs": [],
   "source": [
    "# RENT\n",
    "#my_model.add_seasonality(name='monthly', period=30.5, fourier_order=5)\n",
    "my_model.fit(rent_dataset)\n",
    "\n",
    "future_r = my_model.make_future_dataframe(periods=prediction_size_rent, freq='M')\n",
    "forecast_r = my_model.predict(future_r)\n",
    "\n",
    "#my_model.fit(rent_dataset)\n",
    "#future = my_model.make_future_dataframe(periods=prediction_size_rent, freq='M')\n",
    "#forecast = my_model.predict(future)\n",
    "my_forcast_data_r = forecast_r[['ds', 'yhat']]\n",
    "#value_today = forecast['yhat'].iloc[-1]\n",
    "        #date_values = forecast['ds'].tolist()\n",
    "        #value_today = forecast['yhat'].tolist()\n",
    "        #print(value_today)\n",
    "print(my_forcast_data_r)"
   ]
  },
  {
   "cell_type": "code",
   "execution_count": null,
   "metadata": {},
   "outputs": [],
   "source": [
    "my_model.plot(forecast_r)"
   ]
  },
  {
   "cell_type": "code",
   "execution_count": null,
   "metadata": {},
   "outputs": [],
   "source": [
    "#fig1 = my_model.plot(forecast)"
   ]
  },
  {
   "cell_type": "code",
   "execution_count": null,
   "metadata": {},
   "outputs": [],
   "source": [
    "#fig2 = my_model.plot_components(forecast)"
   ]
  },
  {
   "cell_type": "code",
   "execution_count": null,
   "metadata": {},
   "outputs": [],
   "source": [
    "#a = forecast[\"trend\"]\n",
    "#print(a)"
   ]
  },
  {
   "cell_type": "code",
   "execution_count": null,
   "metadata": {
    "scrolled": true
   },
   "outputs": [],
   "source": [
    "test_list = [95246, 95113, 96090, 96134, 91381, 92086, 92651, 92661, 95321, 95327, 95370,95383, 95457, 95461, 96101, 93544, 93553, 92268, 92285, 92321, 92347, 92358, 92539, 92617, 93517, 93646, 95306, 95322, 95333, 95335, 95372, 95379, 95389, 95912, 95982, 96103, 96107, 96093, 95589, 96041]\n",
    "result_dict={}\n",
    "for i in tqdm(test_list):\n",
    "    #print(i)\n",
    "    result = make_main(clean_data, i)\n",
    "    #print(result)\n",
    "    result_dict.update(result)\n",
    "    "
   ]
  },
  {
   "cell_type": "code",
   "execution_count": null,
   "metadata": {},
   "outputs": [],
   "source": [
    "from pprint import pprint\n",
    "pprint(result_dict)"
   ]
  },
  {
   "cell_type": "code",
   "execution_count": null,
   "metadata": {
    "scrolled": true
   },
   "outputs": [],
   "source": [
    "cal_zip_list = clean_data['ZipCode'].unique().tolist()\n",
    "len(cal_zip_list)"
   ]
  },
  {
   "cell_type": "code",
   "execution_count": null,
   "metadata": {
    "scrolled": false
   },
   "outputs": [],
   "source": [
    "result_dict={}\n",
    "for i in tqdm(cal_zip_list):\n",
    "    result = make_main(clean_data, i)\n",
    "    result_dict.update(result)"
   ]
  },
  {
   "cell_type": "code",
   "execution_count": null,
   "metadata": {},
   "outputs": [],
   "source": [
    "print(result_dict)"
   ]
  },
  {
   "cell_type": "code",
   "execution_count": null,
   "metadata": {},
   "outputs": [],
   "source": [
    "my_dict = json.dumps(result_dict)"
   ]
  },
  {
   "cell_type": "code",
   "execution_count": null,
   "metadata": {},
   "outputs": [],
   "source": [
    "print(my_dict)"
   ]
  },
  {
   "cell_type": "code",
   "execution_count": null,
   "metadata": {},
   "outputs": [],
   "source": [
    "test_dict = json.loads(my_dict)"
   ]
  },
  {
   "cell_type": "code",
   "execution_count": null,
   "metadata": {},
   "outputs": [],
   "source": [
    "print(test_dict)"
   ]
  },
  {
   "cell_type": "code",
   "execution_count": null,
   "metadata": {},
   "outputs": [],
   "source": [
    "df = pd.DataFrame(test_dict).T\n",
    "df.head()\n",
    "df.to_csv('../data/interim/rent_buy_zip_appr.csv')"
   ]
  },
  {
   "cell_type": "code",
   "execution_count": null,
   "metadata": {},
   "outputs": [],
   "source": [
    "df.head()"
   ]
  },
  {
   "cell_type": "code",
   "execution_count": null,
   "metadata": {},
   "outputs": [],
   "source": [
    "import datacompy\n"
   ]
  },
  {
   "cell_type": "code",
   "execution_count": null,
   "metadata": {},
   "outputs": [],
   "source": [
    "df1 = pd.read_csv('../data/interim/rent_buy_zip_interp.csv')\n",
    "df2 = pd.read_csv('../data/interim/rent_buy_zip.csv')"
   ]
  },
  {
   "cell_type": "code",
   "execution_count": null,
   "metadata": {},
   "outputs": [],
   "source": [
    "df2.rename(columns={'Unnamed: 0':'Zipcode'}, inplace=True)\n",
    "df2.head()\n",
    "df1.rename(columns={'Unnamed: 0':'Zipcode'}, inplace=True)\n",
    "df1.head()"
   ]
  },
  {
   "cell_type": "code",
   "execution_count": null,
   "metadata": {},
   "outputs": [],
   "source": [
    "compare = datacompy.Compare(\n",
    "    df1,\n",
    "    df2,\n",
    "    join_columns= 'Zipcode',  #You can also specify a list of columns eg ['policyID','statecode']\n",
    "    df1_name='Interp', #Optional, defaults to 'df1'\n",
    "    df2_name='OG' #Optional, defaults to 'df2'\n",
    ")"
   ]
  },
  {
   "cell_type": "code",
   "execution_count": null,
   "metadata": {
    "scrolled": true
   },
   "outputs": [],
   "source": [
    "print(compare.report())"
   ]
  },
  {
   "cell_type": "code",
   "execution_count": null,
   "metadata": {},
   "outputs": [],
   "source": [
    "df['buy'] = df['buy'].map(lambda x: x.lstrip('$').rstrip('k'))\n",
    "df['rent'] = df['rent'].map(lambda x: x.lstrip('$').rstrip('/month'))\n",
    "df['appr_rate'] = df['appr_rate'].map(lambda x: x.rstrip('%'))\n",
    "#df['buy'] = df['buy'].astype(int)\n",
    "df['buy']=df['buy'].str.replace(',','')\n",
    "df['rent']=df['rent'].str.replace(',','')\n",
    "df.head()"
   ]
  },
  {
   "cell_type": "code",
   "execution_count": null,
   "metadata": {},
   "outputs": [],
   "source": [
    "df['buy'] = pd.to_numeric(df['buy'])\n",
    "#df['rent'] = df['rent'].astype(int)\n",
    "#df['buy'] = df['buy'].astype(int)\n",
    "df.head()"
   ]
  },
  {
   "cell_type": "code",
   "execution_count": null,
   "metadata": {},
   "outputs": [],
   "source": [
    "#type(df['buy'].values[0])\n",
    "#sum(n < 0.0 for n in df.values.flatten())"
   ]
  },
  {
   "cell_type": "code",
   "execution_count": null,
   "metadata": {},
   "outputs": [],
   "source": [
    "(n < 0.0 for n in df.values.flatten())"
   ]
  },
  {
   "cell_type": "code",
   "execution_count": null,
   "metadata": {},
   "outputs": [],
   "source": [
    "myData = df.fillna(0).query('buy < 0 or rent < 0')\n",
    "myData"
   ]
  },
  {
   "cell_type": "code",
   "execution_count": null,
   "metadata": {},
   "outputs": [],
   "source": [
    "bad_zips = myData.index.tolist()\n",
    "print(bad_zips)"
   ]
  },
  {
   "cell_type": "code",
   "execution_count": null,
   "metadata": {},
   "outputs": [],
   "source": [
    "test = data.fillna(0).query('ZHVI_SingleFamilyResidence < 0 or Zri_MultiFamilyResidenceRental < 0')\n",
    "test.head()"
   ]
  },
  {
   "cell_type": "code",
   "execution_count": null,
   "metadata": {},
   "outputs": [],
   "source": [
    "data.head()"
   ]
  },
  {
   "cell_type": "code",
   "execution_count": null,
   "metadata": {},
   "outputs": [],
   "source": [
    "syl_dict={}\n",
    "for i in tqdm(cal_zip_list): \n",
    "    result = find_pred_size(data)\n",
    "    syl_dict[i] = result"
   ]
  },
  {
   "cell_type": "code",
   "execution_count": null,
   "metadata": {
    "scrolled": false
   },
   "outputs": [],
   "source": [
    "print(syl_dict)"
   ]
  },
  {
   "cell_type": "code",
   "execution_count": null,
   "metadata": {
    "scrolled": true
   },
   "outputs": [],
   "source": [
    "df2.head()"
   ]
  },
  {
   "cell_type": "code",
   "execution_count": null,
   "metadata": {},
   "outputs": [],
   "source": [
    "not_int = pd.read_pickle('../data/interim/ca-zip-w-city-ts.pickle')\n",
    "#not_int.rename(columns={'Date': 'ds'}, inplace=True)\n",
    "not_int.head()\n",
    "def diff_month(d1, d2):\n",
    "    return (d1.year - d2.year) * 12 + d1.month - d2.month\n",
    "def pred_this (ts_data):\n",
    "    date_today = datetime.today().strftime('%Y-%m-%d')\n",
    "    latest_date = max(dt for dt in ts_data['Date'] if dt < date_today)\n",
    "    prediction_size = diff_month(datetime.strptime(date_today, \"%Y-%m-%d\"),datetime.strptime(latest_date, \"%Y-%m-%d\"))\n",
    "    return(prediction_size)"
   ]
  },
  {
   "cell_type": "code",
   "execution_count": null,
   "metadata": {},
   "outputs": [],
   "source": [
    "syl_dict={}\n",
    "for i in tqdm(cal_zip_list): \n",
    "    result = pred_this(not_int)\n",
    "    syl_dict[i] = result"
   ]
  },
  {
   "cell_type": "code",
   "execution_count": null,
   "metadata": {},
   "outputs": [],
   "source": [
    "print(syl_dict)"
   ]
  },
  {
   "cell_type": "code",
   "execution_count": null,
   "metadata": {},
   "outputs": [],
   "source": [
    "len(syl_dict)"
   ]
  },
  {
   "cell_type": "code",
   "execution_count": null,
   "metadata": {},
   "outputs": [],
   "source": []
  }
 ],
 "metadata": {
  "kernelspec": {
   "display_name": "rent-v-buy",
   "language": "python",
   "name": "rent-v-buy"
  },
  "language_info": {
   "codemirror_mode": {
    "name": "ipython",
    "version": 3
   },
   "file_extension": ".py",
   "mimetype": "text/x-python",
   "name": "python",
   "nbconvert_exporter": "python",
   "pygments_lexer": "ipython3",
   "version": "3.7.0"
  }
 },
 "nbformat": 4,
 "nbformat_minor": 2
}
